{
  "nbformat": 4,
  "nbformat_minor": 0,
  "metadata": {
    "colab": {
      "provenance": [],
      "include_colab_link": true
    },
    "kernelspec": {
      "name": "python3",
      "display_name": "Python 3"
    },
    "language_info": {
      "name": "python"
    }
  },
  "cells": [
    {
      "cell_type": "markdown",
      "metadata": {
        "id": "view-in-github",
        "colab_type": "text"
      },
      "source": [
        "<a href=\"https://colab.research.google.com/github/vicensi/PLN-Processamento-de-linguagem-natural/blob/main/cluster_Topics_DTS_PLN_Latent_Dirichlet_Allocation(LDA)_text_maning.ipynb\" target=\"_parent\"><img src=\"https://colab.research.google.com/assets/colab-badge.svg\" alt=\"Open In Colab\"/></a>"
      ]
    },
    {
      "cell_type": "markdown",
      "metadata": {
        "id": "34z9XYces1jO"
      },
      "source": [
        "# **Análise de Tópicos**\n",
        "\n",
        "<font size=5>\n",
        "Análise, ou Modelagem, de Tópicos nos permite analisar grandes volumes de texto atravéz de técnicas de clusterização ou agrupamento dos documentos em tópicos!\n",
        "<br/>\n",
        "<br/>\n",
        "Grande parte dos dados disponíveis no mundo real não estão classificados e por isso não podemos aplicar as técnicas de aprendizado supervisionado que usamos anteriormente!\n",
        "<br/>\n",
        "<br/>\n",
        "\n",
        "Nestes casos, onde trabalhamos com dados não classificados, podemos tentar encontrar suas classificações agrupando-os em tópicos.\n",
        "\n",
        "  </font>\n",
        "\n",
        "\n"
      ]
    },
    {
      "cell_type": "markdown",
      "source": [
        "![image.png](data:image/png;base64,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)"
      ],
      "metadata": {
        "id": "yvLurLXilaD1"
      }
    },
    {
      "cell_type": "markdown",
      "metadata": {
        "id": "4rTS1KWBzOnb"
      },
      "source": [
        "## **Importante!**\n",
        "\n",
        "<font size=4>\n",
        "Por não termos junto aos dados sua verdadeira classificação, nesses casos não sabemos a \"resposta correta\" o que torna muito difícil mensurar o quanto nosso algoritmo está acertando ou errando!\n",
        "<br/>\n",
        "<br/>\n",
        "\n",
        "Tudo que sabemos (ou assumimos) é que documentos que forem agrupados no mesmo tópico compartilham ideias similares.\n",
        "<br/>\n",
        "<br/>\n",
        "\n",
        "Fica a cargo do usuário (cientista/analista de dados, eng. machine learning e etc) se os grupos formados são coerentes e o que cada grupo representa!\n",
        "</font>"
      ]
    },
    {
      "cell_type": "markdown",
      "metadata": {
        "id": "uqXDhRZy3j67"
      },
      "source": [
        "# **LDA - Latent Dirichlet Allocation**\n",
        "\n",
        "<font size=5>\n",
        "LDA ou Latent Dirichlet Allocation é um “modelo probabilístico generativo” de uma coleção composta de partes. Em termos de modelagem de tópicos, as coleções são documentos e as partes são palavras, ou frases (n-gramas).  \n",
        "<br/>\n",
        "<br/>\n",
        "O LDA tem esse nome pois usa a Distribuição Dirichlet (do matemático alemão Johann Peter Gustav Lejeune Dirichlet) para encontrar tópicos \"latentes\" nos documentos.\n",
        "<br/>\n",
        "<br/>\n",
        "Em 2003, esse método foi publicado pela primeira vez por David Blei, Andrew Ng e Michael Jordan e pode ser\n",
        "<a href=\"http://www.jmlr.org/papers/volume3/blei03a/blei03a.pdf\">lido aqui</a>\n",
        "<br/>\n",
        "<br/>\n",
        "\n",
        "Para entender melhor como o método funciona recomendo a leitura do artigo original no link acima!\n",
        "  \n",
        "</font>\n",
        "\n"
      ]
    },
    {
      "cell_type": "markdown",
      "metadata": {
        "id": "f6DQ3n_wEpJQ"
      },
      "source": [
        "## LDA\n",
        "\n",
        "<font size=5>\n",
        "Existem algumas premissas na aplicação do LDA:\n",
        "<br/>\n",
        "<br/>\n",
        "\n",
        "1.   Documentos com assuntos similares usam palavras similares<br/>\n",
        "2.   Os tópicos latentes podem ser encontrados atravez dos grupos de palavras que ocorrem juntas<br/>\n",
        "3.   Documentos são distribuições de probabilidade sobre os tópicos latentes<br/>\n",
        "4.   Tópicos são também distribuições de probabilidade sobre as palavras<br/>\n",
        "\n",
        "</font>"
      ]
    },
    {
      "cell_type": "markdown",
      "metadata": {
        "id": "K_R0DbqBIRbN"
      },
      "source": [
        "## Documentos são distribuições de probabilidade sobre os tópicos latentes\n",
        "\n",
        "![alt text](https://i.ibb.co/C2gs3mS/doc-prob-topics.png)"
      ]
    },
    {
      "cell_type": "markdown",
      "metadata": {
        "id": "hYBiONd5NFTC"
      },
      "source": [
        "## Tópicos são também distribuições de probabilidade sobre as palavras\n",
        "\n",
        "![alt text](https://i.ibb.co/KskDmbD/topic-prob-words.png)"
      ]
    },
    {
      "cell_type": "markdown",
      "source": [
        "## **Exemplo Análise de Tópicos**"
      ],
      "metadata": {
        "id": "115tYYbVNAXQ"
      }
    },
    {
      "cell_type": "code",
      "execution_count": null,
      "metadata": {
        "colab": {
          "base_uri": "https://localhost:8080/",
          "height": 174
        },
        "id": "tvdE2BaSs1QN",
        "outputId": "7c31b3b7-6bfd-479f-d3dd-0a606920b90f"
      },
      "outputs": [
        {
          "output_type": "execute_result",
          "data": {
            "text/plain": [
              "                                     nome  \\\n",
              "count                                4080   \n",
              "unique                               3696   \n",
              "top      Boneco Dragon Ball Z Son Gokou     \n",
              "freq                                   20   \n",
              "\n",
              "                                                descricao categoria  \n",
              "count                                                2916      4080  \n",
              "unique                                               2460         4  \n",
              "top     JOGO ORIGINAL. NOVO. LACRADO. PRONTA ENTREGA. ...     livro  \n",
              "freq                                                   39      1020  "
            ],
            "text/html": [
              "\n",
              "  <div id=\"df-26f00a1b-24eb-4ad0-b64f-3f427de9a730\" class=\"colab-df-container\">\n",
              "    <div>\n",
              "<style scoped>\n",
              "    .dataframe tbody tr th:only-of-type {\n",
              "        vertical-align: middle;\n",
              "    }\n",
              "\n",
              "    .dataframe tbody tr th {\n",
              "        vertical-align: top;\n",
              "    }\n",
              "\n",
              "    .dataframe thead th {\n",
              "        text-align: right;\n",
              "    }\n",
              "</style>\n",
              "<table border=\"1\" class=\"dataframe\">\n",
              "  <thead>\n",
              "    <tr style=\"text-align: right;\">\n",
              "      <th></th>\n",
              "      <th>nome</th>\n",
              "      <th>descricao</th>\n",
              "      <th>categoria</th>\n",
              "    </tr>\n",
              "  </thead>\n",
              "  <tbody>\n",
              "    <tr>\n",
              "      <th>count</th>\n",
              "      <td>4080</td>\n",
              "      <td>2916</td>\n",
              "      <td>4080</td>\n",
              "    </tr>\n",
              "    <tr>\n",
              "      <th>unique</th>\n",
              "      <td>3696</td>\n",
              "      <td>2460</td>\n",
              "      <td>4</td>\n",
              "    </tr>\n",
              "    <tr>\n",
              "      <th>top</th>\n",
              "      <td>Boneco Dragon Ball Z Son Gokou</td>\n",
              "      <td>JOGO ORIGINAL. NOVO. LACRADO. PRONTA ENTREGA. ...</td>\n",
              "      <td>livro</td>\n",
              "    </tr>\n",
              "    <tr>\n",
              "      <th>freq</th>\n",
              "      <td>20</td>\n",
              "      <td>39</td>\n",
              "      <td>1020</td>\n",
              "    </tr>\n",
              "  </tbody>\n",
              "</table>\n",
              "</div>\n",
              "    <div class=\"colab-df-buttons\">\n",
              "\n",
              "  <div class=\"colab-df-container\">\n",
              "    <button class=\"colab-df-convert\" onclick=\"convertToInteractive('df-26f00a1b-24eb-4ad0-b64f-3f427de9a730')\"\n",
              "            title=\"Convert this dataframe to an interactive table.\"\n",
              "            style=\"display:none;\">\n",
              "\n",
              "  <svg xmlns=\"http://www.w3.org/2000/svg\" height=\"24px\" viewBox=\"0 -960 960 960\">\n",
              "    <path d=\"M120-120v-720h720v720H120Zm60-500h600v-160H180v160Zm220 220h160v-160H400v160Zm0 220h160v-160H400v160ZM180-400h160v-160H180v160Zm440 0h160v-160H620v160ZM180-180h160v-160H180v160Zm440 0h160v-160H620v160Z\"/>\n",
              "  </svg>\n",
              "    </button>\n",
              "\n",
              "  <style>\n",
              "    .colab-df-container {\n",
              "      display:flex;\n",
              "      gap: 12px;\n",
              "    }\n",
              "\n",
              "    .colab-df-convert {\n",
              "      background-color: #E8F0FE;\n",
              "      border: none;\n",
              "      border-radius: 50%;\n",
              "      cursor: pointer;\n",
              "      display: none;\n",
              "      fill: #1967D2;\n",
              "      height: 32px;\n",
              "      padding: 0 0 0 0;\n",
              "      width: 32px;\n",
              "    }\n",
              "\n",
              "    .colab-df-convert:hover {\n",
              "      background-color: #E2EBFA;\n",
              "      box-shadow: 0px 1px 2px rgba(60, 64, 67, 0.3), 0px 1px 3px 1px rgba(60, 64, 67, 0.15);\n",
              "      fill: #174EA6;\n",
              "    }\n",
              "\n",
              "    .colab-df-buttons div {\n",
              "      margin-bottom: 4px;\n",
              "    }\n",
              "\n",
              "    [theme=dark] .colab-df-convert {\n",
              "      background-color: #3B4455;\n",
              "      fill: #D2E3FC;\n",
              "    }\n",
              "\n",
              "    [theme=dark] .colab-df-convert:hover {\n",
              "      background-color: #434B5C;\n",
              "      box-shadow: 0px 1px 3px 1px rgba(0, 0, 0, 0.15);\n",
              "      filter: drop-shadow(0px 1px 2px rgba(0, 0, 0, 0.3));\n",
              "      fill: #FFFFFF;\n",
              "    }\n",
              "  </style>\n",
              "\n",
              "    <script>\n",
              "      const buttonEl =\n",
              "        document.querySelector('#df-26f00a1b-24eb-4ad0-b64f-3f427de9a730 button.colab-df-convert');\n",
              "      buttonEl.style.display =\n",
              "        google.colab.kernel.accessAllowed ? 'block' : 'none';\n",
              "\n",
              "      async function convertToInteractive(key) {\n",
              "        const element = document.querySelector('#df-26f00a1b-24eb-4ad0-b64f-3f427de9a730');\n",
              "        const dataTable =\n",
              "          await google.colab.kernel.invokeFunction('convertToInteractive',\n",
              "                                                    [key], {});\n",
              "        if (!dataTable) return;\n",
              "\n",
              "        const docLinkHtml = 'Like what you see? Visit the ' +\n",
              "          '<a target=\"_blank\" href=https://colab.research.google.com/notebooks/data_table.ipynb>data table notebook</a>'\n",
              "          + ' to learn more about interactive tables.';\n",
              "        element.innerHTML = '';\n",
              "        dataTable['output_type'] = 'display_data';\n",
              "        await google.colab.output.renderOutput(dataTable, element);\n",
              "        const docLink = document.createElement('div');\n",
              "        docLink.innerHTML = docLinkHtml;\n",
              "        element.appendChild(docLink);\n",
              "      }\n",
              "    </script>\n",
              "  </div>\n",
              "\n",
              "\n",
              "<div id=\"df-2a1d7ce2-c872-4e64-ad7d-211728277370\">\n",
              "  <button class=\"colab-df-quickchart\" onclick=\"quickchart('df-2a1d7ce2-c872-4e64-ad7d-211728277370')\"\n",
              "            title=\"Suggest charts\"\n",
              "            style=\"display:none;\">\n",
              "\n",
              "<svg xmlns=\"http://www.w3.org/2000/svg\" height=\"24px\"viewBox=\"0 0 24 24\"\n",
              "     width=\"24px\">\n",
              "    <g>\n",
              "        <path d=\"M19 3H5c-1.1 0-2 .9-2 2v14c0 1.1.9 2 2 2h14c1.1 0 2-.9 2-2V5c0-1.1-.9-2-2-2zM9 17H7v-7h2v7zm4 0h-2V7h2v10zm4 0h-2v-4h2v4z\"/>\n",
              "    </g>\n",
              "</svg>\n",
              "  </button>\n",
              "\n",
              "<style>\n",
              "  .colab-df-quickchart {\n",
              "      --bg-color: #E8F0FE;\n",
              "      --fill-color: #1967D2;\n",
              "      --hover-bg-color: #E2EBFA;\n",
              "      --hover-fill-color: #174EA6;\n",
              "      --disabled-fill-color: #AAA;\n",
              "      --disabled-bg-color: #DDD;\n",
              "  }\n",
              "\n",
              "  [theme=dark] .colab-df-quickchart {\n",
              "      --bg-color: #3B4455;\n",
              "      --fill-color: #D2E3FC;\n",
              "      --hover-bg-color: #434B5C;\n",
              "      --hover-fill-color: #FFFFFF;\n",
              "      --disabled-bg-color: #3B4455;\n",
              "      --disabled-fill-color: #666;\n",
              "  }\n",
              "\n",
              "  .colab-df-quickchart {\n",
              "    background-color: var(--bg-color);\n",
              "    border: none;\n",
              "    border-radius: 50%;\n",
              "    cursor: pointer;\n",
              "    display: none;\n",
              "    fill: var(--fill-color);\n",
              "    height: 32px;\n",
              "    padding: 0;\n",
              "    width: 32px;\n",
              "  }\n",
              "\n",
              "  .colab-df-quickchart:hover {\n",
              "    background-color: var(--hover-bg-color);\n",
              "    box-shadow: 0 1px 2px rgba(60, 64, 67, 0.3), 0 1px 3px 1px rgba(60, 64, 67, 0.15);\n",
              "    fill: var(--button-hover-fill-color);\n",
              "  }\n",
              "\n",
              "  .colab-df-quickchart-complete:disabled,\n",
              "  .colab-df-quickchart-complete:disabled:hover {\n",
              "    background-color: var(--disabled-bg-color);\n",
              "    fill: var(--disabled-fill-color);\n",
              "    box-shadow: none;\n",
              "  }\n",
              "\n",
              "  .colab-df-spinner {\n",
              "    border: 2px solid var(--fill-color);\n",
              "    border-color: transparent;\n",
              "    border-bottom-color: var(--fill-color);\n",
              "    animation:\n",
              "      spin 1s steps(1) infinite;\n",
              "  }\n",
              "\n",
              "  @keyframes spin {\n",
              "    0% {\n",
              "      border-color: transparent;\n",
              "      border-bottom-color: var(--fill-color);\n",
              "      border-left-color: var(--fill-color);\n",
              "    }\n",
              "    20% {\n",
              "      border-color: transparent;\n",
              "      border-left-color: var(--fill-color);\n",
              "      border-top-color: var(--fill-color);\n",
              "    }\n",
              "    30% {\n",
              "      border-color: transparent;\n",
              "      border-left-color: var(--fill-color);\n",
              "      border-top-color: var(--fill-color);\n",
              "      border-right-color: var(--fill-color);\n",
              "    }\n",
              "    40% {\n",
              "      border-color: transparent;\n",
              "      border-right-color: var(--fill-color);\n",
              "      border-top-color: var(--fill-color);\n",
              "    }\n",
              "    60% {\n",
              "      border-color: transparent;\n",
              "      border-right-color: var(--fill-color);\n",
              "    }\n",
              "    80% {\n",
              "      border-color: transparent;\n",
              "      border-right-color: var(--fill-color);\n",
              "      border-bottom-color: var(--fill-color);\n",
              "    }\n",
              "    90% {\n",
              "      border-color: transparent;\n",
              "      border-bottom-color: var(--fill-color);\n",
              "    }\n",
              "  }\n",
              "</style>\n",
              "\n",
              "  <script>\n",
              "    async function quickchart(key) {\n",
              "      const quickchartButtonEl =\n",
              "        document.querySelector('#' + key + ' button');\n",
              "      quickchartButtonEl.disabled = true;  // To prevent multiple clicks.\n",
              "      quickchartButtonEl.classList.add('colab-df-spinner');\n",
              "      try {\n",
              "        const charts = await google.colab.kernel.invokeFunction(\n",
              "            'suggestCharts', [key], {});\n",
              "      } catch (error) {\n",
              "        console.error('Error during call to suggestCharts:', error);\n",
              "      }\n",
              "      quickchartButtonEl.classList.remove('colab-df-spinner');\n",
              "      quickchartButtonEl.classList.add('colab-df-quickchart-complete');\n",
              "    }\n",
              "    (() => {\n",
              "      let quickchartButtonEl =\n",
              "        document.querySelector('#df-2a1d7ce2-c872-4e64-ad7d-211728277370 button');\n",
              "      quickchartButtonEl.style.display =\n",
              "        google.colab.kernel.accessAllowed ? 'block' : 'none';\n",
              "    })();\n",
              "  </script>\n",
              "</div>\n",
              "    </div>\n",
              "  </div>\n"
            ]
          },
          "metadata": {},
          "execution_count": 1
        }
      ],
      "source": [
        "import pandas as pd\n",
        "\n",
        "df = pd.read_csv(\"https://dados-ml-pln.s3-sa-east-1.amazonaws.com/produtos.csv\", delimiter=\";\", encoding='utf-8')\n",
        "\n",
        "df.describe()"
      ]
    },
    {
      "cell_type": "code",
      "execution_count": null,
      "metadata": {
        "id": "R3x3Ipzhqgka"
      },
      "outputs": [],
      "source": [
        "df.dropna(inplace=True)\n",
        "\n",
        "df[\"texto\"] = df['nome'] + \" \" + df['descricao']"
      ]
    },
    {
      "cell_type": "code",
      "execution_count": null,
      "metadata": {
        "id": "6nAwdR7YyQ_8",
        "colab": {
          "base_uri": "https://localhost:8080/",
          "height": 174
        },
        "outputId": "df7dfa03-8238-4d92-d6ab-ae84a45f9298"
      },
      "outputs": [
        {
          "output_type": "execute_result",
          "data": {
            "text/plain": [
              "                                     nome  \\\n",
              "count                                2916   \n",
              "unique                               2584   \n",
              "top      Boneco Dragon Ball Z Son Gokou     \n",
              "freq                                   20   \n",
              "\n",
              "                                                descricao categoria  \\\n",
              "count                                                2916      2916   \n",
              "unique                                               2460         4   \n",
              "top     JOGO ORIGINAL. NOVO. LACRADO. PRONTA ENTREGA. ...     livro   \n",
              "freq                                                   39       838   \n",
              "\n",
              "                                                 texto  \n",
              "count                                             2916  \n",
              "unique                                            2646  \n",
              "top      Boneco Dragon Ball Z Son Gokou   Produto novo  \n",
              "freq                                                20  "
            ],
            "text/html": [
              "\n",
              "  <div id=\"df-adc7af0a-982e-485e-94ba-0ba9f2052cb3\" class=\"colab-df-container\">\n",
              "    <div>\n",
              "<style scoped>\n",
              "    .dataframe tbody tr th:only-of-type {\n",
              "        vertical-align: middle;\n",
              "    }\n",
              "\n",
              "    .dataframe tbody tr th {\n",
              "        vertical-align: top;\n",
              "    }\n",
              "\n",
              "    .dataframe thead th {\n",
              "        text-align: right;\n",
              "    }\n",
              "</style>\n",
              "<table border=\"1\" class=\"dataframe\">\n",
              "  <thead>\n",
              "    <tr style=\"text-align: right;\">\n",
              "      <th></th>\n",
              "      <th>nome</th>\n",
              "      <th>descricao</th>\n",
              "      <th>categoria</th>\n",
              "      <th>texto</th>\n",
              "    </tr>\n",
              "  </thead>\n",
              "  <tbody>\n",
              "    <tr>\n",
              "      <th>count</th>\n",
              "      <td>2916</td>\n",
              "      <td>2916</td>\n",
              "      <td>2916</td>\n",
              "      <td>2916</td>\n",
              "    </tr>\n",
              "    <tr>\n",
              "      <th>unique</th>\n",
              "      <td>2584</td>\n",
              "      <td>2460</td>\n",
              "      <td>4</td>\n",
              "      <td>2646</td>\n",
              "    </tr>\n",
              "    <tr>\n",
              "      <th>top</th>\n",
              "      <td>Boneco Dragon Ball Z Son Gokou</td>\n",
              "      <td>JOGO ORIGINAL. NOVO. LACRADO. PRONTA ENTREGA. ...</td>\n",
              "      <td>livro</td>\n",
              "      <td>Boneco Dragon Ball Z Son Gokou   Produto novo</td>\n",
              "    </tr>\n",
              "    <tr>\n",
              "      <th>freq</th>\n",
              "      <td>20</td>\n",
              "      <td>39</td>\n",
              "      <td>838</td>\n",
              "      <td>20</td>\n",
              "    </tr>\n",
              "  </tbody>\n",
              "</table>\n",
              "</div>\n",
              "    <div class=\"colab-df-buttons\">\n",
              "\n",
              "  <div class=\"colab-df-container\">\n",
              "    <button class=\"colab-df-convert\" onclick=\"convertToInteractive('df-adc7af0a-982e-485e-94ba-0ba9f2052cb3')\"\n",
              "            title=\"Convert this dataframe to an interactive table.\"\n",
              "            style=\"display:none;\">\n",
              "\n",
              "  <svg xmlns=\"http://www.w3.org/2000/svg\" height=\"24px\" viewBox=\"0 -960 960 960\">\n",
              "    <path d=\"M120-120v-720h720v720H120Zm60-500h600v-160H180v160Zm220 220h160v-160H400v160Zm0 220h160v-160H400v160ZM180-400h160v-160H180v160Zm440 0h160v-160H620v160ZM180-180h160v-160H180v160Zm440 0h160v-160H620v160Z\"/>\n",
              "  </svg>\n",
              "    </button>\n",
              "\n",
              "  <style>\n",
              "    .colab-df-container {\n",
              "      display:flex;\n",
              "      gap: 12px;\n",
              "    }\n",
              "\n",
              "    .colab-df-convert {\n",
              "      background-color: #E8F0FE;\n",
              "      border: none;\n",
              "      border-radius: 50%;\n",
              "      cursor: pointer;\n",
              "      display: none;\n",
              "      fill: #1967D2;\n",
              "      height: 32px;\n",
              "      padding: 0 0 0 0;\n",
              "      width: 32px;\n",
              "    }\n",
              "\n",
              "    .colab-df-convert:hover {\n",
              "      background-color: #E2EBFA;\n",
              "      box-shadow: 0px 1px 2px rgba(60, 64, 67, 0.3), 0px 1px 3px 1px rgba(60, 64, 67, 0.15);\n",
              "      fill: #174EA6;\n",
              "    }\n",
              "\n",
              "    .colab-df-buttons div {\n",
              "      margin-bottom: 4px;\n",
              "    }\n",
              "\n",
              "    [theme=dark] .colab-df-convert {\n",
              "      background-color: #3B4455;\n",
              "      fill: #D2E3FC;\n",
              "    }\n",
              "\n",
              "    [theme=dark] .colab-df-convert:hover {\n",
              "      background-color: #434B5C;\n",
              "      box-shadow: 0px 1px 3px 1px rgba(0, 0, 0, 0.15);\n",
              "      filter: drop-shadow(0px 1px 2px rgba(0, 0, 0, 0.3));\n",
              "      fill: #FFFFFF;\n",
              "    }\n",
              "  </style>\n",
              "\n",
              "    <script>\n",
              "      const buttonEl =\n",
              "        document.querySelector('#df-adc7af0a-982e-485e-94ba-0ba9f2052cb3 button.colab-df-convert');\n",
              "      buttonEl.style.display =\n",
              "        google.colab.kernel.accessAllowed ? 'block' : 'none';\n",
              "\n",
              "      async function convertToInteractive(key) {\n",
              "        const element = document.querySelector('#df-adc7af0a-982e-485e-94ba-0ba9f2052cb3');\n",
              "        const dataTable =\n",
              "          await google.colab.kernel.invokeFunction('convertToInteractive',\n",
              "                                                    [key], {});\n",
              "        if (!dataTable) return;\n",
              "\n",
              "        const docLinkHtml = 'Like what you see? Visit the ' +\n",
              "          '<a target=\"_blank\" href=https://colab.research.google.com/notebooks/data_table.ipynb>data table notebook</a>'\n",
              "          + ' to learn more about interactive tables.';\n",
              "        element.innerHTML = '';\n",
              "        dataTable['output_type'] = 'display_data';\n",
              "        await google.colab.output.renderOutput(dataTable, element);\n",
              "        const docLink = document.createElement('div');\n",
              "        docLink.innerHTML = docLinkHtml;\n",
              "        element.appendChild(docLink);\n",
              "      }\n",
              "    </script>\n",
              "  </div>\n",
              "\n",
              "\n",
              "<div id=\"df-41de511b-c806-40c3-b1d2-fcc07fbef713\">\n",
              "  <button class=\"colab-df-quickchart\" onclick=\"quickchart('df-41de511b-c806-40c3-b1d2-fcc07fbef713')\"\n",
              "            title=\"Suggest charts\"\n",
              "            style=\"display:none;\">\n",
              "\n",
              "<svg xmlns=\"http://www.w3.org/2000/svg\" height=\"24px\"viewBox=\"0 0 24 24\"\n",
              "     width=\"24px\">\n",
              "    <g>\n",
              "        <path d=\"M19 3H5c-1.1 0-2 .9-2 2v14c0 1.1.9 2 2 2h14c1.1 0 2-.9 2-2V5c0-1.1-.9-2-2-2zM9 17H7v-7h2v7zm4 0h-2V7h2v10zm4 0h-2v-4h2v4z\"/>\n",
              "    </g>\n",
              "</svg>\n",
              "  </button>\n",
              "\n",
              "<style>\n",
              "  .colab-df-quickchart {\n",
              "      --bg-color: #E8F0FE;\n",
              "      --fill-color: #1967D2;\n",
              "      --hover-bg-color: #E2EBFA;\n",
              "      --hover-fill-color: #174EA6;\n",
              "      --disabled-fill-color: #AAA;\n",
              "      --disabled-bg-color: #DDD;\n",
              "  }\n",
              "\n",
              "  [theme=dark] .colab-df-quickchart {\n",
              "      --bg-color: #3B4455;\n",
              "      --fill-color: #D2E3FC;\n",
              "      --hover-bg-color: #434B5C;\n",
              "      --hover-fill-color: #FFFFFF;\n",
              "      --disabled-bg-color: #3B4455;\n",
              "      --disabled-fill-color: #666;\n",
              "  }\n",
              "\n",
              "  .colab-df-quickchart {\n",
              "    background-color: var(--bg-color);\n",
              "    border: none;\n",
              "    border-radius: 50%;\n",
              "    cursor: pointer;\n",
              "    display: none;\n",
              "    fill: var(--fill-color);\n",
              "    height: 32px;\n",
              "    padding: 0;\n",
              "    width: 32px;\n",
              "  }\n",
              "\n",
              "  .colab-df-quickchart:hover {\n",
              "    background-color: var(--hover-bg-color);\n",
              "    box-shadow: 0 1px 2px rgba(60, 64, 67, 0.3), 0 1px 3px 1px rgba(60, 64, 67, 0.15);\n",
              "    fill: var(--button-hover-fill-color);\n",
              "  }\n",
              "\n",
              "  .colab-df-quickchart-complete:disabled,\n",
              "  .colab-df-quickchart-complete:disabled:hover {\n",
              "    background-color: var(--disabled-bg-color);\n",
              "    fill: var(--disabled-fill-color);\n",
              "    box-shadow: none;\n",
              "  }\n",
              "\n",
              "  .colab-df-spinner {\n",
              "    border: 2px solid var(--fill-color);\n",
              "    border-color: transparent;\n",
              "    border-bottom-color: var(--fill-color);\n",
              "    animation:\n",
              "      spin 1s steps(1) infinite;\n",
              "  }\n",
              "\n",
              "  @keyframes spin {\n",
              "    0% {\n",
              "      border-color: transparent;\n",
              "      border-bottom-color: var(--fill-color);\n",
              "      border-left-color: var(--fill-color);\n",
              "    }\n",
              "    20% {\n",
              "      border-color: transparent;\n",
              "      border-left-color: var(--fill-color);\n",
              "      border-top-color: var(--fill-color);\n",
              "    }\n",
              "    30% {\n",
              "      border-color: transparent;\n",
              "      border-left-color: var(--fill-color);\n",
              "      border-top-color: var(--fill-color);\n",
              "      border-right-color: var(--fill-color);\n",
              "    }\n",
              "    40% {\n",
              "      border-color: transparent;\n",
              "      border-right-color: var(--fill-color);\n",
              "      border-top-color: var(--fill-color);\n",
              "    }\n",
              "    60% {\n",
              "      border-color: transparent;\n",
              "      border-right-color: var(--fill-color);\n",
              "    }\n",
              "    80% {\n",
              "      border-color: transparent;\n",
              "      border-right-color: var(--fill-color);\n",
              "      border-bottom-color: var(--fill-color);\n",
              "    }\n",
              "    90% {\n",
              "      border-color: transparent;\n",
              "      border-bottom-color: var(--fill-color);\n",
              "    }\n",
              "  }\n",
              "</style>\n",
              "\n",
              "  <script>\n",
              "    async function quickchart(key) {\n",
              "      const quickchartButtonEl =\n",
              "        document.querySelector('#' + key + ' button');\n",
              "      quickchartButtonEl.disabled = true;  // To prevent multiple clicks.\n",
              "      quickchartButtonEl.classList.add('colab-df-spinner');\n",
              "      try {\n",
              "        const charts = await google.colab.kernel.invokeFunction(\n",
              "            'suggestCharts', [key], {});\n",
              "      } catch (error) {\n",
              "        console.error('Error during call to suggestCharts:', error);\n",
              "      }\n",
              "      quickchartButtonEl.classList.remove('colab-df-spinner');\n",
              "      quickchartButtonEl.classList.add('colab-df-quickchart-complete');\n",
              "    }\n",
              "    (() => {\n",
              "      let quickchartButtonEl =\n",
              "        document.querySelector('#df-41de511b-c806-40c3-b1d2-fcc07fbef713 button');\n",
              "      quickchartButtonEl.style.display =\n",
              "        google.colab.kernel.accessAllowed ? 'block' : 'none';\n",
              "    })();\n",
              "  </script>\n",
              "</div>\n",
              "    </div>\n",
              "  </div>\n"
            ]
          },
          "metadata": {},
          "execution_count": 3
        }
      ],
      "source": [
        "df.describe()"
      ]
    },
    {
      "cell_type": "code",
      "execution_count": null,
      "metadata": {
        "id": "SbPvhCki8PHa",
        "colab": {
          "base_uri": "https://localhost:8080/"
        },
        "outputId": "d3eecfbe-d450-4bbf-8459-80552fee9aaa"
      },
      "outputs": [
        {
          "output_type": "execute_result",
          "data": {
            "text/plain": [
              "livro        838\n",
              "maquiagem    788\n",
              "brinquedo    668\n",
              "game         622\n",
              "Name: categoria, dtype: int64"
            ]
          },
          "metadata": {},
          "execution_count": 4
        }
      ],
      "source": [
        "df.categoria.value_counts()"
      ]
    },
    {
      "cell_type": "code",
      "source": [
        "# amostra\n",
        "from sklearn.model_selection import train_test_split\n",
        "\n",
        "df_train, df_test = train_test_split(df,\n",
        "      test_size = 0.2,\n",
        "      random_state = 42\n",
        "  )"
      ],
      "metadata": {
        "id": "HnXLxwRzNOCb"
      },
      "execution_count": null,
      "outputs": []
    },
    {
      "cell_type": "code",
      "execution_count": null,
      "metadata": {
        "id": "nf5Gh7Vw77dM",
        "colab": {
          "base_uri": "https://localhost:8080/"
        },
        "outputId": "2f3facd5-61ca-447a-cc9b-96ce38990509"
      },
      "outputs": [
        {
          "output_type": "stream",
          "name": "stderr",
          "text": [
            "[nltk_data] Downloading package stopwords to /root/nltk_data...\n",
            "[nltk_data]   Unzipping corpora/stopwords.zip.\n"
          ]
        }
      ],
      "source": [
        "# stopwords do nltk\n",
        "import nltk\n",
        "nltk.download('stopwords')\n",
        "\n",
        "stops = nltk.corpus.stopwords.words('portuguese')"
      ]
    },
    {
      "cell_type": "code",
      "execution_count": null,
      "metadata": {
        "id": "QnJwzeDn8C8q"
      },
      "outputs": [],
      "source": [
        "# vetorização\n",
        "from sklearn.feature_extraction.text import CountVectorizer\n",
        "\n",
        "vect = CountVectorizer(ngram_range=(1,1), stop_words=stops)\n",
        "vect.fit(df_train.texto)\n",
        "text_vect_train = vect.transform(df_train.texto)"
      ]
    },
    {
      "cell_type": "code",
      "source": [
        "# treinamento do modelo\n",
        "from sklearn.decomposition import LatentDirichletAllocation\n",
        "\n",
        "LDA = LatentDirichletAllocation(n_components=4, random_state=42)\n",
        "LDA.fit(text_vect_train)"
      ],
      "metadata": {
        "colab": {
          "base_uri": "https://localhost:8080/",
          "height": 74
        },
        "id": "UHqjYnbpjfMx",
        "outputId": "b38b2179-37c7-4248-d9db-bedbd68dfec2"
      },
      "execution_count": null,
      "outputs": [
        {
          "output_type": "execute_result",
          "data": {
            "text/plain": [
              "LatentDirichletAllocation(n_components=4, random_state=42)"
            ],
            "text/html": [
              "<style>#sk-container-id-1 {color: black;background-color: white;}#sk-container-id-1 pre{padding: 0;}#sk-container-id-1 div.sk-toggleable {background-color: white;}#sk-container-id-1 label.sk-toggleable__label {cursor: pointer;display: block;width: 100%;margin-bottom: 0;padding: 0.3em;box-sizing: border-box;text-align: center;}#sk-container-id-1 label.sk-toggleable__label-arrow:before {content: \"▸\";float: left;margin-right: 0.25em;color: #696969;}#sk-container-id-1 label.sk-toggleable__label-arrow:hover:before {color: black;}#sk-container-id-1 div.sk-estimator:hover label.sk-toggleable__label-arrow:before {color: black;}#sk-container-id-1 div.sk-toggleable__content {max-height: 0;max-width: 0;overflow: hidden;text-align: left;background-color: #f0f8ff;}#sk-container-id-1 div.sk-toggleable__content pre {margin: 0.2em;color: black;border-radius: 0.25em;background-color: #f0f8ff;}#sk-container-id-1 input.sk-toggleable__control:checked~div.sk-toggleable__content {max-height: 200px;max-width: 100%;overflow: auto;}#sk-container-id-1 input.sk-toggleable__control:checked~label.sk-toggleable__label-arrow:before {content: \"▾\";}#sk-container-id-1 div.sk-estimator input.sk-toggleable__control:checked~label.sk-toggleable__label {background-color: #d4ebff;}#sk-container-id-1 div.sk-label input.sk-toggleable__control:checked~label.sk-toggleable__label {background-color: #d4ebff;}#sk-container-id-1 input.sk-hidden--visually {border: 0;clip: rect(1px 1px 1px 1px);clip: rect(1px, 1px, 1px, 1px);height: 1px;margin: -1px;overflow: hidden;padding: 0;position: absolute;width: 1px;}#sk-container-id-1 div.sk-estimator {font-family: monospace;background-color: #f0f8ff;border: 1px dotted black;border-radius: 0.25em;box-sizing: border-box;margin-bottom: 0.5em;}#sk-container-id-1 div.sk-estimator:hover {background-color: #d4ebff;}#sk-container-id-1 div.sk-parallel-item::after {content: \"\";width: 100%;border-bottom: 1px solid gray;flex-grow: 1;}#sk-container-id-1 div.sk-label:hover label.sk-toggleable__label {background-color: #d4ebff;}#sk-container-id-1 div.sk-serial::before {content: \"\";position: absolute;border-left: 1px solid gray;box-sizing: border-box;top: 0;bottom: 0;left: 50%;z-index: 0;}#sk-container-id-1 div.sk-serial {display: flex;flex-direction: column;align-items: center;background-color: white;padding-right: 0.2em;padding-left: 0.2em;position: relative;}#sk-container-id-1 div.sk-item {position: relative;z-index: 1;}#sk-container-id-1 div.sk-parallel {display: flex;align-items: stretch;justify-content: center;background-color: white;position: relative;}#sk-container-id-1 div.sk-item::before, #sk-container-id-1 div.sk-parallel-item::before {content: \"\";position: absolute;border-left: 1px solid gray;box-sizing: border-box;top: 0;bottom: 0;left: 50%;z-index: -1;}#sk-container-id-1 div.sk-parallel-item {display: flex;flex-direction: column;z-index: 1;position: relative;background-color: white;}#sk-container-id-1 div.sk-parallel-item:first-child::after {align-self: flex-end;width: 50%;}#sk-container-id-1 div.sk-parallel-item:last-child::after {align-self: flex-start;width: 50%;}#sk-container-id-1 div.sk-parallel-item:only-child::after {width: 0;}#sk-container-id-1 div.sk-dashed-wrapped {border: 1px dashed gray;margin: 0 0.4em 0.5em 0.4em;box-sizing: border-box;padding-bottom: 0.4em;background-color: white;}#sk-container-id-1 div.sk-label label {font-family: monospace;font-weight: bold;display: inline-block;line-height: 1.2em;}#sk-container-id-1 div.sk-label-container {text-align: center;}#sk-container-id-1 div.sk-container {/* jupyter's `normalize.less` sets `[hidden] { display: none; }` but bootstrap.min.css set `[hidden] { display: none !important; }` so we also need the `!important` here to be able to override the default hidden behavior on the sphinx rendered scikit-learn.org. See: https://github.com/scikit-learn/scikit-learn/issues/21755 */display: inline-block !important;position: relative;}#sk-container-id-1 div.sk-text-repr-fallback {display: none;}</style><div id=\"sk-container-id-1\" class=\"sk-top-container\"><div class=\"sk-text-repr-fallback\"><pre>LatentDirichletAllocation(n_components=4, random_state=42)</pre><b>In a Jupyter environment, please rerun this cell to show the HTML representation or trust the notebook. <br />On GitHub, the HTML representation is unable to render, please try loading this page with nbviewer.org.</b></div><div class=\"sk-container\" hidden><div class=\"sk-item\"><div class=\"sk-estimator sk-toggleable\"><input class=\"sk-toggleable__control sk-hidden--visually\" id=\"sk-estimator-id-1\" type=\"checkbox\" checked><label for=\"sk-estimator-id-1\" class=\"sk-toggleable__label sk-toggleable__label-arrow\">LatentDirichletAllocation</label><div class=\"sk-toggleable__content\"><pre>LatentDirichletAllocation(n_components=4, random_state=42)</pre></div></div></div></div></div>"
            ]
          },
          "metadata": {},
          "execution_count": 8
        }
      ]
    },
    {
      "cell_type": "code",
      "source": [
        "#LDA.get_params()"
      ],
      "metadata": {
        "id": "NkwuxSSzjfKI"
      },
      "execution_count": null,
      "outputs": []
    },
    {
      "cell_type": "code",
      "execution_count": null,
      "metadata": {
        "id": "Dp_pwAgEPJvE",
        "colab": {
          "base_uri": "https://localhost:8080/"
        },
        "outputId": "7a610b2e-e492-444e-e2fd-134dfc877868"
      },
      "outputs": [
        {
          "output_type": "execute_result",
          "data": {
            "text/plain": [
              "(4, 31506)"
            ]
          },
          "metadata": {},
          "execution_count": 11
        }
      ],
      "source": [
        "LDA.components_.shape"
      ]
    },
    {
      "cell_type": "code",
      "execution_count": null,
      "metadata": {
        "id": "-cqZA64xYI73",
        "colab": {
          "base_uri": "https://localhost:8080/"
        },
        "outputId": "8c5ce2f1-4bb1-46cb-e2f9-dbd33a9e51e5"
      },
      "outputs": [
        {
          "output_type": "execute_result",
          "data": {
            "text/plain": [
              "array([20.37408976,  5.46762667,  0.25328679, ...,  0.25000302,\n",
              "        5.34517087,  1.24878944])"
            ]
          },
          "metadata": {},
          "execution_count": 12
        }
      ],
      "source": [
        "LDA.components_[0]"
      ]
    },
    {
      "cell_type": "code",
      "execution_count": null,
      "metadata": {
        "id": "vxorgcIaPJsk",
        "colab": {
          "base_uri": "https://localhost:8080/"
        },
        "outputId": "44549498-22a2-4029-83cd-363d48c7bff0"
      },
      "outputs": [
        {
          "output_type": "execute_result",
          "data": {
            "text/plain": [
              "array([11512, 15675, 26875, ..., 19932, 18447, 23485])"
            ]
          },
          "metadata": {},
          "execution_count": 13
        }
      ],
      "source": [
        "LDA.components_[0].argsort()"
      ]
    },
    {
      "cell_type": "code",
      "execution_count": null,
      "metadata": {
        "id": "6Ld3AR4087Jg",
        "colab": {
          "base_uri": "https://localhost:8080/"
        },
        "outputId": "8cfecb06-99c8-4746-e385-05b1b63805af"
      },
      "outputs": [
        {
          "output_type": "execute_result",
          "data": {
            "text/plain": [
              "array([11512, 15675, 26875, 21606, 15221, 20935, 18622, 20156,  9015,\n",
              "       30034, 27895, 14451, 30563, 15649, 20811])"
            ]
          },
          "metadata": {},
          "execution_count": 14
        }
      ],
      "source": [
        "LDA.components_[0].argsort()[:15]"
      ]
    },
    {
      "cell_type": "code",
      "execution_count": null,
      "metadata": {
        "id": "bJqwr1VP87Hh",
        "colab": {
          "base_uri": "https://localhost:8080/",
          "height": 35
        },
        "outputId": "ed08275e-4a3b-42cd-98bd-f6290d9a10c0"
      },
      "outputs": [
        {
          "output_type": "execute_result",
          "data": {
            "text/plain": [
              "'filter'"
            ],
            "application/vnd.google.colaboratory.intrinsic+json": {
              "type": "string"
            }
          },
          "metadata": {},
          "execution_count": 15
        }
      ],
      "source": [
        "vect.get_feature_names_out()[14451] #11526 #20811"
      ]
    },
    {
      "cell_type": "code",
      "source": [
        "# top palavras dos tópicos\n",
        "terms = vect.get_feature_names_out()\n",
        "\n",
        "for index, topic in enumerate(LDA.components_):\n",
        "    terms_comp = zip(terms, topic)\n",
        "    sorted_terms = sorted(terms_comp, key= lambda x:x[1], reverse=True)[:15]\n",
        "    print(\"THE TOP 15 WORDS FOR TOPIC # \"+str(index)+\": \")\n",
        "    #print(sorted_terms)\n",
        "    print([t[0] for t in sorted_terms])\n",
        "    print('\\n')"
      ],
      "metadata": {
        "colab": {
          "base_uri": "https://localhost:8080/"
        },
        "id": "O34J02ZTioys",
        "outputId": "9e66d21c-7f95-463c-94c6-c002d39633df"
      },
      "execution_count": null,
      "outputs": [
        {
          "output_type": "stream",
          "name": "stdout",
          "text": [
            "THE TOP 15 WORDS FOR TOPIC # 0: \n",
            "['pincel', 'kit', 'maquiagem', 'cores', 'produto', 'cm', 'profissional', 'maleta', 'base', 'sombra', 'matte', '01', 'pincéis', 'ruby', 'rose']\n",
            "\n",
            "\n",
            "THE TOP 15 WORDS FOR TOPIC # 1: \n",
            "['produto', 'edição', 'livro', 'páginas', 'novo', 'vida', 'mundo', 'anos', 'história', '00', 'livros', 'origem', 'capa', 'sobre', 'série']\n",
            "\n",
            "\n",
            "THE TOP 15 WORDS FOR TOPIC # 2: \n",
            "['cílios', 'harry', '12', 'potter', 'produto', 'kit', 'fio', 'super', 'produtos', 'compra', 'tamanho', 'postiços', 'frete', 'flex', 'pode']\n",
            "\n",
            "\n",
            "THE TOP 15 WORDS FOR TOPIC # 3: \n",
            "['mercado', 'produto', 'pagamento', 'prazo', 'frete', 'entrega', 'envio', 'jogo', 'produtos', 'compra', 'dias', 'vendedor', 'comprar', 'anúncio', 'original']\n",
            "\n",
            "\n"
          ]
        }
      ]
    },
    {
      "cell_type": "code",
      "source": [
        "'''\n",
        "0 - maquiagem\n",
        "1 - livro\n",
        "2 - brinquedo\n",
        "3 - game\n",
        "'''"
      ],
      "metadata": {
        "id": "wNPIT2vc0vgK"
      },
      "execution_count": null,
      "outputs": []
    },
    {
      "cell_type": "code",
      "execution_count": null,
      "metadata": {
        "id": "jffMT1_-9Ma2"
      },
      "outputs": [],
      "source": [
        "'''\n",
        "for index, topic in enumerate(LDA.components_):\n",
        "    print(f'THE TOP 15 WORDS FOR TOPIC #{index}')\n",
        "    print([vect.get_feature_names_out()[i] for i in topic.argsort()[-15:]])\n",
        "    print('\\n')\n",
        "'''"
      ]
    },
    {
      "cell_type": "code",
      "source": [
        "# aplica o modelo de analise de tópicos na base de teste\n",
        "# vetorização\n",
        "text_vect_test = vect.transform(df_test.texto)\n",
        "\n",
        "# scoragem\n",
        "results = LDA.transform(text_vect_test)"
      ],
      "metadata": {
        "id": "3AusNyhXnxu0"
      },
      "execution_count": null,
      "outputs": []
    },
    {
      "cell_type": "code",
      "execution_count": null,
      "metadata": {
        "id": "UVngssMKAoGg",
        "colab": {
          "base_uri": "https://localhost:8080/"
        },
        "outputId": "38cd113f-db95-4944-8265-84e5d3ff689f"
      },
      "outputs": [
        {
          "output_type": "stream",
          "name": "stdout",
          "text": [
            "(2332, 31506)\n",
            "(584, 31506)\n",
            "2916\n"
          ]
        }
      ],
      "source": [
        "# contagem\n",
        "print(text_vect_train.shape)\n",
        "print(text_vect_test.shape)\n",
        "\n",
        "print(text_vect_train.shape[0]+text_vect_test.shape[0])"
      ]
    },
    {
      "cell_type": "code",
      "execution_count": null,
      "metadata": {
        "id": "0UuI6P6G9151",
        "colab": {
          "base_uri": "https://localhost:8080/"
        },
        "outputId": "129602ad-b0f6-419d-9579-18810f422fab"
      },
      "outputs": [
        {
          "output_type": "execute_result",
          "data": {
            "text/plain": [
              "array([0.88342881, 0.02287574, 0.08830277, 0.00539267])"
            ]
          },
          "metadata": {},
          "execution_count": 22
        }
      ],
      "source": [
        "results[0]"
      ]
    },
    {
      "cell_type": "code",
      "execution_count": null,
      "metadata": {
        "id": "1fCoke2V913x",
        "colab": {
          "base_uri": "https://localhost:8080/"
        },
        "outputId": "9938ebe4-a75c-4cae-84c9-012da5cb2433"
      },
      "outputs": [
        {
          "output_type": "execute_result",
          "data": {
            "text/plain": [
              "array([0, 0, 3, 0, 0, 1, 3, 1, 3, 3, 2, 1, 2, 1, 3, 3, 3, 3, 1, 2, 2, 1,\n",
              "       3, 0, 3, 0, 1, 0, 0, 0, 3, 1, 1, 2, 3, 3, 2, 0, 0, 1, 1, 2, 3, 3,\n",
              "       1, 3, 2, 0, 1, 1, 2, 1, 1, 2, 0, 1, 1, 2, 1, 2, 3, 3, 1, 1, 1, 1,\n",
              "       0, 1, 2, 1, 1, 2, 1, 3, 1, 1, 1, 1, 3, 3, 3, 1, 0, 0, 0, 0, 0, 0,\n",
              "       0, 1, 1, 1, 1, 1, 1, 2, 1, 1, 3, 3, 3, 0, 1, 2, 3, 2, 0, 2, 3, 2,\n",
              "       0, 3, 3, 1, 2, 3, 3, 3, 3, 3, 3, 2, 1, 3, 3, 3, 3, 0, 3, 1, 0, 1,\n",
              "       1, 0, 1, 1, 1, 0, 3, 1, 3, 2, 1, 3, 3, 3, 3, 1, 1, 1, 1, 3, 3, 2,\n",
              "       2, 3, 1, 1, 0, 2, 1, 1, 3, 0, 2, 2, 1, 3, 0, 1, 2, 3, 0, 1, 1, 0,\n",
              "       0, 1, 3, 1, 1, 1, 0, 1, 3, 1, 1, 0, 1, 3, 3, 2, 1, 3, 1, 1, 1, 3,\n",
              "       1, 1, 1, 1, 1, 1, 0, 1, 0, 0, 0, 0, 0, 1, 0, 3, 2, 3, 0, 3, 0, 1,\n",
              "       0, 0, 1, 2, 0, 2, 1, 1, 0, 3, 1, 1, 1, 2, 1, 3, 3, 3, 1, 1, 1, 3,\n",
              "       0, 3, 1, 1, 0, 0, 1, 3, 3, 2, 1, 0, 0, 3, 0, 3, 0, 1, 1, 1, 2, 1,\n",
              "       3, 3, 2, 1, 3, 0, 1, 0, 2, 0, 3, 3, 0, 1, 2, 3, 3, 3, 0, 1, 1, 1,\n",
              "       3, 1, 1, 1, 1, 2, 2, 0, 1, 3, 1, 2, 1, 0, 3, 3, 1, 1, 0, 0, 0, 0,\n",
              "       1, 0, 1, 1, 2, 1, 0, 1, 1, 1, 1, 1, 1, 0, 2, 0, 2, 1, 1, 3, 0, 2,\n",
              "       3, 2, 1, 2, 0, 1, 3, 2, 0, 3, 1, 0, 1, 1, 3, 3, 1, 0, 3, 1, 1, 1,\n",
              "       1, 3, 3, 3, 1, 2, 3, 2, 0, 0, 0, 1, 3, 1, 1, 0, 3, 0, 0, 0, 2, 2,\n",
              "       2, 1, 0, 1, 0, 1, 1, 3, 1, 3, 0, 1, 1, 1, 3, 1, 1, 1, 1, 0, 2, 1,\n",
              "       3, 1, 2, 1, 3, 3, 2, 3, 1, 0, 1, 1, 3, 1, 2, 1, 3, 1, 3, 0, 1, 1,\n",
              "       2, 1, 3, 1, 1, 3, 3, 2, 0, 1, 3, 0, 1, 1, 0, 3, 0, 1, 3, 3, 0, 1,\n",
              "       3, 2, 3, 2, 1, 2, 0, 0, 3, 1, 1, 1, 0, 3, 0, 0, 3, 1, 1, 0, 1, 3,\n",
              "       0, 0, 0, 1, 0, 3, 3, 1, 3, 1, 3, 0, 0, 1, 0, 3, 0, 0, 1, 1, 3, 0,\n",
              "       1, 1, 1, 3, 0, 1, 1, 1, 1, 0, 1, 1, 1, 3, 1, 1, 1, 0, 3, 3, 3, 0,\n",
              "       1, 0, 0, 1, 3, 2, 3, 3, 1, 3, 1, 3, 1, 2, 1, 2, 3, 3, 1, 3, 1, 1,\n",
              "       2, 0, 1, 0, 3, 1, 1, 0, 1, 0, 1, 2, 3, 1, 1, 1, 3, 2, 2, 2, 2, 3,\n",
              "       3, 3, 0, 3, 1, 2, 3, 1, 1, 3, 0, 2, 1, 3, 2, 1, 1, 2, 0, 1, 2, 2,\n",
              "       1, 0, 3, 1, 3, 1, 3, 0, 3, 0, 0, 1])"
            ]
          },
          "metadata": {},
          "execution_count": 23
        }
      ],
      "source": [
        "results.argmax(axis=1)"
      ]
    },
    {
      "cell_type": "code",
      "execution_count": null,
      "metadata": {
        "id": "dNQNDgK4BWoe",
        "colab": {
          "base_uri": "https://localhost:8080/",
          "height": 275
        },
        "outputId": "ea9ada30-6068-41b1-c4ad-46c8cc761566"
      },
      "outputs": [
        {
          "output_type": "execute_result",
          "data": {
            "text/plain": [
              "                                                   nome  \\\n",
              "2700   Estojo Duo Iluminador E Bronzer Belle Angel M...   \n",
              "1297   Patrulha Canina Carrinhos De Fricção 6 Person...   \n",
              "3162   Pokemon Ultra Moon Nintendo 3ds Midia Fisica ...   \n",
              "2895                           Kite Pincel  12 Unidade    \n",
              "2226   Maleta Grande P/ Maquiagem Profissional Rodin...   \n",
              "\n",
              "                                              descricao  categoria  \\\n",
              "2700  DUO ILUMINADOR E BRONZER BELLE ANGEL - B025O D...  maquiagem   \n",
              "1297  Kit carrinhos da Patrulha canina Tamanho: Cerc...  brinquedo   \n",
              "3162  #Nossos produtos são NOVOS e 100% ORIGINAIS#  ...       game   \n",
              "2895  esta alta qualidade Punho de madeira Escova Co...  maquiagem   \n",
              "2226  FOTOS REAIS DO PRODUTO - ENVIAMOS SUA MALETA C...  maquiagem   \n",
              "\n",
              "                                                  texto  topico  \n",
              "2700   Estojo Duo Iluminador E Bronzer Belle Angel M...       0  \n",
              "1297   Patrulha Canina Carrinhos De Fricção 6 Person...       0  \n",
              "3162   Pokemon Ultra Moon Nintendo 3ds Midia Fisica ...       3  \n",
              "2895   Kite Pincel  12 Unidade  esta alta qualidade ...       0  \n",
              "2226   Maleta Grande P/ Maquiagem Profissional Rodin...       0  "
            ],
            "text/html": [
              "\n",
              "  <div id=\"df-2dfb0ee2-e8e0-43b1-8f4e-7124b9d24ef4\" class=\"colab-df-container\">\n",
              "    <div>\n",
              "<style scoped>\n",
              "    .dataframe tbody tr th:only-of-type {\n",
              "        vertical-align: middle;\n",
              "    }\n",
              "\n",
              "    .dataframe tbody tr th {\n",
              "        vertical-align: top;\n",
              "    }\n",
              "\n",
              "    .dataframe thead th {\n",
              "        text-align: right;\n",
              "    }\n",
              "</style>\n",
              "<table border=\"1\" class=\"dataframe\">\n",
              "  <thead>\n",
              "    <tr style=\"text-align: right;\">\n",
              "      <th></th>\n",
              "      <th>nome</th>\n",
              "      <th>descricao</th>\n",
              "      <th>categoria</th>\n",
              "      <th>texto</th>\n",
              "      <th>topico</th>\n",
              "    </tr>\n",
              "  </thead>\n",
              "  <tbody>\n",
              "    <tr>\n",
              "      <th>2700</th>\n",
              "      <td>Estojo Duo Iluminador E Bronzer Belle Angel M...</td>\n",
              "      <td>DUO ILUMINADOR E BRONZER BELLE ANGEL - B025O D...</td>\n",
              "      <td>maquiagem</td>\n",
              "      <td>Estojo Duo Iluminador E Bronzer Belle Angel M...</td>\n",
              "      <td>0</td>\n",
              "    </tr>\n",
              "    <tr>\n",
              "      <th>1297</th>\n",
              "      <td>Patrulha Canina Carrinhos De Fricção 6 Person...</td>\n",
              "      <td>Kit carrinhos da Patrulha canina Tamanho: Cerc...</td>\n",
              "      <td>brinquedo</td>\n",
              "      <td>Patrulha Canina Carrinhos De Fricção 6 Person...</td>\n",
              "      <td>0</td>\n",
              "    </tr>\n",
              "    <tr>\n",
              "      <th>3162</th>\n",
              "      <td>Pokemon Ultra Moon Nintendo 3ds Midia Fisica ...</td>\n",
              "      <td>#Nossos produtos são NOVOS e 100% ORIGINAIS#  ...</td>\n",
              "      <td>game</td>\n",
              "      <td>Pokemon Ultra Moon Nintendo 3ds Midia Fisica ...</td>\n",
              "      <td>3</td>\n",
              "    </tr>\n",
              "    <tr>\n",
              "      <th>2895</th>\n",
              "      <td>Kite Pincel  12 Unidade</td>\n",
              "      <td>esta alta qualidade Punho de madeira Escova Co...</td>\n",
              "      <td>maquiagem</td>\n",
              "      <td>Kite Pincel  12 Unidade  esta alta qualidade ...</td>\n",
              "      <td>0</td>\n",
              "    </tr>\n",
              "    <tr>\n",
              "      <th>2226</th>\n",
              "      <td>Maleta Grande P/ Maquiagem Profissional Rodin...</td>\n",
              "      <td>FOTOS REAIS DO PRODUTO - ENVIAMOS SUA MALETA C...</td>\n",
              "      <td>maquiagem</td>\n",
              "      <td>Maleta Grande P/ Maquiagem Profissional Rodin...</td>\n",
              "      <td>0</td>\n",
              "    </tr>\n",
              "  </tbody>\n",
              "</table>\n",
              "</div>\n",
              "    <div class=\"colab-df-buttons\">\n",
              "\n",
              "  <div class=\"colab-df-container\">\n",
              "    <button class=\"colab-df-convert\" onclick=\"convertToInteractive('df-2dfb0ee2-e8e0-43b1-8f4e-7124b9d24ef4')\"\n",
              "            title=\"Convert this dataframe to an interactive table.\"\n",
              "            style=\"display:none;\">\n",
              "\n",
              "  <svg xmlns=\"http://www.w3.org/2000/svg\" height=\"24px\" viewBox=\"0 -960 960 960\">\n",
              "    <path d=\"M120-120v-720h720v720H120Zm60-500h600v-160H180v160Zm220 220h160v-160H400v160Zm0 220h160v-160H400v160ZM180-400h160v-160H180v160Zm440 0h160v-160H620v160ZM180-180h160v-160H180v160Zm440 0h160v-160H620v160Z\"/>\n",
              "  </svg>\n",
              "    </button>\n",
              "\n",
              "  <style>\n",
              "    .colab-df-container {\n",
              "      display:flex;\n",
              "      gap: 12px;\n",
              "    }\n",
              "\n",
              "    .colab-df-convert {\n",
              "      background-color: #E8F0FE;\n",
              "      border: none;\n",
              "      border-radius: 50%;\n",
              "      cursor: pointer;\n",
              "      display: none;\n",
              "      fill: #1967D2;\n",
              "      height: 32px;\n",
              "      padding: 0 0 0 0;\n",
              "      width: 32px;\n",
              "    }\n",
              "\n",
              "    .colab-df-convert:hover {\n",
              "      background-color: #E2EBFA;\n",
              "      box-shadow: 0px 1px 2px rgba(60, 64, 67, 0.3), 0px 1px 3px 1px rgba(60, 64, 67, 0.15);\n",
              "      fill: #174EA6;\n",
              "    }\n",
              "\n",
              "    .colab-df-buttons div {\n",
              "      margin-bottom: 4px;\n",
              "    }\n",
              "\n",
              "    [theme=dark] .colab-df-convert {\n",
              "      background-color: #3B4455;\n",
              "      fill: #D2E3FC;\n",
              "    }\n",
              "\n",
              "    [theme=dark] .colab-df-convert:hover {\n",
              "      background-color: #434B5C;\n",
              "      box-shadow: 0px 1px 3px 1px rgba(0, 0, 0, 0.15);\n",
              "      filter: drop-shadow(0px 1px 2px rgba(0, 0, 0, 0.3));\n",
              "      fill: #FFFFFF;\n",
              "    }\n",
              "  </style>\n",
              "\n",
              "    <script>\n",
              "      const buttonEl =\n",
              "        document.querySelector('#df-2dfb0ee2-e8e0-43b1-8f4e-7124b9d24ef4 button.colab-df-convert');\n",
              "      buttonEl.style.display =\n",
              "        google.colab.kernel.accessAllowed ? 'block' : 'none';\n",
              "\n",
              "      async function convertToInteractive(key) {\n",
              "        const element = document.querySelector('#df-2dfb0ee2-e8e0-43b1-8f4e-7124b9d24ef4');\n",
              "        const dataTable =\n",
              "          await google.colab.kernel.invokeFunction('convertToInteractive',\n",
              "                                                    [key], {});\n",
              "        if (!dataTable) return;\n",
              "\n",
              "        const docLinkHtml = 'Like what you see? Visit the ' +\n",
              "          '<a target=\"_blank\" href=https://colab.research.google.com/notebooks/data_table.ipynb>data table notebook</a>'\n",
              "          + ' to learn more about interactive tables.';\n",
              "        element.innerHTML = '';\n",
              "        dataTable['output_type'] = 'display_data';\n",
              "        await google.colab.output.renderOutput(dataTable, element);\n",
              "        const docLink = document.createElement('div');\n",
              "        docLink.innerHTML = docLinkHtml;\n",
              "        element.appendChild(docLink);\n",
              "      }\n",
              "    </script>\n",
              "  </div>\n",
              "\n",
              "\n",
              "<div id=\"df-818b74b7-85b6-45ba-966f-55ade56e2073\">\n",
              "  <button class=\"colab-df-quickchart\" onclick=\"quickchart('df-818b74b7-85b6-45ba-966f-55ade56e2073')\"\n",
              "            title=\"Suggest charts\"\n",
              "            style=\"display:none;\">\n",
              "\n",
              "<svg xmlns=\"http://www.w3.org/2000/svg\" height=\"24px\"viewBox=\"0 0 24 24\"\n",
              "     width=\"24px\">\n",
              "    <g>\n",
              "        <path d=\"M19 3H5c-1.1 0-2 .9-2 2v14c0 1.1.9 2 2 2h14c1.1 0 2-.9 2-2V5c0-1.1-.9-2-2-2zM9 17H7v-7h2v7zm4 0h-2V7h2v10zm4 0h-2v-4h2v4z\"/>\n",
              "    </g>\n",
              "</svg>\n",
              "  </button>\n",
              "\n",
              "<style>\n",
              "  .colab-df-quickchart {\n",
              "      --bg-color: #E8F0FE;\n",
              "      --fill-color: #1967D2;\n",
              "      --hover-bg-color: #E2EBFA;\n",
              "      --hover-fill-color: #174EA6;\n",
              "      --disabled-fill-color: #AAA;\n",
              "      --disabled-bg-color: #DDD;\n",
              "  }\n",
              "\n",
              "  [theme=dark] .colab-df-quickchart {\n",
              "      --bg-color: #3B4455;\n",
              "      --fill-color: #D2E3FC;\n",
              "      --hover-bg-color: #434B5C;\n",
              "      --hover-fill-color: #FFFFFF;\n",
              "      --disabled-bg-color: #3B4455;\n",
              "      --disabled-fill-color: #666;\n",
              "  }\n",
              "\n",
              "  .colab-df-quickchart {\n",
              "    background-color: var(--bg-color);\n",
              "    border: none;\n",
              "    border-radius: 50%;\n",
              "    cursor: pointer;\n",
              "    display: none;\n",
              "    fill: var(--fill-color);\n",
              "    height: 32px;\n",
              "    padding: 0;\n",
              "    width: 32px;\n",
              "  }\n",
              "\n",
              "  .colab-df-quickchart:hover {\n",
              "    background-color: var(--hover-bg-color);\n",
              "    box-shadow: 0 1px 2px rgba(60, 64, 67, 0.3), 0 1px 3px 1px rgba(60, 64, 67, 0.15);\n",
              "    fill: var(--button-hover-fill-color);\n",
              "  }\n",
              "\n",
              "  .colab-df-quickchart-complete:disabled,\n",
              "  .colab-df-quickchart-complete:disabled:hover {\n",
              "    background-color: var(--disabled-bg-color);\n",
              "    fill: var(--disabled-fill-color);\n",
              "    box-shadow: none;\n",
              "  }\n",
              "\n",
              "  .colab-df-spinner {\n",
              "    border: 2px solid var(--fill-color);\n",
              "    border-color: transparent;\n",
              "    border-bottom-color: var(--fill-color);\n",
              "    animation:\n",
              "      spin 1s steps(1) infinite;\n",
              "  }\n",
              "\n",
              "  @keyframes spin {\n",
              "    0% {\n",
              "      border-color: transparent;\n",
              "      border-bottom-color: var(--fill-color);\n",
              "      border-left-color: var(--fill-color);\n",
              "    }\n",
              "    20% {\n",
              "      border-color: transparent;\n",
              "      border-left-color: var(--fill-color);\n",
              "      border-top-color: var(--fill-color);\n",
              "    }\n",
              "    30% {\n",
              "      border-color: transparent;\n",
              "      border-left-color: var(--fill-color);\n",
              "      border-top-color: var(--fill-color);\n",
              "      border-right-color: var(--fill-color);\n",
              "    }\n",
              "    40% {\n",
              "      border-color: transparent;\n",
              "      border-right-color: var(--fill-color);\n",
              "      border-top-color: var(--fill-color);\n",
              "    }\n",
              "    60% {\n",
              "      border-color: transparent;\n",
              "      border-right-color: var(--fill-color);\n",
              "    }\n",
              "    80% {\n",
              "      border-color: transparent;\n",
              "      border-right-color: var(--fill-color);\n",
              "      border-bottom-color: var(--fill-color);\n",
              "    }\n",
              "    90% {\n",
              "      border-color: transparent;\n",
              "      border-bottom-color: var(--fill-color);\n",
              "    }\n",
              "  }\n",
              "</style>\n",
              "\n",
              "  <script>\n",
              "    async function quickchart(key) {\n",
              "      const quickchartButtonEl =\n",
              "        document.querySelector('#' + key + ' button');\n",
              "      quickchartButtonEl.disabled = true;  // To prevent multiple clicks.\n",
              "      quickchartButtonEl.classList.add('colab-df-spinner');\n",
              "      try {\n",
              "        const charts = await google.colab.kernel.invokeFunction(\n",
              "            'suggestCharts', [key], {});\n",
              "      } catch (error) {\n",
              "        console.error('Error during call to suggestCharts:', error);\n",
              "      }\n",
              "      quickchartButtonEl.classList.remove('colab-df-spinner');\n",
              "      quickchartButtonEl.classList.add('colab-df-quickchart-complete');\n",
              "    }\n",
              "    (() => {\n",
              "      let quickchartButtonEl =\n",
              "        document.querySelector('#df-818b74b7-85b6-45ba-966f-55ade56e2073 button');\n",
              "      quickchartButtonEl.style.display =\n",
              "        google.colab.kernel.accessAllowed ? 'block' : 'none';\n",
              "    })();\n",
              "  </script>\n",
              "</div>\n",
              "    </div>\n",
              "  </div>\n"
            ]
          },
          "metadata": {},
          "execution_count": 24
        }
      ],
      "source": [
        "# seleciona o tópico com a maior probabilidade\n",
        "df_test['topico'] = results.argmax(axis=1)\n",
        "\n",
        "df_test.head()"
      ]
    },
    {
      "cell_type": "code",
      "execution_count": null,
      "metadata": {
        "id": "qUj5Vik_BWl2",
        "colab": {
          "base_uri": "https://localhost:8080/",
          "height": 35
        },
        "outputId": "da7ab213-5cfa-4ff6-c031-132701ba0d0c"
      },
      "outputs": [
        {
          "output_type": "execute_result",
          "data": {
            "text/plain": [
              "'\\n0 - maquiagem\\n1 - livro\\n2 - brinquedo\\n3 - game\\n'"
            ],
            "application/vnd.google.colaboratory.intrinsic+json": {
              "type": "string"
            }
          },
          "metadata": {},
          "execution_count": 25
        }
      ],
      "source": [
        "# aplica de/para da classificação no dataframe\n",
        "import numpy as np\n",
        "\n",
        "df_test['categ_cod'] = df_test.categoria.map(\n",
        "    {'maquiagem': 0, 'livro':1, 'brinquedo': 2, 'game': 3}\n",
        "    )\n",
        "\n",
        "'''\n",
        "0 - maquiagem\n",
        "1 - livro\n",
        "2 - brinquedo\n",
        "3 - game\n",
        "'''"
      ]
    },
    {
      "cell_type": "code",
      "source": [
        "df_test.head()"
      ],
      "metadata": {
        "id": "0n048DC1o8FM",
        "colab": {
          "base_uri": "https://localhost:8080/",
          "height": 275
        },
        "outputId": "7aab8df2-6186-4b4a-a490-246cd5dc584a"
      },
      "execution_count": null,
      "outputs": [
        {
          "output_type": "execute_result",
          "data": {
            "text/plain": [
              "                                                   nome  \\\n",
              "2700   Estojo Duo Iluminador E Bronzer Belle Angel M...   \n",
              "1297   Patrulha Canina Carrinhos De Fricção 6 Person...   \n",
              "3162   Pokemon Ultra Moon Nintendo 3ds Midia Fisica ...   \n",
              "2895                           Kite Pincel  12 Unidade    \n",
              "2226   Maleta Grande P/ Maquiagem Profissional Rodin...   \n",
              "\n",
              "                                              descricao  categoria  \\\n",
              "2700  DUO ILUMINADOR E BRONZER BELLE ANGEL - B025O D...  maquiagem   \n",
              "1297  Kit carrinhos da Patrulha canina Tamanho: Cerc...  brinquedo   \n",
              "3162  #Nossos produtos são NOVOS e 100% ORIGINAIS#  ...       game   \n",
              "2895  esta alta qualidade Punho de madeira Escova Co...  maquiagem   \n",
              "2226  FOTOS REAIS DO PRODUTO - ENVIAMOS SUA MALETA C...  maquiagem   \n",
              "\n",
              "                                                  texto  topico  categ_cod  \n",
              "2700   Estojo Duo Iluminador E Bronzer Belle Angel M...       0          0  \n",
              "1297   Patrulha Canina Carrinhos De Fricção 6 Person...       0          2  \n",
              "3162   Pokemon Ultra Moon Nintendo 3ds Midia Fisica ...       3          3  \n",
              "2895   Kite Pincel  12 Unidade  esta alta qualidade ...       0          0  \n",
              "2226   Maleta Grande P/ Maquiagem Profissional Rodin...       0          0  "
            ],
            "text/html": [
              "\n",
              "  <div id=\"df-494df85c-1013-4877-9860-7977a545aba6\" class=\"colab-df-container\">\n",
              "    <div>\n",
              "<style scoped>\n",
              "    .dataframe tbody tr th:only-of-type {\n",
              "        vertical-align: middle;\n",
              "    }\n",
              "\n",
              "    .dataframe tbody tr th {\n",
              "        vertical-align: top;\n",
              "    }\n",
              "\n",
              "    .dataframe thead th {\n",
              "        text-align: right;\n",
              "    }\n",
              "</style>\n",
              "<table border=\"1\" class=\"dataframe\">\n",
              "  <thead>\n",
              "    <tr style=\"text-align: right;\">\n",
              "      <th></th>\n",
              "      <th>nome</th>\n",
              "      <th>descricao</th>\n",
              "      <th>categoria</th>\n",
              "      <th>texto</th>\n",
              "      <th>topico</th>\n",
              "      <th>categ_cod</th>\n",
              "    </tr>\n",
              "  </thead>\n",
              "  <tbody>\n",
              "    <tr>\n",
              "      <th>2700</th>\n",
              "      <td>Estojo Duo Iluminador E Bronzer Belle Angel M...</td>\n",
              "      <td>DUO ILUMINADOR E BRONZER BELLE ANGEL - B025O D...</td>\n",
              "      <td>maquiagem</td>\n",
              "      <td>Estojo Duo Iluminador E Bronzer Belle Angel M...</td>\n",
              "      <td>0</td>\n",
              "      <td>0</td>\n",
              "    </tr>\n",
              "    <tr>\n",
              "      <th>1297</th>\n",
              "      <td>Patrulha Canina Carrinhos De Fricção 6 Person...</td>\n",
              "      <td>Kit carrinhos da Patrulha canina Tamanho: Cerc...</td>\n",
              "      <td>brinquedo</td>\n",
              "      <td>Patrulha Canina Carrinhos De Fricção 6 Person...</td>\n",
              "      <td>0</td>\n",
              "      <td>2</td>\n",
              "    </tr>\n",
              "    <tr>\n",
              "      <th>3162</th>\n",
              "      <td>Pokemon Ultra Moon Nintendo 3ds Midia Fisica ...</td>\n",
              "      <td>#Nossos produtos são NOVOS e 100% ORIGINAIS#  ...</td>\n",
              "      <td>game</td>\n",
              "      <td>Pokemon Ultra Moon Nintendo 3ds Midia Fisica ...</td>\n",
              "      <td>3</td>\n",
              "      <td>3</td>\n",
              "    </tr>\n",
              "    <tr>\n",
              "      <th>2895</th>\n",
              "      <td>Kite Pincel  12 Unidade</td>\n",
              "      <td>esta alta qualidade Punho de madeira Escova Co...</td>\n",
              "      <td>maquiagem</td>\n",
              "      <td>Kite Pincel  12 Unidade  esta alta qualidade ...</td>\n",
              "      <td>0</td>\n",
              "      <td>0</td>\n",
              "    </tr>\n",
              "    <tr>\n",
              "      <th>2226</th>\n",
              "      <td>Maleta Grande P/ Maquiagem Profissional Rodin...</td>\n",
              "      <td>FOTOS REAIS DO PRODUTO - ENVIAMOS SUA MALETA C...</td>\n",
              "      <td>maquiagem</td>\n",
              "      <td>Maleta Grande P/ Maquiagem Profissional Rodin...</td>\n",
              "      <td>0</td>\n",
              "      <td>0</td>\n",
              "    </tr>\n",
              "  </tbody>\n",
              "</table>\n",
              "</div>\n",
              "    <div class=\"colab-df-buttons\">\n",
              "\n",
              "  <div class=\"colab-df-container\">\n",
              "    <button class=\"colab-df-convert\" onclick=\"convertToInteractive('df-494df85c-1013-4877-9860-7977a545aba6')\"\n",
              "            title=\"Convert this dataframe to an interactive table.\"\n",
              "            style=\"display:none;\">\n",
              "\n",
              "  <svg xmlns=\"http://www.w3.org/2000/svg\" height=\"24px\" viewBox=\"0 -960 960 960\">\n",
              "    <path d=\"M120-120v-720h720v720H120Zm60-500h600v-160H180v160Zm220 220h160v-160H400v160Zm0 220h160v-160H400v160ZM180-400h160v-160H180v160Zm440 0h160v-160H620v160ZM180-180h160v-160H180v160Zm440 0h160v-160H620v160Z\"/>\n",
              "  </svg>\n",
              "    </button>\n",
              "\n",
              "  <style>\n",
              "    .colab-df-container {\n",
              "      display:flex;\n",
              "      gap: 12px;\n",
              "    }\n",
              "\n",
              "    .colab-df-convert {\n",
              "      background-color: #E8F0FE;\n",
              "      border: none;\n",
              "      border-radius: 50%;\n",
              "      cursor: pointer;\n",
              "      display: none;\n",
              "      fill: #1967D2;\n",
              "      height: 32px;\n",
              "      padding: 0 0 0 0;\n",
              "      width: 32px;\n",
              "    }\n",
              "\n",
              "    .colab-df-convert:hover {\n",
              "      background-color: #E2EBFA;\n",
              "      box-shadow: 0px 1px 2px rgba(60, 64, 67, 0.3), 0px 1px 3px 1px rgba(60, 64, 67, 0.15);\n",
              "      fill: #174EA6;\n",
              "    }\n",
              "\n",
              "    .colab-df-buttons div {\n",
              "      margin-bottom: 4px;\n",
              "    }\n",
              "\n",
              "    [theme=dark] .colab-df-convert {\n",
              "      background-color: #3B4455;\n",
              "      fill: #D2E3FC;\n",
              "    }\n",
              "\n",
              "    [theme=dark] .colab-df-convert:hover {\n",
              "      background-color: #434B5C;\n",
              "      box-shadow: 0px 1px 3px 1px rgba(0, 0, 0, 0.15);\n",
              "      filter: drop-shadow(0px 1px 2px rgba(0, 0, 0, 0.3));\n",
              "      fill: #FFFFFF;\n",
              "    }\n",
              "  </style>\n",
              "\n",
              "    <script>\n",
              "      const buttonEl =\n",
              "        document.querySelector('#df-494df85c-1013-4877-9860-7977a545aba6 button.colab-df-convert');\n",
              "      buttonEl.style.display =\n",
              "        google.colab.kernel.accessAllowed ? 'block' : 'none';\n",
              "\n",
              "      async function convertToInteractive(key) {\n",
              "        const element = document.querySelector('#df-494df85c-1013-4877-9860-7977a545aba6');\n",
              "        const dataTable =\n",
              "          await google.colab.kernel.invokeFunction('convertToInteractive',\n",
              "                                                    [key], {});\n",
              "        if (!dataTable) return;\n",
              "\n",
              "        const docLinkHtml = 'Like what you see? Visit the ' +\n",
              "          '<a target=\"_blank\" href=https://colab.research.google.com/notebooks/data_table.ipynb>data table notebook</a>'\n",
              "          + ' to learn more about interactive tables.';\n",
              "        element.innerHTML = '';\n",
              "        dataTable['output_type'] = 'display_data';\n",
              "        await google.colab.output.renderOutput(dataTable, element);\n",
              "        const docLink = document.createElement('div');\n",
              "        docLink.innerHTML = docLinkHtml;\n",
              "        element.appendChild(docLink);\n",
              "      }\n",
              "    </script>\n",
              "  </div>\n",
              "\n",
              "\n",
              "<div id=\"df-1a0c2ebb-e698-443c-ba2f-f71485af9bb8\">\n",
              "  <button class=\"colab-df-quickchart\" onclick=\"quickchart('df-1a0c2ebb-e698-443c-ba2f-f71485af9bb8')\"\n",
              "            title=\"Suggest charts\"\n",
              "            style=\"display:none;\">\n",
              "\n",
              "<svg xmlns=\"http://www.w3.org/2000/svg\" height=\"24px\"viewBox=\"0 0 24 24\"\n",
              "     width=\"24px\">\n",
              "    <g>\n",
              "        <path d=\"M19 3H5c-1.1 0-2 .9-2 2v14c0 1.1.9 2 2 2h14c1.1 0 2-.9 2-2V5c0-1.1-.9-2-2-2zM9 17H7v-7h2v7zm4 0h-2V7h2v10zm4 0h-2v-4h2v4z\"/>\n",
              "    </g>\n",
              "</svg>\n",
              "  </button>\n",
              "\n",
              "<style>\n",
              "  .colab-df-quickchart {\n",
              "      --bg-color: #E8F0FE;\n",
              "      --fill-color: #1967D2;\n",
              "      --hover-bg-color: #E2EBFA;\n",
              "      --hover-fill-color: #174EA6;\n",
              "      --disabled-fill-color: #AAA;\n",
              "      --disabled-bg-color: #DDD;\n",
              "  }\n",
              "\n",
              "  [theme=dark] .colab-df-quickchart {\n",
              "      --bg-color: #3B4455;\n",
              "      --fill-color: #D2E3FC;\n",
              "      --hover-bg-color: #434B5C;\n",
              "      --hover-fill-color: #FFFFFF;\n",
              "      --disabled-bg-color: #3B4455;\n",
              "      --disabled-fill-color: #666;\n",
              "  }\n",
              "\n",
              "  .colab-df-quickchart {\n",
              "    background-color: var(--bg-color);\n",
              "    border: none;\n",
              "    border-radius: 50%;\n",
              "    cursor: pointer;\n",
              "    display: none;\n",
              "    fill: var(--fill-color);\n",
              "    height: 32px;\n",
              "    padding: 0;\n",
              "    width: 32px;\n",
              "  }\n",
              "\n",
              "  .colab-df-quickchart:hover {\n",
              "    background-color: var(--hover-bg-color);\n",
              "    box-shadow: 0 1px 2px rgba(60, 64, 67, 0.3), 0 1px 3px 1px rgba(60, 64, 67, 0.15);\n",
              "    fill: var(--button-hover-fill-color);\n",
              "  }\n",
              "\n",
              "  .colab-df-quickchart-complete:disabled,\n",
              "  .colab-df-quickchart-complete:disabled:hover {\n",
              "    background-color: var(--disabled-bg-color);\n",
              "    fill: var(--disabled-fill-color);\n",
              "    box-shadow: none;\n",
              "  }\n",
              "\n",
              "  .colab-df-spinner {\n",
              "    border: 2px solid var(--fill-color);\n",
              "    border-color: transparent;\n",
              "    border-bottom-color: var(--fill-color);\n",
              "    animation:\n",
              "      spin 1s steps(1) infinite;\n",
              "  }\n",
              "\n",
              "  @keyframes spin {\n",
              "    0% {\n",
              "      border-color: transparent;\n",
              "      border-bottom-color: var(--fill-color);\n",
              "      border-left-color: var(--fill-color);\n",
              "    }\n",
              "    20% {\n",
              "      border-color: transparent;\n",
              "      border-left-color: var(--fill-color);\n",
              "      border-top-color: var(--fill-color);\n",
              "    }\n",
              "    30% {\n",
              "      border-color: transparent;\n",
              "      border-left-color: var(--fill-color);\n",
              "      border-top-color: var(--fill-color);\n",
              "      border-right-color: var(--fill-color);\n",
              "    }\n",
              "    40% {\n",
              "      border-color: transparent;\n",
              "      border-right-color: var(--fill-color);\n",
              "      border-top-color: var(--fill-color);\n",
              "    }\n",
              "    60% {\n",
              "      border-color: transparent;\n",
              "      border-right-color: var(--fill-color);\n",
              "    }\n",
              "    80% {\n",
              "      border-color: transparent;\n",
              "      border-right-color: var(--fill-color);\n",
              "      border-bottom-color: var(--fill-color);\n",
              "    }\n",
              "    90% {\n",
              "      border-color: transparent;\n",
              "      border-bottom-color: var(--fill-color);\n",
              "    }\n",
              "  }\n",
              "</style>\n",
              "\n",
              "  <script>\n",
              "    async function quickchart(key) {\n",
              "      const quickchartButtonEl =\n",
              "        document.querySelector('#' + key + ' button');\n",
              "      quickchartButtonEl.disabled = true;  // To prevent multiple clicks.\n",
              "      quickchartButtonEl.classList.add('colab-df-spinner');\n",
              "      try {\n",
              "        const charts = await google.colab.kernel.invokeFunction(\n",
              "            'suggestCharts', [key], {});\n",
              "      } catch (error) {\n",
              "        console.error('Error during call to suggestCharts:', error);\n",
              "      }\n",
              "      quickchartButtonEl.classList.remove('colab-df-spinner');\n",
              "      quickchartButtonEl.classList.add('colab-df-quickchart-complete');\n",
              "    }\n",
              "    (() => {\n",
              "      let quickchartButtonEl =\n",
              "        document.querySelector('#df-1a0c2ebb-e698-443c-ba2f-f71485af9bb8 button');\n",
              "      quickchartButtonEl.style.display =\n",
              "        google.colab.kernel.accessAllowed ? 'block' : 'none';\n",
              "    })();\n",
              "  </script>\n",
              "</div>\n",
              "    </div>\n",
              "  </div>\n"
            ]
          },
          "metadata": {},
          "execution_count": 26
        }
      ]
    },
    {
      "cell_type": "code",
      "execution_count": null,
      "metadata": {
        "id": "wk-yWyPMBWjs",
        "colab": {
          "base_uri": "https://localhost:8080/"
        },
        "outputId": "37090c1f-f33e-4de0-d6e8-8a11970cab9e"
      },
      "outputs": [
        {
          "output_type": "stream",
          "name": "stdout",
          "text": [
            "<class 'pandas.core.frame.DataFrame'>\n",
            "Int64Index: 584 entries, 2700 to 1842\n",
            "Data columns (total 6 columns):\n",
            " #   Column     Non-Null Count  Dtype \n",
            "---  ------     --------------  ----- \n",
            " 0   nome       584 non-null    object\n",
            " 1   descricao  584 non-null    object\n",
            " 2   categoria  584 non-null    object\n",
            " 3   texto      584 non-null    object\n",
            " 4   topico     584 non-null    int64 \n",
            " 5   categ_cod  584 non-null    int64 \n",
            "dtypes: int64(2), object(4)\n",
            "memory usage: 31.9+ KB\n"
          ]
        }
      ],
      "source": [
        "df_test.info()"
      ]
    },
    {
      "cell_type": "code",
      "execution_count": null,
      "metadata": {
        "id": "bLeIHBc0BWhS",
        "colab": {
          "base_uri": "https://localhost:8080/"
        },
        "outputId": "dc02b017-c644-45f9-c6d9-3f9133040215"
      },
      "outputs": [
        {
          "output_type": "stream",
          "name": "stdout",
          "text": [
            "0.6575342465753424\n"
          ]
        }
      ],
      "source": [
        "from sklearn.metrics import accuracy_score, confusion_matrix\n",
        "\n",
        "print(accuracy_score(df_test.categ_cod, df_test.topico))"
      ]
    },
    {
      "cell_type": "code",
      "execution_count": null,
      "metadata": {
        "id": "EfQrsrrgEqYQ",
        "colab": {
          "base_uri": "https://localhost:8080/",
          "height": 622
        },
        "outputId": "08071773-9e39-4a6b-8dd0-aca7ba800ac8"
      },
      "outputs": [
        {
          "output_type": "execute_result",
          "data": {
            "text/plain": [
              "<Axes: >"
            ]
          },
          "metadata": {},
          "execution_count": 29
        },
        {
          "output_type": "display_data",
          "data": {
            "text/plain": [
              "<Figure size 1000x700 with 2 Axes>"
            ],
            "image/png": "[encoded data removed]"
          },
          "metadata": {}
        }
      ],
      "source": [
        "import seaborn as sns\n",
        "import matplotlib.pyplot as plt\n",
        "\n",
        "matrix = confusion_matrix(df_test.categ_cod, df_test.topico)\n",
        "\n",
        "df_cm = pd.DataFrame(matrix, index=list('0123'),\n",
        "                  columns=list('0123'))\n",
        "plt.figure(figsize = (10,7))\n",
        "sns.heatmap(df_cm, annot=True)"
      ]
    },
    {
      "cell_type": "markdown",
      "source": [
        "## ***Outros exemplos***"
      ],
      "metadata": {
        "id": "fSxsDKLypbtU"
      }
    },
    {
      "cell_type": "markdown",
      "metadata": {
        "id": "O170Q6rKJBbC"
      },
      "source": [
        "<font size=4>\n",
        "<b>max_df:</b> float in range [0.0, 1.0] or int, default=1.0<br/>\n",
        "When building the vocabulary ignore terms that have a document frequency strictly higher than the given threshold (corpus-specific stop words). If float, the parameter represents a proportion of documents, integer absolute counts. This parameter is ignored if vocabulary is not None.<br/>\n",
        "Google T: Ao criar o vocabulário, ignore os termos que tenham uma frequência de documento estritamente maior que o limite fornecido (palavras de parada específicas do corpus). Se flutuante, o parâmetro representa uma proporção de documentos, número absoluto de contagens. Este parâmetro será ignorado se o vocabulário não for Nenhum.\n",
        "<br/>\n",
        "<br/>\n",
        "\n",
        "<b>min_df:</b> float in range [0.0, 1.0] or int, default=1<br/>\n",
        "When building the vocabulary ignore terms that have a document frequency strictly lower than the given threshold. This value is also called cut-off in the literature. If float, the parameter represents a proportion of documents, integer absolute counts. This parameter is ignored if vocabulary is not None.<br/>\n",
        "Google T: Ao criar o vocabulário, ignore os termos que tenham uma frequência de documento estritamente menor que o limite especificado. Esse valor também é chamado de corte na literatura. Se flutuante, o parâmetro representa uma proporção de documentos, número absoluto de contagens. Este parâmetro será ignorado se o vocabulário não for Nenhum.\n",
        "</font>"
      ]
    },
    {
      "cell_type": "code",
      "source": [
        "df_train\n",
        "df_test"
      ],
      "metadata": {
        "id": "TssmYZfnpzuJ",
        "colab": {
          "base_uri": "https://localhost:8080/",
          "height": 579
        },
        "outputId": "8ee81e87-2dca-44e6-bae6-b12fd507a251"
      },
      "execution_count": null,
      "outputs": [
        {
          "output_type": "execute_result",
          "data": {
            "text/plain": [
              "                                                   nome  \\\n",
              "2700   Estojo Duo Iluminador E Bronzer Belle Angel M...   \n",
              "1297   Patrulha Canina Carrinhos De Fricção 6 Person...   \n",
              "3162   Pokemon Ultra Moon Nintendo 3ds Midia Fisica ...   \n",
              "2895                           Kite Pincel  12 Unidade    \n",
              "2226   Maleta Grande P/ Maquiagem Profissional Rodin...   \n",
              "...                                                 ...   \n",
              "3058   Maleta Maquiagem 3d Jasmyne 105 Batons Sombra...   \n",
              "3110   Cartão Presente Steam Gift Card R$ 200 Reais ...   \n",
              "1364   Kit Com 2 Pista Mágica Maluca Carros 3 Com Lu...   \n",
              "641    Mais Escuro Cinquenta Tons Mais Escuros Pelos...   \n",
              "1842                   Boneco Dragon Ball Z Son Gokou     \n",
              "\n",
              "                                              descricao  categoria  \\\n",
              "2700  DUO ILUMINADOR E BRONZER BELLE ANGEL - B025O D...  maquiagem   \n",
              "1297  Kit carrinhos da Patrulha canina Tamanho: Cerc...  brinquedo   \n",
              "3162  #Nossos produtos são NOVOS e 100% ORIGINAIS#  ...       game   \n",
              "2895  esta alta qualidade Punho de madeira Escova Co...  maquiagem   \n",
              "2226  FOTOS REAIS DO PRODUTO - ENVIAMOS SUA MALETA C...  maquiagem   \n",
              "...                                                 ...        ...   \n",
              "3058  Maleta Jasmyne-32 sombras 3D ou matte-06 blush...  maquiagem   \n",
              "3110  .:: VOCÊ ESTÁ COMPRANDO COM A VR GAMERS ::.EST...       game   \n",
              "1364  Pista Montável Relâmpago Mcqueen Jackson Storm...  brinquedo   \n",
              "641   Sinopse:E L James revisita Cinquenta tons com ...      livro   \n",
              "1842                                       Produto novo  brinquedo   \n",
              "\n",
              "                                                  texto  topico  categ_cod  \n",
              "2700   Estojo Duo Iluminador E Bronzer Belle Angel M...       0          0  \n",
              "1297   Patrulha Canina Carrinhos De Fricção 6 Person...       0          2  \n",
              "3162   Pokemon Ultra Moon Nintendo 3ds Midia Fisica ...       3          3  \n",
              "2895   Kite Pincel  12 Unidade  esta alta qualidade ...       0          0  \n",
              "2226   Maleta Grande P/ Maquiagem Profissional Rodin...       0          0  \n",
              "...                                                 ...     ...        ...  \n",
              "3058   Maleta Maquiagem 3d Jasmyne 105 Batons Sombra...       0          0  \n",
              "3110   Cartão Presente Steam Gift Card R$ 200 Reais ...       3          3  \n",
              "1364   Kit Com 2 Pista Mágica Maluca Carros 3 Com Lu...       0          2  \n",
              "641    Mais Escuro Cinquenta Tons Mais Escuros Pelos...       0          1  \n",
              "1842      Boneco Dragon Ball Z Son Gokou   Produto novo       1          2  \n",
              "\n",
              "[584 rows x 6 columns]"
            ],
            "text/html": [
              "\n",
              "  <div id=\"df-4e2e7e09-1439-451b-b801-3b78cad8f66e\" class=\"colab-df-container\">\n",
              "    <div>\n",
              "<style scoped>\n",
              "    .dataframe tbody tr th:only-of-type {\n",
              "        vertical-align: middle;\n",
              "    }\n",
              "\n",
              "    .dataframe tbody tr th {\n",
              "        vertical-align: top;\n",
              "    }\n",
              "\n",
              "    .dataframe thead th {\n",
              "        text-align: right;\n",
              "    }\n",
              "</style>\n",
              "<table border=\"1\" class=\"dataframe\">\n",
              "  <thead>\n",
              "    <tr style=\"text-align: right;\">\n",
              "      <th></th>\n",
              "      <th>nome</th>\n",
              "      <th>descricao</th>\n",
              "      <th>categoria</th>\n",
              "      <th>texto</th>\n",
              "      <th>topico</th>\n",
              "      <th>categ_cod</th>\n",
              "    </tr>\n",
              "  </thead>\n",
              "  <tbody>\n",
              "    <tr>\n",
              "      <th>2700</th>\n",
              "      <td>Estojo Duo Iluminador E Bronzer Belle Angel M...</td>\n",
              "      <td>DUO ILUMINADOR E BRONZER BELLE ANGEL - B025O D...</td>\n",
              "      <td>maquiagem</td>\n",
              "      <td>Estojo Duo Iluminador E Bronzer Belle Angel M...</td>\n",
              "      <td>0</td>\n",
              "      <td>0</td>\n",
              "    </tr>\n",
              "    <tr>\n",
              "      <th>1297</th>\n",
              "      <td>Patrulha Canina Carrinhos De Fricção 6 Person...</td>\n",
              "      <td>Kit carrinhos da Patrulha canina Tamanho: Cerc...</td>\n",
              "      <td>brinquedo</td>\n",
              "      <td>Patrulha Canina Carrinhos De Fricção 6 Person...</td>\n",
              "      <td>0</td>\n",
              "      <td>2</td>\n",
              "    </tr>\n",
              "    <tr>\n",
              "      <th>3162</th>\n",
              "      <td>Pokemon Ultra Moon Nintendo 3ds Midia Fisica ...</td>\n",
              "      <td>#Nossos produtos são NOVOS e 100% ORIGINAIS#  ...</td>\n",
              "      <td>game</td>\n",
              "      <td>Pokemon Ultra Moon Nintendo 3ds Midia Fisica ...</td>\n",
              "      <td>3</td>\n",
              "      <td>3</td>\n",
              "    </tr>\n",
              "    <tr>\n",
              "      <th>2895</th>\n",
              "      <td>Kite Pincel  12 Unidade</td>\n",
              "      <td>esta alta qualidade Punho de madeira Escova Co...</td>\n",
              "      <td>maquiagem</td>\n",
              "      <td>Kite Pincel  12 Unidade  esta alta qualidade ...</td>\n",
              "      <td>0</td>\n",
              "      <td>0</td>\n",
              "    </tr>\n",
              "    <tr>\n",
              "      <th>2226</th>\n",
              "      <td>Maleta Grande P/ Maquiagem Profissional Rodin...</td>\n",
              "      <td>FOTOS REAIS DO PRODUTO - ENVIAMOS SUA MALETA C...</td>\n",
              "      <td>maquiagem</td>\n",
              "      <td>Maleta Grande P/ Maquiagem Profissional Rodin...</td>\n",
              "      <td>0</td>\n",
              "      <td>0</td>\n",
              "    </tr>\n",
              "    <tr>\n",
              "      <th>...</th>\n",
              "      <td>...</td>\n",
              "      <td>...</td>\n",
              "      <td>...</td>\n",
              "      <td>...</td>\n",
              "      <td>...</td>\n",
              "      <td>...</td>\n",
              "    </tr>\n",
              "    <tr>\n",
              "      <th>3058</th>\n",
              "      <td>Maleta Maquiagem 3d Jasmyne 105 Batons Sombra...</td>\n",
              "      <td>Maleta Jasmyne-32 sombras 3D ou matte-06 blush...</td>\n",
              "      <td>maquiagem</td>\n",
              "      <td>Maleta Maquiagem 3d Jasmyne 105 Batons Sombra...</td>\n",
              "      <td>0</td>\n",
              "      <td>0</td>\n",
              "    </tr>\n",
              "    <tr>\n",
              "      <th>3110</th>\n",
              "      <td>Cartão Presente Steam Gift Card R$ 200 Reais ...</td>\n",
              "      <td>.:: VOCÊ ESTÁ COMPRANDO COM A VR GAMERS ::.EST...</td>\n",
              "      <td>game</td>\n",
              "      <td>Cartão Presente Steam Gift Card R$ 200 Reais ...</td>\n",
              "      <td>3</td>\n",
              "      <td>3</td>\n",
              "    </tr>\n",
              "    <tr>\n",
              "      <th>1364</th>\n",
              "      <td>Kit Com 2 Pista Mágica Maluca Carros 3 Com Lu...</td>\n",
              "      <td>Pista Montável Relâmpago Mcqueen Jackson Storm...</td>\n",
              "      <td>brinquedo</td>\n",
              "      <td>Kit Com 2 Pista Mágica Maluca Carros 3 Com Lu...</td>\n",
              "      <td>0</td>\n",
              "      <td>2</td>\n",
              "    </tr>\n",
              "    <tr>\n",
              "      <th>641</th>\n",
              "      <td>Mais Escuro Cinquenta Tons Mais Escuros Pelos...</td>\n",
              "      <td>Sinopse:E L James revisita Cinquenta tons com ...</td>\n",
              "      <td>livro</td>\n",
              "      <td>Mais Escuro Cinquenta Tons Mais Escuros Pelos...</td>\n",
              "      <td>0</td>\n",
              "      <td>1</td>\n",
              "    </tr>\n",
              "    <tr>\n",
              "      <th>1842</th>\n",
              "      <td>Boneco Dragon Ball Z Son Gokou</td>\n",
              "      <td>Produto novo</td>\n",
              "      <td>brinquedo</td>\n",
              "      <td>Boneco Dragon Ball Z Son Gokou   Produto novo</td>\n",
              "      <td>1</td>\n",
              "      <td>2</td>\n",
              "    </tr>\n",
              "  </tbody>\n",
              "</table>\n",
              "<p>584 rows × 6 columns</p>\n",
              "</div>\n",
              "    <div class=\"colab-df-buttons\">\n",
              "\n",
              "  <div class=\"colab-df-container\">\n",
              "    <button class=\"colab-df-convert\" onclick=\"convertToInteractive('df-4e2e7e09-1439-451b-b801-3b78cad8f66e')\"\n",
              "            title=\"Convert this dataframe to an interactive table.\"\n",
              "            style=\"display:none;\">\n",
              "\n",
              "  <svg xmlns=\"http://www.w3.org/2000/svg\" height=\"24px\" viewBox=\"0 -960 960 960\">\n",
              "    <path d=\"M120-120v-720h720v720H120Zm60-500h600v-160H180v160Zm220 220h160v-160H400v160Zm0 220h160v-160H400v160ZM180-400h160v-160H180v160Zm440 0h160v-160H620v160ZM180-180h160v-160H180v160Zm440 0h160v-160H620v160Z\"/>\n",
              "  </svg>\n",
              "    </button>\n",
              "\n",
              "  <style>\n",
              "    .colab-df-container {\n",
              "      display:flex;\n",
              "      gap: 12px;\n",
              "    }\n",
              "\n",
              "    .colab-df-convert {\n",
              "      background-color: #E8F0FE;\n",
              "      border: none;\n",
              "      border-radius: 50%;\n",
              "      cursor: pointer;\n",
              "      display: none;\n",
              "      fill: #1967D2;\n",
              "      height: 32px;\n",
              "      padding: 0 0 0 0;\n",
              "      width: 32px;\n",
              "    }\n",
              "\n",
              "    .colab-df-convert:hover {\n",
              "      background-color: #E2EBFA;\n",
              "      box-shadow: 0px 1px 2px rgba(60, 64, 67, 0.3), 0px 1px 3px 1px rgba(60, 64, 67, 0.15);\n",
              "      fill: #174EA6;\n",
              "    }\n",
              "\n",
              "    .colab-df-buttons div {\n",
              "      margin-bottom: 4px;\n",
              "    }\n",
              "\n",
              "    [theme=dark] .colab-df-convert {\n",
              "      background-color: #3B4455;\n",
              "      fill: #D2E3FC;\n",
              "    }\n",
              "\n",
              "    [theme=dark] .colab-df-convert:hover {\n",
              "      background-color: #434B5C;\n",
              "      box-shadow: 0px 1px 3px 1px rgba(0, 0, 0, 0.15);\n",
              "      filter: drop-shadow(0px 1px 2px rgba(0, 0, 0, 0.3));\n",
              "      fill: #FFFFFF;\n",
              "    }\n",
              "  </style>\n",
              "\n",
              "    <script>\n",
              "      const buttonEl =\n",
              "        document.querySelector('#df-4e2e7e09-1439-451b-b801-3b78cad8f66e button.colab-df-convert');\n",
              "      buttonEl.style.display =\n",
              "        google.colab.kernel.accessAllowed ? 'block' : 'none';\n",
              "\n",
              "      async function convertToInteractive(key) {\n",
              "        const element = document.querySelector('#df-4e2e7e09-1439-451b-b801-3b78cad8f66e');\n",
              "        const dataTable =\n",
              "          await google.colab.kernel.invokeFunction('convertToInteractive',\n",
              "                                                    [key], {});\n",
              "        if (!dataTable) return;\n",
              "\n",
              "        const docLinkHtml = 'Like what you see? Visit the ' +\n",
              "          '<a target=\"_blank\" href=https://colab.research.google.com/notebooks/data_table.ipynb>data table notebook</a>'\n",
              "          + ' to learn more about interactive tables.';\n",
              "        element.innerHTML = '';\n",
              "        dataTable['output_type'] = 'display_data';\n",
              "        await google.colab.output.renderOutput(dataTable, element);\n",
              "        const docLink = document.createElement('div');\n",
              "        docLink.innerHTML = docLinkHtml;\n",
              "        element.appendChild(docLink);\n",
              "      }\n",
              "    </script>\n",
              "  </div>\n",
              "\n",
              "\n",
              "<div id=\"df-1e2cb809-42db-4e56-807b-caf52e8e4e2c\">\n",
              "  <button class=\"colab-df-quickchart\" onclick=\"quickchart('df-1e2cb809-42db-4e56-807b-caf52e8e4e2c')\"\n",
              "            title=\"Suggest charts\"\n",
              "            style=\"display:none;\">\n",
              "\n",
              "<svg xmlns=\"http://www.w3.org/2000/svg\" height=\"24px\"viewBox=\"0 0 24 24\"\n",
              "     width=\"24px\">\n",
              "    <g>\n",
              "        <path d=\"M19 3H5c-1.1 0-2 .9-2 2v14c0 1.1.9 2 2 2h14c1.1 0 2-.9 2-2V5c0-1.1-.9-2-2-2zM9 17H7v-7h2v7zm4 0h-2V7h2v10zm4 0h-2v-4h2v4z\"/>\n",
              "    </g>\n",
              "</svg>\n",
              "  </button>\n",
              "\n",
              "<style>\n",
              "  .colab-df-quickchart {\n",
              "      --bg-color: #E8F0FE;\n",
              "      --fill-color: #1967D2;\n",
              "      --hover-bg-color: #E2EBFA;\n",
              "      --hover-fill-color: #174EA6;\n",
              "      --disabled-fill-color: #AAA;\n",
              "      --disabled-bg-color: #DDD;\n",
              "  }\n",
              "\n",
              "  [theme=dark] .colab-df-quickchart {\n",
              "      --bg-color: #3B4455;\n",
              "      --fill-color: #D2E3FC;\n",
              "      --hover-bg-color: #434B5C;\n",
              "      --hover-fill-color: #FFFFFF;\n",
              "      --disabled-bg-color: #3B4455;\n",
              "      --disabled-fill-color: #666;\n",
              "  }\n",
              "\n",
              "  .colab-df-quickchart {\n",
              "    background-color: var(--bg-color);\n",
              "    border: none;\n",
              "    border-radius: 50%;\n",
              "    cursor: pointer;\n",
              "    display: none;\n",
              "    fill: var(--fill-color);\n",
              "    height: 32px;\n",
              "    padding: 0;\n",
              "    width: 32px;\n",
              "  }\n",
              "\n",
              "  .colab-df-quickchart:hover {\n",
              "    background-color: var(--hover-bg-color);\n",
              "    box-shadow: 0 1px 2px rgba(60, 64, 67, 0.3), 0 1px 3px 1px rgba(60, 64, 67, 0.15);\n",
              "    fill: var(--button-hover-fill-color);\n",
              "  }\n",
              "\n",
              "  .colab-df-quickchart-complete:disabled,\n",
              "  .colab-df-quickchart-complete:disabled:hover {\n",
              "    background-color: var(--disabled-bg-color);\n",
              "    fill: var(--disabled-fill-color);\n",
              "    box-shadow: none;\n",
              "  }\n",
              "\n",
              "  .colab-df-spinner {\n",
              "    border: 2px solid var(--fill-color);\n",
              "    border-color: transparent;\n",
              "    border-bottom-color: var(--fill-color);\n",
              "    animation:\n",
              "      spin 1s steps(1) infinite;\n",
              "  }\n",
              "\n",
              "  @keyframes spin {\n",
              "    0% {\n",
              "      border-color: transparent;\n",
              "      border-bottom-color: var(--fill-color);\n",
              "      border-left-color: var(--fill-color);\n",
              "    }\n",
              "    20% {\n",
              "      border-color: transparent;\n",
              "      border-left-color: var(--fill-color);\n",
              "      border-top-color: var(--fill-color);\n",
              "    }\n",
              "    30% {\n",
              "      border-color: transparent;\n",
              "      border-left-color: var(--fill-color);\n",
              "      border-top-color: var(--fill-color);\n",
              "      border-right-color: var(--fill-color);\n",
              "    }\n",
              "    40% {\n",
              "      border-color: transparent;\n",
              "      border-right-color: var(--fill-color);\n",
              "      border-top-color: var(--fill-color);\n",
              "    }\n",
              "    60% {\n",
              "      border-color: transparent;\n",
              "      border-right-color: var(--fill-color);\n",
              "    }\n",
              "    80% {\n",
              "      border-color: transparent;\n",
              "      border-right-color: var(--fill-color);\n",
              "      border-bottom-color: var(--fill-color);\n",
              "    }\n",
              "    90% {\n",
              "      border-color: transparent;\n",
              "      border-bottom-color: var(--fill-color);\n",
              "    }\n",
              "  }\n",
              "</style>\n",
              "\n",
              "  <script>\n",
              "    async function quickchart(key) {\n",
              "      const quickchartButtonEl =\n",
              "        document.querySelector('#' + key + ' button');\n",
              "      quickchartButtonEl.disabled = true;  // To prevent multiple clicks.\n",
              "      quickchartButtonEl.classList.add('colab-df-spinner');\n",
              "      try {\n",
              "        const charts = await google.colab.kernel.invokeFunction(\n",
              "            'suggestCharts', [key], {});\n",
              "      } catch (error) {\n",
              "        console.error('Error during call to suggestCharts:', error);\n",
              "      }\n",
              "      quickchartButtonEl.classList.remove('colab-df-spinner');\n",
              "      quickchartButtonEl.classList.add('colab-df-quickchart-complete');\n",
              "    }\n",
              "    (() => {\n",
              "      let quickchartButtonEl =\n",
              "        document.querySelector('#df-1e2cb809-42db-4e56-807b-caf52e8e4e2c button');\n",
              "      quickchartButtonEl.style.display =\n",
              "        google.colab.kernel.accessAllowed ? 'block' : 'none';\n",
              "    })();\n",
              "  </script>\n",
              "</div>\n",
              "    </div>\n",
              "  </div>\n"
            ]
          },
          "metadata": {},
          "execution_count": 30
        }
      ]
    },
    {
      "cell_type": "code",
      "source": [
        "from sklearn.feature_extraction.text import TfidfVectorizer\n",
        "from sklearn.model_selection import train_test_split\n",
        "\n",
        "stops = nltk.corpus.stopwords.words('portuguese')\n",
        "\n",
        "vect = TfidfVectorizer(ngram_range=(2,2), stop_words=stops, max_df=0.9, min_df=2)\n",
        "vect.fit(df_train.texto)\n",
        "text_vect_train = vect.transform(df_train.texto)\n",
        "\n",
        "LDA2 = LatentDirichletAllocation(n_components=4,random_state=42)\n",
        "LDA2.fit(text_vect_train)"
      ],
      "metadata": {
        "id": "lwMIbcT4pjnY",
        "colab": {
          "base_uri": "https://localhost:8080/",
          "height": 74
        },
        "outputId": "e90726cc-d781-479b-add6-60f30ce82bea"
      },
      "execution_count": null,
      "outputs": [
        {
          "output_type": "execute_result",
          "data": {
            "text/plain": [
              "LatentDirichletAllocation(n_components=4, random_state=42)"
            ],
            "text/html": [
              "<style>#sk-container-id-2 {color: black;background-color: white;}#sk-container-id-2 pre{padding: 0;}#sk-container-id-2 div.sk-toggleable {background-color: white;}#sk-container-id-2 label.sk-toggleable__label {cursor: pointer;display: block;width: 100%;margin-bottom: 0;padding: 0.3em;box-sizing: border-box;text-align: center;}#sk-container-id-2 label.sk-toggleable__label-arrow:before {content: \"▸\";float: left;margin-right: 0.25em;color: #696969;}#sk-container-id-2 label.sk-toggleable__label-arrow:hover:before {color: black;}#sk-container-id-2 div.sk-estimator:hover label.sk-toggleable__label-arrow:before {color: black;}#sk-container-id-2 div.sk-toggleable__content {max-height: 0;max-width: 0;overflow: hidden;text-align: left;background-color: #f0f8ff;}#sk-container-id-2 div.sk-toggleable__content pre {margin: 0.2em;color: black;border-radius: 0.25em;background-color: #f0f8ff;}#sk-container-id-2 input.sk-toggleable__control:checked~div.sk-toggleable__content {max-height: 200px;max-width: 100%;overflow: auto;}#sk-container-id-2 input.sk-toggleable__control:checked~label.sk-toggleable__label-arrow:before {content: \"▾\";}#sk-container-id-2 div.sk-estimator input.sk-toggleable__control:checked~label.sk-toggleable__label {background-color: #d4ebff;}#sk-container-id-2 div.sk-label input.sk-toggleable__control:checked~label.sk-toggleable__label {background-color: #d4ebff;}#sk-container-id-2 input.sk-hidden--visually {border: 0;clip: rect(1px 1px 1px 1px);clip: rect(1px, 1px, 1px, 1px);height: 1px;margin: -1px;overflow: hidden;padding: 0;position: absolute;width: 1px;}#sk-container-id-2 div.sk-estimator {font-family: monospace;background-color: #f0f8ff;border: 1px dotted black;border-radius: 0.25em;box-sizing: border-box;margin-bottom: 0.5em;}#sk-container-id-2 div.sk-estimator:hover {background-color: #d4ebff;}#sk-container-id-2 div.sk-parallel-item::after {content: \"\";width: 100%;border-bottom: 1px solid gray;flex-grow: 1;}#sk-container-id-2 div.sk-label:hover label.sk-toggleable__label {background-color: #d4ebff;}#sk-container-id-2 div.sk-serial::before {content: \"\";position: absolute;border-left: 1px solid gray;box-sizing: border-box;top: 0;bottom: 0;left: 50%;z-index: 0;}#sk-container-id-2 div.sk-serial {display: flex;flex-direction: column;align-items: center;background-color: white;padding-right: 0.2em;padding-left: 0.2em;position: relative;}#sk-container-id-2 div.sk-item {position: relative;z-index: 1;}#sk-container-id-2 div.sk-parallel {display: flex;align-items: stretch;justify-content: center;background-color: white;position: relative;}#sk-container-id-2 div.sk-item::before, #sk-container-id-2 div.sk-parallel-item::before {content: \"\";position: absolute;border-left: 1px solid gray;box-sizing: border-box;top: 0;bottom: 0;left: 50%;z-index: -1;}#sk-container-id-2 div.sk-parallel-item {display: flex;flex-direction: column;z-index: 1;position: relative;background-color: white;}#sk-container-id-2 div.sk-parallel-item:first-child::after {align-self: flex-end;width: 50%;}#sk-container-id-2 div.sk-parallel-item:last-child::after {align-self: flex-start;width: 50%;}#sk-container-id-2 div.sk-parallel-item:only-child::after {width: 0;}#sk-container-id-2 div.sk-dashed-wrapped {border: 1px dashed gray;margin: 0 0.4em 0.5em 0.4em;box-sizing: border-box;padding-bottom: 0.4em;background-color: white;}#sk-container-id-2 div.sk-label label {font-family: monospace;font-weight: bold;display: inline-block;line-height: 1.2em;}#sk-container-id-2 div.sk-label-container {text-align: center;}#sk-container-id-2 div.sk-container {/* jupyter's `normalize.less` sets `[hidden] { display: none; }` but bootstrap.min.css set `[hidden] { display: none !important; }` so we also need the `!important` here to be able to override the default hidden behavior on the sphinx rendered scikit-learn.org. See: https://github.com/scikit-learn/scikit-learn/issues/21755 */display: inline-block !important;position: relative;}#sk-container-id-2 div.sk-text-repr-fallback {display: none;}</style><div id=\"sk-container-id-2\" class=\"sk-top-container\"><div class=\"sk-text-repr-fallback\"><pre>LatentDirichletAllocation(n_components=4, random_state=42)</pre><b>In a Jupyter environment, please rerun this cell to show the HTML representation or trust the notebook. <br />On GitHub, the HTML representation is unable to render, please try loading this page with nbviewer.org.</b></div><div class=\"sk-container\" hidden><div class=\"sk-item\"><div class=\"sk-estimator sk-toggleable\"><input class=\"sk-toggleable__control sk-hidden--visually\" id=\"sk-estimator-id-2\" type=\"checkbox\" checked><label for=\"sk-estimator-id-2\" class=\"sk-toggleable__label sk-toggleable__label-arrow\">LatentDirichletAllocation</label><div class=\"sk-toggleable__content\"><pre>LatentDirichletAllocation(n_components=4, random_state=42)</pre></div></div></div></div></div>"
            ]
          },
          "metadata": {},
          "execution_count": 31
        }
      ]
    },
    {
      "cell_type": "code",
      "source": [
        "# top palavras dos tópicos\n",
        "terms = vect.get_feature_names_out()\n",
        "\n",
        "for index, topic in enumerate(LDA2.components_):\n",
        "    terms_comp = zip(terms, topic)\n",
        "    sorted_terms = sorted(terms_comp, key= lambda x:x[1], reverse=True)[:15]\n",
        "    print(\"THE TOP 15 WORDS FOR TOPIC # \"+str(index)+\": \")\n",
        "    #print(sorted_terms)\n",
        "    print([t[0] for t in sorted_terms])\n",
        "    print('\\n')"
      ],
      "metadata": {
        "id": "vHay3Zjwpjbt",
        "colab": {
          "base_uri": "https://localhost:8080/"
        },
        "outputId": "ae0de890-644f-43d7-d98e-59d65360f9e4"
      },
      "execution_count": null,
      "outputs": [
        {
          "output_type": "stream",
          "name": "stdout",
          "text": [
            "THE TOP 15 WORDS FOR TOPIC # 0: \n",
            "['dragon ball', 'produto novo', '30 cm', 'harry potter', 'boneco dragon', 'delineador gel', 'luz led', 'código barras', 'son gokou', 'envio imediato', 'nacional código', 'origem nacional', 'novo físico', 'ed encadernação', 'ball son']\n",
            "\n",
            "\n",
            "THE TOP 15 WORDS FOR TOPIC # 1: \n",
            "['pronta entrega', 'cabo madeira', 'mercado livre', 'call of', 'madeira cerdas', 'cílios postiços', 'of duty', 'garota calendário', 'cerdas macias', 'mia vai', 'cílios naturais', 'macias 19cm', 'duas partes', 'mídia digital', 'ruby rose']\n",
            "\n",
            "\n",
            "THE TOP 15 WORDS FOR TOPIC # 2: \n",
            "['atacado wow', 'wow shop', 'vendemos atacado', 'frete produtos', 'produtos vendemos', '100 reaismandamos', 'entregafotos 100', 'original completo', 'aproximadamente 24', 'feito frete', 'reaismandamos aproximadamente', 'retirar endereço', 'ruby rose', 'vendedor combinar', 'combinar vendedor']\n",
            "\n",
            "\n",
            "THE TOP 15 WORDS FOR TOPIC # 3: \n",
            "['mercado envios', 'mercado pago', 'prazo envio', 'prazo entrega', 'mercado livre', 'gta games', 'dragon ball', 'pronta entrega', 'produto novo', 'frete grátis', 'pagamento mercado', 'ed encadernação', 'dias úteis', 'código barras', 'todos produtos']\n",
            "\n",
            "\n"
          ]
        }
      ]
    },
    {
      "cell_type": "code",
      "source": [
        "# aplica o modelo de analise de tópicos na base de teste\n",
        "# vetorização\n",
        "text_vect_test = vect.transform(df_test.texto)\n",
        "\n",
        "# scoragem\n",
        "results = LDA2.transform(text_vect_test)"
      ],
      "metadata": {
        "id": "eAxvP78NqLDH"
      },
      "execution_count": null,
      "outputs": []
    },
    {
      "cell_type": "code",
      "source": [
        "df_test['topico'] = results.argmax(axis=1)\n",
        "\n",
        "df_test['categ_cod'] = df_test.categoria.map(\n",
        "   {'maquiagem': 0, 'brinquedo':1, 'game': 3, 'livro': 2}\n",
        ")\n",
        "\n",
        "df_test['categ_cod'] = df_test.categoria.map(\n",
        "   {'maquiagem': 3, 'brinquedo':0, 'game': 1, 'livro': 2}\n",
        ")\n",
        "\n",
        "\n",
        "\n",
        "print(accuracy_score(df_test.categ_cod, df_test.topico))"
      ],
      "metadata": {
        "id": "CElFJMRpqKXt",
        "colab": {
          "base_uri": "https://localhost:8080/"
        },
        "outputId": "86007d5b-3082-4fdc-d1eb-99025c789329"
      },
      "execution_count": null,
      "outputs": [
        {
          "output_type": "stream",
          "name": "stdout",
          "text": [
            "0.3202054794520548\n"
          ]
        }
      ]
    },
    {
      "cell_type": "code",
      "source": [
        "#df_test['categ_cod'] = df_test.categ_cod.astype(np.int64)"
      ],
      "metadata": {
        "id": "hHsXP8oSpjUA"
      },
      "execution_count": null,
      "outputs": []
    },
    {
      "cell_type": "code",
      "source": [
        "import seaborn as sns\n",
        "import matplotlib.pyplot as plt\n",
        "\n",
        "matrix = confusion_matrix(df_test.categ_cod, df_test.topico)\n",
        "\n",
        "df_cm = pd.DataFrame(matrix, index=list('0123'),\n",
        "                  columns=list('0123'))\n",
        "plt.figure(figsize = (10,7))\n",
        "sns.heatmap(df_cm, annot=True)"
      ],
      "metadata": {
        "id": "S4JykaQepjK5",
        "colab": {
          "base_uri": "https://localhost:8080/",
          "height": 616
        },
        "outputId": "e5c39805-b2e4-4e78-a6f1-986d82a9061a"
      },
      "execution_count": null,
      "outputs": [
        {
          "output_type": "execute_result",
          "data": {
            "text/plain": [
              "<Axes: >"
            ]
          },
          "metadata": {},
          "execution_count": 39
        },
        {
          "output_type": "display_data",
          "data": {
            "text/plain": [
              "<Figure size 1000x700 with 2 Axes>"
            ],
            "image/png": "[encoded data removed]"
          },
          "metadata": {}
        }
      ]
    },
    {
      "cell_type": "code",
      "source": [],
      "metadata": {
        "id": "pVrcDfsGpjHw"
      },
      "execution_count": null,
      "outputs": []
    },
    {
      "cell_type": "code",
      "source": [
        "# Analisando com 8 tópicos\n",
        "from sklearn.feature_extraction.text import TfidfVectorizer\n",
        "from sklearn.model_selection import train_test_split\n",
        "\n",
        "stops = nltk.corpus.stopwords.words('portuguese')\n",
        "\n",
        "vect = TfidfVectorizer(ngram_range=(1,1), stop_words=stops)\n",
        "vect.fit(df_train.texto)\n",
        "text_vect_train = vect.transform(df_train.texto)\n",
        "\n",
        "LDA3 = LatentDirichletAllocation(n_components=8,random_state=42)\n",
        "LDA3.fit(text_vect_train)"
      ],
      "metadata": {
        "id": "Amv8t7pDq0u6",
        "colab": {
          "base_uri": "https://localhost:8080/",
          "height": 74
        },
        "outputId": "8ccb2295-57b2-4b58-ea73-41fa3d58c1c9"
      },
      "execution_count": null,
      "outputs": [
        {
          "output_type": "execute_result",
          "data": {
            "text/plain": [
              "LatentDirichletAllocation(n_components=8, random_state=42)"
            ],
            "text/html": [
              "<style>#sk-container-id-4 {color: black;background-color: white;}#sk-container-id-4 pre{padding: 0;}#sk-container-id-4 div.sk-toggleable {background-color: white;}#sk-container-id-4 label.sk-toggleable__label {cursor: pointer;display: block;width: 100%;margin-bottom: 0;padding: 0.3em;box-sizing: border-box;text-align: center;}#sk-container-id-4 label.sk-toggleable__label-arrow:before {content: \"▸\";float: left;margin-right: 0.25em;color: #696969;}#sk-container-id-4 label.sk-toggleable__label-arrow:hover:before {color: black;}#sk-container-id-4 div.sk-estimator:hover label.sk-toggleable__label-arrow:before {color: black;}#sk-container-id-4 div.sk-toggleable__content {max-height: 0;max-width: 0;overflow: hidden;text-align: left;background-color: #f0f8ff;}#sk-container-id-4 div.sk-toggleable__content pre {margin: 0.2em;color: black;border-radius: 0.25em;background-color: #f0f8ff;}#sk-container-id-4 input.sk-toggleable__control:checked~div.sk-toggleable__content {max-height: 200px;max-width: 100%;overflow: auto;}#sk-container-id-4 input.sk-toggleable__control:checked~label.sk-toggleable__label-arrow:before {content: \"▾\";}#sk-container-id-4 div.sk-estimator input.sk-toggleable__control:checked~label.sk-toggleable__label {background-color: #d4ebff;}#sk-container-id-4 div.sk-label input.sk-toggleable__control:checked~label.sk-toggleable__label {background-color: #d4ebff;}#sk-container-id-4 input.sk-hidden--visually {border: 0;clip: rect(1px 1px 1px 1px);clip: rect(1px, 1px, 1px, 1px);height: 1px;margin: -1px;overflow: hidden;padding: 0;position: absolute;width: 1px;}#sk-container-id-4 div.sk-estimator {font-family: monospace;background-color: #f0f8ff;border: 1px dotted black;border-radius: 0.25em;box-sizing: border-box;margin-bottom: 0.5em;}#sk-container-id-4 div.sk-estimator:hover {background-color: #d4ebff;}#sk-container-id-4 div.sk-parallel-item::after {content: \"\";width: 100%;border-bottom: 1px solid gray;flex-grow: 1;}#sk-container-id-4 div.sk-label:hover label.sk-toggleable__label {background-color: #d4ebff;}#sk-container-id-4 div.sk-serial::before {content: \"\";position: absolute;border-left: 1px solid gray;box-sizing: border-box;top: 0;bottom: 0;left: 50%;z-index: 0;}#sk-container-id-4 div.sk-serial {display: flex;flex-direction: column;align-items: center;background-color: white;padding-right: 0.2em;padding-left: 0.2em;position: relative;}#sk-container-id-4 div.sk-item {position: relative;z-index: 1;}#sk-container-id-4 div.sk-parallel {display: flex;align-items: stretch;justify-content: center;background-color: white;position: relative;}#sk-container-id-4 div.sk-item::before, #sk-container-id-4 div.sk-parallel-item::before {content: \"\";position: absolute;border-left: 1px solid gray;box-sizing: border-box;top: 0;bottom: 0;left: 50%;z-index: -1;}#sk-container-id-4 div.sk-parallel-item {display: flex;flex-direction: column;z-index: 1;position: relative;background-color: white;}#sk-container-id-4 div.sk-parallel-item:first-child::after {align-self: flex-end;width: 50%;}#sk-container-id-4 div.sk-parallel-item:last-child::after {align-self: flex-start;width: 50%;}#sk-container-id-4 div.sk-parallel-item:only-child::after {width: 0;}#sk-container-id-4 div.sk-dashed-wrapped {border: 1px dashed gray;margin: 0 0.4em 0.5em 0.4em;box-sizing: border-box;padding-bottom: 0.4em;background-color: white;}#sk-container-id-4 div.sk-label label {font-family: monospace;font-weight: bold;display: inline-block;line-height: 1.2em;}#sk-container-id-4 div.sk-label-container {text-align: center;}#sk-container-id-4 div.sk-container {/* jupyter's `normalize.less` sets `[hidden] { display: none; }` but bootstrap.min.css set `[hidden] { display: none !important; }` so we also need the `!important` here to be able to override the default hidden behavior on the sphinx rendered scikit-learn.org. See: https://github.com/scikit-learn/scikit-learn/issues/21755 */display: inline-block !important;position: relative;}#sk-container-id-4 div.sk-text-repr-fallback {display: none;}</style><div id=\"sk-container-id-4\" class=\"sk-top-container\"><div class=\"sk-text-repr-fallback\"><pre>LatentDirichletAllocation(n_components=8, random_state=42)</pre><b>In a Jupyter environment, please rerun this cell to show the HTML representation or trust the notebook. <br />On GitHub, the HTML representation is unable to render, please try loading this page with nbviewer.org.</b></div><div class=\"sk-container\" hidden><div class=\"sk-item\"><div class=\"sk-estimator sk-toggleable\"><input class=\"sk-toggleable__control sk-hidden--visually\" id=\"sk-estimator-id-4\" type=\"checkbox\" checked><label for=\"sk-estimator-id-4\" class=\"sk-toggleable__label sk-toggleable__label-arrow\">LatentDirichletAllocation</label><div class=\"sk-toggleable__content\"><pre>LatentDirichletAllocation(n_components=8, random_state=42)</pre></div></div></div></div></div>"
            ]
          },
          "metadata": {},
          "execution_count": 41
        }
      ]
    },
    {
      "cell_type": "code",
      "source": [
        "# top palavras dos tópicos\n",
        "terms = vect.get_feature_names_out()\n",
        "\n",
        "for index, topic in enumerate(LDA3.components_):\n",
        "    terms_comp = zip(terms, topic)\n",
        "    sorted_terms = sorted(terms_comp, key= lambda x:x[1], reverse=True)[:15]\n",
        "    print(\"THE TOP 15 WORDS FOR TOPIC # \"+str(index)+\": \")\n",
        "    #print(sorted_terms)\n",
        "    print([t[0] for t in sorted_terms])\n",
        "    print('\\n')"
      ],
      "metadata": {
        "id": "5MVe12ZWq0tA",
        "colab": {
          "base_uri": "https://localhost:8080/"
        },
        "outputId": "e01f390a-f6fa-401e-bd7a-f1da1950de44"
      },
      "execution_count": null,
      "outputs": [
        {
          "output_type": "stream",
          "name": "stdout",
          "text": [
            "THE TOP 15 WORDS FOR TOPIC # 0: \n",
            "['cílios', 'ana', 'vingadores', 'grey', 'luz', 'som', 'gokou', 'son', 'produto', 'novo', 'harry', 'christian', 'boneco', 'call', 'bonecos']\n",
            "\n",
            "\n",
            "THE TOP 15 WORDS FOR TOPIC # 1: \n",
            "['edição', 'livro', 'livros', 'páginas', 'produto', '00', 'vida', 'história', 'kit', 'origem', 'mundo', 'anos', 'ed', 'capa', 'novo']\n",
            "\n",
            "\n",
            "THE TOP 15 WORDS FOR TOPIC # 2: \n",
            "['flex', 'laminas', 'tebori', 'hard', 'fifa', 'jogadores', 'pula', 'fisica', 'agulhas', 'bola', 'pes', 'lista', 'pontas', 'português', 'lâmina']\n",
            "\n",
            "\n",
            "THE TOP 15 WORDS FOR TOPIC # 3: \n",
            "['mia', 'gel', 'inglot', 'delineador', 'calendário', 'garota', 'págs', 'precisa', 'vai', 'tebori', 'produto', 'flexi', 'fica', 'kunai', 'mês']\n",
            "\n",
            "\n",
            "THE TOP 15 WORDS FOR TOPIC # 4: \n",
            "['mercado', 'pincel', 'entrega', 'prazo', 'produto', 'cores', 'pagamento', 'produtos', 'maquiagem', 'kit', 'envio', 'maleta', 'pronta', 'dias', 'frete']\n",
            "\n",
            "\n",
            "THE TOP 15 WORDS FOR TOPIC # 5: \n",
            "['miss', 'marrom', 'sobrancelha', 'prova', 'gel', 'rose', 'tatuagem', 'cartão', 'produto1', 'qualidadecor', 'pretodescrição', 'caneta', 'tintura', 'duração', 'longa']\n",
            "\n",
            "\n",
            "THE TOP 15 WORDS FOR TOPIC # 6: \n",
            "['digital', 'jogo', 'online', 'jogar', 'retirar', 'vendedor', 'sim', 'original', 'frete', 'combinar', 'atendimento', 'escolha', 'compra', 'xbox', 'horário']\n",
            "\n",
            "\n",
            "THE TOP 15 WORDS FOR TOPIC # 7: \n",
            "['vingadores', 'bonecos', 'personagem', 'wings', 'homem', 'boneco', 'luz', 'som', 'aranha', 'super', 'avengers', 'cmmaterial', 'ferro', 'hulk', 'capitão']\n",
            "\n",
            "\n"
          ]
        }
      ]
    },
    {
      "cell_type": "markdown",
      "source": [
        "Como já samemos, a base de dados de \"produto\" [1] foi utilizada para modelos de classificação supervisionados e sabemos qual foi a configuração que gerou um bom resultado. Que tal aplicarmos essas técnicas de pré-processamento que gerou um bom modelo e compararmos? Faça um teste de análise de tópicos com 4 tópicos conse as seguintes configurações:\n",
        "\n",
        "*   Remover registros com valores nulos;\n",
        "*   Contatenar as colunas de nome e descrição;\n",
        "*   Aplicar lematização em verbos;\n",
        "*   Amostra de 30% para teste e random_state = 42;\n",
        "*   Vetorização de contagem dos termos em unigramas removendo stopwords (NLTK).\n",
        "\n",
        "[1] https://dados-ml-pln.s3-sa-east-1.amazonaws.com/produtos.csv\n"
      ],
      "metadata": {
        "id": "Rx6hskijtSVj"
      }
    },
    {
      "cell_type": "code",
      "source": [
        "!python -m spacy download pt_core_news_sm"
      ],
      "metadata": {
        "id": "CV13V-pAVy-s"
      },
      "execution_count": null,
      "outputs": []
    },
    {
      "cell_type": "code",
      "source": [
        "import pandas as pd\n",
        "\n",
        "df = pd.read_csv(\"https://dados-ml-pln.s3-sa-east-1.amazonaws.com/produtos.csv\", delimiter=\";\", encoding='utf-8')\n",
        "\n",
        "df.dropna(inplace=True)\n",
        "\n",
        "df[\"texto\"] = df['nome'] + \" \" + df['descricao']\n",
        "\n",
        "df.describe()"
      ],
      "metadata": {
        "id": "sGj5tmBWt7du"
      },
      "execution_count": null,
      "outputs": []
    },
    {
      "cell_type": "code",
      "source": [
        "\n",
        "# lematização\n",
        "import spacy\n",
        "nlp = spacy.load('pt_core_news_sm')\n",
        "\n",
        "def lemmatizer_verbs(text):\n",
        "  sent = []\n",
        "  doc = nlp(text)\n",
        "  for word in doc:\n",
        "      if word.pos_ == \"VERB\":\n",
        "          sent.append(word.lemma_)\n",
        "      else:\n",
        "          sent.append(word.text)\n",
        "  return \" \".join(sent)\n",
        "\n",
        "df['text_lemma_verbs'] = df.texto.apply(lemmatizer_verbs)"
      ],
      "metadata": {
        "id": "ysyVgsArnF3u"
      },
      "execution_count": null,
      "outputs": []
    },
    {
      "cell_type": "code",
      "source": [
        "#separando os dados\n",
        "from sklearn.model_selection import train_test_split\n",
        "\n",
        "df_train, df_test = train_test_split(df,\n",
        "      test_size = 0.3,\n",
        "      random_state = 42\n",
        "  )"
      ],
      "metadata": {
        "id": "8m3biTTFV6B_"
      },
      "execution_count": null,
      "outputs": []
    },
    {
      "cell_type": "code",
      "source": [
        "# removendo stop words\n",
        "import nltk\n",
        "nltk.download('stopwords')\n",
        "\n",
        "# stopwords NLTK\n",
        "stops = nltk.corpus.stopwords.words('portuguese')\n",
        "\n",
        "from sklearn.feature_extraction.text import CountVectorizer\n",
        "\n",
        "# verorização\n",
        "vect = CountVectorizer(ngram_range=(1,1), stop_words=stops)\n",
        "vect.fit(df_train.text_lemma_verbs)\n",
        "text_vect_train = vect.transform(df_train.text_lemma_verbs)\n",
        "\n",
        "from sklearn.decomposition import LatentDirichletAllocation\n",
        "\n",
        "# modelo\n",
        "LDA = LatentDirichletAllocation(n_components=4,random_state=42)\n",
        "LDA.fit(text_vect_train)"
      ],
      "metadata": {
        "id": "tZbJ-7MtWC3S"
      },
      "execution_count": null,
      "outputs": []
    },
    {
      "cell_type": "code",
      "source": [
        "# top palavras dos tópicos\n",
        "terms = vect.get_feature_names_out()\n",
        "\n",
        "for index, topic in enumerate(LDA.components_):\n",
        "    terms_comp = zip(terms, topic)\n",
        "    sorted_terms = sorted(terms_comp, key= lambda x:x[1], reverse=True)[:15]\n",
        "    print(\"THE TOP 15 WORDS FOR TOPIC # \"+str(index)+\": \")\n",
        "    #print(sorted_terms)\n",
        "    print([t[0] for t in sorted_terms])\n",
        "    print('\\n')"
      ],
      "metadata": {
        "id": "9sHo-irNWGim"
      },
      "execution_count": null,
      "outputs": []
    },
    {
      "cell_type": "code",
      "source": [
        "#validando o resultado\n",
        "text_vect_test = vect.transform(df_test.text_lemma_verbs)\n",
        "results = LDA.transform(text_vect_test)\n",
        "\n",
        "df_test['topico'] = results.argmax(axis=1)\n",
        "\n",
        "df_test.head()"
      ],
      "metadata": {
        "id": "PDabvH00WSjd"
      },
      "execution_count": null,
      "outputs": []
    },
    {
      "cell_type": "code",
      "source": [
        "# acuracia\n",
        "import numpy as np\n",
        "from sklearn.metrics import accuracy_score, confusion_matrix\n",
        "df_test['categ_cod'] = df_test.categoria.map(\n",
        "    #{'livro': 0, 'brinquedo': 1, 'maquiagem': 2, 'game': 3 }\n",
        "    {'maquiagem': 0, 'brinquedo': 1, 'livro': 2, 'game': 3 }\n",
        "    )\n",
        "\n",
        "df_test.head()\n",
        "\n",
        "\n",
        "print(accuracy_score(df_test.categ_cod, df_test.topico))"
      ],
      "metadata": {
        "id": "017WUVtHWV3k"
      },
      "execution_count": null,
      "outputs": []
    },
    {
      "cell_type": "code",
      "source": [
        "# matriz\n",
        "import seaborn as sns\n",
        "import matplotlib.pyplot as plt\n",
        "\n",
        "matrix = confusion_matrix(df_test.categ_cod, df_test.topico)\n",
        "\n",
        "df_cm = pd.DataFrame(matrix, index=list('0123'),\n",
        "                  columns=list('0123'))\n",
        "plt.figure(figsize = (10,7))\n",
        "sns.heatmap(df_cm, annot=True)"
      ],
      "metadata": {
        "id": "1Xq4GVDhWilG"
      },
      "execution_count": null,
      "outputs": []
    }
  ]
}