{
  "nbformat": 4,
  "nbformat_minor": 0,
  "metadata": {
    "colab": {
      "provenance": []
    },
    "kernelspec": {
      "name": "python3",
      "display_name": "Python 3"
    },
    "language_info": {
      "name": "python"
    }
  },
  "cells": [
    {
      "cell_type": "markdown",
      "source": [
        "#**Demostração - Aula 3**"
      ],
      "metadata": {
        "id": "p97FFCbo5qeD"
      }
    },
    {
      "cell_type": "markdown",
      "metadata": {
        "id": "34z9XYces1jO"
      },
      "source": [
        "# **Análise de Tópicos**\n",
        "\n",
        "<font size=5>\n",
        "Análise, ou Modelagem, de Tópicos nos permite analisar grandes volumes de texto atravéz de técnicas de clusterização ou agrupamento dos documentos em tópicos!\n",
        "<br/>\n",
        "<br/>\n",
        "Grande parte dos dados disponíveis no mundo real não estão classificados e por isso não podemos aplicar as técnicas de aprendizado supervisionado que usamos anteriormente!\n",
        "<br/>\n",
        "<br/>\n",
        "\n",
        "Nestes casos, onde trabalhamos com dados não classificados, podemos tentar encontrar suas classificações agrupando-os em tópicos.\n",
        "\n",
        "  </font>\n",
        "\n",
        "\n"
      ]
    },
    {
      "cell_type": "markdown",
      "source": [
        "![image.png](data:image/png;base64,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)"
      ],
      "metadata": {
        "id": "yvLurLXilaD1"
      }
    },
    {
      "cell_type": "markdown",
      "metadata": {
        "id": "4rTS1KWBzOnb"
      },
      "source": [
        "## **Importante!**\n",
        "\n",
        "<font size=4>\n",
        "Por não termos junto aos dados sua verdadeira classificação, nesses casos não sabemos a \"resposta correta\" o que torna muito difícil mensurar o quanto nosso algoritmo está acertando ou errando!\n",
        "<br/>\n",
        "<br/>\n",
        "\n",
        "Tudo que sabemos (ou assumimos) é que documentos que forem agrupados no mesmo tópico compartilham ideias similares.\n",
        "<br/>\n",
        "<br/>\n",
        "\n",
        "Fica a cargo do usuário (cientista/analista de dados, eng. machine learning e etc) se os grupos formados são coerentes e o que cada grupo representa!\n",
        "</font>"
      ]
    },
    {
      "cell_type": "markdown",
      "metadata": {
        "id": "uqXDhRZy3j67"
      },
      "source": [
        "# **LDA - Latent Dirichlet Allocation**\n",
        "\n",
        "<font size=5>\n",
        "LDA ou Latent Dirichlet Allocation é um “modelo probabilístico generativo” de uma coleção composta de partes. Em termos de modelagem de tópicos, as coleções são documentos e as partes são palavras, ou frases (n-gramas).  \n",
        "<br/>\n",
        "<br/>\n",
        "O LDA tem esse nome pois usa a Distribuição Dirichlet (do matemático alemão Johann Peter Gustav Lejeune Dirichlet) para encontrar tópicos \"latentes\" nos documentos.\n",
        "<br/>\n",
        "<br/>\n",
        "Em 2003, esse método foi publicado pela primeira vez por David Blei, Andrew Ng e Michael Jordan e pode ser\n",
        "<a href=\"http://www.jmlr.org/papers/volume3/blei03a/blei03a.pdf\">lido aqui</a>\n",
        "<br/>\n",
        "<br/>\n",
        "\n",
        "Para entender melhor como o método funciona recomendo a leitura do artigo original no link acima!\n",
        "  \n",
        "</font>\n",
        "\n"
      ]
    },
    {
      "cell_type": "markdown",
      "metadata": {
        "id": "f6DQ3n_wEpJQ"
      },
      "source": [
        "## LDA\n",
        "\n",
        "<font size=5>\n",
        "Existem algumas premissas na aplicação do LDA:\n",
        "<br/>\n",
        "<br/>\n",
        "\n",
        "1.   Documentos com assuntos similares usam palavras similares<br/>\n",
        "2.   Os tópicos latentes podem ser encontrados atravez dos grupos de palavras que ocorrem juntas<br/>\n",
        "3.   Documentos são distribuições de probabilidade sobre os tópicos latentes<br/>\n",
        "4.   Tópicos são também distribuições de probabilidade sobre as palavras<br/>\n",
        "\n",
        "</font>"
      ]
    },
    {
      "cell_type": "markdown",
      "metadata": {
        "id": "K_R0DbqBIRbN"
      },
      "source": [
        "## Documentos são distribuições de probabilidade sobre os tópicos latentes\n",
        "\n",
        "![alt text](https://i.ibb.co/C2gs3mS/doc-prob-topics.png)"
      ]
    },
    {
      "cell_type": "markdown",
      "metadata": {
        "id": "hYBiONd5NFTC"
      },
      "source": [
        "## Tópicos são também distribuições de probabilidade sobre as palavras\n",
        "\n",
        "![alt text](https://i.ibb.co/KskDmbD/topic-prob-words.png)"
      ]
    },
    {
      "cell_type": "markdown",
      "source": [
        "## **Exemplo Análise de Tópicos**"
      ],
      "metadata": {
        "id": "115tYYbVNAXQ"
      }
    },
    {
      "cell_type": "code",
      "execution_count": 1,
      "metadata": {
        "colab": {
          "base_uri": "https://localhost:8080/",
          "height": 174
        },
        "id": "tvdE2BaSs1QN",
        "outputId": "7c31b3b7-6bfd-479f-d3dd-0a606920b90f"
      },
      "outputs": [
        {
          "output_type": "execute_result",
          "data": {
            "text/plain": [
              "                                     nome  \\\n",
              "count                                4080   \n",
              "unique                               3696   \n",
              "top      Boneco Dragon Ball Z Son Gokou     \n",
              "freq                                   20   \n",
              "\n",
              "                                                descricao categoria  \n",
              "count                                                2916      4080  \n",
              "unique                                               2460         4  \n",
              "top     JOGO ORIGINAL. NOVO. LACRADO. PRONTA ENTREGA. ...     livro  \n",
              "freq                                                   39      1020  "
            ],
            "text/html": [
              "\n",
              "  <div id=\"df-26f00a1b-24eb-4ad0-b64f-3f427de9a730\" class=\"colab-df-container\">\n",
              "    <div>\n",
              "<style scoped>\n",
              "    .dataframe tbody tr th:only-of-type {\n",
              "        vertical-align: middle;\n",
              "    }\n",
              "\n",
              "    .dataframe tbody tr th {\n",
              "        vertical-align: top;\n",
              "    }\n",
              "\n",
              "    .dataframe thead th {\n",
              "        text-align: right;\n",
              "    }\n",
              "</style>\n",
              "<table border=\"1\" class=\"dataframe\">\n",
              "  <thead>\n",
              "    <tr style=\"text-align: right;\">\n",
              "      <th></th>\n",
              "      <th>nome</th>\n",
              "      <th>descricao</th>\n",
              "      <th>categoria</th>\n",
              "    </tr>\n",
              "  </thead>\n",
              "  <tbody>\n",
              "    <tr>\n",
              "      <th>count</th>\n",
              "      <td>4080</td>\n",
              "      <td>2916</td>\n",
              "      <td>4080</td>\n",
              "    </tr>\n",
              "    <tr>\n",
              "      <th>unique</th>\n",
              "      <td>3696</td>\n",
              "      <td>2460</td>\n",
              "      <td>4</td>\n",
              "    </tr>\n",
              "    <tr>\n",
              "      <th>top</th>\n",
              "      <td>Boneco Dragon Ball Z Son Gokou</td>\n",
              "      <td>JOGO ORIGINAL. NOVO. LACRADO. PRONTA ENTREGA. ...</td>\n",
              "      <td>livro</td>\n",
              "    </tr>\n",
              "    <tr>\n",
              "      <th>freq</th>\n",
              "      <td>20</td>\n",
              "      <td>39</td>\n",
              "      <td>1020</td>\n",
              "    </tr>\n",
              "  </tbody>\n",
              "</table>\n",
              "</div>\n",
              "    <div class=\"colab-df-buttons\">\n",
              "\n",
              "  <div class=\"colab-df-container\">\n",
              "    <button class=\"colab-df-convert\" onclick=\"convertToInteractive('df-26f00a1b-24eb-4ad0-b64f-3f427de9a730')\"\n",
              "            title=\"Convert this dataframe to an interactive table.\"\n",
              "            style=\"display:none;\">\n",
              "\n",
              "  <svg xmlns=\"http://www.w3.org/2000/svg\" height=\"24px\" viewBox=\"0 -960 960 960\">\n",
              "    <path d=\"M120-120v-720h720v720H120Zm60-500h600v-160H180v160Zm220 220h160v-160H400v160Zm0 220h160v-160H400v160ZM180-400h160v-160H180v160Zm440 0h160v-160H620v160ZM180-180h160v-160H180v160Zm440 0h160v-160H620v160Z\"/>\n",
              "  </svg>\n",
              "    </button>\n",
              "\n",
              "  <style>\n",
              "    .colab-df-container {\n",
              "      display:flex;\n",
              "      gap: 12px;\n",
              "    }\n",
              "\n",
              "    .colab-df-convert {\n",
              "      background-color: #E8F0FE;\n",
              "      border: none;\n",
              "      border-radius: 50%;\n",
              "      cursor: pointer;\n",
              "      display: none;\n",
              "      fill: #1967D2;\n",
              "      height: 32px;\n",
              "      padding: 0 0 0 0;\n",
              "      width: 32px;\n",
              "    }\n",
              "\n",
              "    .colab-df-convert:hover {\n",
              "      background-color: #E2EBFA;\n",
              "      box-shadow: 0px 1px 2px rgba(60, 64, 67, 0.3), 0px 1px 3px 1px rgba(60, 64, 67, 0.15);\n",
              "      fill: #174EA6;\n",
              "    }\n",
              "\n",
              "    .colab-df-buttons div {\n",
              "      margin-bottom: 4px;\n",
              "    }\n",
              "\n",
              "    [theme=dark] .colab-df-convert {\n",
              "      background-color: #3B4455;\n",
              "      fill: #D2E3FC;\n",
              "    }\n",
              "\n",
              "    [theme=dark] .colab-df-convert:hover {\n",
              "      background-color: #434B5C;\n",
              "      box-shadow: 0px 1px 3px 1px rgba(0, 0, 0, 0.15);\n",
              "      filter: drop-shadow(0px 1px 2px rgba(0, 0, 0, 0.3));\n",
              "      fill: #FFFFFF;\n",
              "    }\n",
              "  </style>\n",
              "\n",
              "    <script>\n",
              "      const buttonEl =\n",
              "        document.querySelector('#df-26f00a1b-24eb-4ad0-b64f-3f427de9a730 button.colab-df-convert');\n",
              "      buttonEl.style.display =\n",
              "        google.colab.kernel.accessAllowed ? 'block' : 'none';\n",
              "\n",
              "      async function convertToInteractive(key) {\n",
              "        const element = document.querySelector('#df-26f00a1b-24eb-4ad0-b64f-3f427de9a730');\n",
              "        const dataTable =\n",
              "          await google.colab.kernel.invokeFunction('convertToInteractive',\n",
              "                                                    [key], {});\n",
              "        if (!dataTable) return;\n",
              "\n",
              "        const docLinkHtml = 'Like what you see? Visit the ' +\n",
              "          '<a target=\"_blank\" href=https://colab.research.google.com/notebooks/data_table.ipynb>data table notebook</a>'\n",
              "          + ' to learn more about interactive tables.';\n",
              "        element.innerHTML = '';\n",
              "        dataTable['output_type'] = 'display_data';\n",
              "        await google.colab.output.renderOutput(dataTable, element);\n",
              "        const docLink = document.createElement('div');\n",
              "        docLink.innerHTML = docLinkHtml;\n",
              "        element.appendChild(docLink);\n",
              "      }\n",
              "    </script>\n",
              "  </div>\n",
              "\n",
              "\n",
              "<div id=\"df-2a1d7ce2-c872-4e64-ad7d-211728277370\">\n",
              "  <button class=\"colab-df-quickchart\" onclick=\"quickchart('df-2a1d7ce2-c872-4e64-ad7d-211728277370')\"\n",
              "            title=\"Suggest charts\"\n",
              "            style=\"display:none;\">\n",
              "\n",
              "<svg xmlns=\"http://www.w3.org/2000/svg\" height=\"24px\"viewBox=\"0 0 24 24\"\n",
              "     width=\"24px\">\n",
              "    <g>\n",
              "        <path d=\"M19 3H5c-1.1 0-2 .9-2 2v14c0 1.1.9 2 2 2h14c1.1 0 2-.9 2-2V5c0-1.1-.9-2-2-2zM9 17H7v-7h2v7zm4 0h-2V7h2v10zm4 0h-2v-4h2v4z\"/>\n",
              "    </g>\n",
              "</svg>\n",
              "  </button>\n",
              "\n",
              "<style>\n",
              "  .colab-df-quickchart {\n",
              "      --bg-color: #E8F0FE;\n",
              "      --fill-color: #1967D2;\n",
              "      --hover-bg-color: #E2EBFA;\n",
              "      --hover-fill-color: #174EA6;\n",
              "      --disabled-fill-color: #AAA;\n",
              "      --disabled-bg-color: #DDD;\n",
              "  }\n",
              "\n",
              "  [theme=dark] .colab-df-quickchart {\n",
              "      --bg-color: #3B4455;\n",
              "      --fill-color: #D2E3FC;\n",
              "      --hover-bg-color: #434B5C;\n",
              "      --hover-fill-color: #FFFFFF;\n",
              "      --disabled-bg-color: #3B4455;\n",
              "      --disabled-fill-color: #666;\n",
              "  }\n",
              "\n",
              "  .colab-df-quickchart {\n",
              "    background-color: var(--bg-color);\n",
              "    border: none;\n",
              "    border-radius: 50%;\n",
              "    cursor: pointer;\n",
              "    display: none;\n",
              "    fill: var(--fill-color);\n",
              "    height: 32px;\n",
              "    padding: 0;\n",
              "    width: 32px;\n",
              "  }\n",
              "\n",
              "  .colab-df-quickchart:hover {\n",
              "    background-color: var(--hover-bg-color);\n",
              "    box-shadow: 0 1px 2px rgba(60, 64, 67, 0.3), 0 1px 3px 1px rgba(60, 64, 67, 0.15);\n",
              "    fill: var(--button-hover-fill-color);\n",
              "  }\n",
              "\n",
              "  .colab-df-quickchart-complete:disabled,\n",
              "  .colab-df-quickchart-complete:disabled:hover {\n",
              "    background-color: var(--disabled-bg-color);\n",
              "    fill: var(--disabled-fill-color);\n",
              "    box-shadow: none;\n",
              "  }\n",
              "\n",
              "  .colab-df-spinner {\n",
              "    border: 2px solid var(--fill-color);\n",
              "    border-color: transparent;\n",
              "    border-bottom-color: var(--fill-color);\n",
              "    animation:\n",
              "      spin 1s steps(1) infinite;\n",
              "  }\n",
              "\n",
              "  @keyframes spin {\n",
              "    0% {\n",
              "      border-color: transparent;\n",
              "      border-bottom-color: var(--fill-color);\n",
              "      border-left-color: var(--fill-color);\n",
              "    }\n",
              "    20% {\n",
              "      border-color: transparent;\n",
              "      border-left-color: var(--fill-color);\n",
              "      border-top-color: var(--fill-color);\n",
              "    }\n",
              "    30% {\n",
              "      border-color: transparent;\n",
              "      border-left-color: var(--fill-color);\n",
              "      border-top-color: var(--fill-color);\n",
              "      border-right-color: var(--fill-color);\n",
              "    }\n",
              "    40% {\n",
              "      border-color: transparent;\n",
              "      border-right-color: var(--fill-color);\n",
              "      border-top-color: var(--fill-color);\n",
              "    }\n",
              "    60% {\n",
              "      border-color: transparent;\n",
              "      border-right-color: var(--fill-color);\n",
              "    }\n",
              "    80% {\n",
              "      border-color: transparent;\n",
              "      border-right-color: var(--fill-color);\n",
              "      border-bottom-color: var(--fill-color);\n",
              "    }\n",
              "    90% {\n",
              "      border-color: transparent;\n",
              "      border-bottom-color: var(--fill-color);\n",
              "    }\n",
              "  }\n",
              "</style>\n",
              "\n",
              "  <script>\n",
              "    async function quickchart(key) {\n",
              "      const quickchartButtonEl =\n",
              "        document.querySelector('#' + key + ' button');\n",
              "      quickchartButtonEl.disabled = true;  // To prevent multiple clicks.\n",
              "      quickchartButtonEl.classList.add('colab-df-spinner');\n",
              "      try {\n",
              "        const charts = await google.colab.kernel.invokeFunction(\n",
              "            'suggestCharts', [key], {});\n",
              "      } catch (error) {\n",
              "        console.error('Error during call to suggestCharts:', error);\n",
              "      }\n",
              "      quickchartButtonEl.classList.remove('colab-df-spinner');\n",
              "      quickchartButtonEl.classList.add('colab-df-quickchart-complete');\n",
              "    }\n",
              "    (() => {\n",
              "      let quickchartButtonEl =\n",
              "        document.querySelector('#df-2a1d7ce2-c872-4e64-ad7d-211728277370 button');\n",
              "      quickchartButtonEl.style.display =\n",
              "        google.colab.kernel.accessAllowed ? 'block' : 'none';\n",
              "    })();\n",
              "  </script>\n",
              "</div>\n",
              "    </div>\n",
              "  </div>\n"
            ]
          },
          "metadata": {},
          "execution_count": 1
        }
      ],
      "source": [
        "import pandas as pd\n",
        "\n",
        "df = pd.read_csv(\"https://dados-ml-pln.s3-sa-east-1.amazonaws.com/produtos.csv\", delimiter=\";\", encoding='utf-8')\n",
        "\n",
        "df.describe()"
      ]
    },
    {
      "cell_type": "code",
      "execution_count": 2,
      "metadata": {
        "id": "R3x3Ipzhqgka"
      },
      "outputs": [],
      "source": [
        "df.dropna(inplace=True)\n",
        "\n",
        "df[\"texto\"] = df['nome'] + \" \" + df['descricao']"
      ]
    },
    {
      "cell_type": "code",
      "execution_count": 3,
      "metadata": {
        "id": "6nAwdR7YyQ_8",
        "colab": {
          "base_uri": "https://localhost:8080/",
          "height": 174
        },
        "outputId": "df7dfa03-8238-4d92-d6ab-ae84a45f9298"
      },
      "outputs": [
        {
          "output_type": "execute_result",
          "data": {
            "text/plain": [
              "                                     nome  \\\n",
              "count                                2916   \n",
              "unique                               2584   \n",
              "top      Boneco Dragon Ball Z Son Gokou     \n",
              "freq                                   20   \n",
              "\n",
              "                                                descricao categoria  \\\n",
              "count                                                2916      2916   \n",
              "unique                                               2460         4   \n",
              "top     JOGO ORIGINAL. NOVO. LACRADO. PRONTA ENTREGA. ...     livro   \n",
              "freq                                                   39       838   \n",
              "\n",
              "                                                 texto  \n",
              "count                                             2916  \n",
              "unique                                            2646  \n",
              "top      Boneco Dragon Ball Z Son Gokou   Produto novo  \n",
              "freq                                                20  "
            ],
            "text/html": [
              "\n",
              "  <div id=\"df-adc7af0a-982e-485e-94ba-0ba9f2052cb3\" class=\"colab-df-container\">\n",
              "    <div>\n",
              "<style scoped>\n",
              "    .dataframe tbody tr th:only-of-type {\n",
              "        vertical-align: middle;\n",
              "    }\n",
              "\n",
              "    .dataframe tbody tr th {\n",
              "        vertical-align: top;\n",
              "    }\n",
              "\n",
              "    .dataframe thead th {\n",
              "        text-align: right;\n",
              "    }\n",
              "</style>\n",
              "<table border=\"1\" class=\"dataframe\">\n",
              "  <thead>\n",
              "    <tr style=\"text-align: right;\">\n",
              "      <th></th>\n",
              "      <th>nome</th>\n",
              "      <th>descricao</th>\n",
              "      <th>categoria</th>\n",
              "      <th>texto</th>\n",
              "    </tr>\n",
              "  </thead>\n",
              "  <tbody>\n",
              "    <tr>\n",
              "      <th>count</th>\n",
              "      <td>2916</td>\n",
              "      <td>2916</td>\n",
              "      <td>2916</td>\n",
              "      <td>2916</td>\n",
              "    </tr>\n",
              "    <tr>\n",
              "      <th>unique</th>\n",
              "      <td>2584</td>\n",
              "      <td>2460</td>\n",
              "      <td>4</td>\n",
              "      <td>2646</td>\n",
              "    </tr>\n",
              "    <tr>\n",
              "      <th>top</th>\n",
              "      <td>Boneco Dragon Ball Z Son Gokou</td>\n",
              "      <td>JOGO ORIGINAL. NOVO. LACRADO. PRONTA ENTREGA. ...</td>\n",
              "      <td>livro</td>\n",
              "      <td>Boneco Dragon Ball Z Son Gokou   Produto novo</td>\n",
              "    </tr>\n",
              "    <tr>\n",
              "      <th>freq</th>\n",
              "      <td>20</td>\n",
              "      <td>39</td>\n",
              "      <td>838</td>\n",
              "      <td>20</td>\n",
              "    </tr>\n",
              "  </tbody>\n",
              "</table>\n",
              "</div>\n",
              "    <div class=\"colab-df-buttons\">\n",
              "\n",
              "  <div class=\"colab-df-container\">\n",
              "    <button class=\"colab-df-convert\" onclick=\"convertToInteractive('df-adc7af0a-982e-485e-94ba-0ba9f2052cb3')\"\n",
              "            title=\"Convert this dataframe to an interactive table.\"\n",
              "            style=\"display:none;\">\n",
              "\n",
              "  <svg xmlns=\"http://www.w3.org/2000/svg\" height=\"24px\" viewBox=\"0 -960 960 960\">\n",
              "    <path d=\"M120-120v-720h720v720H120Zm60-500h600v-160H180v160Zm220 220h160v-160H400v160Zm0 220h160v-160H400v160ZM180-400h160v-160H180v160Zm440 0h160v-160H620v160ZM180-180h160v-160H180v160Zm440 0h160v-160H620v160Z\"/>\n",
              "  </svg>\n",
              "    </button>\n",
              "\n",
              "  <style>\n",
              "    .colab-df-container {\n",
              "      display:flex;\n",
              "      gap: 12px;\n",
              "    }\n",
              "\n",
              "    .colab-df-convert {\n",
              "      background-color: #E8F0FE;\n",
              "      border: none;\n",
              "      border-radius: 50%;\n",
              "      cursor: pointer;\n",
              "      display: none;\n",
              "      fill: #1967D2;\n",
              "      height: 32px;\n",
              "      padding: 0 0 0 0;\n",
              "      width: 32px;\n",
              "    }\n",
              "\n",
              "    .colab-df-convert:hover {\n",
              "      background-color: #E2EBFA;\n",
              "      box-shadow: 0px 1px 2px rgba(60, 64, 67, 0.3), 0px 1px 3px 1px rgba(60, 64, 67, 0.15);\n",
              "      fill: #174EA6;\n",
              "    }\n",
              "\n",
              "    .colab-df-buttons div {\n",
              "      margin-bottom: 4px;\n",
              "    }\n",
              "\n",
              "    [theme=dark] .colab-df-convert {\n",
              "      background-color: #3B4455;\n",
              "      fill: #D2E3FC;\n",
              "    }\n",
              "\n",
              "    [theme=dark] .colab-df-convert:hover {\n",
              "      background-color: #434B5C;\n",
              "      box-shadow: 0px 1px 3px 1px rgba(0, 0, 0, 0.15);\n",
              "      filter: drop-shadow(0px 1px 2px rgba(0, 0, 0, 0.3));\n",
              "      fill: #FFFFFF;\n",
              "    }\n",
              "  </style>\n",
              "\n",
              "    <script>\n",
              "      const buttonEl =\n",
              "        document.querySelector('#df-adc7af0a-982e-485e-94ba-0ba9f2052cb3 button.colab-df-convert');\n",
              "      buttonEl.style.display =\n",
              "        google.colab.kernel.accessAllowed ? 'block' : 'none';\n",
              "\n",
              "      async function convertToInteractive(key) {\n",
              "        const element = document.querySelector('#df-adc7af0a-982e-485e-94ba-0ba9f2052cb3');\n",
              "        const dataTable =\n",
              "          await google.colab.kernel.invokeFunction('convertToInteractive',\n",
              "                                                    [key], {});\n",
              "        if (!dataTable) return;\n",
              "\n",
              "        const docLinkHtml = 'Like what you see? Visit the ' +\n",
              "          '<a target=\"_blank\" href=https://colab.research.google.com/notebooks/data_table.ipynb>data table notebook</a>'\n",
              "          + ' to learn more about interactive tables.';\n",
              "        element.innerHTML = '';\n",
              "        dataTable['output_type'] = 'display_data';\n",
              "        await google.colab.output.renderOutput(dataTable, element);\n",
              "        const docLink = document.createElement('div');\n",
              "        docLink.innerHTML = docLinkHtml;\n",
              "        element.appendChild(docLink);\n",
              "      }\n",
              "    </script>\n",
              "  </div>\n",
              "\n",
              "\n",
              "<div id=\"df-41de511b-c806-40c3-b1d2-fcc07fbef713\">\n",
              "  <button class=\"colab-df-quickchart\" onclick=\"quickchart('df-41de511b-c806-40c3-b1d2-fcc07fbef713')\"\n",
              "            title=\"Suggest charts\"\n",
              "            style=\"display:none;\">\n",
              "\n",
              "<svg xmlns=\"http://www.w3.org/2000/svg\" height=\"24px\"viewBox=\"0 0 24 24\"\n",
              "     width=\"24px\">\n",
              "    <g>\n",
              "        <path d=\"M19 3H5c-1.1 0-2 .9-2 2v14c0 1.1.9 2 2 2h14c1.1 0 2-.9 2-2V5c0-1.1-.9-2-2-2zM9 17H7v-7h2v7zm4 0h-2V7h2v10zm4 0h-2v-4h2v4z\"/>\n",
              "    </g>\n",
              "</svg>\n",
              "  </button>\n",
              "\n",
              "<style>\n",
              "  .colab-df-quickchart {\n",
              "      --bg-color: #E8F0FE;\n",
              "      --fill-color: #1967D2;\n",
              "      --hover-bg-color: #E2EBFA;\n",
              "      --hover-fill-color: #174EA6;\n",
              "      --disabled-fill-color: #AAA;\n",
              "      --disabled-bg-color: #DDD;\n",
              "  }\n",
              "\n",
              "  [theme=dark] .colab-df-quickchart {\n",
              "      --bg-color: #3B4455;\n",
              "      --fill-color: #D2E3FC;\n",
              "      --hover-bg-color: #434B5C;\n",
              "      --hover-fill-color: #FFFFFF;\n",
              "      --disabled-bg-color: #3B4455;\n",
              "      --disabled-fill-color: #666;\n",
              "  }\n",
              "\n",
              "  .colab-df-quickchart {\n",
              "    background-color: var(--bg-color);\n",
              "    border: none;\n",
              "    border-radius: 50%;\n",
              "    cursor: pointer;\n",
              "    display: none;\n",
              "    fill: var(--fill-color);\n",
              "    height: 32px;\n",
              "    padding: 0;\n",
              "    width: 32px;\n",
              "  }\n",
              "\n",
              "  .colab-df-quickchart:hover {\n",
              "    background-color: var(--hover-bg-color);\n",
              "    box-shadow: 0 1px 2px rgba(60, 64, 67, 0.3), 0 1px 3px 1px rgba(60, 64, 67, 0.15);\n",
              "    fill: var(--button-hover-fill-color);\n",
              "  }\n",
              "\n",
              "  .colab-df-quickchart-complete:disabled,\n",
              "  .colab-df-quickchart-complete:disabled:hover {\n",
              "    background-color: var(--disabled-bg-color);\n",
              "    fill: var(--disabled-fill-color);\n",
              "    box-shadow: none;\n",
              "  }\n",
              "\n",
              "  .colab-df-spinner {\n",
              "    border: 2px solid var(--fill-color);\n",
              "    border-color: transparent;\n",
              "    border-bottom-color: var(--fill-color);\n",
              "    animation:\n",
              "      spin 1s steps(1) infinite;\n",
              "  }\n",
              "\n",
              "  @keyframes spin {\n",
              "    0% {\n",
              "      border-color: transparent;\n",
              "      border-bottom-color: var(--fill-color);\n",
              "      border-left-color: var(--fill-color);\n",
              "    }\n",
              "    20% {\n",
              "      border-color: transparent;\n",
              "      border-left-color: var(--fill-color);\n",
              "      border-top-color: var(--fill-color);\n",
              "    }\n",
              "    30% {\n",
              "      border-color: transparent;\n",
              "      border-left-color: var(--fill-color);\n",
              "      border-top-color: var(--fill-color);\n",
              "      border-right-color: var(--fill-color);\n",
              "    }\n",
              "    40% {\n",
              "      border-color: transparent;\n",
              "      border-right-color: var(--fill-color);\n",
              "      border-top-color: var(--fill-color);\n",
              "    }\n",
              "    60% {\n",
              "      border-color: transparent;\n",
              "      border-right-color: var(--fill-color);\n",
              "    }\n",
              "    80% {\n",
              "      border-color: transparent;\n",
              "      border-right-color: var(--fill-color);\n",
              "      border-bottom-color: var(--fill-color);\n",
              "    }\n",
              "    90% {\n",
              "      border-color: transparent;\n",
              "      border-bottom-color: var(--fill-color);\n",
              "    }\n",
              "  }\n",
              "</style>\n",
              "\n",
              "  <script>\n",
              "    async function quickchart(key) {\n",
              "      const quickchartButtonEl =\n",
              "        document.querySelector('#' + key + ' button');\n",
              "      quickchartButtonEl.disabled = true;  // To prevent multiple clicks.\n",
              "      quickchartButtonEl.classList.add('colab-df-spinner');\n",
              "      try {\n",
              "        const charts = await google.colab.kernel.invokeFunction(\n",
              "            'suggestCharts', [key], {});\n",
              "      } catch (error) {\n",
              "        console.error('Error during call to suggestCharts:', error);\n",
              "      }\n",
              "      quickchartButtonEl.classList.remove('colab-df-spinner');\n",
              "      quickchartButtonEl.classList.add('colab-df-quickchart-complete');\n",
              "    }\n",
              "    (() => {\n",
              "      let quickchartButtonEl =\n",
              "        document.querySelector('#df-41de511b-c806-40c3-b1d2-fcc07fbef713 button');\n",
              "      quickchartButtonEl.style.display =\n",
              "        google.colab.kernel.accessAllowed ? 'block' : 'none';\n",
              "    })();\n",
              "  </script>\n",
              "</div>\n",
              "    </div>\n",
              "  </div>\n"
            ]
          },
          "metadata": {},
          "execution_count": 3
        }
      ],
      "source": [
        "df.describe()"
      ]
    },
    {
      "cell_type": "code",
      "execution_count": 4,
      "metadata": {
        "id": "SbPvhCki8PHa",
        "colab": {
          "base_uri": "https://localhost:8080/"
        },
        "outputId": "d3eecfbe-d450-4bbf-8459-80552fee9aaa"
      },
      "outputs": [
        {
          "output_type": "execute_result",
          "data": {
            "text/plain": [
              "livro        838\n",
              "maquiagem    788\n",
              "brinquedo    668\n",
              "game         622\n",
              "Name: categoria, dtype: int64"
            ]
          },
          "metadata": {},
          "execution_count": 4
        }
      ],
      "source": [
        "df.categoria.value_counts()"
      ]
    },
    {
      "cell_type": "code",
      "source": [
        "# amostra\n",
        "from sklearn.model_selection import train_test_split\n",
        "\n",
        "df_train, df_test = train_test_split(df,\n",
        "      test_size = 0.2,\n",
        "      random_state = 42\n",
        "  )"
      ],
      "metadata": {
        "id": "HnXLxwRzNOCb"
      },
      "execution_count": 5,
      "outputs": []
    },
    {
      "cell_type": "code",
      "execution_count": 6,
      "metadata": {
        "id": "nf5Gh7Vw77dM",
        "colab": {
          "base_uri": "https://localhost:8080/"
        },
        "outputId": "2f3facd5-61ca-447a-cc9b-96ce38990509"
      },
      "outputs": [
        {
          "output_type": "stream",
          "name": "stderr",
          "text": [
            "[nltk_data] Downloading package stopwords to /root/nltk_data...\n",
            "[nltk_data]   Unzipping corpora/stopwords.zip.\n"
          ]
        }
      ],
      "source": [
        "# stopwords do nltk\n",
        "import nltk\n",
        "nltk.download('stopwords')\n",
        "\n",
        "stops = nltk.corpus.stopwords.words('portuguese')"
      ]
    },
    {
      "cell_type": "code",
      "execution_count": 7,
      "metadata": {
        "id": "QnJwzeDn8C8q"
      },
      "outputs": [],
      "source": [
        "# vetorização\n",
        "from sklearn.feature_extraction.text import CountVectorizer\n",
        "\n",
        "vect = CountVectorizer(ngram_range=(1,1), stop_words=stops)\n",
        "vect.fit(df_train.texto)\n",
        "text_vect_train = vect.transform(df_train.texto)"
      ]
    },
    {
      "cell_type": "code",
      "source": [
        "# treinamento do modelo\n",
        "from sklearn.decomposition import LatentDirichletAllocation\n",
        "\n",
        "LDA = LatentDirichletAllocation(n_components=4, random_state=42)\n",
        "LDA.fit(text_vect_train)"
      ],
      "metadata": {
        "colab": {
          "base_uri": "https://localhost:8080/",
          "height": 74
        },
        "id": "UHqjYnbpjfMx",
        "outputId": "b38b2179-37c7-4248-d9db-bedbd68dfec2"
      },
      "execution_count": 8,
      "outputs": [
        {
          "output_type": "execute_result",
          "data": {
            "text/plain": [
              "LatentDirichletAllocation(n_components=4, random_state=42)"
            ],
            "text/html": [
              "<style>#sk-container-id-1 {color: black;background-color: white;}#sk-container-id-1 pre{padding: 0;}#sk-container-id-1 div.sk-toggleable {background-color: white;}#sk-container-id-1 label.sk-toggleable__label {cursor: pointer;display: block;width: 100%;margin-bottom: 0;padding: 0.3em;box-sizing: border-box;text-align: center;}#sk-container-id-1 label.sk-toggleable__label-arrow:before {content: \"▸\";float: left;margin-right: 0.25em;color: #696969;}#sk-container-id-1 label.sk-toggleable__label-arrow:hover:before {color: black;}#sk-container-id-1 div.sk-estimator:hover label.sk-toggleable__label-arrow:before {color: black;}#sk-container-id-1 div.sk-toggleable__content {max-height: 0;max-width: 0;overflow: hidden;text-align: left;background-color: #f0f8ff;}#sk-container-id-1 div.sk-toggleable__content pre {margin: 0.2em;color: black;border-radius: 0.25em;background-color: #f0f8ff;}#sk-container-id-1 input.sk-toggleable__control:checked~div.sk-toggleable__content {max-height: 200px;max-width: 100%;overflow: auto;}#sk-container-id-1 input.sk-toggleable__control:checked~label.sk-toggleable__label-arrow:before {content: \"▾\";}#sk-container-id-1 div.sk-estimator input.sk-toggleable__control:checked~label.sk-toggleable__label {background-color: #d4ebff;}#sk-container-id-1 div.sk-label input.sk-toggleable__control:checked~label.sk-toggleable__label {background-color: #d4ebff;}#sk-container-id-1 input.sk-hidden--visually {border: 0;clip: rect(1px 1px 1px 1px);clip: rect(1px, 1px, 1px, 1px);height: 1px;margin: -1px;overflow: hidden;padding: 0;position: absolute;width: 1px;}#sk-container-id-1 div.sk-estimator {font-family: monospace;background-color: #f0f8ff;border: 1px dotted black;border-radius: 0.25em;box-sizing: border-box;margin-bottom: 0.5em;}#sk-container-id-1 div.sk-estimator:hover {background-color: #d4ebff;}#sk-container-id-1 div.sk-parallel-item::after {content: \"\";width: 100%;border-bottom: 1px solid gray;flex-grow: 1;}#sk-container-id-1 div.sk-label:hover label.sk-toggleable__label {background-color: #d4ebff;}#sk-container-id-1 div.sk-serial::before {content: \"\";position: absolute;border-left: 1px solid gray;box-sizing: border-box;top: 0;bottom: 0;left: 50%;z-index: 0;}#sk-container-id-1 div.sk-serial {display: flex;flex-direction: column;align-items: center;background-color: white;padding-right: 0.2em;padding-left: 0.2em;position: relative;}#sk-container-id-1 div.sk-item {position: relative;z-index: 1;}#sk-container-id-1 div.sk-parallel {display: flex;align-items: stretch;justify-content: center;background-color: white;position: relative;}#sk-container-id-1 div.sk-item::before, #sk-container-id-1 div.sk-parallel-item::before {content: \"\";position: absolute;border-left: 1px solid gray;box-sizing: border-box;top: 0;bottom: 0;left: 50%;z-index: -1;}#sk-container-id-1 div.sk-parallel-item {display: flex;flex-direction: column;z-index: 1;position: relative;background-color: white;}#sk-container-id-1 div.sk-parallel-item:first-child::after {align-self: flex-end;width: 50%;}#sk-container-id-1 div.sk-parallel-item:last-child::after {align-self: flex-start;width: 50%;}#sk-container-id-1 div.sk-parallel-item:only-child::after {width: 0;}#sk-container-id-1 div.sk-dashed-wrapped {border: 1px dashed gray;margin: 0 0.4em 0.5em 0.4em;box-sizing: border-box;padding-bottom: 0.4em;background-color: white;}#sk-container-id-1 div.sk-label label {font-family: monospace;font-weight: bold;display: inline-block;line-height: 1.2em;}#sk-container-id-1 div.sk-label-container {text-align: center;}#sk-container-id-1 div.sk-container {/* jupyter's `normalize.less` sets `[hidden] { display: none; }` but bootstrap.min.css set `[hidden] { display: none !important; }` so we also need the `!important` here to be able to override the default hidden behavior on the sphinx rendered scikit-learn.org. See: https://github.com/scikit-learn/scikit-learn/issues/21755 */display: inline-block !important;position: relative;}#sk-container-id-1 div.sk-text-repr-fallback {display: none;}</style><div id=\"sk-container-id-1\" class=\"sk-top-container\"><div class=\"sk-text-repr-fallback\"><pre>LatentDirichletAllocation(n_components=4, random_state=42)</pre><b>In a Jupyter environment, please rerun this cell to show the HTML representation or trust the notebook. <br />On GitHub, the HTML representation is unable to render, please try loading this page with nbviewer.org.</b></div><div class=\"sk-container\" hidden><div class=\"sk-item\"><div class=\"sk-estimator sk-toggleable\"><input class=\"sk-toggleable__control sk-hidden--visually\" id=\"sk-estimator-id-1\" type=\"checkbox\" checked><label for=\"sk-estimator-id-1\" class=\"sk-toggleable__label sk-toggleable__label-arrow\">LatentDirichletAllocation</label><div class=\"sk-toggleable__content\"><pre>LatentDirichletAllocation(n_components=4, random_state=42)</pre></div></div></div></div></div>"
            ]
          },
          "metadata": {},
          "execution_count": 8
        }
      ]
    },
    {
      "cell_type": "code",
      "source": [
        "#LDA.get_params()"
      ],
      "metadata": {
        "id": "NkwuxSSzjfKI"
      },
      "execution_count": null,
      "outputs": []
    },
    {
      "cell_type": "code",
      "execution_count": 11,
      "metadata": {
        "id": "Dp_pwAgEPJvE",
        "colab": {
          "base_uri": "https://localhost:8080/"
        },
        "outputId": "7a610b2e-e492-444e-e2fd-134dfc877868"
      },
      "outputs": [
        {
          "output_type": "execute_result",
          "data": {
            "text/plain": [
              "(4, 31506)"
            ]
          },
          "metadata": {},
          "execution_count": 11
        }
      ],
      "source": [
        "LDA.components_.shape"
      ]
    },
    {
      "cell_type": "code",
      "execution_count": 12,
      "metadata": {
        "id": "-cqZA64xYI73",
        "colab": {
          "base_uri": "https://localhost:8080/"
        },
        "outputId": "8c5ce2f1-4bb1-46cb-e2f9-dbd33a9e51e5"
      },
      "outputs": [
        {
          "output_type": "execute_result",
          "data": {
            "text/plain": [
              "array([20.37408976,  5.46762667,  0.25328679, ...,  0.25000302,\n",
              "        5.34517087,  1.24878944])"
            ]
          },
          "metadata": {},
          "execution_count": 12
        }
      ],
      "source": [
        "LDA.components_[0]"
      ]
    },
    {
      "cell_type": "code",
      "execution_count": 13,
      "metadata": {
        "id": "vxorgcIaPJsk",
        "colab": {
          "base_uri": "https://localhost:8080/"
        },
        "outputId": "44549498-22a2-4029-83cd-363d48c7bff0"
      },
      "outputs": [
        {
          "output_type": "execute_result",
          "data": {
            "text/plain": [
              "array([11512, 15675, 26875, ..., 19932, 18447, 23485])"
            ]
          },
          "metadata": {},
          "execution_count": 13
        }
      ],
      "source": [
        "LDA.components_[0].argsort()"
      ]
    },
    {
      "cell_type": "code",
      "execution_count": 14,
      "metadata": {
        "id": "6Ld3AR4087Jg",
        "colab": {
          "base_uri": "https://localhost:8080/"
        },
        "outputId": "8cfecb06-99c8-4746-e385-05b1b63805af"
      },
      "outputs": [
        {
          "output_type": "execute_result",
          "data": {
            "text/plain": [
              "array([11512, 15675, 26875, 21606, 15221, 20935, 18622, 20156,  9015,\n",
              "       30034, 27895, 14451, 30563, 15649, 20811])"
            ]
          },
          "metadata": {},
          "execution_count": 14
        }
      ],
      "source": [
        "LDA.components_[0].argsort()[:15]"
      ]
    },
    {
      "cell_type": "code",
      "execution_count": 15,
      "metadata": {
        "id": "bJqwr1VP87Hh",
        "colab": {
          "base_uri": "https://localhost:8080/",
          "height": 35
        },
        "outputId": "ed08275e-4a3b-42cd-98bd-f6290d9a10c0"
      },
      "outputs": [
        {
          "output_type": "execute_result",
          "data": {
            "text/plain": [
              "'filter'"
            ],
            "application/vnd.google.colaboratory.intrinsic+json": {
              "type": "string"
            }
          },
          "metadata": {},
          "execution_count": 15
        }
      ],
      "source": [
        "vect.get_feature_names_out()[14451] #11526 #20811"
      ]
    },
    {
      "cell_type": "code",
      "source": [
        "# top palavras dos tópicos\n",
        "terms = vect.get_feature_names_out()\n",
        "\n",
        "for index, topic in enumerate(LDA.components_):\n",
        "    terms_comp = zip(terms, topic)\n",
        "    sorted_terms = sorted(terms_comp, key= lambda x:x[1], reverse=True)[:15]\n",
        "    print(\"THE TOP 15 WORDS FOR TOPIC # \"+str(index)+\": \")\n",
        "    #print(sorted_terms)\n",
        "    print([t[0] for t in sorted_terms])\n",
        "    print('\\n')"
      ],
      "metadata": {
        "colab": {
          "base_uri": "https://localhost:8080/"
        },
        "id": "O34J02ZTioys",
        "outputId": "9e66d21c-7f95-463c-94c6-c002d39633df"
      },
      "execution_count": 16,
      "outputs": [
        {
          "output_type": "stream",
          "name": "stdout",
          "text": [
            "THE TOP 15 WORDS FOR TOPIC # 0: \n",
            "['pincel', 'kit', 'maquiagem', 'cores', 'produto', 'cm', 'profissional', 'maleta', 'base', 'sombra', 'matte', '01', 'pincéis', 'ruby', 'rose']\n",
            "\n",
            "\n",
            "THE TOP 15 WORDS FOR TOPIC # 1: \n",
            "['produto', 'edição', 'livro', 'páginas', 'novo', 'vida', 'mundo', 'anos', 'história', '00', 'livros', 'origem', 'capa', 'sobre', 'série']\n",
            "\n",
            "\n",
            "THE TOP 15 WORDS FOR TOPIC # 2: \n",
            "['cílios', 'harry', '12', 'potter', 'produto', 'kit', 'fio', 'super', 'produtos', 'compra', 'tamanho', 'postiços', 'frete', 'flex', 'pode']\n",
            "\n",
            "\n",
            "THE TOP 15 WORDS FOR TOPIC # 3: \n",
            "['mercado', 'produto', 'pagamento', 'prazo', 'frete', 'entrega', 'envio', 'jogo', 'produtos', 'compra', 'dias', 'vendedor', 'comprar', 'anúncio', 'original']\n",
            "\n",
            "\n"
          ]
        }
      ]
    },
    {
      "cell_type": "code",
      "source": [
        "'''\n",
        "0 - maquiagem\n",
        "1 - livro\n",
        "2 - brinquedo\n",
        "3 - game\n",
        "'''"
      ],
      "metadata": {
        "id": "wNPIT2vc0vgK"
      },
      "execution_count": null,
      "outputs": []
    },
    {
      "cell_type": "code",
      "execution_count": null,
      "metadata": {
        "id": "jffMT1_-9Ma2"
      },
      "outputs": [],
      "source": [
        "'''\n",
        "for index, topic in enumerate(LDA.components_):\n",
        "    print(f'THE TOP 15 WORDS FOR TOPIC #{index}')\n",
        "    print([vect.get_feature_names_out()[i] for i in topic.argsort()[-15:]])\n",
        "    print('\\n')\n",
        "'''"
      ]
    },
    {
      "cell_type": "code",
      "source": [
        "# aplica o modelo de analise de tópicos na base de teste\n",
        "# vetorização\n",
        "text_vect_test = vect.transform(df_test.texto)\n",
        "\n",
        "# scoragem\n",
        "results = LDA.transform(text_vect_test)"
      ],
      "metadata": {
        "id": "3AusNyhXnxu0"
      },
      "execution_count": 20,
      "outputs": []
    },
    {
      "cell_type": "code",
      "execution_count": 21,
      "metadata": {
        "id": "UVngssMKAoGg",
        "colab": {
          "base_uri": "https://localhost:8080/"
        },
        "outputId": "38cd113f-db95-4944-8265-84e5d3ff689f"
      },
      "outputs": [
        {
          "output_type": "stream",
          "name": "stdout",
          "text": [
            "(2332, 31506)\n",
            "(584, 31506)\n",
            "2916\n"
          ]
        }
      ],
      "source": [
        "# contagem\n",
        "print(text_vect_train.shape)\n",
        "print(text_vect_test.shape)\n",
        "\n",
        "print(text_vect_train.shape[0]+text_vect_test.shape[0])"
      ]
    },
    {
      "cell_type": "code",
      "execution_count": 22,
      "metadata": {
        "id": "0UuI6P6G9151",
        "colab": {
          "base_uri": "https://localhost:8080/"
        },
        "outputId": "129602ad-b0f6-419d-9579-18810f422fab"
      },
      "outputs": [
        {
          "output_type": "execute_result",
          "data": {
            "text/plain": [
              "array([0.88342881, 0.02287574, 0.08830277, 0.00539267])"
            ]
          },
          "metadata": {},
          "execution_count": 22
        }
      ],
      "source": [
        "results[0]"
      ]
    },
    {
      "cell_type": "code",
      "execution_count": 23,
      "metadata": {
        "id": "1fCoke2V913x",
        "colab": {
          "base_uri": "https://localhost:8080/"
        },
        "outputId": "9938ebe4-a75c-4cae-84c9-012da5cb2433"
      },
      "outputs": [
        {
          "output_type": "execute_result",
          "data": {
            "text/plain": [
              "array([0, 0, 3, 0, 0, 1, 3, 1, 3, 3, 2, 1, 2, 1, 3, 3, 3, 3, 1, 2, 2, 1,\n",
              "       3, 0, 3, 0, 1, 0, 0, 0, 3, 1, 1, 2, 3, 3, 2, 0, 0, 1, 1, 2, 3, 3,\n",
              "       1, 3, 2, 0, 1, 1, 2, 1, 1, 2, 0, 1, 1, 2, 1, 2, 3, 3, 1, 1, 1, 1,\n",
              "       0, 1, 2, 1, 1, 2, 1, 3, 1, 1, 1, 1, 3, 3, 3, 1, 0, 0, 0, 0, 0, 0,\n",
              "       0, 1, 1, 1, 1, 1, 1, 2, 1, 1, 3, 3, 3, 0, 1, 2, 3, 2, 0, 2, 3, 2,\n",
              "       0, 3, 3, 1, 2, 3, 3, 3, 3, 3, 3, 2, 1, 3, 3, 3, 3, 0, 3, 1, 0, 1,\n",
              "       1, 0, 1, 1, 1, 0, 3, 1, 3, 2, 1, 3, 3, 3, 3, 1, 1, 1, 1, 3, 3, 2,\n",
              "       2, 3, 1, 1, 0, 2, 1, 1, 3, 0, 2, 2, 1, 3, 0, 1, 2, 3, 0, 1, 1, 0,\n",
              "       0, 1, 3, 1, 1, 1, 0, 1, 3, 1, 1, 0, 1, 3, 3, 2, 1, 3, 1, 1, 1, 3,\n",
              "       1, 1, 1, 1, 1, 1, 0, 1, 0, 0, 0, 0, 0, 1, 0, 3, 2, 3, 0, 3, 0, 1,\n",
              "       0, 0, 1, 2, 0, 2, 1, 1, 0, 3, 1, 1, 1, 2, 1, 3, 3, 3, 1, 1, 1, 3,\n",
              "       0, 3, 1, 1, 0, 0, 1, 3, 3, 2, 1, 0, 0, 3, 0, 3, 0, 1, 1, 1, 2, 1,\n",
              "       3, 3, 2, 1, 3, 0, 1, 0, 2, 0, 3, 3, 0, 1, 2, 3, 3, 3, 0, 1, 1, 1,\n",
              "       3, 1, 1, 1, 1, 2, 2, 0, 1, 3, 1, 2, 1, 0, 3, 3, 1, 1, 0, 0, 0, 0,\n",
              "       1, 0, 1, 1, 2, 1, 0, 1, 1, 1, 1, 1, 1, 0, 2, 0, 2, 1, 1, 3, 0, 2,\n",
              "       3, 2, 1, 2, 0, 1, 3, 2, 0, 3, 1, 0, 1, 1, 3, 3, 1, 0, 3, 1, 1, 1,\n",
              "       1, 3, 3, 3, 1, 2, 3, 2, 0, 0, 0, 1, 3, 1, 1, 0, 3, 0, 0, 0, 2, 2,\n",
              "       2, 1, 0, 1, 0, 1, 1, 3, 1, 3, 0, 1, 1, 1, 3, 1, 1, 1, 1, 0, 2, 1,\n",
              "       3, 1, 2, 1, 3, 3, 2, 3, 1, 0, 1, 1, 3, 1, 2, 1, 3, 1, 3, 0, 1, 1,\n",
              "       2, 1, 3, 1, 1, 3, 3, 2, 0, 1, 3, 0, 1, 1, 0, 3, 0, 1, 3, 3, 0, 1,\n",
              "       3, 2, 3, 2, 1, 2, 0, 0, 3, 1, 1, 1, 0, 3, 0, 0, 3, 1, 1, 0, 1, 3,\n",
              "       0, 0, 0, 1, 0, 3, 3, 1, 3, 1, 3, 0, 0, 1, 0, 3, 0, 0, 1, 1, 3, 0,\n",
              "       1, 1, 1, 3, 0, 1, 1, 1, 1, 0, 1, 1, 1, 3, 1, 1, 1, 0, 3, 3, 3, 0,\n",
              "       1, 0, 0, 1, 3, 2, 3, 3, 1, 3, 1, 3, 1, 2, 1, 2, 3, 3, 1, 3, 1, 1,\n",
              "       2, 0, 1, 0, 3, 1, 1, 0, 1, 0, 1, 2, 3, 1, 1, 1, 3, 2, 2, 2, 2, 3,\n",
              "       3, 3, 0, 3, 1, 2, 3, 1, 1, 3, 0, 2, 1, 3, 2, 1, 1, 2, 0, 1, 2, 2,\n",
              "       1, 0, 3, 1, 3, 1, 3, 0, 3, 0, 0, 1])"
            ]
          },
          "metadata": {},
          "execution_count": 23
        }
      ],
      "source": [
        "results.argmax(axis=1)"
      ]
    },
    {
      "cell_type": "code",
      "execution_count": 24,
      "metadata": {
        "id": "dNQNDgK4BWoe",
        "colab": {
          "base_uri": "https://localhost:8080/",
          "height": 275
        },
        "outputId": "ea9ada30-6068-41b1-c4ad-46c8cc761566"
      },
      "outputs": [
        {
          "output_type": "execute_result",
          "data": {
            "text/plain": [
              "                                                   nome  \\\n",
              "2700   Estojo Duo Iluminador E Bronzer Belle Angel M...   \n",
              "1297   Patrulha Canina Carrinhos De Fricção 6 Person...   \n",
              "3162   Pokemon Ultra Moon Nintendo 3ds Midia Fisica ...   \n",
              "2895                           Kite Pincel  12 Unidade    \n",
              "2226   Maleta Grande P/ Maquiagem Profissional Rodin...   \n",
              "\n",
              "                                              descricao  categoria  \\\n",
              "2700  DUO ILUMINADOR E BRONZER BELLE ANGEL - B025O D...  maquiagem   \n",
              "1297  Kit carrinhos da Patrulha canina Tamanho: Cerc...  brinquedo   \n",
              "3162  #Nossos produtos são NOVOS e 100% ORIGINAIS#  ...       game   \n",
              "2895  esta alta qualidade Punho de madeira Escova Co...  maquiagem   \n",
              "2226  FOTOS REAIS DO PRODUTO - ENVIAMOS SUA MALETA C...  maquiagem   \n",
              "\n",
              "                                                  texto  topico  \n",
              "2700   Estojo Duo Iluminador E Bronzer Belle Angel M...       0  \n",
              "1297   Patrulha Canina Carrinhos De Fricção 6 Person...       0  \n",
              "3162   Pokemon Ultra Moon Nintendo 3ds Midia Fisica ...       3  \n",
              "2895   Kite Pincel  12 Unidade  esta alta qualidade ...       0  \n",
              "2226   Maleta Grande P/ Maquiagem Profissional Rodin...       0  "
            ],
            "text/html": [
              "\n",
              "  <div id=\"df-2dfb0ee2-e8e0-43b1-8f4e-7124b9d24ef4\" class=\"colab-df-container\">\n",
              "    <div>\n",
              "<style scoped>\n",
              "    .dataframe tbody tr th:only-of-type {\n",
              "        vertical-align: middle;\n",
              "    }\n",
              "\n",
              "    .dataframe tbody tr th {\n",
              "        vertical-align: top;\n",
              "    }\n",
              "\n",
              "    .dataframe thead th {\n",
              "        text-align: right;\n",
              "    }\n",
              "</style>\n",
              "<table border=\"1\" class=\"dataframe\">\n",
              "  <thead>\n",
              "    <tr style=\"text-align: right;\">\n",
              "      <th></th>\n",
              "      <th>nome</th>\n",
              "      <th>descricao</th>\n",
              "      <th>categoria</th>\n",
              "      <th>texto</th>\n",
              "      <th>topico</th>\n",
              "    </tr>\n",
              "  </thead>\n",
              "  <tbody>\n",
              "    <tr>\n",
              "      <th>2700</th>\n",
              "      <td>Estojo Duo Iluminador E Bronzer Belle Angel M...</td>\n",
              "      <td>DUO ILUMINADOR E BRONZER BELLE ANGEL - B025O D...</td>\n",
              "      <td>maquiagem</td>\n",
              "      <td>Estojo Duo Iluminador E Bronzer Belle Angel M...</td>\n",
              "      <td>0</td>\n",
              "    </tr>\n",
              "    <tr>\n",
              "      <th>1297</th>\n",
              "      <td>Patrulha Canina Carrinhos De Fricção 6 Person...</td>\n",
              "      <td>Kit carrinhos da Patrulha canina Tamanho: Cerc...</td>\n",
              "      <td>brinquedo</td>\n",
              "      <td>Patrulha Canina Carrinhos De Fricção 6 Person...</td>\n",
              "      <td>0</td>\n",
              "    </tr>\n",
              "    <tr>\n",
              "      <th>3162</th>\n",
              "      <td>Pokemon Ultra Moon Nintendo 3ds Midia Fisica ...</td>\n",
              "      <td>#Nossos produtos são NOVOS e 100% ORIGINAIS#  ...</td>\n",
              "      <td>game</td>\n",
              "      <td>Pokemon Ultra Moon Nintendo 3ds Midia Fisica ...</td>\n",
              "      <td>3</td>\n",
              "    </tr>\n",
              "    <tr>\n",
              "      <th>2895</th>\n",
              "      <td>Kite Pincel  12 Unidade</td>\n",
              "      <td>esta alta qualidade Punho de madeira Escova Co...</td>\n",
              "      <td>maquiagem</td>\n",
              "      <td>Kite Pincel  12 Unidade  esta alta qualidade ...</td>\n",
              "      <td>0</td>\n",
              "    </tr>\n",
              "    <tr>\n",
              "      <th>2226</th>\n",
              "      <td>Maleta Grande P/ Maquiagem Profissional Rodin...</td>\n",
              "      <td>FOTOS REAIS DO PRODUTO - ENVIAMOS SUA MALETA C...</td>\n",
              "      <td>maquiagem</td>\n",
              "      <td>Maleta Grande P/ Maquiagem Profissional Rodin...</td>\n",
              "      <td>0</td>\n",
              "    </tr>\n",
              "  </tbody>\n",
              "</table>\n",
              "</div>\n",
              "    <div class=\"colab-df-buttons\">\n",
              "\n",
              "  <div class=\"colab-df-container\">\n",
              "    <button class=\"colab-df-convert\" onclick=\"convertToInteractive('df-2dfb0ee2-e8e0-43b1-8f4e-7124b9d24ef4')\"\n",
              "            title=\"Convert this dataframe to an interactive table.\"\n",
              "            style=\"display:none;\">\n",
              "\n",
              "  <svg xmlns=\"http://www.w3.org/2000/svg\" height=\"24px\" viewBox=\"0 -960 960 960\">\n",
              "    <path d=\"M120-120v-720h720v720H120Zm60-500h600v-160H180v160Zm220 220h160v-160H400v160Zm0 220h160v-160H400v160ZM180-400h160v-160H180v160Zm440 0h160v-160H620v160ZM180-180h160v-160H180v160Zm440 0h160v-160H620v160Z\"/>\n",
              "  </svg>\n",
              "    </button>\n",
              "\n",
              "  <style>\n",
              "    .colab-df-container {\n",
              "      display:flex;\n",
              "      gap: 12px;\n",
              "    }\n",
              "\n",
              "    .colab-df-convert {\n",
              "      background-color: #E8F0FE;\n",
              "      border: none;\n",
              "      border-radius: 50%;\n",
              "      cursor: pointer;\n",
              "      display: none;\n",
              "      fill: #1967D2;\n",
              "      height: 32px;\n",
              "      padding: 0 0 0 0;\n",
              "      width: 32px;\n",
              "    }\n",
              "\n",
              "    .colab-df-convert:hover {\n",
              "      background-color: #E2EBFA;\n",
              "      box-shadow: 0px 1px 2px rgba(60, 64, 67, 0.3), 0px 1px 3px 1px rgba(60, 64, 67, 0.15);\n",
              "      fill: #174EA6;\n",
              "    }\n",
              "\n",
              "    .colab-df-buttons div {\n",
              "      margin-bottom: 4px;\n",
              "    }\n",
              "\n",
              "    [theme=dark] .colab-df-convert {\n",
              "      background-color: #3B4455;\n",
              "      fill: #D2E3FC;\n",
              "    }\n",
              "\n",
              "    [theme=dark] .colab-df-convert:hover {\n",
              "      background-color: #434B5C;\n",
              "      box-shadow: 0px 1px 3px 1px rgba(0, 0, 0, 0.15);\n",
              "      filter: drop-shadow(0px 1px 2px rgba(0, 0, 0, 0.3));\n",
              "      fill: #FFFFFF;\n",
              "    }\n",
              "  </style>\n",
              "\n",
              "    <script>\n",
              "      const buttonEl =\n",
              "        document.querySelector('#df-2dfb0ee2-e8e0-43b1-8f4e-7124b9d24ef4 button.colab-df-convert');\n",
              "      buttonEl.style.display =\n",
              "        google.colab.kernel.accessAllowed ? 'block' : 'none';\n",
              "\n",
              "      async function convertToInteractive(key) {\n",
              "        const element = document.querySelector('#df-2dfb0ee2-e8e0-43b1-8f4e-7124b9d24ef4');\n",
              "        const dataTable =\n",
              "          await google.colab.kernel.invokeFunction('convertToInteractive',\n",
              "                                                    [key], {});\n",
              "        if (!dataTable) return;\n",
              "\n",
              "        const docLinkHtml = 'Like what you see? Visit the ' +\n",
              "          '<a target=\"_blank\" href=https://colab.research.google.com/notebooks/data_table.ipynb>data table notebook</a>'\n",
              "          + ' to learn more about interactive tables.';\n",
              "        element.innerHTML = '';\n",
              "        dataTable['output_type'] = 'display_data';\n",
              "        await google.colab.output.renderOutput(dataTable, element);\n",
              "        const docLink = document.createElement('div');\n",
              "        docLink.innerHTML = docLinkHtml;\n",
              "        element.appendChild(docLink);\n",
              "      }\n",
              "    </script>\n",
              "  </div>\n",
              "\n",
              "\n",
              "<div id=\"df-818b74b7-85b6-45ba-966f-55ade56e2073\">\n",
              "  <button class=\"colab-df-quickchart\" onclick=\"quickchart('df-818b74b7-85b6-45ba-966f-55ade56e2073')\"\n",
              "            title=\"Suggest charts\"\n",
              "            style=\"display:none;\">\n",
              "\n",
              "<svg xmlns=\"http://www.w3.org/2000/svg\" height=\"24px\"viewBox=\"0 0 24 24\"\n",
              "     width=\"24px\">\n",
              "    <g>\n",
              "        <path d=\"M19 3H5c-1.1 0-2 .9-2 2v14c0 1.1.9 2 2 2h14c1.1 0 2-.9 2-2V5c0-1.1-.9-2-2-2zM9 17H7v-7h2v7zm4 0h-2V7h2v10zm4 0h-2v-4h2v4z\"/>\n",
              "    </g>\n",
              "</svg>\n",
              "  </button>\n",
              "\n",
              "<style>\n",
              "  .colab-df-quickchart {\n",
              "      --bg-color: #E8F0FE;\n",
              "      --fill-color: #1967D2;\n",
              "      --hover-bg-color: #E2EBFA;\n",
              "      --hover-fill-color: #174EA6;\n",
              "      --disabled-fill-color: #AAA;\n",
              "      --disabled-bg-color: #DDD;\n",
              "  }\n",
              "\n",
              "  [theme=dark] .colab-df-quickchart {\n",
              "      --bg-color: #3B4455;\n",
              "      --fill-color: #D2E3FC;\n",
              "      --hover-bg-color: #434B5C;\n",
              "      --hover-fill-color: #FFFFFF;\n",
              "      --disabled-bg-color: #3B4455;\n",
              "      --disabled-fill-color: #666;\n",
              "  }\n",
              "\n",
              "  .colab-df-quickchart {\n",
              "    background-color: var(--bg-color);\n",
              "    border: none;\n",
              "    border-radius: 50%;\n",
              "    cursor: pointer;\n",
              "    display: none;\n",
              "    fill: var(--fill-color);\n",
              "    height: 32px;\n",
              "    padding: 0;\n",
              "    width: 32px;\n",
              "  }\n",
              "\n",
              "  .colab-df-quickchart:hover {\n",
              "    background-color: var(--hover-bg-color);\n",
              "    box-shadow: 0 1px 2px rgba(60, 64, 67, 0.3), 0 1px 3px 1px rgba(60, 64, 67, 0.15);\n",
              "    fill: var(--button-hover-fill-color);\n",
              "  }\n",
              "\n",
              "  .colab-df-quickchart-complete:disabled,\n",
              "  .colab-df-quickchart-complete:disabled:hover {\n",
              "    background-color: var(--disabled-bg-color);\n",
              "    fill: var(--disabled-fill-color);\n",
              "    box-shadow: none;\n",
              "  }\n",
              "\n",
              "  .colab-df-spinner {\n",
              "    border: 2px solid var(--fill-color);\n",
              "    border-color: transparent;\n",
              "    border-bottom-color: var(--fill-color);\n",
              "    animation:\n",
              "      spin 1s steps(1) infinite;\n",
              "  }\n",
              "\n",
              "  @keyframes spin {\n",
              "    0% {\n",
              "      border-color: transparent;\n",
              "      border-bottom-color: var(--fill-color);\n",
              "      border-left-color: var(--fill-color);\n",
              "    }\n",
              "    20% {\n",
              "      border-color: transparent;\n",
              "      border-left-color: var(--fill-color);\n",
              "      border-top-color: var(--fill-color);\n",
              "    }\n",
              "    30% {\n",
              "      border-color: transparent;\n",
              "      border-left-color: var(--fill-color);\n",
              "      border-top-color: var(--fill-color);\n",
              "      border-right-color: var(--fill-color);\n",
              "    }\n",
              "    40% {\n",
              "      border-color: transparent;\n",
              "      border-right-color: var(--fill-color);\n",
              "      border-top-color: var(--fill-color);\n",
              "    }\n",
              "    60% {\n",
              "      border-color: transparent;\n",
              "      border-right-color: var(--fill-color);\n",
              "    }\n",
              "    80% {\n",
              "      border-color: transparent;\n",
              "      border-right-color: var(--fill-color);\n",
              "      border-bottom-color: var(--fill-color);\n",
              "    }\n",
              "    90% {\n",
              "      border-color: transparent;\n",
              "      border-bottom-color: var(--fill-color);\n",
              "    }\n",
              "  }\n",
              "</style>\n",
              "\n",
              "  <script>\n",
              "    async function quickchart(key) {\n",
              "      const quickchartButtonEl =\n",
              "        document.querySelector('#' + key + ' button');\n",
              "      quickchartButtonEl.disabled = true;  // To prevent multiple clicks.\n",
              "      quickchartButtonEl.classList.add('colab-df-spinner');\n",
              "      try {\n",
              "        const charts = await google.colab.kernel.invokeFunction(\n",
              "            'suggestCharts', [key], {});\n",
              "      } catch (error) {\n",
              "        console.error('Error during call to suggestCharts:', error);\n",
              "      }\n",
              "      quickchartButtonEl.classList.remove('colab-df-spinner');\n",
              "      quickchartButtonEl.classList.add('colab-df-quickchart-complete');\n",
              "    }\n",
              "    (() => {\n",
              "      let quickchartButtonEl =\n",
              "        document.querySelector('#df-818b74b7-85b6-45ba-966f-55ade56e2073 button');\n",
              "      quickchartButtonEl.style.display =\n",
              "        google.colab.kernel.accessAllowed ? 'block' : 'none';\n",
              "    })();\n",
              "  </script>\n",
              "</div>\n",
              "    </div>\n",
              "  </div>\n"
            ]
          },
          "metadata": {},
          "execution_count": 24
        }
      ],
      "source": [
        "# seleciona o tópico com a maior probabilidade\n",
        "df_test['topico'] = results.argmax(axis=1)\n",
        "\n",
        "df_test.head()"
      ]
    },
    {
      "cell_type": "code",
      "execution_count": 25,
      "metadata": {
        "id": "qUj5Vik_BWl2",
        "colab": {
          "base_uri": "https://localhost:8080/",
          "height": 35
        },
        "outputId": "da7ab213-5cfa-4ff6-c031-132701ba0d0c"
      },
      "outputs": [
        {
          "output_type": "execute_result",
          "data": {
            "text/plain": [
              "'\\n0 - maquiagem\\n1 - livro\\n2 - brinquedo\\n3 - game\\n'"
            ],
            "application/vnd.google.colaboratory.intrinsic+json": {
              "type": "string"
            }
          },
          "metadata": {},
          "execution_count": 25
        }
      ],
      "source": [
        "# aplica de/para da classificação no dataframe\n",
        "import numpy as np\n",
        "\n",
        "df_test['categ_cod'] = df_test.categoria.map(\n",
        "    {'maquiagem': 0, 'livro':1, 'brinquedo': 2, 'game': 3}\n",
        "    )\n",
        "\n",
        "'''\n",
        "0 - maquiagem\n",
        "1 - livro\n",
        "2 - brinquedo\n",
        "3 - game\n",
        "'''"
      ]
    },
    {
      "cell_type": "code",
      "source": [
        "df_test.head()"
      ],
      "metadata": {
        "id": "0n048DC1o8FM",
        "colab": {
          "base_uri": "https://localhost:8080/",
          "height": 275
        },
        "outputId": "7aab8df2-6186-4b4a-a490-246cd5dc584a"
      },
      "execution_count": 26,
      "outputs": [
        {
          "output_type": "execute_result",
          "data": {
            "text/plain": [
              "                                                   nome  \\\n",
              "2700   Estojo Duo Iluminador E Bronzer Belle Angel M...   \n",
              "1297   Patrulha Canina Carrinhos De Fricção 6 Person...   \n",
              "3162   Pokemon Ultra Moon Nintendo 3ds Midia Fisica ...   \n",
              "2895                           Kite Pincel  12 Unidade    \n",
              "2226   Maleta Grande P/ Maquiagem Profissional Rodin...   \n",
              "\n",
              "                                              descricao  categoria  \\\n",
              "2700  DUO ILUMINADOR E BRONZER BELLE ANGEL - B025O D...  maquiagem   \n",
              "1297  Kit carrinhos da Patrulha canina Tamanho: Cerc...  brinquedo   \n",
              "3162  #Nossos produtos são NOVOS e 100% ORIGINAIS#  ...       game   \n",
              "2895  esta alta qualidade Punho de madeira Escova Co...  maquiagem   \n",
              "2226  FOTOS REAIS DO PRODUTO - ENVIAMOS SUA MALETA C...  maquiagem   \n",
              "\n",
              "                                                  texto  topico  categ_cod  \n",
              "2700   Estojo Duo Iluminador E Bronzer Belle Angel M...       0          0  \n",
              "1297   Patrulha Canina Carrinhos De Fricção 6 Person...       0          2  \n",
              "3162   Pokemon Ultra Moon Nintendo 3ds Midia Fisica ...       3          3  \n",
              "2895   Kite Pincel  12 Unidade  esta alta qualidade ...       0          0  \n",
              "2226   Maleta Grande P/ Maquiagem Profissional Rodin...       0          0  "
            ],
            "text/html": [
              "\n",
              "  <div id=\"df-494df85c-1013-4877-9860-7977a545aba6\" class=\"colab-df-container\">\n",
              "    <div>\n",
              "<style scoped>\n",
              "    .dataframe tbody tr th:only-of-type {\n",
              "        vertical-align: middle;\n",
              "    }\n",
              "\n",
              "    .dataframe tbody tr th {\n",
              "        vertical-align: top;\n",
              "    }\n",
              "\n",
              "    .dataframe thead th {\n",
              "        text-align: right;\n",
              "    }\n",
              "</style>\n",
              "<table border=\"1\" class=\"dataframe\">\n",
              "  <thead>\n",
              "    <tr style=\"text-align: right;\">\n",
              "      <th></th>\n",
              "      <th>nome</th>\n",
              "      <th>descricao</th>\n",
              "      <th>categoria</th>\n",
              "      <th>texto</th>\n",
              "      <th>topico</th>\n",
              "      <th>categ_cod</th>\n",
              "    </tr>\n",
              "  </thead>\n",
              "  <tbody>\n",
              "    <tr>\n",
              "      <th>2700</th>\n",
              "      <td>Estojo Duo Iluminador E Bronzer Belle Angel M...</td>\n",
              "      <td>DUO ILUMINADOR E BRONZER BELLE ANGEL - B025O D...</td>\n",
              "      <td>maquiagem</td>\n",
              "      <td>Estojo Duo Iluminador E Bronzer Belle Angel M...</td>\n",
              "      <td>0</td>\n",
              "      <td>0</td>\n",
              "    </tr>\n",
              "    <tr>\n",
              "      <th>1297</th>\n",
              "      <td>Patrulha Canina Carrinhos De Fricção 6 Person...</td>\n",
              "      <td>Kit carrinhos da Patrulha canina Tamanho: Cerc...</td>\n",
              "      <td>brinquedo</td>\n",
              "      <td>Patrulha Canina Carrinhos De Fricção 6 Person...</td>\n",
              "      <td>0</td>\n",
              "      <td>2</td>\n",
              "    </tr>\n",
              "    <tr>\n",
              "      <th>3162</th>\n",
              "      <td>Pokemon Ultra Moon Nintendo 3ds Midia Fisica ...</td>\n",
              "      <td>#Nossos produtos são NOVOS e 100% ORIGINAIS#  ...</td>\n",
              "      <td>game</td>\n",
              "      <td>Pokemon Ultra Moon Nintendo 3ds Midia Fisica ...</td>\n",
              "      <td>3</td>\n",
              "      <td>3</td>\n",
              "    </tr>\n",
              "    <tr>\n",
              "      <th>2895</th>\n",
              "      <td>Kite Pincel  12 Unidade</td>\n",
              "      <td>esta alta qualidade Punho de madeira Escova Co...</td>\n",
              "      <td>maquiagem</td>\n",
              "      <td>Kite Pincel  12 Unidade  esta alta qualidade ...</td>\n",
              "      <td>0</td>\n",
              "      <td>0</td>\n",
              "    </tr>\n",
              "    <tr>\n",
              "      <th>2226</th>\n",
              "      <td>Maleta Grande P/ Maquiagem Profissional Rodin...</td>\n",
              "      <td>FOTOS REAIS DO PRODUTO - ENVIAMOS SUA MALETA C...</td>\n",
              "      <td>maquiagem</td>\n",
              "      <td>Maleta Grande P/ Maquiagem Profissional Rodin...</td>\n",
              "      <td>0</td>\n",
              "      <td>0</td>\n",
              "    </tr>\n",
              "  </tbody>\n",
              "</table>\n",
              "</div>\n",
              "    <div class=\"colab-df-buttons\">\n",
              "\n",
              "  <div class=\"colab-df-container\">\n",
              "    <button class=\"colab-df-convert\" onclick=\"convertToInteractive('df-494df85c-1013-4877-9860-7977a545aba6')\"\n",
              "            title=\"Convert this dataframe to an interactive table.\"\n",
              "            style=\"display:none;\">\n",
              "\n",
              "  <svg xmlns=\"http://www.w3.org/2000/svg\" height=\"24px\" viewBox=\"0 -960 960 960\">\n",
              "    <path d=\"M120-120v-720h720v720H120Zm60-500h600v-160H180v160Zm220 220h160v-160H400v160Zm0 220h160v-160H400v160ZM180-400h160v-160H180v160Zm440 0h160v-160H620v160ZM180-180h160v-160H180v160Zm440 0h160v-160H620v160Z\"/>\n",
              "  </svg>\n",
              "    </button>\n",
              "\n",
              "  <style>\n",
              "    .colab-df-container {\n",
              "      display:flex;\n",
              "      gap: 12px;\n",
              "    }\n",
              "\n",
              "    .colab-df-convert {\n",
              "      background-color: #E8F0FE;\n",
              "      border: none;\n",
              "      border-radius: 50%;\n",
              "      cursor: pointer;\n",
              "      display: none;\n",
              "      fill: #1967D2;\n",
              "      height: 32px;\n",
              "      padding: 0 0 0 0;\n",
              "      width: 32px;\n",
              "    }\n",
              "\n",
              "    .colab-df-convert:hover {\n",
              "      background-color: #E2EBFA;\n",
              "      box-shadow: 0px 1px 2px rgba(60, 64, 67, 0.3), 0px 1px 3px 1px rgba(60, 64, 67, 0.15);\n",
              "      fill: #174EA6;\n",
              "    }\n",
              "\n",
              "    .colab-df-buttons div {\n",
              "      margin-bottom: 4px;\n",
              "    }\n",
              "\n",
              "    [theme=dark] .colab-df-convert {\n",
              "      background-color: #3B4455;\n",
              "      fill: #D2E3FC;\n",
              "    }\n",
              "\n",
              "    [theme=dark] .colab-df-convert:hover {\n",
              "      background-color: #434B5C;\n",
              "      box-shadow: 0px 1px 3px 1px rgba(0, 0, 0, 0.15);\n",
              "      filter: drop-shadow(0px 1px 2px rgba(0, 0, 0, 0.3));\n",
              "      fill: #FFFFFF;\n",
              "    }\n",
              "  </style>\n",
              "\n",
              "    <script>\n",
              "      const buttonEl =\n",
              "        document.querySelector('#df-494df85c-1013-4877-9860-7977a545aba6 button.colab-df-convert');\n",
              "      buttonEl.style.display =\n",
              "        google.colab.kernel.accessAllowed ? 'block' : 'none';\n",
              "\n",
              "      async function convertToInteractive(key) {\n",
              "        const element = document.querySelector('#df-494df85c-1013-4877-9860-7977a545aba6');\n",
              "        const dataTable =\n",
              "          await google.colab.kernel.invokeFunction('convertToInteractive',\n",
              "                                                    [key], {});\n",
              "        if (!dataTable) return;\n",
              "\n",
              "        const docLinkHtml = 'Like what you see? Visit the ' +\n",
              "          '<a target=\"_blank\" href=https://colab.research.google.com/notebooks/data_table.ipynb>data table notebook</a>'\n",
              "          + ' to learn more about interactive tables.';\n",
              "        element.innerHTML = '';\n",
              "        dataTable['output_type'] = 'display_data';\n",
              "        await google.colab.output.renderOutput(dataTable, element);\n",
              "        const docLink = document.createElement('div');\n",
              "        docLink.innerHTML = docLinkHtml;\n",
              "        element.appendChild(docLink);\n",
              "      }\n",
              "    </script>\n",
              "  </div>\n",
              "\n",
              "\n",
              "<div id=\"df-1a0c2ebb-e698-443c-ba2f-f71485af9bb8\">\n",
              "  <button class=\"colab-df-quickchart\" onclick=\"quickchart('df-1a0c2ebb-e698-443c-ba2f-f71485af9bb8')\"\n",
              "            title=\"Suggest charts\"\n",
              "            style=\"display:none;\">\n",
              "\n",
              "<svg xmlns=\"http://www.w3.org/2000/svg\" height=\"24px\"viewBox=\"0 0 24 24\"\n",
              "     width=\"24px\">\n",
              "    <g>\n",
              "        <path d=\"M19 3H5c-1.1 0-2 .9-2 2v14c0 1.1.9 2 2 2h14c1.1 0 2-.9 2-2V5c0-1.1-.9-2-2-2zM9 17H7v-7h2v7zm4 0h-2V7h2v10zm4 0h-2v-4h2v4z\"/>\n",
              "    </g>\n",
              "</svg>\n",
              "  </button>\n",
              "\n",
              "<style>\n",
              "  .colab-df-quickchart {\n",
              "      --bg-color: #E8F0FE;\n",
              "      --fill-color: #1967D2;\n",
              "      --hover-bg-color: #E2EBFA;\n",
              "      --hover-fill-color: #174EA6;\n",
              "      --disabled-fill-color: #AAA;\n",
              "      --disabled-bg-color: #DDD;\n",
              "  }\n",
              "\n",
              "  [theme=dark] .colab-df-quickchart {\n",
              "      --bg-color: #3B4455;\n",
              "      --fill-color: #D2E3FC;\n",
              "      --hover-bg-color: #434B5C;\n",
              "      --hover-fill-color: #FFFFFF;\n",
              "      --disabled-bg-color: #3B4455;\n",
              "      --disabled-fill-color: #666;\n",
              "  }\n",
              "\n",
              "  .colab-df-quickchart {\n",
              "    background-color: var(--bg-color);\n",
              "    border: none;\n",
              "    border-radius: 50%;\n",
              "    cursor: pointer;\n",
              "    display: none;\n",
              "    fill: var(--fill-color);\n",
              "    height: 32px;\n",
              "    padding: 0;\n",
              "    width: 32px;\n",
              "  }\n",
              "\n",
              "  .colab-df-quickchart:hover {\n",
              "    background-color: var(--hover-bg-color);\n",
              "    box-shadow: 0 1px 2px rgba(60, 64, 67, 0.3), 0 1px 3px 1px rgba(60, 64, 67, 0.15);\n",
              "    fill: var(--button-hover-fill-color);\n",
              "  }\n",
              "\n",
              "  .colab-df-quickchart-complete:disabled,\n",
              "  .colab-df-quickchart-complete:disabled:hover {\n",
              "    background-color: var(--disabled-bg-color);\n",
              "    fill: var(--disabled-fill-color);\n",
              "    box-shadow: none;\n",
              "  }\n",
              "\n",
              "  .colab-df-spinner {\n",
              "    border: 2px solid var(--fill-color);\n",
              "    border-color: transparent;\n",
              "    border-bottom-color: var(--fill-color);\n",
              "    animation:\n",
              "      spin 1s steps(1) infinite;\n",
              "  }\n",
              "\n",
              "  @keyframes spin {\n",
              "    0% {\n",
              "      border-color: transparent;\n",
              "      border-bottom-color: var(--fill-color);\n",
              "      border-left-color: var(--fill-color);\n",
              "    }\n",
              "    20% {\n",
              "      border-color: transparent;\n",
              "      border-left-color: var(--fill-color);\n",
              "      border-top-color: var(--fill-color);\n",
              "    }\n",
              "    30% {\n",
              "      border-color: transparent;\n",
              "      border-left-color: var(--fill-color);\n",
              "      border-top-color: var(--fill-color);\n",
              "      border-right-color: var(--fill-color);\n",
              "    }\n",
              "    40% {\n",
              "      border-color: transparent;\n",
              "      border-right-color: var(--fill-color);\n",
              "      border-top-color: var(--fill-color);\n",
              "    }\n",
              "    60% {\n",
              "      border-color: transparent;\n",
              "      border-right-color: var(--fill-color);\n",
              "    }\n",
              "    80% {\n",
              "      border-color: transparent;\n",
              "      border-right-color: var(--fill-color);\n",
              "      border-bottom-color: var(--fill-color);\n",
              "    }\n",
              "    90% {\n",
              "      border-color: transparent;\n",
              "      border-bottom-color: var(--fill-color);\n",
              "    }\n",
              "  }\n",
              "</style>\n",
              "\n",
              "  <script>\n",
              "    async function quickchart(key) {\n",
              "      const quickchartButtonEl =\n",
              "        document.querySelector('#' + key + ' button');\n",
              "      quickchartButtonEl.disabled = true;  // To prevent multiple clicks.\n",
              "      quickchartButtonEl.classList.add('colab-df-spinner');\n",
              "      try {\n",
              "        const charts = await google.colab.kernel.invokeFunction(\n",
              "            'suggestCharts', [key], {});\n",
              "      } catch (error) {\n",
              "        console.error('Error during call to suggestCharts:', error);\n",
              "      }\n",
              "      quickchartButtonEl.classList.remove('colab-df-spinner');\n",
              "      quickchartButtonEl.classList.add('colab-df-quickchart-complete');\n",
              "    }\n",
              "    (() => {\n",
              "      let quickchartButtonEl =\n",
              "        document.querySelector('#df-1a0c2ebb-e698-443c-ba2f-f71485af9bb8 button');\n",
              "      quickchartButtonEl.style.display =\n",
              "        google.colab.kernel.accessAllowed ? 'block' : 'none';\n",
              "    })();\n",
              "  </script>\n",
              "</div>\n",
              "    </div>\n",
              "  </div>\n"
            ]
          },
          "metadata": {},
          "execution_count": 26
        }
      ]
    },
    {
      "cell_type": "code",
      "execution_count": 27,
      "metadata": {
        "id": "wk-yWyPMBWjs",
        "colab": {
          "base_uri": "https://localhost:8080/"
        },
        "outputId": "37090c1f-f33e-4de0-d6e8-8a11970cab9e"
      },
      "outputs": [
        {
          "output_type": "stream",
          "name": "stdout",
          "text": [
            "<class 'pandas.core.frame.DataFrame'>\n",
            "Int64Index: 584 entries, 2700 to 1842\n",
            "Data columns (total 6 columns):\n",
            " #   Column     Non-Null Count  Dtype \n",
            "---  ------     --------------  ----- \n",
            " 0   nome       584 non-null    object\n",
            " 1   descricao  584 non-null    object\n",
            " 2   categoria  584 non-null    object\n",
            " 3   texto      584 non-null    object\n",
            " 4   topico     584 non-null    int64 \n",
            " 5   categ_cod  584 non-null    int64 \n",
            "dtypes: int64(2), object(4)\n",
            "memory usage: 31.9+ KB\n"
          ]
        }
      ],
      "source": [
        "df_test.info()"
      ]
    },
    {
      "cell_type": "code",
      "execution_count": 28,
      "metadata": {
        "id": "bLeIHBc0BWhS",
        "colab": {
          "base_uri": "https://localhost:8080/"
        },
        "outputId": "dc02b017-c644-45f9-c6d9-3f9133040215"
      },
      "outputs": [
        {
          "output_type": "stream",
          "name": "stdout",
          "text": [
            "0.6575342465753424\n"
          ]
        }
      ],
      "source": [
        "from sklearn.metrics import accuracy_score, confusion_matrix\n",
        "\n",
        "print(accuracy_score(df_test.categ_cod, df_test.topico))"
      ]
    },
    {
      "cell_type": "code",
      "execution_count": 29,
      "metadata": {
        "id": "EfQrsrrgEqYQ",
        "colab": {
          "base_uri": "https://localhost:8080/",
          "height": 622
        },
        "outputId": "08071773-9e39-4a6b-8dd0-aca7ba800ac8"
      },
      "outputs": [
        {
          "output_type": "execute_result",
          "data": {
            "text/plain": [
              "<Axes: >"
            ]
          },
          "metadata": {},
          "execution_count": 29
        },
        {
          "output_type": "display_data",
          "data": {
            "text/plain": [
              "<Figure size 1000x700 with 2 Axes>"
            ],
            "image/png": "[encoded data removed]"
          },
          "metadata": {}
        }
      ],
      "source": [
        "import seaborn as sns\n",
        "import matplotlib.pyplot as plt\n",
        "\n",
        "matrix = confusion_matrix(df_test.categ_cod, df_test.topico)\n",
        "\n",
        "df_cm = pd.DataFrame(matrix, index=list('0123'),\n",
        "                  columns=list('0123'))\n",
        "plt.figure(figsize = (10,7))\n",
        "sns.heatmap(df_cm, annot=True)"
      ]
    },
    {
      "cell_type": "markdown",
      "source": [
        "## ***Outros exemplos***"
      ],
      "metadata": {
        "id": "fSxsDKLypbtU"
      }
    },
    {
      "cell_type": "markdown",
      "metadata": {
        "id": "O170Q6rKJBbC"
      },
      "source": [
        "<font size=4>\n",
        "<b>max_df:</b> float in range [0.0, 1.0] or int, default=1.0<br/>\n",
        "When building the vocabulary ignore terms that have a document frequency strictly higher than the given threshold (corpus-specific stop words). If float, the parameter represents a proportion of documents, integer absolute counts. This parameter is ignored if vocabulary is not None.<br/>\n",
        "Google T: Ao criar o vocabulário, ignore os termos que tenham uma frequência de documento estritamente maior que o limite fornecido (palavras de parada específicas do corpus). Se flutuante, o parâmetro representa uma proporção de documentos, número absoluto de contagens. Este parâmetro será ignorado se o vocabulário não for Nenhum.\n",
        "<br/>\n",
        "<br/>\n",
        "\n",
        "<b>min_df:</b> float in range [0.0, 1.0] or int, default=1<br/>\n",
        "When building the vocabulary ignore terms that have a document frequency strictly lower than the given threshold. This value is also called cut-off in the literature. If float, the parameter represents a proportion of documents, integer absolute counts. This parameter is ignored if vocabulary is not None.<br/>\n",
        "Google T: Ao criar o vocabulário, ignore os termos que tenham uma frequência de documento estritamente menor que o limite especificado. Esse valor também é chamado de corte na literatura. Se flutuante, o parâmetro representa uma proporção de documentos, número absoluto de contagens. Este parâmetro será ignorado se o vocabulário não for Nenhum.\n",
        "</font>"
      ]
    },
    {
      "cell_type": "code",
      "source": [
        "df_train\n",
        "df_test"
      ],
      "metadata": {
        "id": "TssmYZfnpzuJ",
        "colab": {
          "base_uri": "https://localhost:8080/",
          "height": 579
        },
        "outputId": "8ee81e87-2dca-44e6-bae6-b12fd507a251"
      },
      "execution_count": 30,
      "outputs": [
        {
          "output_type": "execute_result",
          "data": {
            "text/plain": [
              "                                                   nome  \\\n",
              "2700   Estojo Duo Iluminador E Bronzer Belle Angel M...   \n",
              "1297   Patrulha Canina Carrinhos De Fricção 6 Person...   \n",
              "3162   Pokemon Ultra Moon Nintendo 3ds Midia Fisica ...   \n",
              "2895                           Kite Pincel  12 Unidade    \n",
              "2226   Maleta Grande P/ Maquiagem Profissional Rodin...   \n",
              "...                                                 ...   \n",
              "3058   Maleta Maquiagem 3d Jasmyne 105 Batons Sombra...   \n",
              "3110   Cartão Presente Steam Gift Card R$ 200 Reais ...   \n",
              "1364   Kit Com 2 Pista Mágica Maluca Carros 3 Com Lu...   \n",
              "641    Mais Escuro Cinquenta Tons Mais Escuros Pelos...   \n",
              "1842                   Boneco Dragon Ball Z Son Gokou     \n",
              "\n",
              "                                              descricao  categoria  \\\n",
              "2700  DUO ILUMINADOR E BRONZER BELLE ANGEL - B025O D...  maquiagem   \n",
              "1297  Kit carrinhos da Patrulha canina Tamanho: Cerc...  brinquedo   \n",
              "3162  #Nossos produtos são NOVOS e 100% ORIGINAIS#  ...       game   \n",
              "2895  esta alta qualidade Punho de madeira Escova Co...  maquiagem   \n",
              "2226  FOTOS REAIS DO PRODUTO - ENVIAMOS SUA MALETA C...  maquiagem   \n",
              "...                                                 ...        ...   \n",
              "3058  Maleta Jasmyne-32 sombras 3D ou matte-06 blush...  maquiagem   \n",
              "3110  .:: VOCÊ ESTÁ COMPRANDO COM A VR GAMERS ::.EST...       game   \n",
              "1364  Pista Montável Relâmpago Mcqueen Jackson Storm...  brinquedo   \n",
              "641   Sinopse:E L James revisita Cinquenta tons com ...      livro   \n",
              "1842                                       Produto novo  brinquedo   \n",
              "\n",
              "                                                  texto  topico  categ_cod  \n",
              "2700   Estojo Duo Iluminador E Bronzer Belle Angel M...       0          0  \n",
              "1297   Patrulha Canina Carrinhos De Fricção 6 Person...       0          2  \n",
              "3162   Pokemon Ultra Moon Nintendo 3ds Midia Fisica ...       3          3  \n",
              "2895   Kite Pincel  12 Unidade  esta alta qualidade ...       0          0  \n",
              "2226   Maleta Grande P/ Maquiagem Profissional Rodin...       0          0  \n",
              "...                                                 ...     ...        ...  \n",
              "3058   Maleta Maquiagem 3d Jasmyne 105 Batons Sombra...       0          0  \n",
              "3110   Cartão Presente Steam Gift Card R$ 200 Reais ...       3          3  \n",
              "1364   Kit Com 2 Pista Mágica Maluca Carros 3 Com Lu...       0          2  \n",
              "641    Mais Escuro Cinquenta Tons Mais Escuros Pelos...       0          1  \n",
              "1842      Boneco Dragon Ball Z Son Gokou   Produto novo       1          2  \n",
              "\n",
              "[584 rows x 6 columns]"
            ],
            "text/html": [
              "\n",
              "  <div id=\"df-4e2e7e09-1439-451b-b801-3b78cad8f66e\" class=\"colab-df-container\">\n",
              "    <div>\n",
              "<style scoped>\n",
              "    .dataframe tbody tr th:only-of-type {\n",
              "        vertical-align: middle;\n",
              "    }\n",
              "\n",
              "    .dataframe tbody tr th {\n",
              "        vertical-align: top;\n",
              "    }\n",
              "\n",
              "    .dataframe thead th {\n",
              "        text-align: right;\n",
              "    }\n",
              "</style>\n",
              "<table border=\"1\" class=\"dataframe\">\n",
              "  <thead>\n",
              "    <tr style=\"text-align: right;\">\n",
              "      <th></th>\n",
              "      <th>nome</th>\n",
              "      <th>descricao</th>\n",
              "      <th>categoria</th>\n",
              "      <th>texto</th>\n",
              "      <th>topico</th>\n",
              "      <th>categ_cod</th>\n",
              "    </tr>\n",
              "  </thead>\n",
              "  <tbody>\n",
              "    <tr>\n",
              "      <th>2700</th>\n",
              "      <td>Estojo Duo Iluminador E Bronzer Belle Angel M...</td>\n",
              "      <td>DUO ILUMINADOR E BRONZER BELLE ANGEL - B025O D...</td>\n",
              "      <td>maquiagem</td>\n",
              "      <td>Estojo Duo Iluminador E Bronzer Belle Angel M...</td>\n",
              "      <td>0</td>\n",
              "      <td>0</td>\n",
              "    </tr>\n",
              "    <tr>\n",
              "      <th>1297</th>\n",
              "      <td>Patrulha Canina Carrinhos De Fricção 6 Person...</td>\n",
              "      <td>Kit carrinhos da Patrulha canina Tamanho: Cerc...</td>\n",
              "      <td>brinquedo</td>\n",
              "      <td>Patrulha Canina Carrinhos De Fricção 6 Person...</td>\n",
              "      <td>0</td>\n",
              "      <td>2</td>\n",
              "    </tr>\n",
              "    <tr>\n",
              "      <th>3162</th>\n",
              "      <td>Pokemon Ultra Moon Nintendo 3ds Midia Fisica ...</td>\n",
              "      <td>#Nossos produtos são NOVOS e 100% ORIGINAIS#  ...</td>\n",
              "      <td>game</td>\n",
              "      <td>Pokemon Ultra Moon Nintendo 3ds Midia Fisica ...</td>\n",
              "      <td>3</td>\n",
              "      <td>3</td>\n",
              "    </tr>\n",
              "    <tr>\n",
              "      <th>2895</th>\n",
              "      <td>Kite Pincel  12 Unidade</td>\n",
              "      <td>esta alta qualidade Punho de madeira Escova Co...</td>\n",
              "      <td>maquiagem</td>\n",
              "      <td>Kite Pincel  12 Unidade  esta alta qualidade ...</td>\n",
              "      <td>0</td>\n",
              "      <td>0</td>\n",
              "    </tr>\n",
              "    <tr>\n",
              "      <th>2226</th>\n",
              "      <td>Maleta Grande P/ Maquiagem Profissional Rodin...</td>\n",
              "      <td>FOTOS REAIS DO PRODUTO - ENVIAMOS SUA MALETA C...</td>\n",
              "      <td>maquiagem</td>\n",
              "      <td>Maleta Grande P/ Maquiagem Profissional Rodin...</td>\n",
              "      <td>0</td>\n",
              "      <td>0</td>\n",
              "    </tr>\n",
              "    <tr>\n",
              "      <th>...</th>\n",
              "      <td>...</td>\n",
              "      <td>...</td>\n",
              "      <td>...</td>\n",
              "      <td>...</td>\n",
              "      <td>...</td>\n",
              "      <td>...</td>\n",
              "    </tr>\n",
              "    <tr>\n",
              "      <th>3058</th>\n",
              "      <td>Maleta Maquiagem 3d Jasmyne 105 Batons Sombra...</td>\n",
              "      <td>Maleta Jasmyne-32 sombras 3D ou matte-06 blush...</td>\n",
              "      <td>maquiagem</td>\n",
              "      <td>Maleta Maquiagem 3d Jasmyne 105 Batons Sombra...</td>\n",
              "      <td>0</td>\n",
              "      <td>0</td>\n",
              "    </tr>\n",
              "    <tr>\n",
              "      <th>3110</th>\n",
              "      <td>Cartão Presente Steam Gift Card R$ 200 Reais ...</td>\n",
              "      <td>.:: VOCÊ ESTÁ COMPRANDO COM A VR GAMERS ::.EST...</td>\n",
              "      <td>game</td>\n",
              "      <td>Cartão Presente Steam Gift Card R$ 200 Reais ...</td>\n",
              "      <td>3</td>\n",
              "      <td>3</td>\n",
              "    </tr>\n",
              "    <tr>\n",
              "      <th>1364</th>\n",
              "      <td>Kit Com 2 Pista Mágica Maluca Carros 3 Com Lu...</td>\n",
              "      <td>Pista Montável Relâmpago Mcqueen Jackson Storm...</td>\n",
              "      <td>brinquedo</td>\n",
              "      <td>Kit Com 2 Pista Mágica Maluca Carros 3 Com Lu...</td>\n",
              "      <td>0</td>\n",
              "      <td>2</td>\n",
              "    </tr>\n",
              "    <tr>\n",
              "      <th>641</th>\n",
              "      <td>Mais Escuro Cinquenta Tons Mais Escuros Pelos...</td>\n",
              "      <td>Sinopse:E L James revisita Cinquenta tons com ...</td>\n",
              "      <td>livro</td>\n",
              "      <td>Mais Escuro Cinquenta Tons Mais Escuros Pelos...</td>\n",
              "      <td>0</td>\n",
              "      <td>1</td>\n",
              "    </tr>\n",
              "    <tr>\n",
              "      <th>1842</th>\n",
              "      <td>Boneco Dragon Ball Z Son Gokou</td>\n",
              "      <td>Produto novo</td>\n",
              "      <td>brinquedo</td>\n",
              "      <td>Boneco Dragon Ball Z Son Gokou   Produto novo</td>\n",
              "      <td>1</td>\n",
              "      <td>2</td>\n",
              "    </tr>\n",
              "  </tbody>\n",
              "</table>\n",
              "<p>584 rows × 6 columns</p>\n",
              "</div>\n",
              "    <div class=\"colab-df-buttons\">\n",
              "\n",
              "  <div class=\"colab-df-container\">\n",
              "    <button class=\"colab-df-convert\" onclick=\"convertToInteractive('df-4e2e7e09-1439-451b-b801-3b78cad8f66e')\"\n",
              "            title=\"Convert this dataframe to an interactive table.\"\n",
              "            style=\"display:none;\">\n",
              "\n",
              "  <svg xmlns=\"http://www.w3.org/2000/svg\" height=\"24px\" viewBox=\"0 -960 960 960\">\n",
              "    <path d=\"M120-120v-720h720v720H120Zm60-500h600v-160H180v160Zm220 220h160v-160H400v160Zm0 220h160v-160H400v160ZM180-400h160v-160H180v160Zm440 0h160v-160H620v160ZM180-180h160v-160H180v160Zm440 0h160v-160H620v160Z\"/>\n",
              "  </svg>\n",
              "    </button>\n",
              "\n",
              "  <style>\n",
              "    .colab-df-container {\n",
              "      display:flex;\n",
              "      gap: 12px;\n",
              "    }\n",
              "\n",
              "    .colab-df-convert {\n",
              "      background-color: #E8F0FE;\n",
              "      border: none;\n",
              "      border-radius: 50%;\n",
              "      cursor: pointer;\n",
              "      display: none;\n",
              "      fill: #1967D2;\n",
              "      height: 32px;\n",
              "      padding: 0 0 0 0;\n",
              "      width: 32px;\n",
              "    }\n",
              "\n",
              "    .colab-df-convert:hover {\n",
              "      background-color: #E2EBFA;\n",
              "      box-shadow: 0px 1px 2px rgba(60, 64, 67, 0.3), 0px 1px 3px 1px rgba(60, 64, 67, 0.15);\n",
              "      fill: #174EA6;\n",
              "    }\n",
              "\n",
              "    .colab-df-buttons div {\n",
              "      margin-bottom: 4px;\n",
              "    }\n",
              "\n",
              "    [theme=dark] .colab-df-convert {\n",
              "      background-color: #3B4455;\n",
              "      fill: #D2E3FC;\n",
              "    }\n",
              "\n",
              "    [theme=dark] .colab-df-convert:hover {\n",
              "      background-color: #434B5C;\n",
              "      box-shadow: 0px 1px 3px 1px rgba(0, 0, 0, 0.15);\n",
              "      filter: drop-shadow(0px 1px 2px rgba(0, 0, 0, 0.3));\n",
              "      fill: #FFFFFF;\n",
              "    }\n",
              "  </style>\n",
              "\n",
              "    <script>\n",
              "      const buttonEl =\n",
              "        document.querySelector('#df-4e2e7e09-1439-451b-b801-3b78cad8f66e button.colab-df-convert');\n",
              "      buttonEl.style.display =\n",
              "        google.colab.kernel.accessAllowed ? 'block' : 'none';\n",
              "\n",
              "      async function convertToInteractive(key) {\n",
              "        const element = document.querySelector('#df-4e2e7e09-1439-451b-b801-3b78cad8f66e');\n",
              "        const dataTable =\n",
              "          await google.colab.kernel.invokeFunction('convertToInteractive',\n",
              "                                                    [key], {});\n",
              "        if (!dataTable) return;\n",
              "\n",
              "        const docLinkHtml = 'Like what you see? Visit the ' +\n",
              "          '<a target=\"_blank\" href=https://colab.research.google.com/notebooks/data_table.ipynb>data table notebook</a>'\n",
              "          + ' to learn more about interactive tables.';\n",
              "        element.innerHTML = '';\n",
              "        dataTable['output_type'] = 'display_data';\n",
              "        await google.colab.output.renderOutput(dataTable, element);\n",
              "        const docLink = document.createElement('div');\n",
              "        docLink.innerHTML = docLinkHtml;\n",
              "        element.appendChild(docLink);\n",
              "      }\n",
              "    </script>\n",
              "  </div>\n",
              "\n",
              "\n",
              "<div id=\"df-1e2cb809-42db-4e56-807b-caf52e8e4e2c\">\n",
              "  <button class=\"colab-df-quickchart\" onclick=\"quickchart('df-1e2cb809-42db-4e56-807b-caf52e8e4e2c')\"\n",
              "            title=\"Suggest charts\"\n",
              "            style=\"display:none;\">\n",
              "\n",
              "<svg xmlns=\"http://www.w3.org/2000/svg\" height=\"24px\"viewBox=\"0 0 24 24\"\n",
              "     width=\"24px\">\n",
              "    <g>\n",
              "        <path d=\"M19 3H5c-1.1 0-2 .9-2 2v14c0 1.1.9 2 2 2h14c1.1 0 2-.9 2-2V5c0-1.1-.9-2-2-2zM9 17H7v-7h2v7zm4 0h-2V7h2v10zm4 0h-2v-4h2v4z\"/>\n",
              "    </g>\n",
              "</svg>\n",
              "  </button>\n",
              "\n",
              "<style>\n",
              "  .colab-df-quickchart {\n",
              "      --bg-color: #E8F0FE;\n",
              "      --fill-color: #1967D2;\n",
              "      --hover-bg-color: #E2EBFA;\n",
              "      --hover-fill-color: #174EA6;\n",
              "      --disabled-fill-color: #AAA;\n",
              "      --disabled-bg-color: #DDD;\n",
              "  }\n",
              "\n",
              "  [theme=dark] .colab-df-quickchart {\n",
              "      --bg-color: #3B4455;\n",
              "      --fill-color: #D2E3FC;\n",
              "      --hover-bg-color: #434B5C;\n",
              "      --hover-fill-color: #FFFFFF;\n",
              "      --disabled-bg-color: #3B4455;\n",
              "      --disabled-fill-color: #666;\n",
              "  }\n",
              "\n",
              "  .colab-df-quickchart {\n",
              "    background-color: var(--bg-color);\n",
              "    border: none;\n",
              "    border-radius: 50%;\n",
              "    cursor: pointer;\n",
              "    display: none;\n",
              "    fill: var(--fill-color);\n",
              "    height: 32px;\n",
              "    padding: 0;\n",
              "    width: 32px;\n",
              "  }\n",
              "\n",
              "  .colab-df-quickchart:hover {\n",
              "    background-color: var(--hover-bg-color);\n",
              "    box-shadow: 0 1px 2px rgba(60, 64, 67, 0.3), 0 1px 3px 1px rgba(60, 64, 67, 0.15);\n",
              "    fill: var(--button-hover-fill-color);\n",
              "  }\n",
              "\n",
              "  .colab-df-quickchart-complete:disabled,\n",
              "  .colab-df-quickchart-complete:disabled:hover {\n",
              "    background-color: var(--disabled-bg-color);\n",
              "    fill: var(--disabled-fill-color);\n",
              "    box-shadow: none;\n",
              "  }\n",
              "\n",
              "  .colab-df-spinner {\n",
              "    border: 2px solid var(--fill-color);\n",
              "    border-color: transparent;\n",
              "    border-bottom-color: var(--fill-color);\n",
              "    animation:\n",
              "      spin 1s steps(1) infinite;\n",
              "  }\n",
              "\n",
              "  @keyframes spin {\n",
              "    0% {\n",
              "      border-color: transparent;\n",
              "      border-bottom-color: var(--fill-color);\n",
              "      border-left-color: var(--fill-color);\n",
              "    }\n",
              "    20% {\n",
              "      border-color: transparent;\n",
              "      border-left-color: var(--fill-color);\n",
              "      border-top-color: var(--fill-color);\n",
              "    }\n",
              "    30% {\n",
              "      border-color: transparent;\n",
              "      border-left-color: var(--fill-color);\n",
              "      border-top-color: var(--fill-color);\n",
              "      border-right-color: var(--fill-color);\n",
              "    }\n",
              "    40% {\n",
              "      border-color: transparent;\n",
              "      border-right-color: var(--fill-color);\n",
              "      border-top-color: var(--fill-color);\n",
              "    }\n",
              "    60% {\n",
              "      border-color: transparent;\n",
              "      border-right-color: var(--fill-color);\n",
              "    }\n",
              "    80% {\n",
              "      border-color: transparent;\n",
              "      border-right-color: var(--fill-color);\n",
              "      border-bottom-color: var(--fill-color);\n",
              "    }\n",
              "    90% {\n",
              "      border-color: transparent;\n",
              "      border-bottom-color: var(--fill-color);\n",
              "    }\n",
              "  }\n",
              "</style>\n",
              "\n",
              "  <script>\n",
              "    async function quickchart(key) {\n",
              "      const quickchartButtonEl =\n",
              "        document.querySelector('#' + key + ' button');\n",
              "      quickchartButtonEl.disabled = true;  // To prevent multiple clicks.\n",
              "      quickchartButtonEl.classList.add('colab-df-spinner');\n",
              "      try {\n",
              "        const charts = await google.colab.kernel.invokeFunction(\n",
              "            'suggestCharts', [key], {});\n",
              "      } catch (error) {\n",
              "        console.error('Error during call to suggestCharts:', error);\n",
              "      }\n",
              "      quickchartButtonEl.classList.remove('colab-df-spinner');\n",
              "      quickchartButtonEl.classList.add('colab-df-quickchart-complete');\n",
              "    }\n",
              "    (() => {\n",
              "      let quickchartButtonEl =\n",
              "        document.querySelector('#df-1e2cb809-42db-4e56-807b-caf52e8e4e2c button');\n",
              "      quickchartButtonEl.style.display =\n",
              "        google.colab.kernel.accessAllowed ? 'block' : 'none';\n",
              "    })();\n",
              "  </script>\n",
              "</div>\n",
              "    </div>\n",
              "  </div>\n"
            ]
          },
          "metadata": {},
          "execution_count": 30
        }
      ]
    },
    {
      "cell_type": "code",
      "source": [
        "from sklearn.feature_extraction.text import TfidfVectorizer\n",
        "from sklearn.model_selection import train_test_split\n",
        "\n",
        "stops = nltk.corpus.stopwords.words('portuguese')\n",
        "\n",
        "vect = TfidfVectorizer(ngram_range=(2,2), stop_words=stops, max_df=0.9, min_df=2)\n",
        "vect.fit(df_train.texto)\n",
        "text_vect_train = vect.transform(df_train.texto)\n",
        "\n",
        "LDA2 = LatentDirichletAllocation(n_components=4,random_state=42)\n",
        "LDA2.fit(text_vect_train)"
      ],
      "metadata": {
        "id": "lwMIbcT4pjnY",
        "colab": {
          "base_uri": "https://localhost:8080/",
          "height": 74
        },
        "outputId": "e90726cc-d781-479b-add6-60f30ce82bea"
      },
      "execution_count": 31,
      "outputs": [
        {
          "output_type": "execute_result",
          "data": {
            "text/plain": [
              "LatentDirichletAllocation(n_components=4, random_state=42)"
            ],
            "text/html": [
              "<style>#sk-container-id-2 {color: black;background-color: white;}#sk-container-id-2 pre{padding: 0;}#sk-container-id-2 div.sk-toggleable {background-color: white;}#sk-container-id-2 label.sk-toggleable__label {cursor: pointer;display: block;width: 100%;margin-bottom: 0;padding: 0.3em;box-sizing: border-box;text-align: center;}#sk-container-id-2 label.sk-toggleable__label-arrow:before {content: \"▸\";float: left;margin-right: 0.25em;color: #696969;}#sk-container-id-2 label.sk-toggleable__label-arrow:hover:before {color: black;}#sk-container-id-2 div.sk-estimator:hover label.sk-toggleable__label-arrow:before {color: black;}#sk-container-id-2 div.sk-toggleable__content {max-height: 0;max-width: 0;overflow: hidden;text-align: left;background-color: #f0f8ff;}#sk-container-id-2 div.sk-toggleable__content pre {margin: 0.2em;color: black;border-radius: 0.25em;background-color: #f0f8ff;}#sk-container-id-2 input.sk-toggleable__control:checked~div.sk-toggleable__content {max-height: 200px;max-width: 100%;overflow: auto;}#sk-container-id-2 input.sk-toggleable__control:checked~label.sk-toggleable__label-arrow:before {content: \"▾\";}#sk-container-id-2 div.sk-estimator input.sk-toggleable__control:checked~label.sk-toggleable__label {background-color: #d4ebff;}#sk-container-id-2 div.sk-label input.sk-toggleable__control:checked~label.sk-toggleable__label {background-color: #d4ebff;}#sk-container-id-2 input.sk-hidden--visually {border: 0;clip: rect(1px 1px 1px 1px);clip: rect(1px, 1px, 1px, 1px);height: 1px;margin: -1px;overflow: hidden;padding: 0;position: absolute;width: 1px;}#sk-container-id-2 div.sk-estimator {font-family: monospace;background-color: #f0f8ff;border: 1px dotted black;border-radius: 0.25em;box-sizing: border-box;margin-bottom: 0.5em;}#sk-container-id-2 div.sk-estimator:hover {background-color: #d4ebff;}#sk-container-id-2 div.sk-parallel-item::after {content: \"\";width: 100%;border-bottom: 1px solid gray;flex-grow: 1;}#sk-container-id-2 div.sk-label:hover label.sk-toggleable__label {background-color: #d4ebff;}#sk-container-id-2 div.sk-serial::before {content: \"\";position: absolute;border-left: 1px solid gray;box-sizing: border-box;top: 0;bottom: 0;left: 50%;z-index: 0;}#sk-container-id-2 div.sk-serial {display: flex;flex-direction: column;align-items: center;background-color: white;padding-right: 0.2em;padding-left: 0.2em;position: relative;}#sk-container-id-2 div.sk-item {position: relative;z-index: 1;}#sk-container-id-2 div.sk-parallel {display: flex;align-items: stretch;justify-content: center;background-color: white;position: relative;}#sk-container-id-2 div.sk-item::before, #sk-container-id-2 div.sk-parallel-item::before {content: \"\";position: absolute;border-left: 1px solid gray;box-sizing: border-box;top: 0;bottom: 0;left: 50%;z-index: -1;}#sk-container-id-2 div.sk-parallel-item {display: flex;flex-direction: column;z-index: 1;position: relative;background-color: white;}#sk-container-id-2 div.sk-parallel-item:first-child::after {align-self: flex-end;width: 50%;}#sk-container-id-2 div.sk-parallel-item:last-child::after {align-self: flex-start;width: 50%;}#sk-container-id-2 div.sk-parallel-item:only-child::after {width: 0;}#sk-container-id-2 div.sk-dashed-wrapped {border: 1px dashed gray;margin: 0 0.4em 0.5em 0.4em;box-sizing: border-box;padding-bottom: 0.4em;background-color: white;}#sk-container-id-2 div.sk-label label {font-family: monospace;font-weight: bold;display: inline-block;line-height: 1.2em;}#sk-container-id-2 div.sk-label-container {text-align: center;}#sk-container-id-2 div.sk-container {/* jupyter's `normalize.less` sets `[hidden] { display: none; }` but bootstrap.min.css set `[hidden] { display: none !important; }` so we also need the `!important` here to be able to override the default hidden behavior on the sphinx rendered scikit-learn.org. See: https://github.com/scikit-learn/scikit-learn/issues/21755 */display: inline-block !important;position: relative;}#sk-container-id-2 div.sk-text-repr-fallback {display: none;}</style><div id=\"sk-container-id-2\" class=\"sk-top-container\"><div class=\"sk-text-repr-fallback\"><pre>LatentDirichletAllocation(n_components=4, random_state=42)</pre><b>In a Jupyter environment, please rerun this cell to show the HTML representation or trust the notebook. <br />On GitHub, the HTML representation is unable to render, please try loading this page with nbviewer.org.</b></div><div class=\"sk-container\" hidden><div class=\"sk-item\"><div class=\"sk-estimator sk-toggleable\"><input class=\"sk-toggleable__control sk-hidden--visually\" id=\"sk-estimator-id-2\" type=\"checkbox\" checked><label for=\"sk-estimator-id-2\" class=\"sk-toggleable__label sk-toggleable__label-arrow\">LatentDirichletAllocation</label><div class=\"sk-toggleable__content\"><pre>LatentDirichletAllocation(n_components=4, random_state=42)</pre></div></div></div></div></div>"
            ]
          },
          "metadata": {},
          "execution_count": 31
        }
      ]
    },
    {
      "cell_type": "code",
      "source": [
        "# top palavras dos tópicos\n",
        "terms = vect.get_feature_names_out()\n",
        "\n",
        "for index, topic in enumerate(LDA2.components_):\n",
        "    terms_comp = zip(terms, topic)\n",
        "    sorted_terms = sorted(terms_comp, key= lambda x:x[1], reverse=True)[:15]\n",
        "    print(\"THE TOP 15 WORDS FOR TOPIC # \"+str(index)+\": \")\n",
        "    #print(sorted_terms)\n",
        "    print([t[0] for t in sorted_terms])\n",
        "    print('\\n')"
      ],
      "metadata": {
        "id": "vHay3Zjwpjbt",
        "colab": {
          "base_uri": "https://localhost:8080/"
        },
        "outputId": "ae0de890-644f-43d7-d98e-59d65360f9e4"
      },
      "execution_count": 32,
      "outputs": [
        {
          "output_type": "stream",
          "name": "stdout",
          "text": [
            "THE TOP 15 WORDS FOR TOPIC # 0: \n",
            "['dragon ball', 'produto novo', '30 cm', 'harry potter', 'boneco dragon', 'delineador gel', 'luz led', 'código barras', 'son gokou', 'envio imediato', 'nacional código', 'origem nacional', 'novo físico', 'ed encadernação', 'ball son']\n",
            "\n",
            "\n",
            "THE TOP 15 WORDS FOR TOPIC # 1: \n",
            "['pronta entrega', 'cabo madeira', 'mercado livre', 'call of', 'madeira cerdas', 'cílios postiços', 'of duty', 'garota calendário', 'cerdas macias', 'mia vai', 'cílios naturais', 'macias 19cm', 'duas partes', 'mídia digital', 'ruby rose']\n",
            "\n",
            "\n",
            "THE TOP 15 WORDS FOR TOPIC # 2: \n",
            "['atacado wow', 'wow shop', 'vendemos atacado', 'frete produtos', 'produtos vendemos', '100 reaismandamos', 'entregafotos 100', 'original completo', 'aproximadamente 24', 'feito frete', 'reaismandamos aproximadamente', 'retirar endereço', 'ruby rose', 'vendedor combinar', 'combinar vendedor']\n",
            "\n",
            "\n",
            "THE TOP 15 WORDS FOR TOPIC # 3: \n",
            "['mercado envios', 'mercado pago', 'prazo envio', 'prazo entrega', 'mercado livre', 'gta games', 'dragon ball', 'pronta entrega', 'produto novo', 'frete grátis', 'pagamento mercado', 'ed encadernação', 'dias úteis', 'código barras', 'todos produtos']\n",
            "\n",
            "\n"
          ]
        }
      ]
    },
    {
      "cell_type": "code",
      "source": [
        "# aplica o modelo de analise de tópicos na base de teste\n",
        "# vetorização\n",
        "text_vect_test = vect.transform(df_test.texto)\n",
        "\n",
        "# scoragem\n",
        "results = LDA2.transform(text_vect_test)"
      ],
      "metadata": {
        "id": "eAxvP78NqLDH"
      },
      "execution_count": 33,
      "outputs": []
    },
    {
      "cell_type": "code",
      "source": [
        "df_test['topico'] = results.argmax(axis=1)\n",
        "\n",
        "df_test['categ_cod'] = df_test.categoria.map(\n",
        "   {'maquiagem': 0, 'brinquedo':1, 'game': 3, 'livro': 2}\n",
        ")\n",
        "\n",
        "df_test['categ_cod'] = df_test.categoria.map(\n",
        "   {'maquiagem': 3, 'brinquedo':0, 'game': 1, 'livro': 2}\n",
        ")\n",
        "\n",
        "\n",
        "\n",
        "print(accuracy_score(df_test.categ_cod, df_test.topico))"
      ],
      "metadata": {
        "id": "CElFJMRpqKXt",
        "colab": {
          "base_uri": "https://localhost:8080/"
        },
        "outputId": "86007d5b-3082-4fdc-d1eb-99025c789329"
      },
      "execution_count": 38,
      "outputs": [
        {
          "output_type": "stream",
          "name": "stdout",
          "text": [
            "0.3202054794520548\n"
          ]
        }
      ]
    },
    {
      "cell_type": "code",
      "source": [
        "#df_test['categ_cod'] = df_test.categ_cod.astype(np.int64)"
      ],
      "metadata": {
        "id": "hHsXP8oSpjUA"
      },
      "execution_count": null,
      "outputs": []
    },
    {
      "cell_type": "code",
      "source": [
        "import seaborn as sns\n",
        "import matplotlib.pyplot as plt\n",
        "\n",
        "matrix = confusion_matrix(df_test.categ_cod, df_test.topico)\n",
        "\n",
        "df_cm = pd.DataFrame(matrix, index=list('0123'),\n",
        "                  columns=list('0123'))\n",
        "plt.figure(figsize = (10,7))\n",
        "sns.heatmap(df_cm, annot=True)"
      ],
      "metadata": {
        "id": "S4JykaQepjK5",
        "colab": {
          "base_uri": "https://localhost:8080/",
          "height": 616
        },
        "outputId": "e5c39805-b2e4-4e78-a6f1-986d82a9061a"
      },
      "execution_count": 39,
      "outputs": [
        {
          "output_type": "execute_result",
          "data": {
            "text/plain": [
              "<Axes: >"
            ]
          },
          "metadata": {},
          "execution_count": 39
        },
        {
          "output_type": "display_data",
          "data": {
            "text/plain": [
              "<Figure size 1000x700 with 2 Axes>"
            ],
            "image/png": "[encoded data removed]"
          },
          "metadata": {}
        }
      ]
    },
    {
      "cell_type": "code",
      "source": [],
      "metadata": {
        "id": "pVrcDfsGpjHw"
      },
      "execution_count": null,
      "outputs": []
    },
    {
      "cell_type": "code",
      "source": [
        "# Analisando com 8 tópicos\n",
        "from sklearn.feature_extraction.text import TfidfVectorizer\n",
        "from sklearn.model_selection import train_test_split\n",
        "\n",
        "stops = nltk.corpus.stopwords.words('portuguese')\n",
        "\n",
        "vect = TfidfVectorizer(ngram_range=(1,1), stop_words=stops)\n",
        "vect.fit(df_train.texto)\n",
        "text_vect_train = vect.transform(df_train.texto)\n",
        "\n",
        "LDA3 = LatentDirichletAllocation(n_components=8,random_state=42)\n",
        "LDA3.fit(text_vect_train)"
      ],
      "metadata": {
        "id": "Amv8t7pDq0u6",
        "colab": {
          "base_uri": "https://localhost:8080/",
          "height": 74
        },
        "outputId": "8ccb2295-57b2-4b58-ea73-41fa3d58c1c9"
      },
      "execution_count": 41,
      "outputs": [
        {
          "output_type": "execute_result",
          "data": {
            "text/plain": [
              "LatentDirichletAllocation(n_components=8, random_state=42)"
            ],
            "text/html": [
              "<style>#sk-container-id-4 {color: black;background-color: white;}#sk-container-id-4 pre{padding: 0;}#sk-container-id-4 div.sk-toggleable {background-color: white;}#sk-container-id-4 label.sk-toggleable__label {cursor: pointer;display: block;width: 100%;margin-bottom: 0;padding: 0.3em;box-sizing: border-box;text-align: center;}#sk-container-id-4 label.sk-toggleable__label-arrow:before {content: \"▸\";float: left;margin-right: 0.25em;color: #696969;}#sk-container-id-4 label.sk-toggleable__label-arrow:hover:before {color: black;}#sk-container-id-4 div.sk-estimator:hover label.sk-toggleable__label-arrow:before {color: black;}#sk-container-id-4 div.sk-toggleable__content {max-height: 0;max-width: 0;overflow: hidden;text-align: left;background-color: #f0f8ff;}#sk-container-id-4 div.sk-toggleable__content pre {margin: 0.2em;color: black;border-radius: 0.25em;background-color: #f0f8ff;}#sk-container-id-4 input.sk-toggleable__control:checked~div.sk-toggleable__content {max-height: 200px;max-width: 100%;overflow: auto;}#sk-container-id-4 input.sk-toggleable__control:checked~label.sk-toggleable__label-arrow:before {content: \"▾\";}#sk-container-id-4 div.sk-estimator input.sk-toggleable__control:checked~label.sk-toggleable__label {background-color: #d4ebff;}#sk-container-id-4 div.sk-label input.sk-toggleable__control:checked~label.sk-toggleable__label {background-color: #d4ebff;}#sk-container-id-4 input.sk-hidden--visually {border: 0;clip: rect(1px 1px 1px 1px);clip: rect(1px, 1px, 1px, 1px);height: 1px;margin: -1px;overflow: hidden;padding: 0;position: absolute;width: 1px;}#sk-container-id-4 div.sk-estimator {font-family: monospace;background-color: #f0f8ff;border: 1px dotted black;border-radius: 0.25em;box-sizing: border-box;margin-bottom: 0.5em;}#sk-container-id-4 div.sk-estimator:hover {background-color: #d4ebff;}#sk-container-id-4 div.sk-parallel-item::after {content: \"\";width: 100%;border-bottom: 1px solid gray;flex-grow: 1;}#sk-container-id-4 div.sk-label:hover label.sk-toggleable__label {background-color: #d4ebff;}#sk-container-id-4 div.sk-serial::before {content: \"\";position: absolute;border-left: 1px solid gray;box-sizing: border-box;top: 0;bottom: 0;left: 50%;z-index: 0;}#sk-container-id-4 div.sk-serial {display: flex;flex-direction: column;align-items: center;background-color: white;padding-right: 0.2em;padding-left: 0.2em;position: relative;}#sk-container-id-4 div.sk-item {position: relative;z-index: 1;}#sk-container-id-4 div.sk-parallel {display: flex;align-items: stretch;justify-content: center;background-color: white;position: relative;}#sk-container-id-4 div.sk-item::before, #sk-container-id-4 div.sk-parallel-item::before {content: \"\";position: absolute;border-left: 1px solid gray;box-sizing: border-box;top: 0;bottom: 0;left: 50%;z-index: -1;}#sk-container-id-4 div.sk-parallel-item {display: flex;flex-direction: column;z-index: 1;position: relative;background-color: white;}#sk-container-id-4 div.sk-parallel-item:first-child::after {align-self: flex-end;width: 50%;}#sk-container-id-4 div.sk-parallel-item:last-child::after {align-self: flex-start;width: 50%;}#sk-container-id-4 div.sk-parallel-item:only-child::after {width: 0;}#sk-container-id-4 div.sk-dashed-wrapped {border: 1px dashed gray;margin: 0 0.4em 0.5em 0.4em;box-sizing: border-box;padding-bottom: 0.4em;background-color: white;}#sk-container-id-4 div.sk-label label {font-family: monospace;font-weight: bold;display: inline-block;line-height: 1.2em;}#sk-container-id-4 div.sk-label-container {text-align: center;}#sk-container-id-4 div.sk-container {/* jupyter's `normalize.less` sets `[hidden] { display: none; }` but bootstrap.min.css set `[hidden] { display: none !important; }` so we also need the `!important` here to be able to override the default hidden behavior on the sphinx rendered scikit-learn.org. See: https://github.com/scikit-learn/scikit-learn/issues/21755 */display: inline-block !important;position: relative;}#sk-container-id-4 div.sk-text-repr-fallback {display: none;}</style><div id=\"sk-container-id-4\" class=\"sk-top-container\"><div class=\"sk-text-repr-fallback\"><pre>LatentDirichletAllocation(n_components=8, random_state=42)</pre><b>In a Jupyter environment, please rerun this cell to show the HTML representation or trust the notebook. <br />On GitHub, the HTML representation is unable to render, please try loading this page with nbviewer.org.</b></div><div class=\"sk-container\" hidden><div class=\"sk-item\"><div class=\"sk-estimator sk-toggleable\"><input class=\"sk-toggleable__control sk-hidden--visually\" id=\"sk-estimator-id-4\" type=\"checkbox\" checked><label for=\"sk-estimator-id-4\" class=\"sk-toggleable__label sk-toggleable__label-arrow\">LatentDirichletAllocation</label><div class=\"sk-toggleable__content\"><pre>LatentDirichletAllocation(n_components=8, random_state=42)</pre></div></div></div></div></div>"
            ]
          },
          "metadata": {},
          "execution_count": 41
        }
      ]
    },
    {
      "cell_type": "code",
      "source": [
        "# top palavras dos tópicos\n",
        "terms = vect.get_feature_names_out()\n",
        "\n",
        "for index, topic in enumerate(LDA3.components_):\n",
        "    terms_comp = zip(terms, topic)\n",
        "    sorted_terms = sorted(terms_comp, key= lambda x:x[1], reverse=True)[:15]\n",
        "    print(\"THE TOP 15 WORDS FOR TOPIC # \"+str(index)+\": \")\n",
        "    #print(sorted_terms)\n",
        "    print([t[0] for t in sorted_terms])\n",
        "    print('\\n')"
      ],
      "metadata": {
        "id": "5MVe12ZWq0tA",
        "colab": {
          "base_uri": "https://localhost:8080/"
        },
        "outputId": "e01f390a-f6fa-401e-bd7a-f1da1950de44"
      },
      "execution_count": 42,
      "outputs": [
        {
          "output_type": "stream",
          "name": "stdout",
          "text": [
            "THE TOP 15 WORDS FOR TOPIC # 0: \n",
            "['cílios', 'ana', 'vingadores', 'grey', 'luz', 'som', 'gokou', 'son', 'produto', 'novo', 'harry', 'christian', 'boneco', 'call', 'bonecos']\n",
            "\n",
            "\n",
            "THE TOP 15 WORDS FOR TOPIC # 1: \n",
            "['edição', 'livro', 'livros', 'páginas', 'produto', '00', 'vida', 'história', 'kit', 'origem', 'mundo', 'anos', 'ed', 'capa', 'novo']\n",
            "\n",
            "\n",
            "THE TOP 15 WORDS FOR TOPIC # 2: \n",
            "['flex', 'laminas', 'tebori', 'hard', 'fifa', 'jogadores', 'pula', 'fisica', 'agulhas', 'bola', 'pes', 'lista', 'pontas', 'português', 'lâmina']\n",
            "\n",
            "\n",
            "THE TOP 15 WORDS FOR TOPIC # 3: \n",
            "['mia', 'gel', 'inglot', 'delineador', 'calendário', 'garota', 'págs', 'precisa', 'vai', 'tebori', 'produto', 'flexi', 'fica', 'kunai', 'mês']\n",
            "\n",
            "\n",
            "THE TOP 15 WORDS FOR TOPIC # 4: \n",
            "['mercado', 'pincel', 'entrega', 'prazo', 'produto', 'cores', 'pagamento', 'produtos', 'maquiagem', 'kit', 'envio', 'maleta', 'pronta', 'dias', 'frete']\n",
            "\n",
            "\n",
            "THE TOP 15 WORDS FOR TOPIC # 5: \n",
            "['miss', 'marrom', 'sobrancelha', 'prova', 'gel', 'rose', 'tatuagem', 'cartão', 'produto1', 'qualidadecor', 'pretodescrição', 'caneta', 'tintura', 'duração', 'longa']\n",
            "\n",
            "\n",
            "THE TOP 15 WORDS FOR TOPIC # 6: \n",
            "['digital', 'jogo', 'online', 'jogar', 'retirar', 'vendedor', 'sim', 'original', 'frete', 'combinar', 'atendimento', 'escolha', 'compra', 'xbox', 'horário']\n",
            "\n",
            "\n",
            "THE TOP 15 WORDS FOR TOPIC # 7: \n",
            "['vingadores', 'bonecos', 'personagem', 'wings', 'homem', 'boneco', 'luz', 'som', 'aranha', 'super', 'avengers', 'cmmaterial', 'ferro', 'hulk', 'capitão']\n",
            "\n",
            "\n"
          ]
        }
      ]
    },
    {
      "cell_type": "markdown",
      "source": [
        "## ***Exercício***\n",
        "\n",
        "Como já samemos, a base de dados de \"produto\" [1] foi utilizada para modelos de classificação supervisionados e sabemos qual foi a configuração que gerou um bom resultado. Que tal aplicarmos essas técnicas de pré-processamento que gerou um bom modelo e compararmos? Faça um teste de análise de tópicos com 4 tópicos conse as seguintes configurações:\n",
        "\n",
        "*   Remover registros com valores nulos;\n",
        "*   Contatenar as colunas de nome e descrição;\n",
        "*   Aplicar lematização em verbos;\n",
        "*   Amostra de 30% para teste e random_state = 42;\n",
        "*   Vetorização de contagem dos termos em unigramas removendo stopwords (NLTK).\n",
        "\n",
        "[1] https://dados-ml-pln.s3-sa-east-1.amazonaws.com/produtos.csv\n"
      ],
      "metadata": {
        "id": "Rx6hskijtSVj"
      }
    },
    {
      "cell_type": "code",
      "source": [
        "import pandas as pd\n",
        "\n",
        "df = pd.read_csv(\"https://dados-ml-pln.s3-sa-east-1.amazonaws.com/produtos.csv\", delimiter=\";\", encoding='utf-8')"
      ],
      "metadata": {
        "id": "sGj5tmBWt7du"
      },
      "execution_count": null,
      "outputs": []
    },
    {
      "cell_type": "code",
      "source": [
        "# respota"
      ],
      "metadata": {
        "id": "ysyVgsArnF3u"
      },
      "execution_count": null,
      "outputs": []
    },
    {
      "cell_type": "markdown",
      "metadata": {
        "id": "BH1tAHTwMGGJ"
      },
      "source": [
        "#***O que você achou da aula de hoje?***\n",
        "\n",
        "Pelo aplicativo da FIAP ou pelo site\n",
        "\n",
        "(Entrar no FIAP, e no menu clicar em Experience Survey)"
      ]
    },
    {
      "cell_type": "markdown",
      "metadata": {
        "id": "1np_wfZeW_MV"
      },
      "source": [
        "![image.png](data:image/png;base64,iVBORw0KGgoAAAANSUhEUgAAASMAAAFUCAYAAABvB1pUAAAgAElEQVR4Aeydd3hUVdf2/ev7vvd5fFS61IRUOtJ7kW7v0otYQQUEe+/YsGNFRAE7oiCgKKAQUkjvvXcSICSkB+7vutc5+8yZyUwyCW143pnrWtmn7FPmzNm/rLX2WntfBPfH5Z5AVVUV3OJ+BhfqO1BTU4PmpLq6utE7fpHLtUT3DTX6kRy9lLW1tfKjcz9/XL4A5mX1QqgfnutcpjQ0NIDH2567vr6+0S/Aurb1LtR1fr+6ujrj+/BZmNfV82M9inpe5vUL9bs3dd/8nrbvA5+L+dnwGag63K7eN1XyHFw+evRok3L48GF5/uo4dV9uGDVqeud/g/px7JWq8fCHTE5ORlZWlrwg5eXlOHHihPEjl5WVyTpLHsNzVVZWivCliomNwZEjR3Dq1CljO785669btw6LFy/GggUL8N5776GgoEAeir37uZC28UvwebEx8Hvz3vks2Hj4bE6ePCnC7fzOGRkZOHbsmDSw/Px8WTc/zwvpuzu6V74b/PA5lJSUyDNhXX5yc3NF+Ky4PzU1VZ4d9/H58NlwO9+9iooKeQ9jYmIQEBCAf/75B3///Xcj2b9/Pw6FHkLAwQB5P9W7yWu6YSSP3bX+2L44qqHwLgmc+Ph4lJaWIjg4GPzx+bKkp6fjzTfflC/Cl4BA2bhxI7799lv8+OOPsv2zzz7DwYMH8fLLL+Oll17CAw88gLi4OHmh2BB37dqF7t27w9vbGwsXLsTdd9+NAQMGoG3btvjiiy+Mhmp7fxfCOr/fzp07MWPGDFx//fXyDPlQPvroI/Tr108aFp9lSkoK/vrrL6nz6KOPIjY2Fr/++ituuukmPPbYY4iMjBSt8kL4zk3dI98p9SEg+O7wfVDvWlBQEB5//HE8+eSTSEhIkGfCd+b555/Hvn378MQTT+D9998XOPEZ8jiCmu/XzTffDE9PT3h4eDQSvlt8vmlpaQI3wkzdpxtG6hdxoVL9OOYXJjo6GoQJ/yMRNvyvFR4eLjChykxTii9OcXEx1qxZgwMHDgh0eNyzzz4rEOPL9M0332D16tXybf/88085hisE2gcffCAv5Pfffy+a0dy5c/H111/j6aeflpePDdr8n0zdp6uX6r//DTfcADYyNqKnnnoKeXl5uOeeewQ01Jb4PLj/ww8/xKxZs+S78zuzAVJL5LPjPwNb88LVv7+9+yMEfvvtN/nuL7/0Evbs3YNPPvlE3gO+D/zOgYGB8o49/PDDyMnJEU38ueeew/bt2+X5ffzxx/JOElb8UMOkRtSxY0dcdNFFDoXvJ8H1xx9/yHkVkNwwksfoWn/Uy0PIUFthI3n99dflxw2PCMehQ4ekIZlhxG+wdetWaUhvvfWWNBg2ODYcNi6+OFu2bBEtafPmzfKF+d9p1apVssxr8sMXq3PnzgKjZcuWyYtFjYIfdV8XWkkYESrXXHMNaG798ssvWL58OZYuXYoP136IG2+8URoezQ2aHtu2bROtkprBq6++Kr8BAU3NQWmfF9ozsL1f9W6t/+ILvPvuu3jmmWdEW+RzIhyoEb7yyivyz4rPih+C5v7770dUVJSY+IQS363169eLacZrUMvq0KGDQxARUgpGfK/5D4H3wmPdMJLH7Fp/+MOo/+a+vr7o1q0b3njjDfmBQ0ND5b83NSNCiaYFf0zK8ePHMW7cOPkPzm+0YsUK+ZH5337w4MGiTdEMufPOOxESEiIv2ldffWX4T3hNamP8L/jQQw+JqZaUlCQ+gQtdG+DzoJnF7zV79mx8+eWX0ghpbrRv3x4//fSTQGjHjh0Cf/rKuI/w4TZqDQ8++CDefvtteVlsG/eFtm7Wumm200fID78HYRQWFoYNGzbI9//hhx/k2fA94nvIdWrgNM9ocs2fP1+0bTq3aaZRo+7Tpw969+7dSPr37y9mHv2ddC2YO0fcMJKfwLX+qBebPxR/fL4sNM0WLVok/0noSKTzmQ5WgkOBgv/Vdu/eLXXUi0HHIiHFBsV6NMeofrOR8b89IUYIqWuyDj9PPPE4FixcIC+mUqNVnQux5PPgc+B/e4KF30l9+My4j9v4zOnIpXb5zjvvyLNhw3vttdek8fG7q+d9IT4H23vm96Xmy39OCgx8VjRbqU3TV8h1vmvUoPjO8PtTg+Y2Lm/atEn+KfJ4+iDpy6QQXrbC69CBHRgUKP/4zO+eG0bqjXShUr0w5v9eBA0/fDEo/BFZmhuGqk/AqGXVeHisOq/5q5pfBrWf29THfH61/0Is+Tz4vNTH/L25zfw9zfW43Xb9Qvz+ju5ZvSf8J8VlVY/fW334rMzwVuvcpt4Vvp88ls+KYKdPyJHwHynPb37mPNYNI/XEXahUL8T5LPmSUc7nPbivfWEGfvK9UbCxVzp6r9wwciEIqVtxN8ILsxG6f7fT+93cMFIEcKHS/VKf3kvtfn4X5vNzw8iFIKRu5UJsTI5U7zP1XVpyfntOefN98FwtOZ/5WPfy2QOdG0aKAC5UXmgvPBs2AXC27pvn5sdZgBQVFUl6grofOlfN98d1OlrVfnd59gDTkmfrhpELQUjdijM/YE01Y5HO/0vEhs0gOHZ9m3tU+F3YO8NeGnb5KqBwO0HAbepDJ6d5P5dVzw7Pye5hRkTzuah6PIYfcy8P17mdwZqMY+G1GcTIOBhGovNc/Lzwwgv4aO1aWVZ/1HkUWLldXYvLPC/Ppz7q/pz5rdx1nHtP3TBSb5cLlU29vJWVVThZV4WGuirUugCM+NgYdcsYKH7YgBlVy8hxNnDGmzCXjt25L774ouTEMW6H2xj1y9gVNmxuY0zVK6++IsGZSnPhORln1bNnT4ny5XbGtRAMe/bskfPwGkyFYUQwtzOoU6UoEEadOnWSgEeei/fRrl07vPLyyygsLJT7IUizs7MlB43PngGlvH/GG/HavC+mgTDIlMuMYOd3a+p3cu9zDkDm5+SGkTQh1/pj/oHMywQRGqpQWlGN8R+exAu763DqlCU2xFz3XC3zyTHq9r777jMeIqPEmWjLD9NYGDj3yCOPSKAlgy3Xrl0rQZjfffedQIzJvATVkqVLJB+MAZ7UnNjgaXIxHYF5VExv4Ycl01iYmkAg3XrrrZLmcu2110p0L6OsExMTpS6BQ83o9ttvF3jwWhMmTMCXegoDo4x5LgZDMt2DWh6j0pnH9/gTj0vqAu+d+3ldJoFSy1KwPFfPmZrwubqWveucsvnnJ5o5A0DPoIbuhpG8sq71x97LUMncsYYqHDtRhZHvnsRFS4Et0bU4dfL8w4hDRhAM6hMRESENm+uffvqpRDPfddddareAhikF1DrmzZsnkc7UlAgDajjMi1ImEtM0Bg0aJBnkTGlhIB21n0svvVRSFJgvRbgwWpjm2e+//46VK1caMKKWxjQQwuTzzz+XpF+mdBCIhCgTQpcuXSIltSHCkxobTcNp06ZJbhrB9Naat6QO0x/4aa2Zxt+xoVb7LXGqEjhZKb9rc7A5UXn+YMT7jc2rRuHRaoEP3091P0fLq1B+ogrVZ2BAQDeMjCbiOgu2MFIa0bFKHUQPAFtjGE18fkHE++SHMKJWwuE1lDAplVDi0BsczoSwonnFZF2ODjB16lRJQ6BJRa1IjX+zZMkSgQrPS82IeU48njl49957r+RL0UwixAgvakZMdKU2Rtgw9+6OO+4Q843noMnFa3A78/wIQKbGrH71VSNH7emnnxLNjv4iAoj3QBjy2tScaP5x2AyCkvfPj+1v5Ox6Q30lfoyqxaJv63HH9/W484d63PtTPTIPM+q9Cqi3NOy6Gj7fKuSWVuOBrYx2rkK9DjICQl2TWoscZ6M90YznPzCa9aoul7nN1sTneU/y3Lw+j6urAs/L66QVV2PmpgYUHauWY/nevb63Dn8m1uLd/XXYk1yDk/XaMTxegbWW99+gnUNdv6nSDSN5tVzrj/kHUyAqq6zC6PdO4qIHgC06iM7EfyPztVqzTGAwP46mFDUTJucyAZKmDhs1tQqCJDMzU7LkmSlPLWj7tu1Ytny5gIgwI0xYn8mpzL3jeemzYVY4IcEPz0NNiwmavFdeg7lOzMLnUCD0/XAYC0KPGhFNPZ6D9bjMc/EcFGo4vC6TX6kd8Rz8zJkzR87PZfqduJ8SnxAvEONICTxXa54Vj6mpqRLwROVX49r1DXhrXx1iC6pBjWl/ag2CM2oECIRDWUUV9iVp2wiD+roqlJRVYXd8jZxDwFJfhcicavydXCPaierUIAiOV1Thz8QaxOdXC1hO1VchubAafybUyD7WUd+j6FgVEguqcSBVu35QRg1i8qqBk1UIzapBcCY7DCoRllWD6IJqPLajHt+G1yL7SJVoTLwX1vs7pUZgxHvl/fNe04urBWrqWo5KN4zkFXStP+Yfq662CnnHqjDuw5P4n1WuBSLeJ80V+k/MH9t1gkX1ZLGeeVmtm3uquF+ZQdzPniyuEwLqU6t39ytzTm1XvWzqGAUy3is/PIft/ahjaTpSGyLQeF7be+I6j1X3Zv6dWrKsaTyVuH9rPX6P1zTch7fXY97mety0oQFv/12Hypoq3PJVA5b9XI/53zXg+i8bxES/68cGPL+rDnO+aUBqUTU2h9fivi31eOiXerz6Vx1ONuiaSXUVHtpWjyd31GPetw04kKaBYtH3DXhmZx1WbasXMBJIvJ/bNjbI/czZ3IDZmxvw1K56TP7sJMKzq/FZUB1+iKwVt8DUzzRf5cB3Tgp4XtxdLxD9JaYWi76rx8Pb6vHyn3UoKa/C4h8asPrPOsza1IDY/GrpdGnqOblhpN5EFyrNPxj/G30UUIuLFkBeSq7bqtjm+v9blwmd0/nuhBe1N46gSeCczrmcOZb+IkJkd2INEgqqMWMdQVspvpgbNzRgzb463PMjRxY4gcD0GhAC/McUnl2D0JxqzPumAV+H1uKlP+tw14/1iCuoFnNOmUgso3OrEZZdI+B5aXcdNobW4rovTyIyr1o0K2rWrEcgXfNFg5hj1GJ4Ld7L2gDNDFsXVIcPDtTh9o0NSMinllqJW79uwK74Wjy1sx4742sFPrzPn6NrMGPdScTl1WD02pPYGVcj2tixCov55uj5uGHkQhBSt2L+sfiynKiukv86dFq/tpcBgJWGXW6u6162mB2teRbUhiitObalxygY/aWbYdRI+LtyO0Hz0K/1eHE3f+sTyCqpxuxNDaKlzP+2HutDanH71w1Ye6AOJ09V4vuIWtz9XT0e+40D5mt+pYzD1VjwXQM+DqzFkp/q8ch2gq1SwLF8Sz3u/rEeZSc0rYhQ4jXzjlQjLq8ad/6g3QuP/TCgDl8E12HN33WYubEBx8qpYZ7Ayl/rsT22Fs/sqsefSTXiQ3p6Rx0+OVgnMKODO6moGi/vrhOtLiC9Bg31Tf8+bhgpArhQaX6xLb0vlVjwTQMuuvvCAxK1DrO2QS2G2/g9uUyzjqWqw2UFBi6znrmO2mZ7Xh7Deuq8PJ+qq54pj1HXVsc3VYfHsZ5tHXW+1pYEw7xv6/FzdK2YZNQmvgiqxeq/6rDoe03TGfvRSfwSU4OV2+ox6dOT2BZbg2vWNyAkpxpTPjuJtQF1+D6qVmDE80z+rAGVutM6JLMG4z8+ieDsasz/tkFg9FdKDT4+WCea1pi1J0WToq+HMLpufYNALyq3WrQe3t/b/9QKhD48UIdPA+sEPPf/XI9diTXwWH1KtDqalzviasW0+/pQrfiRhn9wUvxUz++uR0x+NW76qgHrgmoFtE09LzeMXAhC6lZsfzAFpFMNlZi3WQPSG/s0DckVnNi296vW6VshENgdz4G46HNRAOAQr2zgJypPiI+G34PD4LJO2bEyWaYTmvV4DAf7ImjoHOf5CR7u4zp9TPQFceYPNWMF69IRznq8Du9FAU5dmyWvye28TwqPU+fmcQpuHKTuTAKprq4Kv8VpzuWTDZViyjy6XWvwBUerpeFS43h4a734hXbGE6JVWBdci+d+r5NGz+72nNJq0aBohtGHRMcxnyXLn6Jq8eRv9dgcVgs6pEuOV+GNvXV4dmedOKIZOKveny1RtThyvAoFR6tA/w/vLySzGoQandY0D09UVeH5P+rkHAwroUnHnjRqYbz249vr8XlQHX6NqRVzk36mZ7Zrjm7eu7qWej9sSzeMFAFcqLT9kbhuAVKVBqTFwPsH6pr9b2PvXOdqGxsyfTBMv2CsD8c8ZiQzlxkXxA+HN+XsG4z7YVDhzz//LONUc/IB9tAx9ofHMECS3eqMF/r4k48FYFzmONXs3mdvHK/DHjX2oPF4TiSgRnXkvRBo7BnjuQge9sox5oizpxB8HGKXMGPIAOsoeDI0gEGXXD9Tz071krLrnMvSPU8zDZXSfa/2c509WuwiZ2OW2CQ9PonHKmc461HL4XHqHiWGSY6vlK56mvxyPLfVa++Upa7uP9I1K3VPvC8Kzy2hAjxWv75cu167B+7X7lW7X7lX3rd+fdXLp65nr3TDyIUgpG7F3g/FbQKkOu2/Hv0AnwTWgv9VHdU/39v5fdiIOcMItQp2oRMs7LXiGNP8sEudcUSEBj+M5aEWwg8DEBlBzXQP1mPMEOHGuCSC7Ysv1olGxPNSQyJgXnrxJYlZ4kD6/HAftTJqT0wF4djXHECe69SKGJvEdV6H+Wy8Nu+H9fhhTBLDDQhFfs73M/1vvr4bRvKKudafpl44Aom9H/LfiQ5B03/Cpo47H/v4VAkRNW8bp0zih3E+zEnjhzFAjPlh/BA/rENwcVxqgoIfxg1xbGV+GCtE8DAIkfPC8cOIaX54HWpJnAFEwYglAx5pevHDKZx4Xpp1hBOnH+K9UJtivBQ/TEfhuZmKwtgnTu1EjYua0Zk01c7Hb+LK13TDSF4/1/rjzAvTnP3tzDnOdh0CgOYPzS/Ot0XThx8GDhIInAOOEc7051CDoZlF84qgIAC4n/vWrv1QtnGA/IWLFoqWQk2G4OJ5OUUTI7gZic1r0NTidDgqyZUmGiHCD+sRNDzvmrfX4OuNX4uJSBONibD87N27V5JhqSVRA+M13DCymH9n671xw0heP9f6c7Z+7HN9XjZ4goUaB2ckoRlFKNBxzIZOLYXCD7P2mf1PZzVNOWol/NAJTT8SP9SIqFUxUZXnogbEKGqaXFxmTht9UDw3heDh4PDKCc1r05lOU4/beF88ntdTTnDbOrwu67IO953rZ/i/6XpuGMlr7lp//tteQIKDH9WYWVJrIjDUNmVGmdf5HFhHPQ+eh6YSwcFt6hguExjcp0wpQo0flup4llxXcFLHN1XH9hjzudzLZ1ZbcsNIXlnX+sNG979BqDVRmvqu3E/4NFXnf9u+uvp6OC119airq0etldSB6TRnQmrq6tCs1Nahxglxw8i1OCR3k5yUjCYlOVl6ftj7o9VLsi7N+51dVtdU9bkuy0nW1zLvV8eouqrU6yQ5qms+Tl9OSkoGhd/H3jJ9Omq7ZZnbzrEkOn+95CT+Ls5JSlIyRJKTkWKS1ORkKElLTkZaiibpKclIT0kRyUhJQUaqJpmpKchM0yQrLRUi6anIFklDdnoacjKUpCM3Ix25mZrkZWbAkKwM5DeSTORnNZaCrEzYlexMFDghhXodN4xcEEaBAQdhJQcPIrCRBCLwoBK1n+vmZbXfXsl69rY7s01dw1zaHmfe1/zywYCDaFIO6PtZmoXHqXXTcsCBgwgIsBFua5EEIOCASfYHIKAJObg/AIYcCMBBXQIPBMCQgAAEBgQgKOCgSHDAQVBCDh7EIV1CAw8iLPAgwilBgYgICkRkcBCig4MQExKEmEPBiAsNQXxoCBLDDiEx/BASIw4hOfIQUiJDkRYdjvTocGTEhCMzJgLZsVHIiYtCTnw08hKikZ8Yg4LEGBQmxaIoOQ7FKfEoSU3QJC0BpWmJOJKWiKPpSTianoxj6ckoy0hBWaYuWSk4rkt5ViqUVGSlwpDsVFQoyUlFRU6alZzISUNlTromuVrphpELwigyPAJWEhGByFZLJCIjKDyHWlalvW1qn+0x5rqO7kcda9nPMY0c3bvs079rRHgEmpSwCETYSLjNunk/94WHhUMrudxS4bG6hIYj3AmJCA2HlYSFI0KXyLBwGBIejsjwcESFR4hEh0cgOiICMRERiI2IQFykJvGREYiPikBCVCSSoiORHB2FlBhKNNJio5EeF4NMSnwsMhNikZ0Yi5ykOOQmxyMvOR75KQkoTElAUWoSitOScDg9GSUZySjNTMaRzBQczUrFsew0lOWk43huBspz01Gel4GKvEycyMtEZX6WSFV+NqoKslFdmGNITVEOLJKL2iJN6opyYSXFuagzJA91xZrUF+ehvjgf9Yct4oaRC8JIvcBShocjwq7YNl5zPdt9Z3rdfC21bHsNtb3pkt38/J5Gw29q2QkgCDTCwhFmT0LDEea0hCEs1EYOhSGsGQk/FAaR0DCEmyQiNAwiYWGI0EXBKUrAFI7o8HDEhIcjNiIccUoiI5AQGYHEqAgkRRFIkUiOiURqbJQAKSMuBpTM+BhkJcSYgBQnQCpIJpASUZSaiOL0JBzOSNKAlJGiAynNAiQDShmoyNWAdCKPQMoWIZBECgkmC5xqCnMgQkAV5qC2iEI4mZctwOK+uiILmOqK80Fxw+iCh5G9xm4LhtNd5zXM57B3Tds6rO+onmW7UxBSgGoKRqyj7z89ENkASAGpGQgpSBkwIpRMMOJyYxiFibbUHIyoISVYwSjKgFF6bHTrYJRJGKXiaBZhlK5pRwaMMg3tyIBRQTYqDRjloMpKS8q10pJqirhuDR+lOdUW5UFEB5ACUd1hN4xcEEVwqhFb4GBp2Frj16BhNvMsdc1AsbMcESFDxVrXt4WM7fXM6+ZzmrdbL1MbUhA6o1qRPW1IbXNKI3IAIgLJSRixnkBIlSYg2WpHkWE6jMJosllrRoZ2pGtGtjBK0TUjmmr2NSOzqUbNKEnXjJSpRhil4Wi2GUYZurmmwUjMNV0rIogERoUaiAwY6eBRALItrSBUTBDla2KG0eEC1B0ucGtGrkij5jUKc6Pnsrmx2/ibrDQa2+NM6wpEqmzyOPP1zMum8xnHm/dry2YYKSg5VdrRjOgnojkVFBQscuhQKMLDIxqbac3CqAkQtRBGBpBMIDI0I2pIhplGGIUhimKCUUyEyVQzw0g30ZLpN4qNRir9RlaakeY3yjX7jQwzLQlFYqYRRikozUzFkSzCKN2iGeUSRpkop+QRSFk4kZ+NEzqIKgtzQCGIqgpzUV2oaUC2ADKv1xbnopYQKs63kQLUFWsQqispAMVtprkgjazh0rgxmzUgixaj6rUCRgpAqjRAYg8u3KauZS4d1bVf3yn4KPPMZIIpU4wlQRR0MAiHQg7JbCAMRaCJxl45nt8w15oFEX1JzcCohUCyNdHUutlU0zSjxjCiVuRQM4qhz4gw0nxG1poRYRRncmInID8lUfcZNQGjHJppmlYkMMpTMNJA5BBGRbmobqQZ5aGm2CL2QUQwFaD2cAFqdRC5YeSCIOIt2W/s1g2fjS0mOgZJjHtJTJRlgok9ZlERkUjWt8fHxomDODEhEYkJCUiIT5CGaoGYDhEFIpbNwsg+YOwfZ75vy/LpwoggCgwIlBQQRlSrD4MkmUJy4ECA9KA577B2AkgtMNWa1I6a0YxsYWT2GUmvmpVmpJlpGfGxyEp0BKMkFKWZzTQbzcgujLJQoWtFAiNdKxLtqCAHOH4EOF4KVBxDDbWew/moKcoDyo9oUlkm208ePQycKBM5dfSwbqLpIHLDSL22rls2DyMNRAH7D+DBBx7E/Uvvxz9//4PoqGgBT+ihUDzz9DNYumQpftu2HQTRm2+8iSX3aZMkxsfFG8CJioyS2To4Y0eCLlxmHSvhtkbb46zrWB2j9rFsLMzCF4mNQ5wzEhOHOJPERMXId2D6h70PzxkRHonY2DjExjgjsYiNaUaiYxHrrMTEIs6OxMfEIj5Wk4TYWFASKXFxSIqLQzIlPg4p8XFIpSTEIy0hHumJCchMSkBWcgKykxORk5KE3JQk5KUmoyAtBQXpKSjMSEFxZioOZ6ahJDsNpdnpOJKdgWO5mSjLy0RZfhbKC7JRUZCDE4W5qCzKQ1VxPqoJkhJNS6ktKURdaRHqjhSjsihXTLQTBZp5pplpuThVfgR7tm3FEw8txzdffCbrrFNfVoK927fi+ccfxYaPP0D98VIUJMdh9fPP4PXnn0VhcgIaCCRCSAcRryfXLCl0m2n2XuTzva15GEVIlC5ncSVk3nnnXQHS9m3b8O477+DnLT/jpRdfxMavv8aihQsRcOCAzOi6c8dO3HDDDWKSyPxmEZGyvGvnLuzauVOy4bVlrtvIrl129u801eNyY9m5c6fMj9ao3KFvZ9mc/LYTO23k559+lqFBHP1WTLTd8tPP2PHbTpPsMC3vxI7tap2lHZH9O7R6XN6+A7/ppRxrd/k3o/7O7Tuw87fGsuu3Hdi1wyK/79iB33fuxB+67N61E3/u2om/dNmzaxf2/r4L+/7Yhb93U37HP3/+gf1//oGAv3bj4J4/EUjZ+yeC9v2F4H17EPL3Hhz6ey9C/9mH8P37EH5gHyIC/kbkwX8QdXA/ogMPICYoADHBAYgLDkB8yEGRhEOBEAkNEoARQCeoFRXlouFoMVBxFFlx0VgweyaSYqNx/9134cAfO7D+ow+QkxiDz95/G/lpibj/7juREhGK915/FVs2bsD3X67DWy+/IIO8WWCkgai2tBAUt8/I0dt8Hrc3ByOaYuyFmjVrlvhLaB7NmjkToYcOISoyUjSG/Lw8GdOHY/1QM8rJzsGGLzeIdkSNhIGI6Wnp4EyvF1100QUpHKTN0Sc6JuaC/E6u9Fs8uuJBoLpcQETtKmL/PqREhmHr5o147YXn5NH/8NV6vLP6FaC2EnUlhUDVcax9+00snj8X1UcPI+CPnVg4e5bIwd07caqyTNeKrEHkhpGjNw0DaCsAACAASURBVPk8b3cGRjQpOH/8gf37ERwUhNmzZmP3H7uxedNmZGZk4sv1X2LVypVIT0sTnxL/83OiQ80U0Uwc5nW9/tprGD5suCbDh2M4Ra2zVOtqn1pXdeyt225TdaUchuHDhmGYadswWec254T3N+iKQcbga/Z+Lg6yNnDgQLmOU+cd2sy1m9vv9L1r35/PwJGMGD4MI4YPN2Tk8OEwy6gRw6HJCIweocvIERg9cgTGKBk1EmNGjcRYJaNHYtzoUVYyfsxojB8zClrJ5dGYMGYMJrAcOwZffbIWDeVHxIQrTE3E6uefxdo1b+K3H77Dkw+vlMf+6btv4/P330Xw/n0SWFmQkoDSwly8+NQT2P3LFrz+4vPY//tv2PvbL3j2sUeAqnIxy5R5pmlFRagtLXJrRvZe5PO9rTkYURNiQumat9bgjkWLsHjxnbK8d88eMc1+3/W7NEQOl/r5Z5/jUEiIQIWjFr779rugT4m+Inax06FNB7gh4uims9tGEhOlx0q2c9l2P9ftbk8Qxzmd546EM7caEq852XlfhsQlIMEkiXEJoM+I35MDqdl+6NDmSJF0kvMc8XE2EmuzLvtNPrJY07Lyg3FbCyQhNh4icfFI0CUxLh4i8fFIjI9HkkgCkuMTkJyQgBRKYgJSExOQlpggfqL0pERkUpKTkJ2ShJxUSjJy01KQn5aKgvRUFGWkoSgzDcVZ6SjJTkdpdgaO5GTiaG4WjuVloywvG+UFOSinD6goD5XF+agqLkB1SaFIje4jqj9SjPqjJag/VoKGshLUHz1s+Jeq6JyuOAZUHkdlSSEeun8J3n59Ne69Y5Gkn+zc8gMK0pMFOBvWfYoVS+9DZOABfPzOGrz1ykt446XnNQ2qukKHkQYgQqi2tFjEbabZvskusO4MjAgkOpg3fr0RGzZ8JU5gOlcJqX/2/Y1vv/kGX23YgC0//YSQ4BB8+823MhY163MAMvqMVN4YTTtbscpji4yU+uJnUsvmPDe1zVya9xu5cU3nqfF+DLHt0bPJQ4uKiMLePXuxdesvMsY1xyTi+EQcZI3jVu/a9TsiaM6GR0jcEWOPms5PswRi2u3psxPjZA4zMC9LfpopL03Sehrlpml5acxPY16ayk2LiYxALHPSJC8tUvLSEqOjQFHxRRJjFBeDtLhYZMTHITMhDpmJcchKikdOcgJykxOQl5KI/NQkFKQlozAtGcXKuZ2VhtIszbF9NCcDR3MzcSwvC8fzslCenyNSUZiDisJcARFLOrtPFOahsihfpPZoCY7mZOKXbzchKz4aJ8uPSm9Zw/FSHM5IwfYfvkViWIiAi0Db+9uv2LdjG04eKxXo1JQ0BhGB5IaRC8DH9hachREbGv/zU0vhsibhiI6KMjQd9mQRLEqTYX2jweuN314iq+V8JkAoWBjX0q+ptqvSdr/duCRLNz+/rwRCmktzjJG9OCN9256/9uD7777Hlp+2iOP+u+++x66dvyOUcUEq1shF4oysI7AtibPmdJDoiHCooEdCiUmzTJQ1kmVjLFBKjY1BugApFhkJsQKkbAIpKR65yYkmIDHGKBlFBFJGKkoyFZDScUQBSXrcsnE8PxvHqUUV5KCiIFegRBCd0EFUWVygAam0WGDTcKxEtKyqkkJUMZKaXflV5UD5UdSwx6y0CKgsFyFwCCJqYmaNyK0Z2RLAhdYdw0gBp+nSHly4jYBhmogZRlpdlaGvaS7GfgUVBRn9HFagcqqONXjsfT8rGNmCyB6MlKYSFo7goBDs2/c39u7dh8DAIAuECCOnQKTqNRP42II4I2eSZe0mytqBUbwJRkkmDYkw0rQjC4ws2pE1jAqbhVGWmHNmGJVTOyKIbGFEIBUXCHyqDhdCQEQY6aLMv+qSIlSXavAhgKxFM81qSw+j9ogmbs3IhSCkbqVxYyVI2KCbhpDab4GRNWSst2vDfdCUsTLJ9CE/DCCZQWReNt+LebtaNu9vQjOygpAjzUiBx14p4DKZYuZUkDMJojMQgW2tGWlpIUZ+mp4OIpn7RgS2PpSIDqNESQdpWjOyhlGSbqoloTA9RdeM0jTNiDFIOcq3lIljuTYwEhDpMCrK1zUjDUKiHR0uQGUjEBWhqkQTQkiJBULFOpBYUg7DDSPV6l20PG0YSSS2Fo2tgcbWV2MLoMbr5wpG6rs2gpKtdmQPRKZthknWItNMaUQsz5xWJNHXTiTKMkfNSAmxAyM1tpHSjFoPo2QUCYxSUZxBGNHJrfmNjuSaHN26iSZmWmEuygvzUFGYjwqBUQFO6BpRpQ4iOrI1bcgCoarSIlSVFhsg0oDEdQuACCERXSOqPVICilszckEgqQZqKZ3TiKw1IzNgzgKMqAEp7UdpQ+ZS7ZOyhWaaKavfyplsgo/ZYcxlV4MR4aby0VTpUDMKtyTKUjNS6SDKZ6QGWCOMkprxGdnXjBzAiJqRPRgV5uK4glERYVSAExTCSIHocKH0qlWKJlQsACKEzEIAmcWAEGF0hFIi4oaRC0JI3ZIFQuZGbGr8Vg298XaLH4hAsgWRWWMyA6vxsvRG6YDheRppS7wPR9ut7tH8PewvW2lGtlqRWncAI/qFCC3xD6nyTJho9BG10DyjVmRoRk5oR6IZ6YOrqcx9A0b6qI+NYRStZ+2bfUZaj5o4sKVHLVHSRYweNbNmlKVrRqcDoxLCqEjEDKDGy4dRXWotZhARSOydo7g1I0UAFyrZG2Yt0ZJ3xtwzW4mMioZItLYvJjpakmaZRGsRbjOLtk+dy1IvRju/fi7u5z6tXpScI4r3Fh0NlnaXI3nv2r0wloli/V3sr8v59PrquEZlRBTYpW+Iqs9tkVGIpES0VhrD2MqXFh6JSGdFT1ZmwrJZoiMiIRIZiWhdYiMjERsZhbioKMRFRyE+OgoJ7MqPiUZiTAySYmOQHBuDlLhYpMbHIi0+DukJ8chgrlpiArKSEpGTnIgsXRiHpMUgpSA/PRUFGalGDFJxZrpupul5awaMsrV4pPwc6UnTtCKaaZqJJppRcQFOWGlFzYHoMKpKLWIGktKIpDxagho3jFyIPja3wohqawlGcJAmjBkyloOCERl8COGBIYgODEFU0CGEBIVoEhwiqSKsHxIcbCMhCJbtIaJRaOdkPW2dc9tTI2Bw5IH9B4zt3M8ucw7ZwVgl1vuHEeDBweA4QkFBQdJFzyE89v+zH6EhoXKe4EDb79N4PSgwCE3KwSAZLoRDhtiTwINBOD2xmVAgIFBGBeDIAK2VoIBAGHIwEEEHAxGsJDAQwZSDgQgJpAThUGAgQilBgQgLCkJYcBDCg4MQERKMyJBgRB0KQfShQ4gJPYTYsFDEhYUiPjwMiRFhSIuJQkYcR32MRjqXY6JkKNrshFjkJsZqQ9CmJeNwVoYERZbmZOJIbhaO5GXjaF4OjuXnoKyA5lmeCEFUXliAiqJCkRPFhThB0+wwIVSsSWkxKk3AqSotQVNSXVqC6iOlumgmGkFUc6xUxK0Z2YDAFVYnjJ0AWxk/ZjymXDkF115zHbg8bux4zJh+FZ4dcx0ODF2EPwbNx8JxV2P61Omyf+LYCbjp+hsx+copGDdmnHa+cRMwgTJ2AsaOGYfHHn4cDz/0MEaPHIPxY8dj3JjxeOLRJ7DsgeW4/Zbb8epLq3Hv3ffi0Ycfw+qXV2PGtBl45qlnsWDeQtx1x114+YWXccfCO/DkY0/irTfWYM6suXj8kcex6qGHcdfiu/HSCy9j5m0zMWbkmEbfh9cSGT0e46xkHMaNbixjRo/F6FFj7MvIMfIdRo8cDUcyasRoNC2jMGqEtYweMRqUkcNHOi0jho2ErQwfNgIiQ0dg+KDhGDZoKIYNGoKhg4Zg8BWDMWSQJoMHDgJl0ABNrhgwCAMHDIKU/QZiYP8BGNjPIv379Eff3v0xrJc/Xp95DX5cNgfbVs7D9mVzsH7+tXhvztV4e/bVUr5+8yT88cWHONlQj5MNDaiurEHZsUocL6s6bSkvq4Yzcvx4NSjlDsQNI1egj8099PHvA1vp7dcbA/sNlMbRy683evXqIy/4SP/+eNRrAhb5jMHAgYMwZPBQ9Pbtjb5+fTB+zDg5ppdvL6vz8Vy9/fvg2quvw9jR4+Dv648+vfqgl18vTBw3AddcdS369emP6665HnNmzsHUyVNx1bSrMKDfQFw9/WppmGwIt958G+bOmoupk6bgtptvw6SJkzB00FDMvG0W5s2ZLyDktXk92+/Ty7c37Esv8Bhb8fPxh6+Pn33x8oVvM+LT0wctFk9veHt6w8vTyynp6emFnh4W8fToCUN6eMKzuyc8uniiR5fu6NGlG7p36Yaunbsa0qVTF1A6d9Tk8o6d0UmXju07oWP7jujYziLt27THZZe1R7dLL8GjE4fg3RtG4r3rh2Pz3MnYMn8qNs+dho9uGY/VMwbh0ZG++PWD1403raamAWVlNTh+vPY0hMc7cw5Vr+nSDSPj53GdBULHVgb0HSANnZpN3z79RIYOHoYRI0Zh8JDhGDZ0JEaOHINBVwzGgN79MKB3f0zW4UBwNDpfv4Ho26sv+vXuZ9nXf6Csc/uAfgNkPyHCdWNb777g+fr37a8BRt/HetzO8wl4emnH8b5tr831/n0GOJD+2vl5DZP05Xl797UvduBtCz8BMCHcAiEQCWpnhcA0ixU8e/rC11MTH09v+Hh6wVvg1RM9PTQhrARY3Tzh0c0T3bt5GNKtS3d069IN3TpbhODq2LEzvDp0wIvXjMf6udPw4c3j8Nmt47F5znhsmn0lol5ZgtS1j+PzmVdi9ydrjJe8proeZWXUVJoGRHP7K8prcaKiDidO1DuUioo6p67jhpHx87jOgr3Gy0Y9eOBg0TbG0mQxmSQjR43GqFGjMWbUWDGJxo4cI6YOzbpBAwfBERDsXedsb+O9UOzDyBpABBshpIkNiHr1EW2OGp0teGzXWwIg1hXNs4UgIrDMIGqkydnAiCDy0iFEGHkqzYnaUzdP9FAg6tId3QkiE4S6Xt4VFMKoQ8cu8OrYES9dPRYb507DV7dPwk/zp2HLomn48uZRCH12MdLeWom/ls1CxHfrjZe8VTAqr0V5OTUpDWCE0JHSCqSl5iA5KRMpyVl2pajwKJwBkhtGxs/jOgv2GyobcH8MHzJc/C/jx04QPw99PfQBsdREW6afiJqTK4GIoHMMIu37nUltSEGpNTByVhsy12spjJRGJDByoBVpGpE1jLroINJg1A3eHTvj1avGYtOsKdh020T8OOdK/Hn/zdh25wzEvnQfklY/gE23jkXguveNl7xVMCqrNrSp8vI6UCtKiE/DwYBQBB4Mw8GDYQgMDDckKJDjkYciMiIeZWVVokEpkNkr3TAyfh7XWXAMowGaGdW7n1VJDcJai+iHvr24jZqGfTPpbGtAtucf0PfCMM0ILjNgnF02g8jKPFN+LtGMfMQ8a85EM7Sibh5oDkYdO3RBr05dsWHezTj40AL8cc/N2HHXddhx97XYunAqfl00Fb/fczU23zwaBz5523jJnYURNSGaYBXldUhLyUZiQjrKjlUJiLKzChESEoXgkCgpuWxPgoIiRHs6Tkd3ea0cy1KWK+oMbcsNI+PncZ2FpmDUmn10PNvC4VyuN22aNdaIlHZ0PvxE/q0wzwgshzDy9tOc6yYYeXvQRKOjW/cX9egpviLlLzJg1LVHIxiJeXa55ujWNKPO8OvQEZ/ffg32PzgfO+68Ad/PnYxNM8fhO8otI/HLnAn4/sZRCPqiZZoRYXHsWBXS0/OQmJiBqKhEREYmID4+FdFRiQgKjgBBExxslkgEB5skJBIhwZFSj8ckJKSL8HxJSZRMFBeXCZDcMHIdBhl30hrgOHvM+TDbmr83a1/R+YWR8w5rs9bUJIx0x7Wvp6YZmX1FPU0gcgwjzWndtXM38RMRQpTOnTqjQ8fO8OnYAa9fNR4/3D4D390yEVtma/LL7An44eaR2HXHNPx2+0QEf/GB8Y45oxnRz5OfVyIwIXAOHYoWUdrPodBohIbGWEmYzbqx/1CMHa0pUsw7+pp4LTeMjJ/HdRaab7yOHMAt2362wdS0f8h8r2ceRi32E7VSI7LVivyUWaZKakaevoZ5RhPNWRjZmmj2YNSxw+Xw6dABz08chi9njMHn107ExtnXYsudt2P7A4ux+8mViFz7NgIefxD7PmpZbxoBUVh4FLExSYiPS7WSuNhUxMYmGxIXl4rYmGTRmKhBxUQnITY2BXEiqdp6TDJYz3KuNKmfnpbr1oxcBz/Wd3KuYNRferboVHZCbE29/gzCu0IT2336elPn5bWbE8Y69evTT0SFMxilHlKgwg7MZZ9efZvtYVPObVUavWiqN82q7CUxWIzDMoSxUPq6rWlHIIko882LppoPfHtqwtgl9qZpPWpeoHakxLN7T3hIj5oHenTtYSXdabaZe9U6d0XHTl3h37kbdqx+CVm/bEHGgf3IS0lGWX4e6guKgMOlQFkFqoIOIG7rt8aL5oxmRF9RXu5hMbGUNqRKzRTTzLPAQM1xHR2dhOTkLCQnZQmEDoVEiVObdQmqyIgE0bLUObifjm/6odyakfHTuNbCOYORw1gfs9aiL9vEC10x4AqJDGZ0cJMycBCusCMGyBTQmi2t/V70g9mT5gDXmv28jvabaBqcBkmC0iJ9e2uxWISiApyUegiCraamBXXSWd4L/oxPogalxKtxEKdPT8YmWQduMhjTw8MLQ7z9kbVzB1BUCORnAalRQOIh5P24HodeewJhL67CgYfvQtzWTcaLXlvbfJxRZRMwUkAJDuJwvrHIySkSLYplTnYRCguOiFAzCgoKR1ZmgfS8BQdFWplr9DnRb+SGkfHTuNaC8pmcmdIOWFoCIVNd5Yh23vxyfG329NkTh05r20buINDRttGfiXVHwY9WfiIFEm9f+Ooi8NADHA1ntQpwtPEV0Wndo6sHRPthcKOdAEflK1IlI7U7deoC33YXY8v8Gahd/ywq1y5H2XO3oeHNxTj66mJErrgRUctuwt/zr0ToRt1ndAqoq6kHe7fsdbGrbc3BiGAJC4tBcdExZGbkiz+JWhLhExLCoY4zUFJSLqYZu/kVwMwlQwHoyHbDyLUYZNzNmYGQ8sM4BsL51cDU/VmXrggjs6PavGyGkVq26tYXx7XmtLaFkTm2SDmuVdR1c74iA0aduki6iF+bf2PT4utR9fULSHt6Nn6+qhcCFo5D+bvLEbPqJuydOxp/z5uAsE0fae8YYVRdj/KySskVU/CxLZuDEbUaakLUeggVaknsOSNsgkM05zR7zxj0SMc2zTUziLjshpHR7F1z4czCyLqxW859viDl6H607ecCRvT1mKHSmmUFH1VaQciItrbEFZlh5GmjFSkIqfQPM4xUpLUCkLns3KkzLm/XAX26X46w7ZtRkRyM7P07ELRxHYI3r0Pxwb+Q9dc2xG7dhPgtm5AVdADQZwM/XRgRRBERcdItHx4ea9evpGCTm3NYtB8e44aRazLH4V1ZgNF0wz079c40pJz/Dg5BxJw0J8y03n59ms09szidW9eFT3D5Kce0kYumJ/DSVPPyha8OI/acKTFgRBDpqR+iEenpHwKirj0amWnmaGsziLjcuePl6NCmDXr7eiE/P8Ph+6R21FVXnVEYxcemSte/aESOAh4DtYDHjIx80YLcMFK/xgVSOgMZibjWE11VBLYqpWepdz+rRFNnzmmpc6aA5DyI2GvmMBHWaRg1nwjbGi3IfIzShMyloRURRkZMkXV3voIRAaSEGpESBSPRivQeM7NWRC3ISpjN36Ez2l7aDj7eXsjITG/y7eawIRXHy4069BmdjplGLYdd9AX5pVrQI4Mb7QCJ9dJTc5Cpm3K2ddxmmvGTuOaCBQr2GzNhwzFvxozUEmM5XpASjk1EGTRwMNjD09y5XGG/9EQ5yshX2x04rNlj5YyT2pET2gyappYba0N2hjQxzDOCSMvMp2bUNIgsmfmSEKsnxdqLKTJg1LEzLu+gwajNJW3h3dMbmRlNa0YnG06i/Fi5RTMSGFU16TNi135uTrFdE4xBkMw5Ky4qk940e9qRdP8HRSA/r1S67zXHtnXKiMAo0e3Adk0SAUZsjYqxUaWYMRzeo+8ATJowScY2GjZkGIYPHW4I1zm4F8cWGjJoqOSsuQJwmrqHJjUiwqgJELkMjKgVGTCir0iLJVIgYmloRLppZuUrUqkfnbsZGflms0yBSEGoU/vL0bFdJ1z2n8skXikjvXkYHbeCUYMMiKYNeGZ/GBFm5bOb3p6vhxoOe8i4Pzu7EFovGn1CugM7OFJijJhIy942RmIr57ZZO3LDyGUxpN2Yo8bJAdE4jhAHRKOwIfby1wZK4z5KL/8+8PfrLZoSRzakFtUUCNQ+LanWviZmqXM6pp/jczv6vsb28wwjs0mmLdsM8kY/kc1YRWaNSEBkclprpplJI1Ig0rUiM4TEN6RMNN00I4g6teuEDu064tL/XOo0jMrLzJrR6cOIcAkLjZV4Inbthx6Klm59gVdwpOSzsWufkdiOgOaG0QUMI5pjkydOxsgRo+Dfqw/8e/eBXx+L+PfpC3//vhg5nMOljhJgUaOyFQbsKcgQYgy8E9iZtqv9qqQ5RACq9daWvLb5fgzoKJNMlWrMIgcwcsY8Y53TMdGaNc8YU2Q4rC2mmTnlQ2lEqrSrEcngad1FK+qs5501BaLTh1HzPqPmNCNGUBMyYWGxyM0tRlHRMeRkF4umVMCgR6aSxKaI1mTWhszLbhhdwDAaO2osrhx/pZhoQ/z6YoJvf136STnRZwBGeffDuGFjMGr4aNGU7DV2BSNGAE8YNxH33b1EtCl7sGHd3n69cNMNN+Om628SHw23KYe5GUpaIGM/9LdxoIvDXR/qhPXt3VOjbc0MnOYsjJryBTW1r3kQ6b1nhlak9Z6ZB05TAFKllVZk1oi6aCCyApBJIzLMs3adRCvi8LMd2nU4Dc2oDuVlJ5r2GelmGoGhpX+YsvFNmfn0BRFKTPdgagcjqpn+QT8SzTcGRzo6/mBgGJLcPiPXJVKjRqlrCuy65miOE8ZPxOjhozHfdyje7zkBaz0m4kOPyfjQYxI+9ZyMlZ4jMXnQ6OZh1Lu/RAvfuehOvP3m21i0YJFoSNRaONqhmHh9B4g2RGhNmzxNxsPmMrUN1hPz0K+3aEusz+30cbELnWBjHTZ4jsjIujRzHH0/q+0OtCGeU0lzMDodjYj33Ng8s3FaGxAya0QWh7U5I1/LN2s8iqPqPTM7rJV/SErdUc2eM2WeKRCdCxixt4w5Z9RwzImx5mWmfBA+TI7lMCEiPCZGS6TVkmV5fONzREcnIiM9z50o66o4smqUymTp3RcGjMZNlEHxZ/sNw7u+U/CO91RDPvSZhge9xmDCEE0zIgDsnY+aDRs1B9B/7OHHZBD9xx55XIapHXLFECxeuFhGlfTx8sVV068WjejqGVfLgPwEDGcPeWDJg3jw/mWYNnm65FgNvmIIFi24AyuWrcDdd94tjnQ26BnTrsKSe5dgxYMrcNvNt0vMUG9qPabvZiw3Y5qdMxA1gpHJT0TTzMpPpGtEMk6RnTGtTQ5rY6wi3SwjjMxd+GbNyNCGOlyOTu2VRkRfUQdDLr34EhkFICOteQe2lc/IHIFdVovjFJvxsGmm0dxSvWL2HNBmk6vJ5eAozYHNKGyTUHNKTc2RUSDdQ4i4IJGMhmnTWG1htMBrCL7oMQXru0/B+m6TRTb0mIpHeozBlYM1GEnjtTkPz09TiQ3qtltux4NLHxSN6JGVj+D6a66X5aeeeAo3XHuDDAK2csUqgREBRe1p+pTpePG5l8Chb2+58RYBELWhJfcuxbL7l2HMqDG4754lWP7gCgwbPAzPPf0cbr7hZvF1LblnCUYNHwV/ak527kvBprmyOa2oKfPLmX22WpERS8ShQaxAZD/K2qr3zFE8kV0QaeMUdVbOaoLIyjTTzDMCqX3b9rjk4kskdKB1MNJz0xzASBtcrRJpaTkyIBrNqdOXTCQl6pKUKRn+h92Dq7kghfRbsttIbTSj0SNGYaHPcKzzmIIvuk/BOl2+9JiKVT3GYOKQMeLEdgQjajf046xcvlI0nCmTpsgcaisefAiccmfWbbNw3933iXakNCZqPXcsXAxqTqtWPIyl9y7FrNtnyXxkI4eNxDNPPiNzjzFeZsigIXjysadkYoA7FizGQ8sfwvw58zF10lQZOsTRdzxdCJ22w9qIqraYaVYgMrrvrYMaG/We2QlubKQVmbrxrUwzpnmYzDLCyGyaEUTt2rQT+c9ZhBE1pfLyGjCJ9WwKocdruTUjF2SSo4Zq1ozGDB+Nmb1G4A3/qXjdb5rIG37TsKbXdNzjOwbjho7GiOGj0Nu/t10NhMNVTBx/JZ5/9gXRYu5afI+Uzz79nDYJ4dCReHjlIzJZ47133yfj7dx1x11ivjFIkY70qZOngf6mR1c9JpMCcDJHTsBI04MTH/JcdLZzEoErJ1wpph230dzj9SXFg2keZjH5hOyBqTmN6Fz5iWwHTKPT2qmYIr37Xo1L1OVyXRNSzmo7INJ6ziymWbu2GogIpLMNI1vT7Wyuu2F0wcFoDCaOuxKjh4/FWP9BuNl3GG7xGY5bfEZIeavPMFzp3R+jh3EWVMcw4vg5NKtoSsk4Ol4cEMwfjz/6BO5efDe8e/rggaUP4t0178oEjh7dPHDvXfcKfAghzhzLqZDYw0aNiNoSYbVi2UMSkLn0vvvFT0QQ0fzjJI9XTpiEp554Wsw/mjr2YNPctuZgJOMDtWCuM2Wy2Zplat1KK6KJZifdw9yNb3ZaswfNbu+Znu6h8s6oFVETUuLIWa1MM6UVuWHkgo33v+2WmtKMqJHINEWjJ6Kvfz/4+faBr18f+Pix7A1f317w8vHDqFFjQdNJerWUU1gv6dRmz9fMW2cKIBhjRO2EgJoxdQZmnlziiQAAIABJREFU3jpLesUIHZpYnIKZjfOaGdfgmquuka79m264Cfffdz/uufMe8QVxDB9GhtNso99o4byFkpJC0DEuiqEDS+5Zihuvv0n8VYRKc+Ax76dW2BSIWjvXmaNeM35fKxB5meOJtAhrlQTrCEYaiDz15FdOwqgLx7I2TTdk8Q9pKR72es1sQdT2HJlpZ1MTsj23WzNyQZI5hlFvMYdGDB0peWkTRk/A6BFjMWaElo/GgEjODU9TibFDdFI31eh9vfykF8wwk3r3lXXp1u/dV0BGmPAcNM1EW9DXuUyoKQgQHDSRONyq2i7X1o9jPW5n42dpBo0zy83DqPXDgsj3aspXZCfVQ4HIHFMkZpoeaW3uyu/WVYHIejZY1XNm3WumOayZ6kEAKWmv+4kIobZt2qJNm7ZS/ufi/5w1B7YtLM72uhtGFxCM2KAJIoKGM8VS8xk7apz4b1gyBmni+ImiOWmBii3TPgwoOYAFgSDgUD4eR/Xop+I+VY8amarLbWq5mbIpTci8T5larS3twcjQiqwy8S09Z3Yd1mpWWL33THNYW083xHgic1e+OK5VLJFVr5kGovbt2hvO6jZt2qDtZZq0u1Qr//Pvi9HTwwtnozftbMPH9vxuGF1AMJLAwV59BEI01QgfDUYEkpavxqmvOb50L98WgqgZMDgLkDNZzwwce8v8jqfjsJYI60bxRFovWqtgZDMrrMBIRVkrP5E+zZCmFWnOa00zUhqRqeve1GtG/5CCEUGkxA0jF2zA/0235MhMU9vZMGWOeUPzsPRI0QSS/S4Il5aCyh6AzNtOB0RN+YqoKZ0NGJmjrJWJZviLJAvfAiKaZ2ZHtWaaWbQiN4z+m1q8C38XBR27ZQvMnJY2fleob4aNo2Waq601ydRx9kwzKwix58wqpsiJlA9TcCOd1z26KRNN8xWxG58QagwiFV1tgVG7thbzjFAijBSAzKVbM3LhhvzfcGt2IcRoZaUJ/RdoPWbwiTanD4HiCEBquzjMz8IY1gpOhkZ0mjDq0c0T3RWM7JpolgHSVIQ1hwSRXjOTn8iRedZWN9XcMPpvaPEu/B0cwui/DEIKSAo0zpRKszndUsHHtjxzMPJAty66ZmRyWovDmgGOKt3DGJtId1ibNCL2nNFPRDFrQ1xuc4m2jTDiAP9OObA5uJr+4YD8x49VoaysBmXHajUpq0bZeRS3A1v9Oi5UXhAwkh4y53vGFHiaK50Bkr06zsz4YQsetW4FIGpESrxUbJGKK/IGJ0708vBCT8+ekjZjzkHzVL1oHFhfxRTpEdcSV0QzTSKuOZh+F0vKR3tLNz7zzVSEddvL2sKQS9uC2pCSNvryf/51scxAm95comy9Puys/p5zGNra6nrU1jSgtuakLlw+f+KGkQtBSN3KhQAj5rYNdDCt9elsN08U2ZJljoApYyyZZnlVw/Vqpb392jZ+F4v0lZgqGZdbn0LbDFCm11jMSi73Nqa5NoAoMUv6FNcMDfDyhU9PbTZYRrZ7e/rAy4PD0hJu3tI1b0xvbRoR0rObB5SwZ44+KLMwKr5D2w5ynuY0o1MnT4HDzhJCrvpxw8gFfxlXhVFjjcQUP3SGTEheg436TIiWGsJgSPtidO2ze19JTz/4WQm1I28RTjEtmhG1I+ai9egp4tmd41tr0qM7HdfazLCiHekmGmOLJL5I14wup2ZEE619J3Rs39EoCRdqRm3btkX7Nu0MaXdpO7S7xEYubYdL/3OJAK05GPE1r6mqQdnRMjTUNxgD87vS6++GkSv9Gvq92IXRGe5F0yKaGQbQEml+KqDGwHLuGHFMCzRaP5+Z2Y+kTDD7pckUUyaZKq1yz8w9aJZxiiT/zDz3mfScUXMhhOgrsqR9qABHw1fEPDTlLzJl42vmWXs9urqxn6jNf9qgzcU28p820CKwmw96VK95TXWNzBJy/NhxHD96HGVHj0OWuX6exQ0j9Su5UNkIRmcYRDQ7WguNs3XcmeiuP/MwskzC6Cj/TCXDCohU71krYKT8RMphbeu0PlMw4mt+6tQp0Y6oIVFourmCuGHkQhBSt2IFozNk/lj5PZgndp6ktVn1ZtA0tWxfE3IwNpHShliaYop8Pa3TPpj6oWCkxrI2l1pMkWaaiVakd+VzmJCunbvaiSuyHTBNM80cdeNL75lDzci5dBD1brly6YaRC/46Boya0YjEmerrDFisfTtnA0Ra/A/9PU2Ly8KIPWd2xrQmiMzJsGYIqWVHMFI+IiPIUeWgGUPIqrgixzCS3rNL2sBWM7pMN9ku/p+LZT42Z3xGLviqW92SG0ZWj8M1VgRGzYHIrzcG9h+IwQMH44oBV+CK/vaFvURMmzgbAFLnPN20jKY0nab2NacFOd6v+4z0ni4ZRtYKRhbzzNGgaQpELBvBSHXn61MOKX+ReZwiNWCa+Ir04UAYZc1EWHNMEeOJbH1Fl118GS69+FKw/Nf/+ZeEETTXte/Um33KqVpnrZIbRmft0bb+xJJ31oR5RggM6DcQkydOkWFcr5p2lQyAZl1y8PxrZGZZNWuHgkdrS0e9Uk0B40zvcwwYiynWfB3rcayVRmQ7eqPSiuyN4KggRBCdLxgRSP/zf/7ntGFEHxIFZxlG1dXV0qNnbhns4YMebeCGkfnJuMiy2b/D5b4Cpr7o5c8JGrXB1IYMGibDxnIqaw6IZg0iazhRa5JJGlvsJ7J2dJ9psNiezxkNy95cZs3DxxpUEtRo5SMym2jWWpF04XtYetJsNSJHMFJJsUorYnmmNaPWwqjyRCXefO1NPPrwo3j6iaex/MHl+H3n72f+7TfBjWbkzt92YdeOXcjOypZrlR0rw/rP1iM/N1/W3TA68z/BaZ/RFkb9OI6QX1/09emLUZ59McKzN0YMGobJk6Zi3JjxAiMCya5MuwpXDBhkF0YEFKOJGYhHX4/SmGi2cIwcjvyothsBffqQrhzZ0cfLx+mEVR9vX4lYJkxsIcR1DuLGiQBYOoIL93n28AQHhTPXMSKmzQ5pH62Od09veHT3kMBAMcdYx2SSWWtFFse1Ms8IIx5PR7RVtLXNkLL2uvMNX5E+vrUZRmqAfXNCLHvQWmKmtRZG1EbCDoXh/Xffl6mjdv62E/v2/I2SwyWoq61DclIKSktKkZ6WjoT4BMRGxyIzIxMR4ZzOOhwFeQXY/ftuFOYXyrvOfTxHTFSMrBMuOdk5hqZFrSvwQCCOHT2G1JRU/Pn7n1KP9/Dzjz/jn337Zd0NI3kMrvVHwYgaUV/GAfn3wWDv3nihx1js8rgev/aYhhsGjcbYiZNkxEdOHWQXRLrGxPGNCBbCRgUTEkSE1G233IZpU6YbsGKDJ+Bm3jYTI4aNkEkee8mYPxwVUgMJR3NklPWgAYNkZEe13brUJnrk9QgEjsd98423SMQyj9dgopWcm433ct0110v0sz0gEWaczYR1OIKlt5ePlrZBv48NhNQ6rzti6AgZf5vR3ASvr68JRtSOGBltp/dMwah71x4YMmgorr/2BnFkM+rZYqJ5gOvdu9mPLXJVGKm3/eCBgzIOOtffWP0mtm7ZCmornA9v7569WDh/EZ549Al89833Mi76mjfWyDjoTz/5jEw/xfHSiwqL8M6ad/H1l1/LMMQEDJc/fO9DdRmjPFJyBN9s/AaJ8YliFu7cvhMlxSXYtnUbKisq3bODGE/KhRbMMKJW5O3fC0P8B+Bvz+vxe5erkOxxExYNmoDRV06SAdYII5pp9oDE7XR0s4GbYcT0hNEjx4i6/tzTz0sdbmM9Tsz4/jvvy3jX1ESoHXhJ9LG3pDVwGydjvHvxPaI1ECxSR9IbvERj4rUIGW5ngyYUbr35NoEhQULNi7CgtsEGPW7UWDz/zPMYPHCQaGpK82EdXo9pEAP6DcCzTz0r5+I2T4+ecn6WBpxMYCI0Fs1fJN/llptukXP4+vjCq4cXenTpAY+uPeDRjWV30D9E4XKPLt3FD9O9a3dQhg4eJhMPUINkVDWTXLt00rrsu3fpccHCaO+efTIjTH1dvcyDt+3X7aiqrMIDSx7Anj/3yOQLebl5YkZxFpjy4+V49+13se6zdSg5XIp77roX6anp2P7rdvz801apv3XLLxK7xOBK9WEMU0V5BU6ePIm0lFT8tXsPMtMzsWHdBgTsD8D6dV8iPjbeDSP1wFypVDCS0s8fPXr1Qq9+gxHgeQu+7zYdEZ63YNEVEzFm0qRmzTQNRleIhqM0l95+vQQqhNEzTz2L5555XmaKpalBaHDKIYKBM8ky2nj61Bm4+857ZM40TspIjWjVilVyLGeLJRioTbHO/LkLZKRJgo2QnDJpqszBdt3V14uznSYSNRtqXpydhDPTsi6H0H3isSfl3Gz0GuC8ZRA51uWcbdROHnv4cZkFt1vnrgJgTgp56823SsqHGUg0+egr43RL8+cskHnbqA0SQhwjfNqUaTKBJRsU770ngddV23fnHXfJ9TizSZdOnXFF/4Ey4wnNNQLuxutuBKdv4uQEfD6Giab3oqmoa2pGhnZkirpWPWkyXIiepc8xrW0DHVV2vm1vmlpvrZmm3vVdO3bKXHYNDQ1Y/fJqvP3W2wgKDJJtNMM4S0xFRQUy0jNkgoWK4xV447U38MXnX+Bw8WGZ/POnH36SSRmCA0NkGqutP/0i5lrQwSB1GfD8f+z8Q0YWIIR2bNsBakU0ASsrK5GdmY3vv/neDSPjibnQgvLdaCVh5I/e/QbjH4+bsLnLVIR53IKFV0zEqIlXyqSJjjSjq6Zpjm2aafTx2MKIjfLxR57AXYvvlv+Q3Tt3x6033SqTMxI20yZPk4b66KpHBUizbp8tEz0OHzpC6jzx6JMy/vaYkWMFTjOmzZAX+aFlD4lWxKmNXnrhZcyZNVeAxPMQPHNnzRUQjR8zHssfWC5m1Iihw8UkIOgII5pl1Io4keTDDz0s93LPnffihWdfEBORM5Xcf98DmDhuIgikeXPmCxjEH+TlKxoMZzB5cOkyyd167JHHxOFPX82CeQvw6kuv4oZrb5QZUjh3HKdaGjViFJ558lmZPZeAe/LxpyT5ltfgvTOxldMxcQbeSRMmybRMnAWFzmoDSKbhQs4EjBzFGRFIqmuf125N135keKRMRcVXPyY6Rqap4tRU1H4iwiLwwbsf4MSJEyguKpZ6VSeqxMdDZ/fxsuP4eO0niIuJw5o33xZAEWihIaHY+tNWbFj/lVWL4jn+3vsP9v99AMWFxWKq1TNHTv/QF+X2Gamn4UKlgpHmPPZHD3/CaBAO9rwNP3adgQjPW7Fw0JUYM2kKxo4ej+lTbJ3XNNnYo3a1aA+amWYfRmxwnJKIDZ4gYMOmNkWgXD39anFgcwJGznnGGWGpMfH+CC1OPUSThRoR67POdVdfh1defEUgxobL83Xu1EWmK3pk1aPw9fIRmEwYO0HCDlY99LD816XGRf8EY6bEJOzhJffzzFOcpXY02rdpL1Mf8X7py1rx4AosmLsAY0ePw5yZc8WHQTPOu4cXenIs6h6e4LlpXlBD4v1xmQOY0XSjiXl5h07gtED8HtTQeL6F8xeiU/uOYO8Xp1zizLqcdWXFMm2qbn5/wv2ySy6T++CccRz0jt9RgHSGYaRijmyDHpV2xDij1sLIeOX1Xi+ti1/byix/+Zh6xIyuf/M2VjoF1NbUNq6vbXH6rxtGTj+qc1dRwYhlH5pp/r3g328QdnvehPWXT0JwjxuxYMB4jJg4EUOHj8TUqdMxY/pVmE7RtaFrpl2Lq6ddK0BiTJIjzYg+mEEDBwtQqJbTdOJQHJy+mpoRp6Ne9sAy0Yw4YeOTjz8pMJp120zRjmiS0Mew4oEV4rO69qprZW40NljOqca52agh0J9FOLD7ng1+8cLFMsssNR9qSkMHD9Vg1P8KcTR7dfPC4AGDZYJI7iOMCBVOHkk40PyaN2eeON95TWo5DPD09vBG9y7dZFbcF597EQ8tWymOVX4fmp/UnObPna9DhzDqJJCaN3seFi+6E7Nvny1TSXfq0Enun/dGc5bPYNRwak7PyOwmvB9+R05KSQhyfKILHUZ233CCR406YoaQWlal3YNbttENo5Y9r3NSW8GImlFfP3909/eHX79B+MfrNvzc7VpE9rwdz3uNx+TREzBlkgaMqVdOBmXaxKmYPmk6rqJTe+p00VCYNsIeLGWmsYeL4+jQTHr5hZell2rylVOkB2TOzDmyj/En0yZPxx0L78DKFavQv08/3H7rTDFvGPVNzYhaCnup6EOh1jP4iiGYNHGygI0+H2oWNNEub98J18y4WkDCHrGnHn9KjmEP2srlK8UUI2AIRvbSeXX3go+HNv4PzThCjXWp2bz2ymvibOd9EZwEASFJmLC3jGYgHdMEKyeZ1FI5vAQgNPF4r9SCuMzvz0kxCRhqWLx33hvNNWp5vB8CiDOxPPbI49IjSQ3rjgV3CLCp+XHWXTq1DVPtQtSMmnqrCRtb4NiuN3V8C/a5YdSCh3WuqhJG1CAYk9PL10/MNP++g7DH8yZ8fflUxHjdjhyvmVjffRre6jkNb/acgjd7ThJ512sarus1Dr36XiGgIIDsdZXTLzNsyDDRUAgIOsvpzKUWQH8NfSFsqOzWZqNnwyaolt67FNdcda2koXA7e8h4LgJh2QPLpR4bNRvorTdpYQN0Ao8ZNUaAQb8Lnd70u9BRTD/UffcsEX/OnNnzZKZb7x7ekifWs3tPgQ0b/fIHVogGRWe0FlHuLw71VctXih+HzmaaZz4e3vD39heTkr6eHl26wbuHJ5i0ShAxvGDurHng9NvUemjucZZbOqfpjKaZyd5Efhdqhhzug8+J353Du9L5Th8bjyOUqI1R8xOt6Cw4sM+JmXauXuxmruOGUTMP6Hzs1iKRLTOk9vDzQ58+A7Hb82as6zIZkd63oc5/Iap9F+KEz0JU+SxApc98VPvMB3zuxFLvSejs5YtePTnDq3X0sXmdphu73lVcDpelJ8vXX7rcucxeKfZSMRWEw6rSDPL30Xrj2EXu7eEj29gT5eftL2YQocAseA44xgbu4+kNb0Yx9/CUZW5jFjzFs1sP8SPx2uy+92YskCfHEdIGNONIhzyfPwMeJcaHAYyaX6hH1+5yPTX6ody/dNF7S7gAQwaM6/ToKb1lXTt1EQjSiU1/FwdMYz36mHh/NDsJTOkl69xNes/43QgzRlsTPBw6lvVZsr7s10EkmfqmqatZX6KwO+oD8BtjXptmApHZP7QZQGyDHhWM2l7SBkrM/qPW+ozogGZwYl1dnbziNdW1YDc+o7OPHz8uUdIMZmTwo3x0bai0tFRikazaxSlIQCMjqzMzM3Gk9IjV7qZW8vMK5FjWccOoqSd1nvYpc0pFK3v6+WKAXz/87nET9nS7Dmnec3DCbzGO61LhtwgVfgtR7bcIpb6LMddrFDy8fdHbSzPPtCBDBhhaRAGIWpDVsj7us48EBGpjQGtBgT6QoTVoPnlYLxMcksfVo6dAR4vZ8YYPzSY9fkf2exBMNMH0evo6QWVVT8+UJ3TUcV49CELtOLWd8JDudoLElLIhkdJ2tvX08ES3Lt1w1XTNwU9wSHqHqS7XCRcBlD4po9QxTdDIuKmuBBTHulaTNJphpA8bIuBSMLIZhF9FYJu795saQkRBiSWhJAm0l7TBv/5v6xzY32z6RjoV/tr9l7zlW37YIv5B9nht3viNaIJPP/k0lt63FL9s+UXqEFT09dGUtTXd3nv7PSxasEjCM2hW796129J6mjDr2KUfGnJI6rphZHlkLrOkYKRKX4mA9sedniPxqdfVWOs5De95TsF7Uk7D+x5T8IHHZHzsORWrPMdioGdv+Hn3Qi+fXgZoFHCM0kFuljk9wnrZkiphBkdrl5XGYlvaQuVsrHvq8UK8toDLDnTMAOKyykEzkmL1yOvWwsherJGCkb14IzOMzMuthdHXX23EyGGjQCc/P4ymZg/nH7v+wMdrPxbglJdX4J233gGDYvkJOHBQOiRowmdlZMk29ef5Z5/HmjfX4Pjxcgnn+OC9DyWNZD9TPU5B0kXSUzMQHhYhQZOEIdND/vpzj9QjFN0wUk/ThUoFIXPJlAxvbx/4efrCn5HSTIegFiOaDJ29mlnj1dNLfD5Me/Bh6oMpItlq+RzASDmP6Vi2lVZBRh9zmibU6YgyydQ5bMFjb/3swMjaVNNgpAU/Oguk1sLoq/VfiV+M8VeBAYESR8UeUcYQffnFlwIdRuEzDOKH736Q1kGn/89btoJpIV99+bVVi3l99etYvPBOiUdiZ8KB/QHY9PUmvPj8S1KPjn8GOzLUg4Db9NUmpKWmg6EbPD/DOtwwsnqkrrFihpDy8TB62N+HsUK+8CdgfP3h49tbEx9/ePv6wdvHDz628NHNLhnJ0GR6WWs95qx1y7jPtloP4WJPWgMWAsGuOKGl2IPF2d52NmDUsZ1liiI17Kyaxvpsw+izTz7DO29pAY6zZ84RAL368mps+2U7Pvv0c7zw3IuSGkI43XPXPRKkOHf2PDz71HPSu8meUqaRqA+P/eC9D3Ci4gS+3rARK5evwvrP10sAJes8suoRSTFh+geDKamRhYeGS0Q3AUfQuWGknqYLlQpAqqRGw0RXfy9v+Ht5wd/LV3cW02Gs9ZaJ1mOGjVo2DTBvBpDm59EcxdbL1n4eBSRCqDXQUdqHbXm24cHzyzVtfEmNvoN5aqAmQHi2YWQeZE2lhhBIjhzaylRrrWZEHw9TO/7Z9w9GjxgtKRwM5/jpxy34/JPPRSPatHEznnvmOdFuPvrgI9y/5H6JsN63d5+ER5hTPl547gUJp9i8cbOEgryx+g38vvMP2cbMfMab/bFrN778YoNk7S+7f7loToyE/+G7H/HUE0+5YeRCDDJuRUFIlQIagZGPAMmP2o6MUqjDyEuN4aw5luloVmINGgt87Gk43Kb8KI0arb1GrabqMc2UcS4g4+w1bAFod509ek1ASO07GzCi38jsyDYPJ6JpSBaTjWBScCKglFz8//4tTvSWpoMwFYSpG9Rk6CeqrqwGs/hTk1MRHxcP+nQ2rN+ALT/9jGNHy/DP3/sREx1rvKN7/9wrvh61ITgwWODCY3b8tkPOW1tbi++//UGy/gkmDjkSFxuHr778Ctt+2SZ1CLSkhCTJiXNrRuppulBp5duxNbsIIRttR+vtcmxeKe3GXDoFGxsAMc7GECcasGrIF2ppBpBa5nAhVmKnN822e98YYE0ly+rd+7Ywat+uA+g3MguhdFmbyxzKv//1b4FpS2HkQq+7cStuGBmPwnUWrGCkzC2Wyv/j6StxOBatx7FpZes4VuuOYMThOOz6cmy0H8bi0HQUDY3hAby3/wXC2WCtRZ8RllNe28DbrInxmXqwV0565jgOkjZ8CcMIGCBKYeAkI7mVEGoCts5dZXA3DvBmFoYpUEPib3pWB+Rn13wT3fNnquW4YXSmnuQZPI/WwPWGbmhBFtPLPJWOI3NLTK4m/DzOAKcpjYYNjY2gJxNTxe9imVVVza56wZdmTVBfNoBidPfrs8cKVDSwKIioUqYrYiDk5VrAJJNqGXBJubwD5XIR5sNxdlmzMA5JYpHadUD7du0bycX/ulhA1lLNiMGOHJ+I3ev19bojWuWgqXfZDKCTkEx9FSTZJJzMx6lzAaiqqkJNjWWco9raOtnG4bd5PjeMTA/LVRbtm2H2tZ9G/43N/50FEp5O+USaAo+9fcpsaW3JSQ/PlLT2HlpynDZJo7WJZqSA6FqNgk+3y7tZxjHSh5w1TDXzjLKcusiByUYAibnWth3o3G5rRGkzUtsi//5//xaNqqUw+uXnXySNhonHzCukz6epDyd7ZO9YSlJKU9WMffQJmesSRI8+/JjkIhJIHCHguaefk9QbApEfN4yMx+c6Cyri2VJ62+1SZ/qDASOb2Bv6dpjbZQ8krd1mr/G2FihWfhdbP0wL11t6D4yutvddGm+zBqbtPTuEUWcNRo0isHUwGdNbNwMjQkikXXuYndtmn9J//nWxRIu3FEaffPypJDpzvCL2nrGrnmNfhwSFSIDi4eIS7P7jT3y57ksjwHHb1u3IycqRLn0OqvbtN9+hrKxMGg4d4p9+/JlALSM9UyK4V7+yWgZnYwWO9MihZjjYXmxMLPJy8nDtVdfJEC0ce5vOdDeMXIdBxp2YHc1cZr6WAR2z5qMvi1O5hQ5lK3ND+TIM08M64lg1UnOjV9tsG6hT62anr9IqTqNkFLRT1zVBzvxdzMvqe7Hk9qbOe7ZhZJsqYoaQWr74362bxPHzTz+X0RJ2/7FbNKM1b7yNbzd9K6NfMiCRsUCM/WHgIpOCc7NzZcwr9n6t+3QdXn/1dZHXXn0NYaFhknj8/bffgwPV7duzTwbN4zmYQsIPc+EeWfmIJFKze5+aGceI4iB+hBcDLN0wMhDgOgsEkLNd7Pa0HMle1wHTVRoU4cKxpu1Dxnr7/2fvPMCjqNY+7lVqeu+EtE0CFnrvvUvvVbALAjZExX7V67V+Yu+993JFFBu996Kg2FCRkgCKKPL/nv87czZnZ2c2m2YSHJ7ncGZmp2fPb9923tdXGlAD1Toofbabc7QECvpyGQDjN9BLca6yQsr6zN51O5hqJa0No3Ng6Yj2IqkW4icd0d1vNGUvUr2ddBQWGi42u5IasBllzcRxzOzIZSbif/apZyUXNkcCU7cQMrI8bQYWfLgAV191DT76cIEA5Z67/k+iqAmcO/57B+68/U7Zl5NkDxQckFTGDHBU/wgj5rPiXDSWRiKEOB+O/fYvt8u5XBipt1WFeqd4H4KH3hc1S5298sSovn5KPWTQK5OShvTkNHRNyEHDtGykCoiKV08cpQEdMpbl8gBHRZzDD476fRcj9XjBY93PPIff/VpgRCApNY29bjNSyzRee4EUmwi6+lXTo7MVjNgLkJg322zhYREiNZcURnffebdMwdC/9g8SpPLTAAAgAElEQVTc9wBuMKdvEDKUfpg8//xzLpDE+0ysR8Bw6geDJmkXYgL+TxZ8Iilh2DMHFOOGmCOKxzPHNf8RdmdNOUvUsQvOmyr7M7Ut09a889a7kvfKhZH+16giy34qWbpRQYMz6ZntkPma9cakZmq9eeNmaNykGU47rTGmpTfHvNTu6JmUh4TUNNQjvKyDy7pu96tfCqnEb7Baz2EzeMUAbN2vAtYF3NbnDnLd8blsnqc4GBFKTvajIigVzV/ToaSWI0oJo0WfL/Yr3Lh86XIwmJH/CvcXSnAiJae1q9eC+a+Z3I42JRqcH334Mdx7z73YsnmL7M+E+5yz9u7b70kCfoLm3v+7V/JdcwdWC3n15Vex+6fdYleiusdl2p4YDEnV0IWRvMqq9R9hZAQXGvO3VGxK+7btJflXj249JBMhk5h17dwd3Tp1kwTxnTt1Q/su3dC1Y3fc3WwYduWOw/q0gegYl4kklt1RJXgC9EWDTUsybwcEm8Hn9SaV5TO7a8k2I+amRNdwPFdw78LufRW9HyMuyLtu88wlhpFFZdOBpEdqKxCxLy2M/L7xDu54td+7b78rnjAm1vf7V8yxAcMAtJO5MNJeRlVZ9MLINEqr3DrdOneTNA+sOcY8PsoInZFaHxmUaNLSkZpcDzMSm2Nn5lgcyZuClfUGoW1cBuJTLYPHDLBjgnpvMnnWBJMyzEkSbOcdaJZBzUHGpGIlAoPNYLU93rwWr8F7K2rxEotje0xymuSyppTB++KxdK873X+FbLd5vlLBiEDS1LXiliPDI0ulpvl9181YH7/t5gaWLDp8+LD9x8XByP4ov60ujPxeSeVv0I3SyqvDbV07dRN1LCUpVeYjpYrNKB3pyfWQkZSG+IRkDIltgC0Zw8CEa4fzJuO7+sPRISkX0Sm+g5MBeIyYJuAYZMnAOw4e5rdmKSIFG8ntbBloSlKTSGEJ5jMAoA++0i7zujTuntzgZJH2WBCgR9eeUliA98YE+nx+BSXuTwmGObSZ7YDXJbzt7lsdI70FsGUClOX9qOvo70DZiZx6H3VNtyUVA6dyhRGDHu3AYretAoaJC6MKeKllPaWCkTHoabQ2yih369QVzRs1lcFIEHFQZiSmisE6OTkNTWKzMS+tP47kTcRvuRPxU94kPJvbH6ckZyORg1YbNAlxiZLfmjYBZu/jOiteME0E81wnxycJFGKjYhETFSsTOjnIuE4vDMsYRYVHCcR4XHRktBzPwcaIY6oVMZExiImKkWV9YHKZg4/nZcbC2Og4gZ8CIM/Xv29//OfmW2WmOO+HifupnsbHxMs98D64TIgSPgzeYyFIgpW5uVkJlkbgxPgk7/7cl8/A66vzsBdwlQZO2vtUANJ76zNz3QlGst0KIbWuBUZaJaWo8Gjxpu3YvqOsX7tKP96FUaX/CfxvgDDygoiRyvTgpKVLnTFKB3HxSWgYVw+z4hrj/KRGAprUhFTclNARv3om4UjeGdiZNQ53NRmKjs3aIzkhDemJvjYXwqJ5k+biPWECLBZ0jAiNEK8GE2ARCLwP1l5j0n2WeGYAHmurMZKWrl8m8o+LjpdjWT6a9dfojYuPScBpJzeSBPisAss5bCLRmOodJR8CoGvnrmChxaaNmwoMCVcCidfmcUzCT2BFhEYK2JT0xqKRQwcPkwA6JQHRbcxqHywWcMO1N4JFHgkj5oFikv0hA4dI5RFCl++TEuHwIcPRsV0nsDptqYBU3jDS3f0KRKonkGxaTGSszCVcvmwF9u4twM8/7yld270HP6tW2nOU8TgXRv4sqPQtetyPeL/ozk9NR9cu3dD0tCYYHO3BG0ndsS9nDNZnDEXj2Gy0j83FV5mj8Gf+GfgqZxzOSWiBds06om2bTkiNS0VaQhqYjJ6/zqlJKSKtsKIGA9GGDhoqmf4ICZbxYQ5jVvSgRMJlKUs06wq0a9Ne6psxBzLjQwgmVrNlTTL2LNszdNAwAQDriREALIzIyrK8f8KEsCEQhg8dLhG5BAULSLJ6CMHG+mOUqAiTq66YIwUlWaWjS8cucjwrfDBrILcxapigTIpLkvporPLK+792znUCuQZ5DSVgjxVIeC98VkpOLEbJY1lv7ZKZl0qJIkpQoqoVAxhd8ilume/arsncNJtpIj6xRwpCxfSx0fHyo7Ho8yXYtWsPvv76e+zcWT2bC6NKR4//DaiAQon5MV3tHMydO3dFu1Ob4rr0NvgpdwL+yqc6Nh43xrfH/YmdBUS7PONxYXJrxEUloUXLtujYtiNS4lOQlpjqhRHtRZSMWjQzSkpzoitD9QcOGCTlhVjXvm3rthKHQnjUrVVXJI4ZF84U1YwlhrhvRFiklENq1aI1TmlwqhRB5HlYl43xJoRYq+atZB+lnhA4rAfHjIGcGtAwv6GUKuK51QRSwohqIGNeeC3WQJswbqJMzD315NPknJTKzp58NljznvE6F114kTwPC1DOvnS2GPgZZ8RqtKztRqmJc6EIUKqirAXHbW1atpFS3Ly/4uBS0s/tQMRtgWBE9dW2OUApNipOqplsWr8ZR48CBw/+jkOHjlTL5sLInwWVvqUoFihdfq2VCkHVgnFGKXFJmJTcGEsyBguMvssegb05I1HgGYfrUzogJTZVRPrWLduICpUcn+wFEQcCBwRtJawHduXlV4kxXAbxZVfI1AAWXuzWpZtIFWIPiogWL96sS2aJdMI6ZoRReEi4VNo4Y+JksefQ9nTOmeeKanXqyafK1ALWR2PVWJY94mx02nqaNG4iSd6pag06fZBIZn169RVVidIBYXR6v9Mx9fypRnCfaR+ibalvr36YcsYUUQl5H6xhRolrxtSZYIlsFnVkPmWqmFTReE+U/Ci5MZNhk9Maiy2se5fuEjdDqYy2KMKZ76WkwAm0f4lhZCctqflsDjAi3JnSZMO6TfjjCFBQcBiFhb9Xy+bCqNLR438DSjVTHh5lFyEgWFk1Lj4RsQnJ6ByXh3czTscf9JzlnoFn03ogJ7Ye4hJTxEbDX30WYqQKYvwaq1/lFDEaE0asHU+vWnhIhBQznHv3XFFjKL1wnhErrXLAESosWhgZFikAmDxpshiJWVW2f98BUnueEhX3a9KoiRRYZPgBixz++/qbREIh2DjomQuJpaZZxTYuJh4DBwwUKUnZlQgjFoW8eObFSEpIksZnoNdszhVXo2/vvoiKiMaZk88UYFKq4cxzpk89peEp8kwshEnAEUD8nNLRv2+4SSQ+2ooIdl57yqQzJTG9hDiYtiy+b0qE6r0HAo7dZ3KspXaaDiZHyagYGBnpRlTaEaOPj45HTlYuNqzfhCMujPwHk7ulbG9ApjGId4fueCbbMpJqcfCyvruyvUQlJKNlbA7mZw7DKs9YtIr3IDaBkk8qYuMT0LJlaxNGiX5eHIKBKg+N1YRDTESMeO2mnjdN7DCUeqhGMbH61POmioTB/aiasdwzpQ+CimWgaTymKkUphPYchgbQTsPKrNPOv1DsNRy0lHo4KHltuuJpBGelWtqUWNFWSSeUnnp27yVqH49RQOJz9+vTTwAk15s0BRdPv1ikRYKQklFqUppAiuWvGR5ASY33zyoX06fNEE8gr82KsdzO6QhNTmsq1yYk5F2bIOGyHWyK20YY6fCxLpcGRgSqXSNQczJzsVFgdAyFrmRUtsHnHu37BqyGVPlyJ6WKJMFy0xTNWb8+IS4JUdHxaJeQjdMT8xETlYBYM0EX92nXtj06tGlvTLy0FfMNqUPNkaL3icsEAI3MhIJUec3MEQ9ZQkyCfE4Vj1IKByU9ZzJ9JT1TVD9GjivgZLGSbEa23K8h9RQlFIuJikO9FFahzTXDCuimL/rVN8CV6rON3iSCjEnbmNiN8KI6xnvhAOd1uQ/VUm6nYZsG8ZwsD1IE0ilyHM/BoEjmGOe7ZSSzGuhWcFTkurpmWXo+S3aGB5s2bMafR46hoNBV03xHk7tWpjegw8gr8ieliBRCwy6NsDQY04jLX//cvAbIyctHfoOTZZ1SBqUE2l0Ye0NgeCdk6lCKS5IIZ/2zeCmfU7R/XEwC4qKoXiUaruV4w8XMcxKGPJa/zlRzuA8hqFzQXOZnXPcaZbXr8xzch9fU74HLPLdcU9tf9jGvER9j3I88G5+D92PeI3s2wo29sQ/3NxoHP5cJM2ZX1GFQkfCxO7d+7dIs8wcjq36OC6MyjTj3YMc3oKsB6gtMSYHwoYu7S6cu6NyhszRWAe3QvhPad+iEzu07iaGZ27hfh3YdRTKRQWod1P+gdRnkTPPqoOrYbVfv/e/o7a4f7DYXRo7DyP2gPN4AYWS1O1ANoe2EUKIaoqs0apnbDanEkAD4y0/VSiQCSg0lbZQk/m5o2QT2KUnLsae0FuR9yvsrAZQIhb8HSMVEZzvcswuj8hhx7jkc34BXNdOC5ry/lN5E7kmGKkN1xtvMxFxUWcxWYgBZgRUIDiWAAL1hjjDRr2G9fjDron7ZnN/m/ghuAVKJJCXDHlXRUCqNYduFkeMwcj8ojzegf+m9ELL8MnJQ+UkDwQzc8tzHtBk5gka/R+5bntcO5lze+7N5V6Z06fR+rdv1v0lFLluvW9y6C6PyGHHuORzfgPqy230RlUqmjLmBBjjVND33jf9yQjkAojjI8PPi9imFChkMjGQfdX2z1wFZDJDU36Gq9vx+uDByHEbuB+XxBtSX3wdGpnrmlYYsg1F5kHz74mAUL94mdUwgsFk/U/YouvnprXJu/Ly4fdTxat/S9uo8eu97LoYs6E2eK562Mf9GG5y3me/fq+JVgXXaEBkgmpme7XrTymPguefwfwM+EKJ6Zp3NTRuJBqPiJSCjEKC/ZOS7Xbxu2nn1a+jL3I/ANHJM15NIbKbsKHtLN89Z2j7YezAmHnO+n5FPnEUI1HJRzwhyxiuxseyTUbBSFa5UPbdXXiNEOdXGjTPyH0fulnJ4AyqAzwslHUYVBCIFqmCBJIZg08BuGF6LppoEt14yV7v3XVhsZ8FsV5Km3qfKxGFOHjbSljBy22/6h5aQjoGV9k0Dm5ldQSD3Ny1T6syq70pG5TDs3FPYvQE1aLwDTcGogkFEIFHK0qWgQMvKY1fSniqdt0ChKlRYgb2EN8Qkej2MfvdreiPp7WNSOe/0E3NeXOB1zTtXCaobA1LdoEe7UeRuK5c34IUQq0foBldNhSov1UxJRKovCYwCgcrpM3Wdv7sPKPFp71g5CPS/QeDlv8ftr36grL0Lo3IZcu5JnN6AbiT1GqwtrnEDRr4J6znA42J97UDW9eIgwPOWN5DUOY179r0/u/vhPfs11gmLjvVvlKi0/e3Op7ap+/ADpQYjvm9RQSnlBKUSVg8YHSj8HYFaVUg74qYQcSJCJW73AkgNEhsQ8Zee6gZTSFDt4UCj6sPifmrwcZByAHO72hZs7zdgNamspJ8Fe03uJ89gB50gtwXzrH5SknrPWm/YxIIFkrGfVWr5O9aLk4wOHDiCQwf/wG/S/sRvB//Ebwf8268H/8ShQ5XbXBhVInScLu0DIwsEOCE1LtZIgM+UGvQC8UsfHRXjB57SwMhRerDcR7BAMkoNBSkNOUk/QYJIl5wIJT6/HQj9YeQ/neR4gNHBA0dQsP83fLXje2ze8CW2bNzu2DZv3I5Nmyq3uTByIkIlbneCEUFB6ESER0pFDGPSbFdJFJaTlQOWrYmKiPLOohcYxZRMMuI1ggVNcfvxXHYwsNumwKkDpazLQcOIoLVEa1d7GB04Itket23bicWLVmLp4lVYtni1Y1u6eDWWVHJzYVSJ0HG6tB2MqJLRlsS0s6zq0bN7T0kPwgA+Zn9kgvpWLVpJ3TPmuOZAthv0gbYVB5eSfh4sjKRufCmkn+Jg9U+GEdWzPXsOYsXydVi2ZDVWLF1b5ZsLIyciVOJ2OxjRNsDgO1bN6N9ngFTNYJpV5rlu07odevbqg9NPHywtMysbYRGRiIl1VlUIJUpRlKZUYx001jErTjqiCsS0r8Xtp2BEaHB/dU0FSsIiWBtRTHQsYqJjfJoLoxTJNWXn2j944A/s3XMQywmjpWuqPIgISxdGlQgdp0s7wig9E7179kHvHmy9pWIHy+10bdcZHZq1QUezZSSkIS4kEonhMUiQxGe+thMlMTBpPlPENmnUFI0bNZHqGk0bN5OsiBKbY2MnYpAd07Ey1zQlNaf9KEURRnExsRKZzbJBTMjfIK+BpNIVm06QNiKCKDo62rYFApJ6Tqs06GczOg7VNNqLCKOVK9bbgGgdVixdj5VL12P5snVYvqxqSE0ujJyIUInbA8GoT88+6GPCqG/vfmjXrgPGRuTjnqg2uDuqNe6IboM7Ytrintj2+G90O7QOS0dkbKxpzDW8alSLCIqJ4yZi1qWzMOfKq3Hd1deB1T/OPfs8gUV0eLTkxSZUWLWUua9ZMDA6IkZKbDMHNqOWQ+uEefej3YVw4rFM3E8pi8e1b9te8k8zNcolF10qamadGnVEIlNQYuXZ8NAwhIWEyXYFGUpvoSGh0iIjI22BRFBRalLH6D3P/0+E0aEDR7Bv9wGsWr4Oy5cUSUbLl67DpiUbsWnFF1i+bDOWLtuApcsIJ38grVq+HmwrfGC1Diu1/bm8ZuVGrFy2VrbL/tq5vOfQtq1escF7Dn6uzufCqBKh43TpYGHUp3c/NG/RCrfHtsWx/LNxLH8K/sg/UxoanI39OWdgRIQHoTExPjBS6hW9cJz1PXrkGLCoISUX5otm2lpW9WjWuJmUp6a0xGIATHcbGR6Fxqc1xuxZV4j9ihknWXmD9btY/ZWSE2ulsaAizxFaN1RgxDpltGURRsxEyXS4PB/LD1FNJEBat2yNTh06ISsjC+FhEYiMiJLijyprZVJiEiIiImyB5MLINwe2E4yWrNqIrW8vxs7/voIvl+3AylVfYukSfxitXbUJy5esFnvT2lUbsWLpGixfugarVxTBg5AihOa//7HAjGChkZzHKkgt+my5dxv3JxwXzP8c3L5u9SYsWbgChBOPcWHkRIRK3F4SGLECyG1xrfFR+mA8nNwdD6b0wIMp3fFkcg8sSB+EMZEe1I2JQbS4uSklFHnLGKMUUTdCqrCed/b5qFOztoCDFWMJJ9Y0Y5lpFlgcNmSYVAphcUfWI6M0xQKKLF90xawrpWJIaEgYRo8YLRVCWA6IACLIWLnWKNKYjIumX4QLzpuKkcNHyTkILQJu3OhxIj2xAi2r1VKdIyxZPWT0iDE4a/LZUslEgBTpD6QywcjiSeP7r+7eNEcYrduCnc9+hO8zRuKnc+Zi14ebsG7VVizTpB+C4YVnX8WMaZdgxrRL8cKzr2D9mi3YsG4rnn3qRVwx6xos+mwZNq3fhtdffhvXXHWDAOnKy6/FtPNn4r57HhZoPXjfY7ho+izMvuxqvPLSm1i3ZjMWfroMV195Pd5/9yPcc9cDOO/sCzHniuvw6ceLXRhVInMcL11SGN0R1xoL0gbi0fgueCKhK55M6IrnErvi07SBGB1FyYieNQZGGilDdK9YVFgURg4bifPPuQAhdUKkyurNN94sJZF4DOuuNW3cFKz6wbJGLB/dMP9kXDPnGtmnds3aUv2VxRAZ98QKriyBxOodLFs0sP9AsKKJgtHll16Obp2748QTTsSYkWMwacIkkZDmXDlHasbXPKmmbGdZbUpp1197g5w/NycXTRs1Q0J8IqKiovykIycYWVU0ruvPL8tasKN698czjL596TPszxqBb5MGYUfv2fjxpc+xeRVVtrXifVv8+QpccN4M3Pt/D+H+uY/gvLOmYeXydfj0o0U4Z8oFmDjuTHy6YDG2bPwSt950BwidO/57D66afR1eefENnHvWNDz52LM496ypePeteXKOi2dcjk3rv8AzT7yAG669WWA3afyZeP2Vt3H5pXNw/TU3uTByJEIlfqAGhPSmEVm8aemZ4kVTNiOqaS1atgZhtLTeELya0hdvpvTD66l98U5KP6xIH4rRkR6ExcSaA7BIKlIDUodRaJ1QSfJPiEj1jJgEiWFizTHWqp8+dYYUV2T1WdatZ/qKurXrSonqyy+bLak0aGBn/bRBAwaJSta7Z28vjERNm3mJhCIQOqz0SomoR9ceIi2F1Q1DrZNqSsnpyy6+DNGR0Wh0SiMptMjabOPHjBdpiWqd1aDtwig4NW3Rui346uXPsM8zFvuyR+Hn5NOxpsEobHz4daxdvQlrV27Ee299gLMmn4/PP1mKzz5egrOnXCDQuOXft+Oeux/A9KmXYMnClaJ+Uer5cN6nIGwefehJbNu8Q5YfvO9R3HDNzbjxulsw+7I5uH/uw9i6cTuuu/rfeOLRZ/HhvE/w+ivvYOO6bbj0otn49/W3ujCqROY4XrokMGrZsg1ui2uDt5L74Jaodrg9pj1ui2mPu2LbY369gRgXlY/wmLiAMKJqxeKNlIxYlJFSDutxsR7adVdfL9IRDdJUlbgvbUo33XizSFEEGKFCtY7bb7j2BjRv2kJsTZSGBvQbgObNWkihR8KIRnLGSdWqUUukLILu1IanSoXZfE8+eL7Jk6ZI0UUGcg4bPEwkrsz6WbjxuhvFHhVSOwQxFu+aC6PgYbTj5U+xnzCqPwLfpgzG2gGXYOtrC7Bh+QasW7EBb7/xPqZMOgefLliEhZ8uFdXr0ouuEJWLktKZZ5wncHrp+dcFLmtWbsD0Cy7GYw89JZHesy6+EjdcewtmXXIV7r7zPtmHEJr3vwWy7ZMFi7B103ZR2bjv1VfeIHYk12bkiITK+6AkMGrRsg3uiGuLNVmj8X7GUMzLGI4PM0bg44zhWJ05BmOj8hERE48kcV+bkca0kZjz3aLDowQmBE1YaDg6tu+I88+9wJCM4hIwbsx4kYhoG6Kth9Dp0LYDZlw4QyrBnnfO+Zh16eVgqWyqQKzkykqyE8ZN9FaMJeCodtGbxuNpuKZ6N7D/IIwfOwHhoeHo37e/qHW0EbFENhOW0dDOyrGs/nrm5LNAexIrp0SFRQQFI3tPmkU6tNiLqJ6xxptMVq7GE2WdbEaL1m7Bjpc+wU9pQ7Alazg2XXw/ti7eiLVrNmHVkrVYs2IDPvt4Mc6afB5eeOYVabTrUGWjenXpzNkYO2qS2IWunfNvPPPkC9i6cYeoaDde9x988tEiXHDuDAHMmZPPE8P2Ky++KZLWHbfdg9v+c5eAiNIUP59zxfWi8n3+yRJXMqo85DhfuSQwatmyLe6Ob4M3k3rjlqjW+G+MIR3RtT8vdSAmRDdEJKO3CSO/ahlGoUQmA2NAJeNvONg53432H6pqTJRGbxmlnpSkVOTnNpB9uR+TjREsBAe9coQHBzElHUo1SfGJyMvNR1qqWX021qhES2jRlc9zM2aJyxFhEcjJzJFr8fOI0AgJyuRnNGbTTsXlyAh/EDm59u3ijJR6Kr0NiIKHkJpEWzVn7TvBaPHaTdj23Hysa3MW1t/zMjav2YblqzaITUh5x6iuPfLAEzj/nAvFwPzIg09iw9qtMq/tf+/MF+nmnTfnifpFrxiN2++9/QGmT70Y558zHYQS1TvC6qLpl2HmhZeK3ejaOTfitZffFhg9cO+jGD9mMihxTT1vBu787z0ujJyRUHmf+MDIlGCUzYgR2P169ROjbr++A9CyVTvcF9cBR3LPRoFnirT9uWfhYN452Js9BeMjGyAyLhEpFiOtDDotaZuAhPmTEggoo4y1qsNGt73ywlF9I9S4D0MB6JIXozDPz+qt0fESX8Q5dNw3JoK9AR/uG8nIcHNSb1RktOmqjxEbUHh4OEJDw8B4IqphMTExYqwOY/xRWBgio/xtRcp2ZKemFQsj7Z2UHELVE0bLVqzD2vmLseHNj7Fy7SYsW7ZaXPZ6nBGN1WtWbcSH73+Cjz9ciHWrN4v7nVITXfz0pFGSoXRjxAytlVgjesrmvbdA4ppUOADh9dEHn4l3jSEAjHliOAAhxnPQEP7JRwtFZXPVtMpjjuOVfWDEAcPyzdHxxuTYDp2lWmznjp3RtXM3NG7SHFPjmuGDrMGYlzkI72cOxvuZQzA/axjeyBiInlE5iIk3YCQqiHJbq3w9qreqJLqqovZRvXVflos2YaQkDz3KmcsElh6MyOVAkdUKMnofE2UfhV28ZFSU90ndn3VibMlg5JtilyEIldWcUohIBPbuAyLx6EGPhI4EGa5aj6XLOGdtNVZyG4MSTfc+YcF4IAYzGgGN6+QzY/t60EZEYK1eucE4xjxu1Yr1so37MSaJcUeEEmOTeG45jgGTy9YasUU0mK/aJPFGq1dudCUjRyJU4gd+MDJ/wak6cdCwl2amRU2PTUJ2dApyolPhiUlDXjRbKnKjU1AvLsWImVHFC21AElwSMSUJ2PdWGHkHvTktpKwwIohiI0sHI/1evMuaVFRSN35lgcfuuk4wkomyvxwwJspa5qYxpkiPK9KlopItF0V2G8etwQot2rvoXEbAZNG6f7Q3P3Mlo0qEjtOlBThKhdIGjUy3kMFtVo712jySRI2Kj0tEPFWo+GRvS0xMRYou5fzNMKI6JyCymYdWEsmoRDCyTAHxAsgMk5By317A28M1EKDtoFBZ2yoXRvZQKQ46Tp+7MHIiQiVu50CgR8dJQrJup22HNiGjpSAlPgXJqiWkVDyM1L2qwW72VM8II3q1rCpaSdW0QDCivcjHZhQkjJTaGgg8dp9VFnjsrhsMjJYuWS22GqprbJzFz6bWVa+mfKj1Mvf6NfRl3oes876K7s2FUSVCx+nS3gGgBrkuHdksiytaSTwJKUhOSDUbbRslcVOXXErg+TmovYDUgESJSDUak3Ug6bYgsfmYahhVsUDNely0wwRZXksZsH0kI+1eg7UT2UGgLNuMUk6le9fe74b593aqKHvowB/Y98sBrF6xFsuXrMTypUVt2ZIVWLqYc8aWg8vSL15ubitaV9uXLV7hc7x+LqflFUtWYDnbUgZHGtdbuiB5TvcAACAASURBVGg59MbtRddY7qppTkCozO0+XzhTxVK/4rZ9AMOyz7kUsBKTS2RwtT2Hui/arSQMIAkJ5qx9ztznhFlKREoqEpWMBmizcUpHVGRRi46MQsAWEQXGROnHqGV1TvaGhFQkKfH6kiOcecJjEoz4Kqq3cb52N/tyRMlIknfma7AOui6cUo8tPX887K9X0jJJSY7lrQ0YFWLX9z+hYH8hCvYX+LZ9BShg43Zzeb/aZtdbjw9mXTs/z21t1uu7klFlUsfh2raDXwOJ9fNAv9LWfdV6oGOsn6lj9J7pQ+qn1QerrqanqsaChvWQnsKKsFrRQ8YZpdSTmCLGFaVIS0Eq44yCbGL3ik/23z/JiFXiedkY/+RtLLxoqXQr98z7Tq2P+mkZ0lTVWL8+PVPm5HFeXqmaWY3W77zltt0IDLUr4kgY7d1diIOFvzp8y6reZhdGVe9vEmSJnODEfCtYyrKuw4hTO1TlVKPSqgGBItikSsoQXo+R16oZ16dkVtREXbJID07b9OOMZd/zy3VMMLFCbGqK2bhsBmrK/XohlW5AlYDSWnkARD9fRS1T2rOH0RHs+bkAhfsOGN/wY1Xwi265JRdGlhdSFVb1QV/W5bLAx3qsfi96eIF4+cyqrFSJVFNqGoMcVaMqpdQr1cdERCHYpo7x9lTNtPOra1rVM8OYnlgUFqHCI/wqyGrTQYIEpB04y1MVC6TSxUbG2laUZQT23t0FKNzvwqgqjOlqew/6oC/rshUoZVl3upfiDNi64Zo2HasROpDB2vqZ9VirAVsZzNnTk+c1XpthEN5nUKCxqL9leT/q2PI0UHvv13KfaruzAVvB6KAxDmwko31792Hp4qXYsX2H7LNn9x7s+WVP8OPG5pyw2waIbWrb1i9w+LfDcn5e+6vtX+GPI394r+dKRt5XUXUW1BetdH0x0cBUmay2Fc3OQjVHDSpr73Q/PjCKS/QCwBtjpFX+KCuM9ChsHXIiEWneOzsQ8T6dnsH6rKVddzp/RW0PBKM9P+1H4X57GH2z81vcc9dcvPDs85h791ws+nwRPvzgI8x/fz6OHDniMxgOFBzAsb+OQUBzDDhy+Aj+OvqXd5/fD/+Oo0ePGvsAOHbsGH495GurWr1yNWZeeBGWLFoqxz352JO45qprQSjxH/d3YeR9pVVnoWxf3MAwImy8Bl4NQmpbecFIxRhRQtGhocNIxQ5ZpZ9A64FgpEtFXomIoQbmBGEXRkXf8WeeehbvvPmObPj5p5+xcf1GzJ83Hw8/8DCeffo5LPjwY5FiPpz3Id547U28+/Z72PHlV3jp+Zfw2iuv45WXXsVvv/2GTRs24ZmnnsFLL7yMBR8uQGFBId5/7328/MLLWLt6rfeCq1eslsyeLz73Ivbt3Y87b7sTt916O37Z/QuWLFqCt99424WR921VoYWSwIi/4Mp+U9yvuQJOoL68YKSDwQlGgaDj9FnpYGTEQTnFFRX33kryeUn+duWxb2klo4fufwiUVtQ/SibvvfMe3njtDVGf7rvnfnH5L1m4BIsXLsZdt9+FTxd8hvvm3ofdP+3GIw8+IrChhLPz651YtWIVnn3qOXz4wYd44N4HQIjde899OFhoSGbLlizHE48+ITAjeAgvrv/w/Q9YsWylSEyuZKT+GlWoD/bLT9sE92VajzxPnr96Rbe35skKBCH1WYlgJPPkVMCjkXJESSSEEctwU31SMDKkoiKbkRNwAm0vMYyoNpqBjlUeRub7pAQXbBMDdkYONm3wT64WSE1756138NB9D4lkQonoxedfArdRujl44CAeffgxbNq4CU8/8TRWLF+J++bej08++gSED/899fjTWLl8JZ5+8hmB0oKPPsbLL76C/73zvkBmzeq1+OB/83H4V8NGtPCzhXjhuRfx2cefYs4VcwSEjz70KLZt2YbHH31CzuXCqApBSN1KsDCix4a5hJh3uk3LNuKa5oDzHl+MSqYApPclhZEa6DIL3hJ97Qsi39pnwapo1v1KDqMkgdHfoaLxvZdJ2gky4t77zuOTpXxUdilgdOjQIbz2ymt48L4HBTC7ftiFZUuWYfnS5ThQUIg3X38T3+z8Bi+98BIWzF+AF559ESuWrpDttBdRbdv51U5s/2K7qFiE2XPPPI+9e/birTfewuuvvi77037Ef+vWrBOb1Ddff4Pnn3ke+/fux1uvv4Vvd36HV158RVREF0aKAFWo98LEkpqCoFEqGXsaaRnr061zN0knwmVu8+6TkCySkQ4bfZng4b5KeuIy7SvSMweS9fpmviOvCiZR1sxrZEQ0M+ZFch+ZhSPtYMR8RnTLB5J+1GfRrHgbFuGzb4lhZCsV+ULD+pylWS8JhPgjogOlLMusZVcaGKmvO9UzZYz+66+/xPhMgNAgzX9//PGn2IZowOZ+arvaV+w9b74N2oLomeM/7mc1YB/76y/vdRSgjppGcJ6LcHRhJK+vav2n4KD3BFG91HTkZueClTJyc/KkZBBLAfXo1gPdu/aQOmf8jCqb0fJFWuJ5dAipZcIrz5Mv561fL0PUvVMbnoKT808WiYvJ0fSByXgXHstriGqYkycwpN2C0z9SElOlogfvVbxbVhUtMhqZ6RlITUqRLI5MwE/gED4xljlpjDtiNRPeYyyTsZmf6zCi2sdpJlQDeT0vJHWXvg2M+EyEh/5sZV0uFkYyBcSIYaKU5gwg4wfBMLrry/bHlBVGZf3m01W/ZfNWfLXjq7KeyoVRmd9gBZxAwUL1HCgclG1bt5PWqkUrKUXNYolUz1o2ayVJ7pkIn4UQDbWtLdq1bifJ9KnKWYFE6afRKY3Bqh4EUttWbUWXZzJ+Vua4cvZV6Nenn2QPUAOVBRd5DdZJ436si8b9hg0eLnOkGLV87lnnCSRZwYPVYJnfmtJQRHg4wuuGYdTwUVLgkYDp33eAgDCsThiiwqMQERKG8LqhIg1xG9PdTj1/GlISkiTvtR2QVJyRDiMft/7fAKNiQWSdTOwEI0qYmqobzDIzaZZFMqqAr2+pT+lKRqV+dRV3oIKQ6ilpsIYYk95TxCeYGp3aWCDCz9JS0pCfmy8VXLMyskXN4nY2AotVN2jsVudjz5w+rBh7/TXXw5OVi04dOuOq2VfhlAanSC5qqn4sec2KsYQQj+cXv02rNrjmqmukmizhQxheO+da9OnVR+DDyh+ch8ac1pwC0fjUxjI/jPfISGlPlkekLm5nJZH2bTsgPCQcEaHhaJDbQKrVMg6q5om10OS0plK5lvPXmIT/uINRCcFjB6dqDSNLgKQLo4pjSqnPrEODy5RMCKOmjZoIRAgYlgDq1aOXDGwOfkoslIhOaXgKOImVjaJ+00ZNRVKxgxE/I1gICJacppTEeVtUuwiIsaPG4vxzzhf1hyoav/iUvAitjHqZiAiNRN1adaVQI8sSsXAjK3tkZ+aA6t7M6Rfh3LPPk2ojl8y8VD4fOXwkWEtt0IDB+Pf1/5bCkIQryx1R0mJVEVYnYVEAPsvll86WybHVEkYqylv3Opr2NavB3w40wWwrLYwYaU13/NrV68CgxYr6t2XTFvHOWc//848/e4Mk1WcujNSbqEK9M4yaSuFElpju178/evfui6z0HJFEmjVphpbNW0kjlFhNg1IUpR+Wow4GRrMvmy2VPzhQoiNjMaDf6bjs4llSFcQKI0pgtFdEhkaiS6cuuPTiS0UCm3XJ5SKlsfrskIFDpQ4apal/33CTSFwsiTSg7wCxMbEQ5Gknn4qYqFj07N5T7GEEK2urtW/bXiQlVqCtqpJRQPVMB5BXLQushlG9ZOGDkrTo0qhpx4D58z7E1s1bxbX+9Y6vJVjxzz/+FC8XU3vQ5U7P2KGDh2SZU0UYif3V9q/FA0ZbEb1tX277UqZ0cL8vtn4h51FDielJXn/ldTn+zz//xLfffIsvt22Xc3638ztx+/P47775TozbLozUm6tCvROMGrMsUEY2mp3WBBObdka/xm2Qn98Q6ekZUtO+VYvWoD2pdYs2MpCVKpaXnScqG9UfZRTnZ1bJiDCilMKJrhFhkVL2mnXOuK8VRrRDRYVHS+HHvr37Yeb0mcjOyJZijaed0kggxvs96YSTRLK79OLL4Mn0YMrEKWCFE1aLZZVYGsJZlZbqGu1JrFxLyatV85YCN0prxwWMRCLS6taZWTAJINW8sVmMz9JakWG+KFmd2lYqGAESqPjZJ59JjNB3334nUhKBQvc+p2zMe28edny5A99+8x0Wfb4YH81fgMWLlojrn+7/lctWgsevWbUG61avw+KFS/Dpx5/iow8+8s4342dLFy+T7XThf/zRJ7IvJbL16zaAAZWM/Ob5vtjyhWvArkIM8t6KE4xYo6xVm3bo1rI9XkrrgpnZbdCxaxfk5uaLJMRS0AQB7UmsQUYxn5JRroKRNu9MwYgVYz3ZuaKmXXn5laIOUi2k7Ye2oJ7deoqth1KAUtOuvvJqsVfxF5z11Aix0/udLiCbPesK+YyG7KGDhwmsaEi/7prr5Z7OPONMgVFMZAxmXzpbpCHatK69+jqwaizVQ0pMlO7oMbzi8iuQmphcJW1GJZKMlH1IQcmsmKKgYoDId+qMChbV97EuR0VEO6cQcZib9scff4i08tuvv0n8zwf/+0CCDvfs2YvPPv5MJB8CY/Hni2U7gcHI6oWfLQKnjjC2aOEnn4MTX6nuLfpsET54f76AbemipTj651FR/d57+z3Zxmjszz9diK1bthr7L1yMdWvWY8H8j1FYcABfbPsC69dscGHkJUAVWvCDUVIKPNkeKZjYrl1HDOjQHQ+ntcPIZh3Qo18/eDx5xvwrftHNWCEar+lCdoJRQlyiGIsJHJ6bnjracGZMm4GLpl8k0smIYSNEoiK4eD7CiEb0G667Uaq/0j5EzxrtPAwDoMFaAY3npFR1/rnnY/LEyeJ1Y0jApAmT0KtHb4TUriv2pelTp4vXjPuyaizLZ18x6wo556knnyZeO+Yt0m1GvobsGBvXfnyRV6qCvGmBQOTjuuffRIFIk4asUImNMUIUFICC7cVRUC+jRBHYjPOhO57gWLFsBX747geRWBgntH7tBjAwkVM01q9Zj9WrVku0NPddu2ot9u/bj13f78LmDZtFveI64fT1jq9EwqHaxX+0CVHV4z9Ohv10waf4/rsfZPY+7UiUrL7d+S2WLV4mwZH79uxzYSRvq4r95wejRANGlHxoqO7ZsSv61zsZrVq2Rpdu3UU9oqueNiK9EThUxSgZ0Q6kXPTsCZf6aele7xU9Y4xZImxaNmuJBp58xLNgI1U0Dui4ZEnbSgM3Ja+mjZuiSaOmokpFR0SDrvzE+ETk5zWQ+KAmjZpIaAEzQbLCLAGTWT9TgMVzhNcJF0mK12KwZL3keuLRa5jbULIvUjLjdfOycxHPWCJLHBLXjZijKgQj9f6VjUiTgozacbQHFalaKhaLfbDwse4XHhaO9LT62Li+ZNNB+JWn3YdSEv8RUGqZ65wEq/4d+d2cxc9oaosHTF///fciQ7jM8pcTq7MU9Yy+VgGStCUx6JH/XJtR0TuqMks04upAIjxyMj3iVqfni258eqwk+NCTj5yMbPFU0ZtlbVR3eAxBoWCkftVpB+JAYM/P9cHBIEbCgHDTPT8J0QmgakD48FeZPV32HCSsIhsWGiqxQgwVuHjGxaD37ILzpmLwwCFiJwoLYUxRBGLCYwRIobVCERUahYi6EQipGYLw2mHe7ZEhkQirHWYLoqoKo6JgRl+JyDBKF4GIULKChetGIKeRwzuY5bLAqFRf+AAwCup8xwAayvU8Ruo4F0bqTVSh3gojFbBIaaRdm3Zo3bIN2rRuK70R5NgGbVv5N9pqKO0wMpqSk4JQcb0XQBYVQ6kbHFh2v+aqDhqjpxk3lJ2ZjVbNW4v0RK9bVBiT6kcbLSwa0UE2O6nICiMZ2FoUtrpXQ201szdaEpQpOJekd3p3Am6vROSf00lJRLGUglTzy/NUNInYP4mcfQHL8LCwUktGlfKV12GmL7uSUaX8OYq9qBVGlJIIpJSkVIkDopqjtqUmpsK+GTP6RaqRShjOicVkgPm4oo25Zt4BbbF5cGDZw4jpZYtKDYXXDUfdWiEIqR2KiNAIRIZFShMoBQkiAitoGEXHetUg772rXEaM+algGHmlIjPBnJ7TSd6ZgzQkUqVNBsxggFTtYBTg2+9KRgFeTmV9ZAcjpbaJaz45TeKGaPdxalS92BRorAPRu26eQ+xCGnS8g1nbxsFlrX+mVA0OHCs0KAURPApCqq8qMFLvIBjJiHFaan9rL5KkjVSkpCEneNvBhjAvSXNhVFmj9B9yXQUea0/JyNssM+r1ARVo4BBeSqUQAKlBZEIncOBdPOj1sdoyOD9Ml4gUlGIiilSxqLBoHygRSME0UeWUahduM6HWrJXGeyIYFQB8YGo+I5/XChK1rr8/67Lax7bXZ+Bb1Fp1LwpGVGN5n3xfCkQ6eNR7K0kfEVrN1LQAY9iVjAK8nMr6yAohtW4dJHbrtgOG6okmRRnqhL8qZlUr9MHEZQ52YzBZ7BeaasaBxBn40gLASElJ/n0RpHxsSiaQ1Ox+fRBzYFthxGfxAkkBtzxhVMz75PX190e11mtTs7yvksDHuq8Lo8oapf+Q6yr4WHsn+KjtTiDyUSPUwNQHq7msDx4uMwpYqWHs1a85+9jIovJCfhJOaJR4yGi0ZuMcNtqMVAsPjUBYSLi3cWY/gx25LTwkAhE2zTgXVT4DVkw9wsbMANKzQm1UlFG2SKUUiYmXsAGGDki1W9rOTPW1LD2N4up83t6sWMtrxenVdAkhrZQS75GVc4MtzVTcfuEhodXLgB1gDLuSUYCXU1kf6RBS0zfEgK2pZoYq5mzHIJgIIWkKQDSsmk1NQdB73bUvBmr5NS9yMysYUSqJN0MCkiUswEg5y7gmOb8ZeGmofEbJIP06AjqWvo420tLSDiXTH8z1+FiWpI73bZw2EceWKC2JKpGqfWbaxghlw6ZmTHsx3iON/UZFW9riON2lvjSzqiwrywbVWC3XbKyYy2q1WvP5m7Firlel5t9INf49TFue929jhFUwtIItyaHZf8Y5hNFS7bY0cUaV9f12uq4LI6c3U4nb9S+2knqsvZMUJNt9PGNaUi5NGrJKQVzXpSBDJfOVhkQdooohic8SpEIr79UYeClGBdmkoj6g7cri2bI+DyvWFg1oDm7jvKwKq78fVTGWKUrqpShgGOW2GXBptAwweRwb59Rl1Wfzj8kqbhuPdWoMGvVeL02V+zZ6e2iZkJTnMZalAq63/HeqWQbc6H0q9Xr3YVqWWMmgUNIc2JX49Xa8tAsjx1dTeR/og80KIa5bB66+7mOUthhUvTYUzZ7hjXkxo4Bpe1FNN7QaqlmRx4zqQxRd9VTBQiJEzaKqVVGN12AQpFL92ItXTqlpvB+qP5pKxGejhKcq3LI3bElGal2JWlfSVTG9mmZjqGiJch7DxpYoqqC6hkiUtK1p90HVTDW+t+hwtkhpfIcM+mSLlOb7jPrz+i2HRCKkVoiki9m4fhP+PHIMBYWHUVj4O1hRNlBC/sr7djtf2YWR87uptE+MX0ijNnxJYOQHIg1G3oEj86MM46qdm97WQB0dDZalpnfM2mhkJhT8DdFGTJG+XdmMiuv1Y9SygMcSm8R7UQZdqo4CTC2QkKofJT4DQKZBO5iYq0BSm6leiROA79d8x8b7NaZ7KCDZSZfqftlbjfw+BnvLszp9xgh1SoSumlZpw/X4vnBJAKRLRd6gO9qINJVM2W501UwkIm3gWg3UXpVM5Z6OLHLT6wNDwaK4PjwsAsx5HUyjgdvpfDqU7GBkBZLxzFqZa74XsxSQeBgDgcfmM7t3TBD5vFvzvdqBXYeR/h7VstNzO22vW5uSUSpcyej4ZkKlPZ0OI934qYNHlk3bECUir1Qkv9aGFGAMkqLJmfzFVk3FvCiVTA0c3WWuDxz+inPAMF6IQDCkocASkdVrFgyI1D7BAEmHkUgapnTEZ1H2LycYKagECySfd0zYeyUilQzNiEpXUpF6n0q95XtV75P3LdNiNOnHiMMK/D7tgFSnVh0kJ6S4MKq00XqcX9gXRlqgnkxaLfKIUfrxywoYYxqio6LFQ8XBSHWMvRqghvpQFHjHAaOaPmhkgCt1wgujwAOGSdk4gZZN3PVBSkMKQnpPdc5uACrpiINaVB1tRr96DvWs9jCiB8sw7BMyegyW07IX9hqI+P51qVOBSH+/1vfJd6qkIL1nyILdsxa3zYXRcQ6Dyn48BSNdEqJLmOI4k6cxRxFTg+iN6TyYtqPRaY1wWqNGaHjqyYhNYB2zGMQwatrMl6MC77yDVhvI6pdb9UoaUoOmuIHBzyV+qAwA0mHEZTsJScFI3RelDO89W6WjmKKobILbq76ac9YUlILuTYlInccORurdslf3pXqmW1H3Hcz7LG4fF0aVPVqP8+sTRla3OON3mHeauaGZ0zovJ9/S8iRJWna2B/VzctGkSXOMTz4F/RNyER5LIEUjJsbwlHGQOKljsTRUUxrioDEHjlLNnAaGBC0ycDGUgYvB2YWs0Am07g+kKO+AVgOb9+od8FpENqUUQzqidKjBSGxHRRJS0DBysMWJVGR6JBWMlFSkpDcd7oaa62/kV++YEqb+Xp2Wa9esjRRXTTvOiVCJj6dLRGqZMGKO6RbNW0r1DuYDipZm2B+YhTGKKkBELEIiYjEoKg9fZwzGtSktUSs6EnGaKqZ+sRkJHBZG6SPMqFnGumUhYX72jOJUiEAgUZ+F1A5BnZp1gjJgq2P03k5l84LItL1wsBNIMvhlvlyMAUfmUDJjo5StRyQbSjmmuhZ0r8GoCHK+KrDAyGIjEhBxSkuQ3kfCSH9+p+XaNVwYVeJQPf4vrQCk914YNWspBstTGpwKyXl98mk49ZRGyG94MnI8+cj0nIzW4fWxLK0f0OAMXF6vNWpFRSKW0xBMiYgDlq56ur4ZLJieygjlNIkoplTGgSOqkDl49EFv94vuNFDU9tA6oWDOaw5eta2kvb90FOkvHZnqWlxUDCIjo1DrpFoiRbZq1lIi0XkfPjAiWMTgrwWGarYkHzuRchKYoRF+HjRTKtLtRQqM8r41KVNJP9aedraSvpdAMNq7uwCFBQeNAWPJHVQVR5EbZ1QF/yo6hNSUDn75RTJq1lIik2kjYv00pp5t37INxuW2xvD0JmiU3xhPJ3fFkdzxeK5eTzSNzUB4VAyiTElBqQ516tRB61atJTE6cxIzgnfrlm1Y9PkiGcA1TqghVV5jwqMl22J4XWOgUMKhO7nGiTXBbZHhUWKoZv20f51wImqcWEMGFKvH1qpRC3Vq1cUJJ5wAVhB57ZXXRKpjjiPuz8ohLNbIAchzUnLi+U884URZVwZwbiNY6tasawQ9mnmRCBclbUmQIaWiKGYHMAzoN914kzzT5o2bpYrF4IGDEVo3VO6BcCd4WaAyOjJGoEQ1jgZsZrKk2sd5ZgpIjHRmkCSDHkUVDQmTYzkPjaBVAZa8j3Bmsow0y3abRnYFdGv2AgUkSn6i5pbQ3lYsjPYfcGFUBcd4tbklHUZKfeBAERg1bSmDghVZmQ87Lb0++sRmYXX6ILyb0gvnhuXju+zxeDa9D7KiEhESybSw8YiJSkBsZFEu6Vq1aqFb1244dvQYWJusR7ceUoyRhSHrpabLlAsaoxnhy4HLgcgUs6F1w2QuFK8fWicMIXVCBSCEDo3rrEpS4181pF4apQSJg0lORfOmzdG3d18xSP/rhH/JYKfBnaV2uM7BKBCIjJEE/RzgBE2tGrVR8yRWl20iZY0IQe5bp0Yd2Z+ZLGlEpu2EIKD0V7NGTYwaMUrqcg3sPxBJiUl4/LEn8P133yMjPUMkP0KHz8X5bslJKfJ8nLvG+XIn558sKX0JGs6RI7A4L42R8WF1w9Egr4E4D6je8jO+L6qBBBbninG/+Lh4mQwrUlEQ6llpDf9iM0pknJF/DmyRjFwYVZtxXyVvVGBkmV+mw4i/zixDzcFfv34WGsfUw53JnfBV5ij8lDkCb6UPQIecRkisl4qISKpocT4g4gAhjLp26SpF97p36QZ6ZVhJlvBg4nzWyBo7ehyyMrKwbOlydGjbAZfMvFhqYLEEDSs/PP/s8yJpULJ5+MGHpeYWa2Wdc9a5Ig3N/b+5ePWVVyX5+pOPP4VHHnpEAMMc3u+/975UpmD5GxacZI21zz/9HE8+/qSUt/n0k89EbQypE4JnnnrGqH66Zh3uuO0O4xwenmOenJvSXNfOXUVao2RU86QamDBugvxtWaU2Po55u6MEuJx/9tKLL0vFkhNO+BfOPvNsvPDcC+IwePrJp/HSCy/JOVnL65abbhHpjRIoa4LxnU+ZNAUrV6zCqhWrcd/c+wRaH3/0MYYPGS5QnTR+Et5+421wIi+LDignQHG2otLCiMCms8N/btof2Lu7EIUujKrkGK82N0UYWdN+eGEkNiOjBBGLNTIfdpM27dDi1Ba4qV4nrPAMR48oD05t1BQ5GVmIpMqgGVMJIoFRzVro2KEjDh06hG1bt0lpmk0bNuHRhx/FSSeehAvOu0AqjrKo3xOPPynbHn/scal7RVsVywhR0jhrylmYdsE0KVNDiI0aOQp7f9krFUTeeesdqUrarm072YflcSgtvf3mO3jowYeRlpqGhx54SAZ63z79cPSPoxg9crRIgD/u+hGTJ03BjAtngGpWTma2AGfBhwvQML8hXnjuRRAeqSmp+O+tt2H92vWSuoMG+KhwwxN14w3/xu6ff8H3336P+R/MR/eu3UUyY2mdyy6ZJcC86oqrRIWjlLT9y+1SVLBli5aYdeksfLXja4EJlz//bCE6d+gMVl8dOGAQGjZoiK+2f4WLZlyEV156BS8+/6Kc79133sNjjzwmqibnmyn1jL2TI0BsRUyhUkIVjftTQkxK3LqFCQAAIABJREFUsIPREezfcwD79hRUm++9azOqgn8qpZp5+7gkKRvEIoctmraQFBqsS0YJI8+TL0Ucszy5yE2sh+aJmYgPi0OLxi2luF9EpD2M6tSohS4dO4tkROmgZfOW6NKxixRvpK2Gdp7lS5fJ22E9NK4/8/SzePaZ52SZ60898RQeffgxPP/c81LQ7/57HxCYUToadPogvPXGW5j7f/fK/uPHjseqlasFJKzL9b93/ocH73sQL7/wMuZ/8CEmTZyErZu3iUTBc1NKYsls2pluvflW7zX5GVOCCGDmzcd999wnIKD0xhJKrMfGyacMf2BcVkZ6JgYNHIQ333gT+/bul+KQK1esxPRpM+Scl1x0KZYsXiL2I5Z7nnreVNnOYgLf7PwWwwYPw+uvvo5pU6dJzbeDBw7KMz/y4MMC4Jv/fbOU6ybQO7XvJBJjr+69UOukmkZ4hOnpc7IV0TAfCEJUi/l5CO1qNq12DSMC2yoZHeRk2cLD2Lt7Pwr2FuLXQ7/i10O/4deDv1bZ5sKoqsPIDLKLj46XiqusM0bpgrYJceVHGT1nrNNIHRJhzKJv3qi5xCVZJSNxe0dEgzDq1rkrDhQeACuMcJDXoEH5pFqyfHr/06UCKKUIqkb8/PFHHxcVhjYeri/8bKGoMg/e/wCoqlBKoW2HqhHVoXn/m4c7brtT9p08abJIL0y1wUF/7dXXgmkxunXphrGjx2JAvwHY+dU3kg6DBmyWS545/SI8eP9DAjVej3ae+++9X2q7rVu7Dv+5+VYkJSaja+dumHrBNLEBRdQNx0knnIh777lPpByqPzz2tJNPA+t/scrt8mXLwcq33H7rLbeKushzb960BWdNPtswltcOEbXSUMlWCdyotv74w49SQjw9LV3AxfumrYoS5JrVa6TyKo3SrI4isVraFBplrJbPGUekEsw5SEQEESHE3g5E3OYEI87cP1D4Ow4SSHsO4JfdBdizuwC//Fx1mwujqg4jM65FhxED7PQYF64TUPTo1EtLl5w7rF1PIFgrsaoBUvukWujaqQv+OvoXtm3ZiiWLlmDVylWYP+9D9OvTT+qsT582XaSNwoJCDB8yArf/93YcPnwYjz38GF579TUZmKc0PEVin6hK3Tv3XpEi3n37XZkO8smCT3DvPYZkdObkM+WcHDwXz7wYWzZvwW233ibSBSWgDu074qddPyEzPUtsL6x0SvWI6tDXX30tUtiCjz7G4oWLEREeKbXYaLe6/bbb8flnn+OuO+4GPUtMz1G3dh20btFa1MgN6zYIRDes34C333xbPFYP3PeA1JC/6467sPOrnVi6ZKl4zb7cth0XnHuB2KToqevTs498Oyjh0etHIzbVxHfefhd33XmX2LZ6du8lULty9pWyLwFKyImtyDRc26lnwbjxnaQhHUyBYEQgCZQOHMGBatBcGFVFGGmBdWragROMBELRsSIlpSSnokfXHlL3nuWqmY2R+XOUnYi9ghF/uZlk7MwpZ4nKMmP6DFw08yKce/a5oEeNahW9ZxxY/fv0F+MvJaM3X38TY0aNwX9u+g/atWmPk/5VQ4y8VPPoSr94xiXiTTrpXydhyKCh5j4niYeKHi4Cgx6xoYOGilQ1bsw48b5R9Rozcox41+jG5zVZ3ZbXp2pKdWj61Asll5OEDNSsi8GnDxZA0rZErxfVGUKA0l/dWrWlku1VV8zBPXffg/PPvcAwiNcNlSRrtPWwFPeAvgMw6PTBAnPeH2vTRYVHif2JCd1oE2vTqo0AkGEBNOjPnjUbN914sxj1eU3e4/ixE0QVoqooUNQmwZYURkoi0qHjtBwMjBSUqnrvwqiawIjQoaRDNY0uZAUhqmtsEeERYNZDDuKO7TrK4IyKiPQBkQ6j2MgYSYqmVC4OKDauczCxZ3yPsh/xs+eeeU6a2pe9sndQtVLba55YU7ZzG2OJQmrVRa0Ta+Jf5v5016t92deuVUdUIy7TO8Q4JC4TSrw+Y5fU/rItNFy8eGobe0oyaiY8gctnrVujroCOz1LjpBryjuJiYiXinPfG8zLeiZ5ESpp1a9cVADNUgC5/Spw1T6op15K0uDFxIvFxG4/n/owNmnr+NJHqHrj3AdSpXcdHKrIzXMskYk6dcVDPgpGIFJxcGFXBAXw83ZKShlTPwUH4UE0gaAikFs1aonnTlmJwZl16Tp6lpNKxXSexndBWpKZ92ElGYjuS6SOGJGE1sDKWRx8stWrWRsvmrUT9IUwMaNSVUAAOHoJLmmWAMQ6Jg5aDXhqDJtWy6vXP1bZadYvOWSfEiGeqE+pzT+r+CASJU2LF2jBD+uMzC5zM2m2iNpnJ4RS0dE8Xt4nXkcn8zSwHBBRLMykQqR8A1XPSMWOjhg0ZjulTp0swKqVJ/fx2EevFBTe6MDqeRnM1fxYFIfa6bYhQYp5lT3YucrXmyfJANYYEiERk487XJSPCSIcUB5BuYLUOGEooJ51QQ6KsQxkMWduEDGGjAYS/2AoSqpfBxf28zQZI+jkCLPNcysOkzk8jNe+X9+8HI01dig4tmjHvAyLu4wAj9f69djktcZrkTYqJFcmKkhKBqCDPnud0YWTYrYJREV01rQqCS8HIOv+Jv9iSAsRUzZSKRk9aZEQkIiMiJNeynUSkwKNsRmrQiI3FnDcVCEbega+8OzItpK7h5dHhocGI0DDsH6GoW1dvpYcRYecHI6YaCTFg5J1Tx2fS59ZxWW/aLH/vuyHAzTJHhI/erJkxCSJKUjrU1bL33bowEgN6MCDiPi6MqiiMKAWpX2XVWweEUhcIH2tTA8zaKxgpycBID+IbkFdciljCQNks/HqRfkJQt44xh016HVbBLBN0Aa4RCEYGUJmJ0lcKUnYkv/dh5j/S35+ARgpWsmilav7J6KznUus+ELRU0uX9WaVOHfSBntvuM9dmVAUH8PF0S4y2VgDS+4qAkS4NqeVAMAoIIgLEziYUDICs+wiQKE35g694GKk8QRqUqIbZSEMEiEg4lHJswKRDSi3r+3NZQUj1OoxKqqbZPW+gbS6MjqeRXwWfRQeQvlylYMQZ83bN9E7RwF3mVruu7TVoe6L3TG+ULsLrhhstxDBo04bDaraqFJBMz+CEVktjHTjVoplqpZgmM/JZGsmhOmw0c4Sb5Yd4DywxZNyLUVWXs/71e9eXi+xqDu/X8s4ZJkF13hqBHaxqVJX2c9U0F0Y+hmslHemqg76sJCNuk1QdHPDMdy0pMCz109S2cuh5DQY7RoRHSWPqEjbGBEkjHMxlsYMx/MHaImONKrasXFtBzXtNyZDALAlGi4lk1HyMNHrg6HVTjc/l8yzmsxn5xJlT3Lkx5orZBTZx1v4fRXXTqhJkgr0XF0YujEoEI+UZ48DyVi5J0JLaSzFErbS2WWdM5WUqXZ8EltHmlA1pZgmh1CSznHVSqkwt0Ytfsoqrvs70INyWzqqzektNhyc1E01TPEhP9a0EW/J1lr1Wzbf8taoWK5VhpfR1UeVdVS1XerOEuTXtsJ5Wpmg5RWLMeJ+bNmzxKeIYLACq0n4ujFwYlQhGSjKiHcOrplGdEvWsLurUZCsHFU0/h5w7xLgGk7CZqgpjmHQVx7ssifzp7i+S2JSaRPWpflg8Bkfm4baY9licOFhacmSMn/pmVeeKW4+mdGaqZ+ypIqrr6vcSSE1TzxZUXzsUtWvWkYqyrppWBQfy8XBLup1IX3ayGSmPjzKwsldGVmVUVb2dN02pZnofyONDFc0xMM8ad2Q1TJdmnee0MWRzG+9DVyPVsoo74jN5whMxMfoU3BPbEasShuL35Mne9mXSKORHJfkZodX7KkkvgZWaF89uGgjvJ9C7dXpOp+2uAft4GPFV+Bl0AOnLTjBycvHbeXo4uHRvD138OoTUcnEJ4R1hxHii0gAn0DElhFGD0AScFXUqHozrjA2Jw73g0SHE5cKkSegWmeUTK1QS+Fj39X+v9rXQBEYOVVSc36u/V5GAcmFUhQfy8XBrOoD05fKCkVU6UgDS+yoFI4LKIfaIg7dJWDKmRjbCE7Fd8WXiKEf4WGE0KfpUI/kZ3f6WiHQraIJZDxZGfM+BZu2XBEgujI6HEV+Fn0EHkL5cHIyMYL2i4DwnyYgDS4BkRigzFqak8TDOA6YCJCMLjFqGpeGiqKZ4La4Xvk0aEzR8dBjdFtveJwsjQVJWILkwCn7qh53h3DVgV0Eo6QDSl4uDEdU1mS6iRWQHApJu47CDUel+vcsfRh1C0jA7qhneje+D3UnjSwUfHURvxPcW1ZTPrCLRpS8jkFwYuTCqgjgp2y3pANKXSwMjGrOdVIziYER1wqlCbEVKRj1CMnBtVAt8GN+/zODRIcRl2pASw2O8drLyBFJ5wYhGeN1r6WS8Ph5sRkz6dvDgH9Jcyahs3KiQo3UA6cucKKsmbzK1hTJcW3uqa9HSjDlrTp41mWhren+MFCL+Blcnzw8Hiz2QOJs/+Imw0bXD0D80C7dEtcbC+IHlDh8dRpSqTglP9oJI2cjsgOQE8EDbrTAy5v35v1PDZlR8xVj79+tryK7ONiOCaO+eg/jhhz34cdded6JshdCkjCfVAeS0bE1pYQWSDiPl8rcbSPoAslXVLHmNlOu82F9vB+9Y/drRGBbmwV3R7bAyfkiFwkcHUUHSRPSJzPEDkQEki7pGQDvMY7N7h2qb/i519U9Bz9oXl4z/nwCjPXsOYtWqjViyeJULozJyo0IOdwKQvv3vghEHENNz6BBSywFVCRNGeXXiMDY8H/dHd8T6hGF/G3x0EHF5alRjBxAZk2qts/wJk5IatEsKI77b4uqlFQek6iwZFRQcFvXs55/2Y/nytS6MKoQmZTypDh2nZa+6Zib7KrVkpOX9sZOMSgqjRmHJmBJ5Ch6L6YwvEkdWGnx0GN0d015gapVM9PVygZF6l3oeJakOYq+qybsNIHkq6B/XNqPC3/HroT/x9de7XBiVkRsVcrgTgOy2O0lIwappVDEoASi1wg5InNKgBobeUzJSbvbnYruX2s2ug6O8lz+KH+C9d3oHdQD5LvuraiWVjJS6xt4qJdm9V3X94qQjvnMnCak6S0bKvc+SSlx2DdgVgpOyndQOOoG22XnZjCkiRTFHgbxqxcGIg0Z51TqFpeOK6OZ4Pa5XubjZyxs++vkYAJkaEu2FEQe9AoBdr4Cs+r8LRsb7tVeFdfjbAel4gBFBRI+aC6OycaNCjg4EHrvPnKQjqm7KeF0sjLQASH2g0uh7Q2xrifGhEVgf7FV5mZ4zRmbrg5nLgaQjBSHVlxlGmroWSDLi+5aId4cpIuoZlAeTUFLteIARQfTL7kIXRhVCkzKe1A44wWyz2o3UuuHqL0pNq6sTapkDLykiFkOi8sHo5AUJp1cb8NhBcWC4xw9EgWBEWCgIqb4sMOKxbOpcqneaPBsskBSYVF/Hoby1UoGqen/wwBEU7P8N69dvc2FURm5UyOHBgMduH6fYIyuMlJSUFZWAsTEnY258R0mjYTeoq+O2S6Ka2oLo74SRF/LKqB3EbH4vkBwyESgA6X11hpFUuS08jE2btmPh58txQnX8srn3XJQCw30XVf9dlERCKm6Csg4iLldnGFEq+vnnAmzetB2bN+9wYeQO5qo/mKv734hSkhVIRsS7Khzg29N7WVxApIJSdYaRUiG900Gq+x/avX8XJlX9O+BV2WxtSL4gUs6DYAza1V0yUjBSvaumaVn/qvqX2r2/6gleBSOvhOTjZfOtWadgpHqJ8QrgZQskGRUU/o6CA2xHzF6tV83ehZELo2rtNasOgNZhJECiUVszaBfn9g+ksvnDSKXx+BW7fz2Eg0f/wpE/IO33I0BVbi6MXBi5MKrg74AVRlwvSYQ2pSQVdKpsRar3h9FhiWY+dOhP/PZtAX644gn8fOa92H3uQ9h9DtsDVba5MKrgL2J1+OV277Fi1T87GAmQSiAhlQRGVM8O/wr8tnYPtnom4YfY4didPBo/Jw3FT0kDfNrPlnX9c6fPSrqd5wzmGBdGLoxcyaiCvwPBZtuk6uaksjFy3K7VrVlXasnppYoIo98Jow278U3TM1GYOQqHcsfjYO4YHMgd5dMO5o4GW7DbuV9Jj3Ha33ouF0YV/EV0pY6KlTqqw/tlkGl5AEkZtfU+EIwObfwF25uegcKMwSjIHY2C3LHYnzuuyjYXRi6MXMmogr8Dan6gyrhpByY9BXAgCUkHEZcDwejgpj34sulk7K8/GPtyx2Bv7njszR1XZZsLowr+IlaHX273HitWerNL52IFkgRFWmxIgeaxKSg5wejIb8BBUzIqyBiKfbljNRgRSlUPTNUcRtfg6I5A08NW48/KgE3vd3AMP+Jo74r9kpcFIkfu/9Hy4qr2/ZblWSv7WE5Yts4PtDNqW6O0KSEp6Dj1LJiZnJAMX5vREfxxGDiwcTe+bDwRhZlDsNczFns847DHQwhNlLY/d0KVUtmOCxgdu/8aV9UoAXQNEFlAPXO1wOnozKoL0MqGSmmvX5Q9IXBKF8JIr2enYpGcQMTtxcHoCxdGf9cX2pCMXBiV5H0b78wOOn9+AGDHOzhSArCVdoD+k45TMGKv7EeqD0ZCcvKwlQ5GtBkpyWh8sZJRYe44HLAxenMbPyswe7V8IHc8CszG5YO541GordOrx8Zt+2X7RBzInSD7/SMkI0MS0NWQh3AUgEBMqVT3G5KBiAd+A9KqDmpShRy/Gke9as9q/KnO6VXTijv+RxydSdWu6J8vLCzHf/CQRRK0fA7t/vzAYuxbLMD9nmEyfte3+T33jzi2w3yn2jV9pTDn+xQQWp5LjrVsq44QY7oXPQFeaVU2JSnpcCq5ZBSMN20CCnMnoiB3An7KGY8fc8aDYCFw2GgE/z57HPZ5xuJQ3jjsyRkv63s942T/vbkTUOiZgO0547AxexR+zBmLfbkT8E32OHyZMwZfZ4/BvhwDQPs9E7Eteww25Iys7rP2gxxYyZOhf9n1ZWOAEQJqAJsDxjsIrOuTIYNEAUsGJQDv/pZBmxzk8ep8yeb5He/HAGkRrIo5vwYG70A2VTI+tSOUdPCoc+jbbJ7b573IMca9Gdco5j7lntTfgJKesX/Rc5ZE+qta+wqMLEBSkpHq7SQka5T23w2jfZ4JuDd7AJ7NPh2/eSYIkCgR7coejfsy++L97KH4NXsc3swahIfqD8DW7NF4LWMgvs0ai4+yh2NuRm/MzeiFV9MHYGvmaNyb0xeP1O+FB+r3wttZA7EreyTeyxyIufV74JH6fY4PGBXJE75LPgNNDSSRQLQvvTmofL70al9KNn6DhF90DQgVfbx+LwoKel/c/en7WpYNqUV7Z45ANQe3fi/FPTevpe9f7H1q79R7rPZ3sty7F6zVYLueCE+pbNYy5ISS1cNWWTCiRHQodxK2ZY3GzPxuuDW7B77MGoXfTBXr+6wxuDivG2bm98BHmYMxtUFXXJ3dDcuzR+HO7N5YmD4Ut2T3xgdZg7ElayTWZA7HhqzRuDK/OxZnDsP8+kNxnacH3s0ehBtzumNZxhBsyxx1fMDIBzoBvpxq8DmCx3ts0cBQx2hD1rso19UHnDpe21bW4+1hWPTLX+z51T0V2xvP7LUZac/gHfj6Nn3Ze25dEvKVIIO5T9nHBKK+7L2+9zpFz18dPtNhFEhls8JIDNo289iUhMQ+pFZIQG+avwE7sJpGG5B42TyT8EjOANzh6YObcnvh6dwBOOIZj0N5E/Ft1mjcmtsHt+b1wVWZXfDfvN64N6MnFmePwF05fUQ6uiezL37xTAByJ+LP3PHYkTMal+V3w6M5vXFbbi88ltUPL2cNwI35vXDMcwaO5k3+Z8FI1DOipDgJQJN8ZFBoKpTfl99uUGrbynp8UDAKdH8lGcDafftINeocxX3O/SgByf04g8nvHfqcn9LQ8aOi8VnjYxO0ppUoF5d/kdvfCiOlujlJSBUBI9qKKBV9mTUGs3J74Pqc7piT0w1XZ/fA1zljcSTvDHyTNQb/yemFj3OGYWHGUCzIHIL/q9cbi7JH4g5PbyxLH47/ZvXC/zxDsDFnFFZljsTGrJGYnd8NL2T2xiW5nfGeZzDWZQ7DNTnd8HnOMGzOGfMPgpFXTSiSemRQyAAD/KUlU0WQ43Tjt+VXWR+gPoPKPKasx9udX11HDf6SxDQFOp/+mb6srqdv05fV59Lz/SqDvKZmFfce5FgTQvfTmK8d63N+y/uvBp8lxiaCLSE2EbqUpFQ2w8sW46emVQaMqKL9mjcBy+oPw7v1BuPHnHH4JXssnk8/HauyRwuMdsn6AGwTOE3CxqwReD31dFHFXs0YgB+zx2Jh9jDMrd8b96b3w1vpQ7AtawyeyxyAX3LGYWHWcLyWPgA/Z4/B/Mz+uDu9Gx6s1/efAiMLgLxgUnYNikvqy28MiCLpyVzXpQ99YNkNSp9t5XS8V5or4f3ZDFZDQrQC1npe450VqcDm5wp8Ps/oCwhbCVQZ8p3eo3mfIklapVebZ3CUrqrgvgpGCkgJIinFwwojZcy22o9U/BFjkKxxSOWtpjFSe3/uGPyUMwa/eOiap/1onEDppxx608Zjn3jT+Lmh8v3iGYsfc8ZAvGnZY2Ufuu+/zhqFzZmj5Dz7cyfix2x65CaiMHcSfsima38iDnrG4ausUWLgPi5c+14jjt+CMeBkcOiDQA0MDnA1qHTXvnfgq0GmBqK6gDaQ1fFeN74CnLaPup46XA1oDpzSHF+S+3MYnN5B770nG8+a3FvRDkdnmlIPn9XuvtW1BNYWaVM+C/Ae1bHmNX0kVfVZNe11GBlAotoWD734puHuD67opq62VRSMCnPH4mCe4cpXMURqki1hpJYlzihvHA7mEVzjJIZIxSD9mjcebNzOdiCvKOaI+0u8Ud542c71ag4jBYsy9IEGVTX98lcnqcHvXuXvoaTUMvxdq9DfLjE+GUZLMtU1A0ZWY7ahrgWub0fVraJgZEDHkIwYQ/RT9jh8lz0We3LGCkwIIcYH7fcYwZIMbtyTPQ4/ZI/FruwxKPQY+xEyP+YwrmgC9nomSGDkz3KuMfg+mxLUGDmnHJczDgUeBkqOc2EU8Be+Cn2h/QbtcXpvlNiKVMPjDUbJSIwzbEdKVYuPjbMJiDQkJEeDtjahtnwlI0MFoyq2KWs0Hs7si0cy+uDpzH74ImekqF8vZQ3CvOwh+D13Ar73jMHD2f3weEZfPJbRR1z1BTljsSp7BJ7IHIiH6vXD2xlDsSFzNJ7IGojH6/fFi+kDxI3/Vs4gPJjRB0/W74vXswbhR0+1N2CXw5fVlYws0dzl8E5LA0pTPfOGFpTmHFX0mCLJyJSQ4gwJyfCyxZsqW6zXhqRHaDsCyUzqX54w2pc7EXtkCsdEfJIxHFdnd8dnWUPxH09vPOMZiB8yR+Gy3M64NaM7duWMx/a80TirYSe8k9kfH2YOwpyc7vg4czD+L7MX3so6HYsyB2NhxhB8njEU1+R2xys5g/Fpxgh8lzUOtzTog8ez+2FJxhDM8fTA8pzhrmT0T5E43OesJMgmT5Y4oCSvqkbpyIAR7UfKu+Y0XcQJRmLILuc4I07ZEBjlTcTC+sMwJ6s73s0egjuy++C1rIESF/Tf/J64Ia8n3skdgp2esTjz5G54LqsPns7ph9s8vfFS9kDck9Ubhdnj8XvuePyVOxHLM4fhsryuuNvTC6/VH4DvMkfjloa9cW9OP4nevsHTE5tyRrgwcgdp5Q3Sf8q7T05M9gWSBiMdSMq7RslISUeOMKLtKKJ8gx5pE6JH7GDuJCyuPwzTPF0ERPPrDcS2jBG4KrcH5mR3xSxPN9zs6YMVHkpG3fBgZm9c5OmE57MHYGXmCNye0QdLs0dIoOOm7NFYkDkMV+X2xOtZg7EofTgYwX1jgz64Lbs3rsnpgdtz+mBv9mgXRv+UAeE+Z+VBV2BkBRIlJTP+yCsdxcZ5VTVlzHaCkYpBCq0dAkpdTvmMShKBLTASr9cErKw/DE+l9ccuzzj8kTdOpng8V68/vsgciW31R+LBjH6Ylz0UczP64tusUfg8czAeTu+N77NGYF7GQNyZ3gtz0/vglfR+WFJ/MG7K6IW703vjobQ+WJExDE9mDcLqzBHYnDUcD9frg6+yq/1E2cr7grmD2333wX4HvDAygeS1IfnByBp7ZHjWAgGpImDEWfmcab8zazT253Jm/hjszB4tnjDDbT8BX2dx2xjpuQ+9b5xftsczGvs9Y7E+cwRWZA6XY3bnjMbGzJGyvjxzOL7OGS1R3D/njJX0JIxHYqyS69qvokbPYL/o7n5VH4o+MEpMRlJCskgz/pIRY4+KDNl6ulolCVn7wDD6BV80PgOFmcMkUJFzzpjeQ8UIWXslGRFGdLUz9odJ/BkIqWKFjDQiRXmK6MbneWj8PpDHgEbj2F8Zc5THVCSTJL8RY4y4Lyfb0lvHQEqCjdc8ZMYiuTByYVQ1vGnH8d/BCiO1LhKSZj9S7n47Y7YVQmrdDkaFhUdw5HegYOMebGl8JvZn0C2vwDDJmAirBS5aoVTcujGZ1gh8LFo2oMRjuc1uu/pMnb9oH+NcLoyO40HgSk1VQ2pKTkyBApDeVziMNu3B5sZTbGA00VE6UqCojN6FkQsjVzKq4O9ASiXBaP+mX7Cl8WQUZgxHgWRuPAP7cikZFQ8jSi2Upqh6HRB1i9KLobIZEg5VOCO6mqqcsT9tQFw26rMxQpvnMPabINkeGT6gr1N15Pmp0p1QNPPIXaoqb0DZEnx6PU4lwDI9K/qvr99ygpqaoPVxxqxydT09GE9XGZSHxzqRkyqDVLYwA/FUvh09PWqgpPKl+ywK6jrSh0dDqS6qp+FXTT5VbnN6rqgOqWdNjE+SqRp2740QUS01KRVpyWklaupY1fv9LUz7kUhIMqu/aJoI75P3rFz86pmsvZOadvgIsG/zT1Id5LeM4Tjk4aTUyTjgKYKRbiNnNhOcAAAgAElEQVQiJJiT2pCIxuOgZyz2pg3FntShKEwbioL0oSjMGYF9uaPFhrSf88wyRuGXlKE4mD0Ch/JGozCXlWtZcXYUCnNGoqDeUOxLHYo9aSNxKIfR3ZPwi4BwIvZkjMWPKcPl+F8zRwP5E10YVRUA6fchQXG0JegtAID4ZRajaIIRz2L3pfduo/HUCiR1HadUFz5GVW2AR/oCwAqkioORBUTmbHZ9oBJECkbMqkiosvnDyIAyy/143xG9XhYQpSYHgFFKPaSppgGLAEtJKgIaoeR7De1v4QgjI4m/k0ctEIx2fbELTzYehpfSeuOVrEF4MWso/pc9QmbRq9n3qqgjDdCqdBHnmO05+Szs7H8Nvhh0Nb4ZfA12dLsEO9KHYX/mEBzOH41fMobgm3bTsGvsbdh/2hQczhmG/bkj8FveSOytNxBfZY3Gj/2uwg9j/4Od/ebgu5wx2Jc1FAc8I7EzZRA2NT4L3w67AT+PuQXftb0Q36UMdGGkQ6CqLPtE6xYDIQUi65e8uHXba5gwUlKDin9Rv9L6L7WddEQYRLOFGa0iYMRzqvOzZySyDiG1rCQieqTiYo0pF+p51POJREJJ0g9EyV6JiACxlYgUfKy9BiMeR4gpyag0MNLfuXo2vbeFUcHvOHIE2LF9F/q37oOWDVqi8ynt0O60Dph0ah98nz1KPFoKROx1GBXUG4bvu1+Boz/8jr/+BPAncPTQMex/4lPsOnUyfmWe63qDsP+NZTJkCq94CgVJA7A/dyR+qjcYX7S7EPvfWwMcYZJ14NhfwIF31+KXZmdiZ2IvfHnWbTi0/WfvcDvy40F8MedRF0beN1KFFpLikgzXbxAgkoFkM5iKg5E6Tg1I6UVCsqpsxkDW1TWlOjgBSZeQosKioVrp1LFIbyFDnqc4EClpSO7NzKSoIMTeq6LxWc33KyqazzvUpJkkC4ys8Am0boJJJCRT0vL7u/C6lFTNd688avoPAIFEqCppT5eSbGFUqGD0Azp16I3TTmuJNk3aoWnTdhjVqAe+zx4pyfWppqlGOw5zDVE6Kqw3DDt7XQ78Afz2yQYcmDYXvz73mYyQg9c8j71R3f6fvfeAk6O69nW5755z3zk+NsmYqARIYGwTTE4OGGxjG0wQUeQoIaIQ0aAsEAIsggADQlkEgSQkgYhKk/No8vSEnp7OOef43d/e1dXT09OjYPtgnffG/v3ZlbqqujT19Vprr702hj8+Dn5BKog36un7yW14R19B/49vIVjeqxz7xle4Ji8msrKEzBdd9J90F9rL/0ImmiLd78X11HI8D/2NVL1ezowzEjOSj23/+s8+wUi6FIUuxj6sF7ps4gUdxkISL4WqPeXA5Je5EAARIPlHYFRoEYmhEPkWgro8YBEdgnDPxP3mw0h+NxEjy4LoKOHi5sXZ8q2YonGi3cGn2L4skI4WLttwQBKxI3E/AkhyvFq23lHe8x7uB2A4GCWkZWTil7/8LaecfBZnnn4+J595HtecJmAk4jpqfEjpVle6/sX0RLcRGH0dht8/Dmkwz11B5wEn0Xru3aTikFxZivOg3xFa+g0Zq5/wq+ul9WOZuhjT9y8ieOML8mUKLdmG/oeX4jj893jGTCQ4/mb6jrqS0MdVynmvnoXhwN9gPvgi+s67j7Q9MGIZ7V8YUu5mb2BUzLUY8qu7D6Aa4rblASn/ZVZhJFoVSPm/1DkoDAlm//0wyreG5HKRYHXuumKWjUMOzUEzH0YDVpECIxE7Uy1E9dmpwBgComKg2ZtteW6beu5iXf3/3TA64/Tz+dmZ5zFxL2DkH30txt8/QSaaIdioxbloHaFqDWKyQc9dr9H/01vBEcX5RTUNlz1E3Bsi8k077QddSuDht+UfsW/K67h/eDGeCRPxHTeRyJgrMZ9wM4k6A0lrEMNPbiE07mpCx09EM+rPRGr7RmA0AqMBK2owkPJHlg/08oj4y2AgKYHiQiAVlkdVrKODERbO3saS1GMLYTRcnEjcg+KeDcBoSNBaukOKG1wIdBUWoh0UJ8qDzuhjxrAn5YLZ6ueKuGvqtVQw5cNIcdUOV+ocHaqMV/tHLaN8GBmlZaRYRKL3THHVlK56mWE9+hr0v3uSVDhFJgG4MqTbHYSf+RDt4VdgemalfG3SkSRxi09aRkQzaC9+AtvVcxQYLdtOx+GXoT/sT/SOuR7TCbdJyyj+Sb08vn/iPHoO/C2WQy+l67ypJG0jltH+yCL2ZBkVvkTqr/o/ox0EpKzbkO86CCupGJAEBFTrRG2LAUkFy964bENcs90ErFUQ5cNIBZG455xVpMaJBsWIdhOwVoGSbUePGsseVfCZfLDlu2sDQBrsponnrRbvV2N1/2wYieEYamKjgJFLdOVPyOYIjZ6I4dKn5bvhXL0d8xn3Yv3xTZh+dCldP72ZkNZJ2hzA/9bXhN/8mtB7O2R8ybt6O52jJ5Le1i0/a1z6NS1TFmL7YCepsn5Mp9yD7Y8zIAoxvZeOx9+h8+E3CDXpRmJG+yWJYLcwErD4Z0Bnd+cYBKQ8d019QVS3TR1Hpb4oKoQK28L4kQDSQd8/uKhUWBVtf6DkM+WfPz9GJIGYF2dRe9FknEj9HkViROJZqGDIB8eoo0cNdNkfPVqxiPYGRnnH5Kyk3VpH/1oYKdaRAiMBJPfoiVgveRJcSYJz1+I67FLCx12F6+jLcd32BoTB+8T76A76I84jrsRyxBVEP6yB/hiuM6ZiO3MKkc+blN408ZLFILiuBsfpU7Ac+Wc8975Fpt0u3T45z7w+hOOJ5SNu2v4IpOEsIwGJ7wJG4uVUA7yiTGr+y5zf26NaSOrsqIWumgoNEWwuBqSiwCnoMcsdUwRE4nr5FtEeYXTYEfL5yVhRXjxNBZFoB8NoIH9IumZ5kNmjdaQem28lDQMk8bzlD0C2R624ZTSQAKl+b/F89zaAXeim5VtGioUksqaVDGvfhEn4TroT28XPYD99Kv7xNxI84Ua8IlforGmYfjsb64l3IUrMil64wHE34Dp1Mt7fzSJyyj04R12J/tgbsf1xJr5b38B+yQxM467Hfdy1sv61+5iJOE6ejOfaF/Fe9zLOsx7Cc8zVIzDaH2GUA0HWpVDX/zvdsyGWUn4vm2pVZFvVMhKtGj9SLZThgCReHAml4WCzh+3DxYnkeQ/JS8TMWkaqVSTuUcJUvOjDWJVFYZRnFY3+O60iCaxjxgxYV/nB7LxkSPnsC553vhWqumpKp0Hed/07YVSsN0112ZRhHTfjnTAJ55jrcR57E64TbsN9wm14TrwdjyjQP/oavGLaohNvl+kAvhNvxnPcdXjHXINvwo3I9eNvxDnqGplh7R5zLYHxk+QofTFSX1QA8B97A95R1yhZ3uOuxX/CpBEY/U+AkbSGCmIcQ+CR90ufvy//RSu2nH9s4bL8tVa7nPPiR4Oto90HWFXrSG0FVGQsaQ/wyVlE+xgnknDMZlqr0NwdjNRnInrPjlFhkWfNFLOIxoway9hR44pqiMX0PxRGvgk34x57A44x12Mbcx3OcTfgnaCML5NJkmI4yHGT8I6+hsD46/GecKMckyZKhXiOvxHXmGtwjrka1+iJeMdeS3DCAIwkkMQ0SMddh2f0VbiPvx7viTeNwGh/h5EAgoTRMLApBEjhuvqyDdcWHj9oXa27owIpz0JSX3RpHWV7fNSufukuFQwVUWEk2lxSpOj+3wvlfzZ/Od9FG9Sd/3fCKOei/QMwEqAaBKT/cTC6jcCEW7D/+Hb6z38E3S8fxXThNAxn3Idh9HUEj7+R8Ik34TnuWgyn3I3+DzOwnXQzoQkikVK0N+M4+W6sv3gY8y8ewvSraRjOuR/dmGtwjJuIW45tuwH7cRMxn3oX9kuexH7SrXjH3zACo/0dRoPgsFdAyssezhtfNRyMxHa1e3m4aw2ykLJAGmQdZWGkuBEDExHmg+OfvZwPosJYkZgcUUCysAetmJumPpdBeUW7gdHurCLVWhoCpLzzqcArHLMm/x1UVy0P+uI7fDdumkiCFCPqb8c/5gaMFz9FvNdL0hcHX4aENYDz5U04TriZ2PFXYx51Be6V28jEwPvIuwSOuor4iTcTOuYaoo+vJuMIk/HGSQcyJFxRXCt3oPvpbZjHXo3r+In0jroCx/slMpfJ9dA7WI+4fARG+yOMcol4f5drtu8wUoA0fC9dMRgJ12eQdZSN1ag9awIQu4sf/SNwKgRRvlV0mJiHLDsW7b8DRipw9tyOJQelItbRbmE0KJD9XcFIjNoXVRnvIDDmesx/+Ivs7Yo26gi/uIFkhUa+Kq6pb2I66Nf0X/wweMTgM4hV9KCbcAvR8ZMIHX0Nkfnr5PbwxmpCL3xC9ItG5bMzV2M76g+4R/2Jvounkc5+PryzC8PYG0dgJJ/Sfvaf4SyUvdv+98Fod0DKwUi6awO9a/nWkRrIVmC0+0kI/xEQic8OhtFAgqO4h3xA/mthNO7vh1GeWzzUMhpsee6+N83Ir8RwkFPOQulNO5drTvtN0eEgyoh9BUb+0ddjFDDKgHn++9Qd8BPqfn2fzAWKLN2O7r9+he+NzeCKEF2xVeYYmW99Ge9RV+I7+iqCCxQY6X77EO0HnE7nLx6Qg20ja6twHH055sN/j/Nvm8ESJry6VO7TXzF7BEb7GYfk7ewddIZaMqrL8Y+24vrqOeS9ZIdNqL16MiBc0LOmdvOrUFJ71/YUP/p7wJR/bhGnEtfMT3BUXLQBaIr7zg39yHN11e8oWtV9km2eW6XGf/bGPSu0lnKW0aixAz1q4tzZQHn+9dXnnHvG2Q4DFfjC9Sx8tj88ePiu/WQcdL1Gfv2LS/j5KWdy9pnncuqZZ3H9yRdhPl501Q8em6bCyHvCHXhH34D+D8+SSWTwVXbS9+S7WD6rkn+bgalv03/8dWAIYP+qhsqLp5ByR3FvqqVv1BVYD/8jvhfXK8fuaMa1ZhsBMZRE5Bo9sBzPjy5De+adZGxBXJsraPjNA2RcUSyflI/AaARGQy2pITASL7AazxC/2kJFYkdqEqR4afKB8c901wadNzu/WDEYqfcnWxVGeSDK/46DYFQERAJI/yiMRK/ckATIo0YNgf5wMCoWN9odjMSgVl2PkV9eeAmnnnYmZ551NiefdQbX/uyXu4WR54Q7cI2+gb4/PEM6nFJejyhgjxNe9CXaI67E9OBbcnvcHcTbqYy4zwTjmC6Zhu4HvyH0kgKjjCkIEeUU9lc2oj/6OgJHXIHjMWX8WiwQJthtlgNnI57ICIz+vwCj/F/Yf9ay/KXOf3mHgZF42fMrQxb+eqvw+GcBST2faNVrDQujbG5RzjLK/z551t+/CkbCQlL/vfZkGQlrTwWS+gz2BCN9j5GLL7iE0392Jmf//BxOO/1Mrj9pdzASJURuxzX6enr/+IyEhO+TGmyXzsBx7kNYjrqC3vE3EmjsJ+OLEf58F4nNu4hsbZWvkXvxZ/T918WE//qpXDdfOxP7Dc9JN873aRV9R1+J7vgbSVTpSTtChL6oJ/JFI8FvWmS29kgJkf2QRkNAUPASFe5X/6CHtDJ3RuTPDK8hn9lNmQthHeWqROblHSlA2n3dI/EC/SNAEp8VUl/E/QlG40YXzzlS3TbV1Su0jASM1OJruX9T9RnnPV/VVVNhJOArg/a7cdMi0QzuTiPv/ewylh51MavH/olV4y5ny9ircUzIn71DHaMmAthKCRHfmOsw/GGWHPbhn/855kP+RHiciAddgefW1+QbE31+I/of/Rnz0VfTM+Y6Yju6wBjD9pN7CT3zkbSI/L99HNuBvyH8xlfyM9a7F6O7ep4ET2jOenp+eBl9R16JZtwk0hWmEctoP2TRPo89Gw4oYlCmGp8YrhWJfsU+n3s5CkCYg1FekHX3MBoIuP4jQCoEkRorUq2jwpiRdM++I8tob2GUc9XU5Eo1dnTk4HK08hnnwUh9vvsCo2AkTaDTTOOpN+IYpdTAVupgC+unMF6kAEkkM7rENEPjJ+E+eQruiYtwnfsE1uOUSRrDx99A5MLH8d3wV3w/uwf/sdfjnzAJx9hrcFwwDef1C/GefC++Mx/Ad/UCnD+7DefYK3CcdCvu657DfvGj2M+7H8/1L+L+6b04xk3CMX4SrnE34LnwqREY/f8dRvLXOa/wVyGYikEpF9fIA1L+8AXhUgyOHw0GkrRqdpMUWRjUzreGJNAK6hX9q9w0AaFCqdZQfqtaRsPBSFhH+bleewMjaR0deijf+4/vIQrE5U9v7ffHEDDyd5hpOO0mbGOvkxMpimEYIjFRDPkQUoeAiFasK6P3leXghJtxHXMdzmMn4cpO/Bj58S0Ejrse19FX4jn+evwii1p+bhLusRPxHXMF/gk3yIRI1zFX4Dj+WuwTrsdz3DW4j74M65jLcR17Fc5jRNb1TbI4v2WCYpGJ4v4jbtp+SKNiACjcVgiNwvVBwxsKfomLWUni+MJziPXC68r1wviR+BU/TJS9OFxK7V5Xf8mVgbSDgaS6XaIthI+6rh6zWxgdWtiTptxDoWU0eFyf8r3k9z3yaIZNeMzLps6Hi7pcCKLhLKQhMFKD5MJNKyjarz5fmU6RtY5UN60Q8ofuBkaBaBp/u4nm027CPe463FlrqBBC+UBSl8UxomC/kgR5qyxRK6ATOlGBmZiKWkgcJ6YlEiP9RQkSdb9YdsnpiibhO0EMAxHtjbgn3CCHjYjPCutMQM42QZnlNnDCyFRF+yGK4MjDj9yjBiVGZrve87dJGImY0T4o//Pq8nD3cvhhRzJIogbPoYdLCQjlQHSwqN18KIccfCgHH3xwUR1y4MEU1UHDHC/jR8p582f+ENf8UfYe5L2Ie8re55E/yn+mIvZ1ZLYQvwKj3HOScRwRyxnFKNEDltWYY8ZSqLFyjJoYpzZYhcdJiyjbmybOm1P2B0B91qLNPe8fZZ+v6CA4VAlei+8nvq94nvKZHnII//l//kOWnOls18ji+YFgnGAwQSgOgU4L7afeRHDsdXgn3IJ3ws3490k3IWYKERJj1fbms0OPGzhHIHcOsU2c7yY5JZKYFkloxDLaD3Ek6uiMGzNOSmTqjhk1Rv7Bi1ZZFgHTsYwdPZZxUuOkVXPEj47I/THLDF91ZLhosxJ/7EcfcdTAL3LePvVXWbwUsnRI9nzivPLcYj0rsS5edNGTdpgAgHxpDpcwUGF06ME/lBCSL85Bh3DwgcXhkg+pgw46iAMPPLAotNTjDsnC6MDv/4Dv/ed/8YPvfZ/vZ/WD7x3Igd87kIP+SxTyP5gDRWXJAw/lsEMUQKqQFK7RcWOP47hxxzP+2PGMP/Z4jhc6bjzjj5sgNWH8CUwYf6IEkgSGsBQPV4fPDE2JUC1LxeVSjhPbjhQlWYSkRXkEh4tnJ5/f4Rx+mCL1mf3wkIF8Ivn8DjyUg39wMAdJHcQPvv+DnP7r+9/n3//3v/HDg35IfW0Dfm8Ii9WN1erB5g5iqe+m9qRrsB59Jcax12Ecey3m3cg09lrypR6bv01dFvvUZdPYa1Blzi4P7Ff3FT/eMvYaVI3AaD+E0f1T7+eG62+QmjFjJlPvm8o9997D5ClTmHzvFO69716mTr2P+6bcx72TJ3PnXbczd+5cFr6wkOfmPcdz859j/rz5irLLYvu8OfN4ddGrvLBgIXPmzGXe3HnMmzdYz82fz3PPzeeVRYt4ceFL8pj52XPMnTefefPmM3fufObNFe08XnrxJf760svMnTWbeXPmMG/2HNnOnTMHoXlz5zJ//nxeXPgiL7/0MrNmzZafmztnLrPnzGH2nFnMnjObOXNmM3v2HHnPi/66iJkzZzF79mzmzJ4jNXv2LObI9dnyGHHv7767hA2fbmbduk/ZsH4jn27YyMYNm1i/bj0fr/2IdZ98zKefbmD1qlUseXcJ7733HkvfW8rKlSv5y9N/4fbb78jTndx1h9Bd3HHHndyRa++Q33H1qtUsW7qMZcv2XsuXLWP5suXDaIXcvmLZClYuF1rJqhWrpFavWMWalav5YNUaPly1ho9Wv8/a1R/y8ZoPWbfmQ9a/v5ZPP/iYjR9+wqYPP+GLtRtoraynp6GFnvpW+urb0DV2oK9poW/TDkwbdmDeWIJ1Ywn2jaU4Npbi3FSKa2MZ7k1luDeW48nKu7GCAVXi21SJt5g2V+HdXFmgKryfZfV5Nd4hqsH7eS3ez0U7dP8IjPZDGH2+5XNWr17NRx99xHvvLeWMM8/k/PPP5ZxzzuXiX13Eheefx6k/PZWfnHgaJ59xEeN/fgkvv/oOPp8Ph8OF2WzB4XDicDrlusvtwWqzY3M40Wi60OuNOOxOnE4XLpcLh9OBw+HA6XKh0/fT0aWhpa0Vo8GIy+XGYrFiszmwO11YnU6cbg82uxO7w4FW24e2pxeX2G6343I4cDnsOB023G4XJpMZTVcPLW0ddPdqcbrcWG0OrBabvLbdacPpFud0YXM4MBhNdHZ04HDY5T253OIexfewytZms9HT00tnh4bOzk6sjn7cHhdutw+fL4DH48fjcaM39OD2WOW/rslkoKy0jJrqamqqa+jq6uLqqydywAEHDNL/e8D/Qqhw+4IFC+jSdFFbU0tt7b6rrraWutq6nOpr6xFqEKproLG+gV31jTQ17KK5oYnmxiZadzXT3txCZ0sbmpZ2uls76G3rpK9dg66jG4OmF3OXFmu3Dkd3P6bWbsytXdjaenC2aXG19+Ht7CeosxDqtxHptxPtt5PQO0jqHaT0TjJ6J+jdefKAPiuDB6S8YMiT0QtD5AOjD0xZmf0gFQCzUHA3Uo8ZqYG9H6IInE4n6XRa3tuO7Tt5+okneOOll3jnxdd4+Ynp3HHJJcx69FFWLl/FKyt3sHiLnc3bmikrK2F7SSlffvkNzU0tVJZX0dTUQlllFV9u38aO6irKqqrki1laWk51da3cv2PrdvlitLd18s22nby9bCXrN35GZUUlJSWlfPXV19TW1lFTW0d9fSM1tfVs3baD7TtKqKmpY2dJGZVVtZSVV9La3inXKyoraW3roLK6jhVrPuSDtesoKS2T+vbbbZTsLKVpVzMVFdXU1TeyY0cp33y7nZraBrZv30FVVRU7duygpaWFiooKdu4sobm5lV27Wlj70XpWrviQHTu+pmHXR3RqqvjggzWsXbuGbdu/pr6hivr6SjZ/tp4dO7+Wz0U8x507FNXV1/PwvVM4ecxYLjz5VM484QTOOulEzj7xBE4fP4GTxh7Liccey09OOIHxo47ltUWvUldXT0lJyT6ptKSUYiorKUOoXKi0nIqycirLKqgqr6S6vIrqiipqKqupq66hobqWxup6mmobaKlrpK1uF+31zWgaW+je1Yq2qR1dcyf6Fg2m1i4srd3Y2npxtGtxCyB16PALKHXqCWsMRDUGYhojcY2RpMZESmMmrTGT0Vik0FhQZIUuK2iyrVjusg1Vtw2EelTZoUfIMaBeJwwrB/QqGrGM9kMchUIhYrGYvLNvvtrKSzPn8e1nG3hFuCmX/oppp/2YqRP/iKang2Vbu1m42ciXJbuIhoOEI1GCwTCxSIxIJCoVCobxB4KEo1Fp7TgdDoLBECGpMGF/iLg4PiyOj8tz6A1mLBYL4XCYYDBIOBwiEo4QDoUR5wsEgoTCYWmBGQxGwuGIvG4oLK4fJBqNEI5EiERjUg6XG22fllA4RDAQIODzy/OJc8n78wXlPQUDQbS9WnndQCAgz+X3+wmFI0Tkd4oRzbZfffEpD977a6befy033HQlf77qEm6+7SrumXwL11x7BWeceQqXXf471q79iIryyhyMBEDnPjGNP597GjdcciEP3DCRedMeZPYj9zPjoft56v4HmTzpJn5/wYX8/oxfsPStd6mprdlHEJUUBZGA097AqDYfRjV5MKrfRXtD0/AwauvB1t6Lo0OLu0NYRzr8Gj1BTRZGXUZiXUbiXSaSXWZSXWbSXRbSAkZdFpDKAqhbBVEWOCp4BsFndxBygNa5l3KMBLD3QxZhtVolCNweN59t/Jw50x7n0Qfv4fKLzmX+r87k/tGHMPfmidSX7eCLsna+ruqhoqwSdyyCJRXFnI5hSkYwpqMYkxHssbCsey6+q8UkABOUXzuTglQiQyoF8USKhJgTWczcJ2ancdnxeb1yedB/xFTH8eyYJcDj8+O0OwYdImtPiEI3cp4b5dhoJIzZbJbHCWjGIqGCz4ipkBMkk2EMev3QfXLMeGbQ9k3r13Lrny/kjlsuZ/bcadxz73Vc8Iuf8rvfX8D5F5zDeeefyUsvP8+HH35ARXlFDkZVNXUseuZRnvrdBcy8/EKWPPUIXy57i8rNn9Dw+Qa2f/Ihf5s7n0nn/5I7z/slH7+7hKqafYORsKKKWUUKjBQglZcObxntHkaqZdQ21DJq78HWoVVg1NmHJwcjA6EuA1EJIxPxLjPJbjOpbotUuttCRsoKAkJCOWtHBY5oVctnmDZr5UhrZ69BpABrxDIa9Oe9f6wIy0KxLqLU19fx6sLneXLqZG74zS94+f7bee+pKXzy2ly+WruMVcvf5sM1K/jmyy/oDHmoDjvYGTBTHrazza+nMmyh0WPCnYzJ19lsMuPze4jGE3i8YdzeKHZfCF80RjQeIRpyEXDq0HY14fW65APJkJb/z5AhHo4Q8vnJpFPS0jJZ7Zh0WuIhPxG/i2QiSiLiJ+Q2EXZbCDosZITF5vVgMpvk+fw+HyF/IHtucdYUyVSYcNhJPO6lt6eHdFJM2CWqWKSJp2IkkgFSySCpRIh0XIy+zPDF5g2c/5PR/OKE8XwmAtOLX+PoQ3/ApOuvYc6cOUyePJmnn35KBuFFzEZ108oqa/jor7NYd9dlVPzlRupen0Xj2rdo2rSM1q/ep/7Lj1m78Hme/cOl/PWyq9i8fCXl1dX7ZBkpMCoOpLKsdSRhVFbgplUoblptVZ6bVmgZNTaj2dVKd5OAUQe6lk70raOaKNkAACAASURBVBqMbd1YBsFIh1fTr1hGXXkw6jYR7xYwUkAkgJTutpKRygdPMfio7pfqitmhV2jA3RpkDfU5QecE0fa5QOfKttntYl9WIzCSf/L713+SySSJRIJUKoXZYuD5hbO548qruPrC87jp1uuorN7J9i/X8fnHK1m/dgVff/0ldTX1hF1e4kE/MaeFqNNFyGwlbHeQTiVJk5IwEkDw+fz4A3G8XgGkBE5fhGgKoskUbr8Hi0NPR1czPo9D1rRJpyCZhng0SsBqJmKz4TXb6Dc66TbaMfV1kYl7ScQCxDNpogmIRQWsUng8UXz2KA6Dl/7uLtLhEDG3h7jDQ8oXIBkPk07HSaXjpAXIYlEZnI5E40QzGXRhD00eI71hG/6UcDc9OJx2/NEIDbU13HPTVZw+ZjQvPvEUq958gwnjRvHgA/exZs37vPzyy1KiB62ycsBNK6mq4YsFz/DFA3+kZu4d9F4/FfP5k+n61X0YLp2G65JHaLvyAdbceQsrrruaLStXUFb1z4RRNmYkLCMVRuXZmJGAUWUVxWHUQFvDLtrzYdQsYKRRYNTejbmjV7GMOvtwaXR4BIy6DAQFjLqNRLtNxLrNORgpQLIOwGiQNaRaP3mgyYeOWNZm94lWKs8tU0EkADSsRmC0f9Gn4G6am5vRaDS0t3eg0bQw4+mH+M3JP+X88WP4/cUX0birjvbmampKv+GbLz6jvLSCXdX1hJq6SLV3EKktIdZUg7+pDVebBhKKlSEuYzGbcTa1EO3sJdzRg7+1g0h7D77WLpw9fcTjCgR6TAa8Dg8xW4iI1kG8V0+6x0yszUhC5yAdjuMOxdBY7FhtepIRN3Gvi4TLR8ToJGzxEIsm8CeTuBJJ+oIB2raV4CurwldThafsazxlO/A0aiCUzD0BcX1Nt5ZANIHR7UHr9dIb8NLtsaFz2NBbrfTZ7RhDYUSQ/PFHHuQXPz+Nx6bcy+cb1zFr/jMsXbmUd95+h0WvLOKll16S3fkiGK9aRjuratj+wixqHryClvl30v7wvXTccQ9djz9J1QMPUH/7XTTdfw+fPTyJygeuo/zjlZRU7Acwqm8cHkZtXRgLYOQWMOrSSxgFuhUYRXrMRHvMxHssJHosJHuspHqspHttZHIqtHRU0IhWtXIc0JcvdXu2ldZOMQi5QSc0dN+IZZR7DfafBdHN7na7cXs8tLc1MX3KnVx+4fn88ucn89WGjeh6u+jqbKKxtpwPVi1l6bvvsH3bDlyRBFZ/BKs7hC2YwC3cMF8EZziCI5rAGY7R22/Aa9QRdVrxW43EvDZiFgMxs5GY0w7pNAIN3ToDbmcf6ViYuC9E0u8n5gkS9UZkcp3Z7cYR92P1O3DbTMScJrx9PUQMOiI6HRG9AZESHEuGCcZDmLwODD1aUv4IEXeQuMeH3+zAbXURjiUJp9IEEnEC8Qh9Pd2EvE5cDgsREd9KJ4hqekj06on09OOQgE3S1NTMnfdM5nv//m9MvuMWNn/xKbNfnsvzryxkxfIVrFq1ildffZUPPvhwUMxoZ1Ut2xZMp/6286h76ioaP3iKjp2LsHe/j7NvJbqa2fRteYKmV+/j2+l38s37qymt3DcYlcqY0XBu2u4to5rhLCMJoybaG1sG3DRhGbVq0EsY9SiWUacWh6YPV1c/nm49vm4DgW4joR4TkV4z0V4LMa2FRK+VpNZKSmsjpbWTkXKQERaOAI1ss5aOdLMGrBjVtSreZkHT7wIpN/Sr8kC/kLquHuMaCWDvPwgauBPRkxaNRqWrtquxkfnPzGb2zGcorS2hvqYMu6kHp8uAVtfGA1Nv44gfHcTjTzxFjdHHByX9bKlz8UmFnw3lXj6vc7Opwc1H5W4217vYWtFOtcZDqcbP9nY329q9lBqCbNW62Nbt45tWF9s7g3xT1YvfbcIbSFGnCVDRk2Brm48dnQG+aQ7xTZ2TPksEfyBAq8ZMuylBgyFGZZ+fXcYwTfoY9f1h6voC1PdGqW93YrDb0LiCfNtmZ7vGw5ZdbrY0Ofi8wcHmSgdfVRjQW3z09uvptAZpNvip7/XSovPTqQ/QaQyyS+uhqttFhyNOdW09Tz79OFdddRnPzZ/F8lVLeOm1hbz1zhssW7aEpUvf5d133+SzzzbLdAbVMiqtrGXTy0/y6QO/48sX7kBTshJ7TxktW9+i/IOn2bDgBlY9cRkLbv0tj/7p13y0ZAmV1X9PAHsojNSeNNm1P8hNq1S69oe4aXU0iphRXQMtxWDUkoVRexfGDgEjLbbOPhwaXRZGBnw9BgK9RkK9ZiJaC1FtFkZaK8k+G6k+u1Smz4Gq4pDZE4wGwJKD0JC8pWz+krpdzXPqd4/AaAAB+8+STqdDq9XKpMD6xkbmzZrFe2+8yOsLn+LxSb9j2ZsLCMbc6O1a7rr7Wv7j3w/gycefxBVMoTGFcYag0xqj3Rqn1RqlwRSkyRRBY03RrDHQ1i1cnihGT4IOY4QuS4RuaxitPU6L1kefM05zlxGPQ080mqS3P0Bbnx+TI0KfMUiHPoKmP4TfF8HvttPRraPXEkRni9Kr99Oj9aIzhumzRWgT67YE7VoXZqMFXzhJtyVEq8FHvy9Fjz1KhzVGqzlGpyWIPRhCo+mhW2tF0+9Gb4vR3uOkrc9Jl8FLa4+Dbr0frTHMjh0lPP30NBa8MJeFL87nrbdeZcmSN3n33TdYsuQtufzWW6+waeOGQTCqrqlj3hPTufmSc5l939WsfuVJKrcs4/1FU5k35Tc8dPVZ3HPZmUy86GQuOu1E3lm8WOZZ7Xue0d7CqILK8kqqKipljtHgmJECo135MNqVtYya29C2dNLXpkGvwqhTi1XTh71Lh6tbj6fHgK/XSKDXRLDXTFjAqM9CrM9KvM8mYZSUMHKQ1jnI6Jw5DQCp0NIphI5TsYD0LpDKJlLmEifVBErRigTK/PWB5RE3bf9hUO5OOjo6ZJaw1+OhtqGBxx6fzhP33src+2/h6cvP5YrfnENbdxs6h4Gbb7mGC845l+fmPg+pJMTjJFxekt4A6UCEiDeI1WYjiei2D2A0aIiGlG71qN5JQusm3esl1e0m1esi0mEm3evE3q7F5eyGRJiArouErhe628m0tZHo7iTT1wOtTTjqa7HptGCzkzDbyDjcJMxWEiYHKYuPqNUB0RixUAx9dwMkrJBJkvKEiZk8pMwekiY3MauXpMVN0Oigfdcu/DYdUb8F0iHiLgtJo56U1UNQ5yFg9BOw+hGu0Nz5M3jnncWsW/cB69Z/wKcbP2bd+g+lNny6lo/WruKLLz6T3eyqZVRVXc3Lc+czeeK1PHX3nSx4dAqvz7yfN2bezfOPXsuzj1zNjGnX8fC9f2bSVZeyculSqvfRMlLctMFJj2ovmrSOZLd+fgC7wDKqrqGuupaG6joaaxuyltEu2hqbaBcwamqlu7md3lYFRv3t3Rg7ejGrMOrux9Wjx9ObhZHWRFBrIdxnIdJnJaqzEtfZSOrsJPsdpPodpPudZHLKAicHmALQSItG3eYCgzsrDxjzVSxju3CbcvwIjHII2H8Wvv32W7Zt2ybzckrKS5h0260c+f3D+dXPT2XSr09j3Kgj2Lz1G6qampn57LPcN2UKi199i4zVQ7Sjn0hHP/HWPuLtWiIdfYT7TRAPQ8SBsbeZQNgLmTBxt42E3UbCZiFuN5NyO0k47cQtZgztrThtfcRjMcxuC3qPHZ3XSI/HTLfPjNZtIhQN4nE4MPYbSAWjJIJB4uEgyZCPTDBEJpAkHQmTCPiw6q309dYSifSQyQQJ2qyE9VYyejcJrY2k3kWiz0FI56CtuZmw3040YCHiMRELWAlFLMRE/pTTT6fZTovRxK7mZvT6bkxmHSaLDrOlH4u5H7NFh6a7lZ7edqIxP+3trWz9dlsugC1yjsSYsVkzZjFnxkzmz5rN83Nns+C52Sx8fhZ/XTibNxYvYNGiOSz663N8tmkT5eUVe921L0A0XJ5RDkhZF22gN60ARrJrvwBGDQJGzVkYtdHdkoVRuwYJo85ezBot1i4ddgkjgwIjrYlAn5lgn4WwzkpEZyPabyOeGx7ilMND0mKIiMGV02DAuAsgkw+cYvuywDF5YU8Sw0tM3hE3bf9B0MCd7CzZKYdBaDo19Gm1rF37MQcefAQPPPYka9as5qMPN/DZzu2cdsYZnHLyjznqyCN57rkFkEiRDkchHiPktBHq7yZq1BIwawm6DYg6ojaLAaern3Coj2hYSyysIxHREQv3EQ31Ew2ZSSbcWC1aXLY+Ysk4fX4nLT4nbUE7zV4rmqCLbqcNt8+H02qns1eH0+5D29ePxWgk4rMRCzmIihQCtxWf24S+v4eOTi0WZwKDOYzDGiWWAEMsSG/YS0fASVfcT1vYRXNLC9Z+LQ5TH0G3hWTERSrhJOA0E3Z58Foc+OxOWltapYXYq+ump7sTna6XXqOWfrOeXo2GXpFKkEzQreli67db2bmjhJKdJXKM2swZs5g8eSp/efoZHnn4UabcM4UZf5nJrBkzeeD++3j66cdY9MpCnn56Ou+vWU1VZdU+wUhJeBzqpuUysPNhVF7gplVVUataRjWKZbSrrpGWfBg1Z2GUHa/W39GNUcCoq0+OV7P36HH1GPBojXj7zAT6LHKcWliMU9PbieodxPUOEnonSYOilNFFxujOykNmkIUj4JNv0eSve4oDx+wFs2+wLNl12Yr9WY3AaAAA+9OSGLiayWTIpNMyJ+jLrV/xnz84iNvvmcnqT2qZ98433PnEixzzo6M5ZtQx/OiwI3n9tVfzvkICr9eOz6glbNHhN/XgMWnJZOJYLGaCHjcRj5Wgy0DQaSLk0JMI2MmkwmRSMZKpOAZjP06rBpIxokEfETF0JCySJcNKlnYsQsLlwd6nQ6+3kAonCAX8xP1BIk4D4YCJjEjtJkE04sTnsdHTZyQQAU8gRTiUIJZJo4l4JOAafFbqgzYqXXo6e7pJxRMkYzHCATeRgI1kzIXd0EPY7SRkt0EiyZYtW7j2phu549bbuPuW27jj9tu58e47mHT3Hdx1+93cdec93DTpFpa+t4xqkSe0U4VRDTOfncWtN9/Og/c/zOR7pnD7bbcx7eFHeHTaNO6643YeuH8yM2Y8yUMP3c3q1Suo2os8o2KuWbEsbDFoV0hYRdIyysFISXhUYkZZNy0Lo6b6PBg1taIRMJKDZzX0tXfR39GDUaPF3C1g1I+9V4+r14Cnz4hPZyagsxDstxDW58PISSILoqTRRcroJm3ykMmqqEWjwmN3rQCNKqsPpPxgzVd2uzzOK48fcdPyXuH9ZVGMTPd4PFJiTNdX337BMYcfyQnn3cizn5Qw8YV1HHX+HYw+9seMG3ccP/zhobz0/HPy9iXEBAQyclCGHAYiMpxFJrPosjeYLRIamXSCdFIkGiZJx5NkkmkyGTmfHv5YjB59Py6HTmY6y1iU3J9E5EtnMml5PnFBr9+LzSLiQNmnF0+T8tkh489uSxMNuAh4XJgtSga2MuREjL1TZiTNf+7xeBIx1k38L5lIEYuGSMa9RKMefAEHsWSIeErMnQNrVq1m3GFHcuaYCZxy3AmMPf5Yxh57LMeOG8OY40cx+rhjOOyoQ3hh4QIa6hsGwWjWzNlMnXw/8+c+z7SHpjHl3snMeOZZaRndN/k+Hp32MC+9+DyPTX+E1atXyYG7ewpgFwNPsW17glHNIMuoXokZCRg1Zt20LIy68mHU2YOxKx9GBlxaA26dCW+/BX+/haDeSthgJ2JwEDU4iRmdJIwuEiaXjNuJ+F3a7CFj9iqyZK0W0UoJyCjgkK1V3Z5tc+ARoMkHTwBsAbDmS92vwso34qbJv+r97D8CRmKQqrCQaqprmTdjJheecxa3Tp3Gy28v5cW/reaJx+cz7ohRjB97NN8bczxzX10sv4VgghhdJiTgoqxklBawmi0Eg2IohkqPgS8vtgjcCHvG6nTg8TgHnVOeTxykSoxN83qx2+0Dx6XSJCIhaWGpZxauUtDvz41NG7jBvHNlz5mIxTGIHCX1/smQiIXJyHFzYqP8ZnL/+g/X8oefns2dZ13C78++kONO+ymnnfQzLjn5VC674Az+eO7p/OHsU3l38WuyukC+ZTTj2ZnccdudPPrIY0y5dwp33nYn06c9xvRp07nz9tslnJ564gnuvfteVq5YoVhWRUftiyC1cMdEnGhwwLoYiMS23cKosoohMKprQFpGjU20idIiAkYtbXS3ddDbrqGvo4v+zt4sjHRYe/TYtQZcfUbc/WYFRnorAb2NsMEhk1KjJicxk5OEWXQ4uElaPKQsXtIWL5mcBkChWDfqugCJulzQ2vwglQWQgJBdKJhts+tiu5R6vH8ERuoLsz+1gWBA1iYSw0FWLF8u6+uceNx4Xv/L42yePoWl99zMk7dcz/hRoxk96hj+92/+xPyvd+zVVxAwCgeLDFIt+LQY2e/xFBkoW3CcV8KocKBswUEgR/irA2WH7h3YEk/EMRgUGKlbBaeK/W/LJ+u544xfcv85l3LhT05j/M9P5vQfn8wtZ13ATT87iakXnMf0i37J+4sXIwbH5mBUU4OIGT1w34M8P38Bjz4ynXvumsyzf5nJs3+ZwT133y1dtgXPPc8jDz0si7OJkibFLSMVRnsJIhVGZdmetPJyKoWbViG69pWhIDVV1UrMqKZWlnZpHASjliyM2ulu68zCqJv+rl6M3VrMPTqsvXrsfQacOhPufgtevRW/wUbQaCdschAxO4mancTMLhIWNwmLh6TFS8rqJS1k85HJkwKXAWgocPGDPbtNtIMUAEdwqJxBUDVovzh+pJ5Rsb/xf/k2vV5PdXW1LB727tvvSBgdffhhfLF6OS/fdRNTzj6NP516Bj864jAOOuQHHHDur5jz1fa9um+v20MmPdzrPXAKUcojFlXcoYGtQ5fE8I1AdtDr0L2Dt4hCbnvzP9XS2tOx325Yz2Pnn87NF/2GU0/8GadM+DEnTziJy886m7vOOYO7zz+HO8/6OctfWUS1qEckYkYlJdTX1/PotOmcftqZXPTLi7jgvAu54bpJTJ/2uLSMbrz+Bi4473z+eOmlnHv2Obz55puyMFoxGA1n/RTbnkt4lPGiwTASOUa7hVGDcNNE0bUW2ptb0bQqMNIKy6hThVEf5t5+rFo9dp0RZ78Zt96C12DFb7QTMDkIm51ZGLmIWdzErR4SVg9Jm1cqZfeRtvvJCDmyrbBsHKoEZNTlglaARkBGBc4+tiMxoz39xf8L9tttNmxWG8Lq2PzpRi6+5GJuufUmdny9hflPT2fyPZN4cPIUbrp5Ejdefw1/ePJZFn32JQvnz2f2LFGeVSnVKkau55dunTljBkuXvCfHaz0741lmzpopNWvWrFwrlp955hneeustFi9ezMyZM4c/38yZvP7667z99tvMmDEjWx5WlJBVrqtee9bMWfz15ZdZsmSJPHf+9fLvYcbMGTz3/HOytOuzzz7LcMfNnDmDufPm8drCF7jtvNP43Xlnc9opp3HWz0/n9FN/zm8uOI8/XngWF59zGmf/eByvvrSQOhEzyrpZAkaPTX+MU352Cueecx7nnHU2N914E0898SRPPvEkN984ibPPPIvfX/Jbzjr9DN584w3q6upynxfn2dtgtQqlHIhEYbVBwWvFMpIwqqyiukq4aaplVKdYRvUNNKkwahoMo96OLvo0PfR3aTF292ESMOozDMDIYMFrtOE32QmYnYQEjCwuIlaR2+UhbveQsHulkg4fKYeftCOQU8YRIOMIktlHsOAKgiu0FxLHKRqB0b8ANnu6ZGNNLY2iF6WmlvrKatp2NdHa2ERdZTW7autkIFN086oSv5YVpeWsWrqcle8tY+VSVcuzy8r25e8tZeO6DXz4/gcsf28ZK5YuY8Wy5axctpwVy5Rlsb5s6VLWfbKOtR+tZWle3WeRm5NfA3rp0qWyNO4nn3wiB6PKGtHi+DyJz4tR82tWr2HdunW8t0SpQ63Woxb7RGldoSXvvceKFSvZsGEDS5a8l92uHK8ep7TKvs8/+5zPNm5k48aNbNq0mU2bN8t246aNfLppIxs+3SAl8rZKS0tzMBHLX331VfZzm9i0SZE4j3KuTWzevJlPP/1Urm/dunXw5/chPrQvMBK9aBJG1QqM6mvyYNSYtYwEjFqEZdRBd5uGHIy6tRh7+jBr82CkN+M2WvGaBIwcCowsTsI2NxGbh5jdS1yAyCHkI+nwk3IGSEsFSTsVZVxB9iQJFHcQpELgzsoTAk+4iMT2rMSxntBIzGhPYPhX7K/YUYKqqpIyqkWJ2NJyxHJVSTnVJcpytVgX+0rKqCktp1GWKBVlSgckypbmSxTtqq+uQfyh707i17mmqoY6Ufd5NxLHiW7zwmNqamrIlzhGxEVEDWpx3nxVV9XIc4hjRGxGJCWK5T1JJCJWVFZRWVkl84BEW0xlZWU5EKnWUbmI1VRW5iRK2+Yrf9/gzw+ODYmg9d4ErnOWUbFufeGiVVbK0iEDMKqV/z4NdfWyRnZT4y5adjXTKmHUhkbUFG/X0NvZRV9XL/0CRr06zFq9Yhn1m3AaLFkY2fGZHQQsTkJiYLLdQ8TuJSpg5PARd/pIuPwknQFSrgApd5C0OzRIGXcIKU+ITL6KbFcgowJI5HIMJ/WYERj9KzizV9cUwJEQEuDJgmhImwepgX0VVJcWqpyq0gqqysqzEssDkrWXs+sykFpWQcUgieJfFVSUlyNeYDU3Zm/asrJyxIucU/ZFVHuTZJutB61uUy2J0pIyOYRDyVgWlREVFe4fWB8MCbFdAYXqUqk9XvtWx1qFl9pjln89FURqm78vt1yq3Jc6BER+z2zwOpdjJGGkBK8VGCk/AvW1dbJg/66GBnIwam6hozUfRt05GBkEjPr0WHUG7HozTqMFt0nUnnLgszgJ2JyEbG4FRg4vUYePmNNH3OUn4Q6QcAdJuoOkPCGptCfEYIVJe8JkvNlWLOeDyavswxtGyhcBX7RAYlsEvELKceJ8QiNu2l7h4bs9aAAuu4HRIEgNAKi2rIKGcvG5gW3qcj6EcsvZol6iGLwqMWhTgkkm44nsYEXCYhmscgkpASoJq2wS33CgykFJBZSAk1guBimxLRtfyVkVKriyrQIsAS1Vg4GkQkK0OThkl1XI7G1bGCPKP3ex8xdeL/dd8uJFAu7iecqeNOGi5dy0ARiJnrRdDY00N+6SM4a0NbdmYdRJd4eGXk0WRj19GLT9mPoMWPuN2AwKjFwmGx6RsW514re5CNo9hB1ewk4vUZePmNtP3B0g7gmS8ARJZkGU8oZIC+hIRUj7isgbIZ1TmIwvK3+EjD8C/igZf1S2YrlQ4hgpn9KOwOi75cxeXa04jFS4FAOUsq++vJyasgq2ba+huUK4cJVZKFVSXTZYVWUD8FEhlN8qQBJQGk67g1SeJaVaU2pbBFhV5aJnKc+CUi2q4SBVuD0PWqpFVQiDYusDQFFyhAbWB6yq4UCTf2yxc+ffRw6m2ftWYa1APA9GVSJmpEynJNxjMZ2RCiNNcyPdrU20tRSBUbeW/p4+jAJGOgNWvRGb0YzTZMVltuOxOvHZBIzcBB0eCaKwKILn9hPLgkiBUYikN0TKGyblC5OWipD25ytK2q8qC51IBGJZhcS2KJmAUGyICMQQUvZnj8tCaQRGe4WH7/agwTBSIbS7tpKG8gqaKsr542Inh8+M8/6WJjqqSrNAGgyiajkljpgWZ6gkkGQ3s1LSQvxq71EFwBIzcQy2oCrkQNOc9VQu3LdyqivK2FVVwraSSmoqBoZHqC/r0FY5pqiFlQ+orItXHBIDVlI+UMRyZVkJZTLQPTgONByQip1fHQgr9qnL+VaRuHf1e0mrSDw71U0rgJGYV03MqdbTWseUVTbuWeWgv7OJjtZ2NO2ddHd20dvVQ5+AUW8fhj4VRiZsRosCI0sejOxugk6vLE8cdvuIugPEPAHi3iBxb4iETyhM0h+WRfBEIbwB8ERJBwokrJ1QlBpNnPW1cTbVx7HbYhDOA1EwRqaY8oCknncERt8tZ/bqaqpbNbitpKYsqzyLR2yrK6+koaKCiW/ZOO3FAKcuDHD2yz5WfN5Mc2XZgFVUBD4DQMqOi8oWhFfyXpTcFzUHRr40ElRVVFaIYHERUKlgUiGWXc8HlAg876oulYCa9K6Znz4X4IkPemmsLpVziKkv6960CpjyYlP5UJLLykwcqisnAFEMImLbF9sEnHdSV75DHrMvEFLOmXUtC9zJfBjlfycVRsW79WsRwevmxnqq65oY/3yMY5+LU9vYTnd72zAw0mPqN2AxKDBymGy4rA48NmEZufA7PARdXgSIwm4/EU+AmACRL6TIHybhFzCKkPJHpRRQxEgHBkQoJgqiA1E2NSa4clma10qSPP9lkmtXpkmFxcww4pgYmZCqeHZZbWOkg6oE5GIjMaO9osN3fFA+hGpKKwYgpMIo2wrXS1hEndWlVJdWsfyzFl5Z38mf3nCw+dsGPvpyF501pTRXlSHcsgHw5C8PhpCYQFCVSMLbW0k4qQAq1qqQKq+kvbaE9d82cPLCIFNX9rNwXSe/fd1Fc01pgUWVDZrnXLyKnFWR/1Iry8LN2w2UigBChZKwiL7eXsHYeVF+/YqTtV/V0lK1jaqynXvVUybOk3PFilwnFxMb5KIq8TfhBstnnIsX5eUY1dXT3VzLK59puf49F5OWuli0xYCxqxVNu2bAMurR0q/VYewTMDJiMZilZeQw58HI7sbvVGAUEjDyBGStq5gvSFzMmyclyr1ESASiJANRWRYmJYARykpYOOEYAU+Mz3Yl+EoT55K300z9JMWOngTbOhKc/Nc0r25P8kVLgtqeOJlonEx4qEQN9XQ479yhERh9x5jZu8tJCygLodqySoaTAFH5zmquetPOSfOCPP2+lr9tbOcPi51s2VrPzxf6pd7e1E5LYKSzDwAAEnNJREFUVTk15ZXUlFdJqTOXquDJteKlyA5LUFtRPmOPKgKunOWUtaBE97WmvoTXNnYwbn6UBes1WJq3cuVbdhas09BcXZaNURUGygvX8yCVA9Xgnr5BrlyhtVQAjOqyEj7bWsX3n0lzwDT43l9S3PWenm07yiWUyktFT9xwFtWeraHCHjQBT9UqUqxNJXgtKgM011XStauSrqYqepprcHZVct0SJ4s+6+eNL3RMXOIl2L8Lm7Ydu64Dt74Lm64HnVaHQafHpDdiMZqxmSw4xBTiwjKyO/E53PhdXoJuHyG3n7A3CyN/iFgWRHEVRMEoyWCUVCgmlYNROEYmGsPtjXHXR2lOXZThxW1JXvgmyfNfJ5n3VZJXdiSZui7NiS9k2NCoFPtTYaQAKCEnc1CWs0ASUAqPwGjv6PAdHzUcfAq3a6pLeeYDLcfNj/LupjY+39rAKxs0XPKam6qyapZ+3sptS8yc/EKIpqoKalUYZa2fmoJW9uaovTpFWgGkQcdU7QWksrk/9dXltNeV8tDqfiY8H2bNV03YWrcybY2O3y920VJbRn1VuSy9motR5VlTSo+eiEUNjkcJl29vUg4knAqhJNZFikRZCVu2VnHIjCT/60n4f56EA6bDmLkR5nzUSV35ThorFNdtiBWUf04Bufz1vOVBlpzaiya+X168qKGmkqVftPPUh/1M+8DItA9MPPy+iQkLopTVtFHT0MaJL8R49CM7T62z8/R6B3M3Ovik3Iy5vw/jIBhZFRjZnAqMnHkw8vgJ+4JE/CGiEkZh4oEw8WCEuABRKCYlYRSOSbdLuF7SkhEuWCpOuz7B9I0pOXOxyx3HZI8TDsQx2ON0mxNM+UQMaI6TiSRIDydpHQ0AaSRm9B2DZm8uVwid4da7akq5b7mBa/5mx9y4E21tKS+t7+LXr3rorCmjr66EtV81SRgJ8NSJpEMxj3uhxEjxfNCIQGrhurpNBlmVTGGRE6NKJCsOZz111peyrbSGi193ceErXraV1mJs3s4rGzv48YIw5RVVtNWV8vn2Opn8l4NRobs3CE6DoSSD48NYSfkgKAYLBUbVORj9n6dB6IAn4IDH4OyXvCz9bJeE1hB3LA84xc5dVjrYYpP3kk2RUL6n8tzEc2yvL+eyt5wc8DhMXW3m0Q+M3LHcxoKN/WhadtHd3sxftxi4Z7WLp9Y5eOwT5djL3w3hNmllxU2TIWsZma04rHZcAkYOFz6XR1pGAY+PkC8gYSSmNZcwUkEUihIPRUmEYySzEhBKheOKInFSkbic+qpVn+CB9WlKNAlW1SR5szTJN+1JFm5NsVOTYLKAUUaASFT7zCqaJK0qB6g46YiiERjtDR2+42MK4VNXVsVgVVJXVkl3TSkPrtBz5ZsOumrK6Kwp54VPujnnZT8d1eW0Vpez4vNWTl0YpLaiivrKStmK5UFAypatEKUrhFTAFG+LZUYP/YyAk/h8TXUlM9b2cuLzYaau0tNUW053YykffN0kXbXPtjewq6acq/5m54R5YZ5f10VrbVkuMzqXCV0Ipvz1LKSG9uANn6iZD47qcmEZDYWRANK/Cyg9qujtTU00VOwcyH/aDYjU2WLzQaiAaCC3SFpFwr0V4BdlZmuqqK6u5bZlVn71mo+dlU14eiroba2X2dctLa30a1qIGZtobOnmd2+FuGuNj+6ePkz9Ogz9BkwGE1aTBZvZKqtwuuxOPE4FRj63l4DXL2EU8geRMAqEiAXDxEIRCaJ4ODYYRlkACQilIgkpMQ9fjyXBvR+nqepNsqY2xdLKFN+2J1lcmuLbjiT3rxeWUWIAPrEk6UJFVatpBEbfMWL2/nIqjAYBqLwQSFVZGBkUGNWW0VRZyaff7OKv6zU0V1YoMNpSHEYCSLVZi0gZ+iGGf6jKh0sx+Oxpm/L5uupKtpbVMmmJlTVfi/nhS2msrWBHeY20iJZ+0UpNVSWnLAzy6Ps6LnndzaKNGtrrygZbWdkXVlpeEkK768kbmqAp3bhhrCYR9K6pKGXLtqEw+renFHft+8+kuHupnq07KqgsG6hHlA80dbm8mCWkBq6zyaEyXiS+R6UYBjIAI1H0v7G2mp6mSp7f0MePF0RYuFFHR3MjLU3NtLW00NPRyuIvjfxkYYyXttjwGLsw6rT09/UPhpElaxlJGLnxujwMhlGIcCBENAuiWCiK0CAYReIkVQhFE6SyEjAyOJLcvTZNZW+SlTUKjL5sS/JmeYotrUmmbxYwUgGUGgBRXN2mtgPnHbGM9p4R39mRtfmWkIBQMZUJGJXx4IoBGAnACCC115RLC6i1uoIVxWAkJgmUqpbTKIuplFUNAEkBk0zCUyFVXS1nyZDjysQYs6yKjSETwVghcT7hfjTVivFmVbTUlXPNOzaeXatlW1kt45+L8OKnXTz5YR+T3rPwTUkdO8vF2DXlJVVf1lybByZlHNpu0gukxTQQ/B4utlQMRsI9E27apYvtrPumltaa7RJEpao1lEvSVHKmhlhAKoDUNhsnyg9cqzBSLFAl2bG2pkaWKzG1V/LyJi2nvRRG09JIb9sutJ3N6DQtnLUozMtfWAiZOtD29NKn7UOv65dF6UzGrGUkYGRz4HIIy8iNz+XF5/FlLaMgIX8RGIVjWRjFSUYVECVVCMWy0MgW5bOn4brNsN0Gf2uHt1phvQ5ebYb3e2B6qfK6CCTtVskMKXHuWGKka/87I8w+XKgofIoAqbu2jPuWG2XMyN60g67asqzKZWtoKOGTr5v42QshCaeGqsphIaTAqEYW9aqpFhARsFFeEBU6e2rFL7uowzRIeQNea6qrqKuu4qcvhLh8sYOTXwzy7pY2qYtfdzP9/X6OnhVj+vs6OhrK5KBZGYsSYFJV0LM3aGBsvuumLhe4cDkrSVhKWWtJJFxu2VYjY0YSQtPhZy8EeGNjK83VO2ioLMmOrxsAj7CoBIDUdlgYZa8z4EJmM9qz+VoCsoNhVCthpG2p4e4VVqZ/ZMbXW83qbb2s2tZHxNDIsxts3L3Gg6tfg7ZHm4WRXsLIbDTLap6iBI1ThZHLLa0iv8dH0Bcg5MvCKBgmGhIuWpRYWCgLIwGinEQt8iQpoVSadLsH3u0k+raGddO60L3cTsOcFupn76JjQQO1s2tpmlvF9qcrYNlO0u9uJ/3ut6Tf+ZL0O5+TemcTqXc2kHrrI1KrNpLyBkmJiSRiyREY7QMjvrND9xZGIk703Mc9HDk7zqyPepnxoZZnP+zjGSkt8z7u4dLXXZz1UoC2mgrqK6uoy7OCVGtIzERRTHuCz77sl9ZTdTWNNZW8s6WdO98z8eXOBioqqzlhQZiLXvMw8W0b5y7y8dqmTmlBKS+p+rIOtMMGy9X0AtGDp8JIbYf0wg2kB9RUlvLljmoZtP7hswmefL9XZoc3V+/c5yTMQVAaAiLhQqqWXDaHKxsvEgAXz1NUP2isq5M1u3/xmp/tVa3MXCfcsqjUs+ut1Ozq5leLw3KyS12vVnbr63V6jAYDQ2DkdOHJumh+r4+AgJE/SCgQIixhFMmBSMIoEicRVZSMKSASMBL1yFPJNNy4Aw5bA0d+AMethjFLYdzf4PjXYdRCGD0Xjn4GjnuKzMH3kT5qCunDbyX9o+tIHXYFqUN+S+qQC0keejbJ/5xAaskHssyxgN2Im/adIWbvL1QURiIALZS1kETbWFFJXUUV968w8H/bO7fQKK4wjr+2L73YQjH4YKFPpVBsK1JKRdpCsYoxXkorVCqU+iS0FYsRS1sQFDVeWiNFabVE1DYoFoXGC4qNm+zO7G6y2UuSzT1qYhKTTczmsjsz51++c+bMnJ3sLokPecrDx3dm9+yFhfnt//u+c77z/pERfHAsZdsIPjg+glXHUljz6xD+vh5BU6COg4hg5JgNIZ0fi0OnUcyEkgQOwYrfLH4Nml+DaA+iOaGanFfMc+Vkr6VpDt9DVPfh6u0wVlSMYkdVL0/gVt9qhOYnJZQvL+UBklRL3pBOQolWiUsY2X7m0gCxybe21ofDl+O4cktHTLsDsV8uTyVMhl2qV1QWqS2nsscfd8NEF0S5Cx15KMx/ew2apiER1vB7TSvePpzGut+GsfKXJ7ysH2qM48MT41h/egwrjk6i6u5DPOppQxed0MJhdN+GUT9vzjc0MIjHeWGUzg+jyWlkpjLcshxECowME8aUAay9DrzzD3CzD9hVB7x7EVhdDWy/Bra8EmzLOWD3FbCVB4FqHdbnx8G2VMDaexbWgYuwth+AuexTmMvLYCx6HeahEwJGmQUYzZ4Q8zjTCyMCDweRBJLtaV64rg4UriW1e2jVyXw5lgzeQzRA4ZkCIepTRKZASB3PVEkCQN6eReq12ruoGJDU5whOesCPsFbPwUQQCmt1vLIkYSQ93bA0dq8FmGTVrlAYR2GQs/hSAZMbNrmwiATuQq+r5dtUnPVLKmg8ABLQodeLClm+9xQ5IlURuSAqFKIlIwHsu9SF58pNfHfhIdpjYV7WTyaa0JuMYs+lAbxQbmL/tUEM37dh1E3KSIXRAFQYpYZTcJVRGunxNCbSE5hMK8rIA6MsKSJppsnH+PhfYOtdYDQjEkUtKeBOL3A+BjQNAPXdwO0WsDd+AKikv/kg2O6zYMEkmN4G5osCiR5YJ8/BeHYpzIqTCzCaR7bM+aOC9/w8aR30+fNCaCaY/AjVkQUUc6+pW2SwPsCtGIRopzgdqUxG6odbkcZqKozkOGDPF95NcnNYKUlvFUqUtKX8VE6uSb1WIKQCSYKIwjk5zgsluY9ONlOTUFIS3LSoMj9M3HBOqB7vPO96J/V5sUgzV52p4ZlUem6Ipms6wsEgfIEG1PiivKwfjURAZf1YNIbmeAIPO+KobehAJN6Jro4OoYy6e10Y9fVjoJ9gNJSjjEZTY3aYpsBoYgpTE9M8XzQ9ZSuj6SxIGTkwyhgwCEakjNZcB8puAbvqgTfPA39EgdMNwP7/gMp6sJ9rwL6tBltdAVZVC2vbcVirvgeruglr7ylY5SdgVV6Aue4rZJ9fCqNiQRnNGRDz+YK5Q8iPUH2goEkQcU9dHh1FpCHoV4zaVhCQ5gggCaLCPrfrYzEwqZBSxxxUSugmoSSVkoSRmmfyVuCcNUveDb4yj2Mnu2XblPxwErCRcwp6CTzpbRDKfWjy+/LvT/migMgXUduQkB7iG2TjkRAawo2INDaJ03OjMcTjCTQ3t6C7rRWdbe1ob+9EV2c3emwY0VaQ/hwYDWOEV9JSGBsdw7idL3KVkQ2jyWkIGGWRsUHEYUQgkjDKmmBrbwAl54FXq4DXzoCVVIItOQK25ADY4p/AFu8BK9kJtvQbWIu2wVryJaySz2C++AnMlz+C8dJ7MBa9BWPxMhjPvALz0LEFZTSfcJnrZ+VVPj6pfoQnYAk1VBxEKqR4u1kOIwVAEkYKiLhCUqDkXuvQAzp0TVR86F+cchzcCGA0ngXIxI0nbj4OJq6MbGAVUE8umHJzSSqUBJik2nDDOAdKvBInWrw6YJKwIO+B0ayu1dcXGivrieR3kRU0J1/Efz+d9zCiAyfDoRDC4QY0NjSiyYFRHIl4AnTseWtrEu1t7ejoUGH0AH0P+vLCKDUymgujtB2mSWXEYZRBZppMqKIcGGVMGIzB+rMNrPQG2OYasM1XwTZdBtv0F9jGc2Abz4BtOAW2oRLWhqOwyg7CWr8P5vofYZaWwyzdCbN0B4x1X8NYsxVG2RcwIzGYjMHMLuSM5sqJeZkvlBGFaMJc6CgA4mEZgWgWMPIHELItRwkRiGwISe+CRygkfq0RgIoZwcmGkfSzgFIuuJ5OPcmk+MycEkFLAZI3ya0sEcgNo2S16ym8DAMVL+HjeGeFu53/Ivjaqoh+46Ae5JW0cCiMBgmjSBOiUQrT4kgkmtHS4oFRVzd6ekSY5sDo0QCGBilME8ooB0Z0VDmH0SQmCUa2KuLKyIZRZtpAVqoi7k0YBCRaymhaYkzX0ni1TVTcaAlAcWO8MkeHhXKj12bNhWravNBljh/CczwEIsr1ONApHIY56kdCh4ds1IjfhZDalF8CKUSHBDowon9lYVz9eBQQv1G0IP/n1rUgyJz5HlAJtWTDS1VMswAV5ZqEWpIqa3aQygclr1Li+SQFQg4glOobhVF87ZJSiaN+QwJYdnWOw0bMo04EZEJp0WPuqmrn/eVn5gORXc4nMPPfVMIoLGEUQZOEUSyOZg6jViRb2xxl1G0veLzfqyijR4MCRo+HMTKcwmjKVkZPxnnyuhCMph0YZT0wonDN5CV+w7IEkAhKqlmWUDmkdPIaYNKx69wYTIugRAATMPofTvbgDxaJFI4AAAAASUVORK5CYII=)"
      ]
    }
  ]
}